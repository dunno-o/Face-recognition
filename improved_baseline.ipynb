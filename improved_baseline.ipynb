{
 "cells": [
  {
   "cell_type": "code",
   "execution_count": null,
   "metadata": {
    "id": "qnlj_WvwB8Xq",
    "pycharm": {
     "name": "#%%\n"
    }
   },
   "outputs": [],
   "source": [
    "import pandas as pd\n",
    "%matplotlib inline\n",
    "import numpy as np\n",
    "import matplotlib.pyplot as plt\n",
    "\n",
    "import os\n",
    "import cv2\n",
    "from tqdm import tqdm\n",
    "\n",
    "# use seaborn plotting defaults\n",
    "import seaborn as sns; sns.set()\n",
    "\n",
    "from sklearn.model_selection import train_test_split, GridSearchCV\n",
    "from sklearn.svm import SVC\n",
    "from sklearn.decomposition import KernelPCA, PCA\n",
    "from sklearn.preprocessing import StandardScaler\n",
    "from sklearn.pipeline import Pipeline\n",
    "\n",
    "from skimage.io import imread\n",
    "from skimage.transform import resize\n",
    "from skimage.feature import hog"
   ]
  },
  {
   "cell_type": "code",
   "execution_count": null,
   "metadata": {
    "id": "SRgD25C0B8Xr",
    "pycharm": {
     "name": "#%%\n"
    }
   },
   "outputs": [],
   "source": [
    "\n",
    "dirname_train = \"/home/artem/StartML_AMI/train\"\n",
    "dirname_test = \"/home/artem/StartML_AMI/test\""
   ]
  },
  {
   "cell_type": "code",
   "execution_count": null,
   "metadata": {
    "id": "NxprAvROB8Xs",
    "pycharm": {
     "name": "#%%\n"
    }
   },
   "outputs": [],
   "source": [
    "import random\n",
    "import albumentations as A\n",
    "\n",
    "from albumentations import (\n",
    "    HorizontalFlip, IAAPerspective, ShiftScaleRotate, CLAHE, RandomRotate90,\n",
    "    Transpose, ShiftScaleRotate, Blur, OpticalDistortion, GridDistortion, HueSaturationValue,\n",
    "    IAAAdditiveGaussianNoise, GaussNoise, MotionBlur, MedianBlur, IAAPiecewiseAffine,\n",
    "    IAASharpen, IAAEmboss, RandomBrightnessContrast, Flip, OneOf, Compose\n",
    ")\n",
    "\n",
    "def get_aug(image):\n",
    "    angle = np.arange(-10,11,1)\n",
    "    angle0 = random.choice(angle)\n",
    "\n",
    "    shift = 0.01*np.arange(-10,11,1)\n",
    "    shift0 = random.choice(shift)\n",
    "\n",
    "    transform = A.Compose([\n",
    "    A.ShiftScaleRotate(shift_limit=[shift0,shift0], scale_limit=0, \n",
    "                        rotate_limit=[angle0,angle0], p=0.5),\n",
    "    A.HorizontalFlip(p=0.5),\n",
    "    A.RandomBrightnessContrast(brightness_limit=0.3, contrast_limit=0.3, p=0.3),\n",
    "    A.GaussNoise(var_limit=(10,250), p=0.5)\n",
    "    ])\n",
    "    return transform(image=image)['image']"
   ]
  },
  {
   "cell_type": "code",
   "execution_count": null,
   "metadata": {
    "colab": {
     "base_uri": "https://localhost:8080/"
    },
    "id": "d-PG3TVfDnxL",
    "outputId": "e1f3a7d1-f43d-49d9-c757-d975d481a155",
    "pycharm": {
     "name": "#%%\n"
    }
   },
   "outputs": [
    {
     "name": "stdout",
     "output_type": "stream",
     "text": [
      "Mounted at /gdrive\n"
     ]
    }
   ],
   "source": [
    "from google.colab import drive\n",
    "drive.mount('/gdrive', force_remount=True)"
   ]
  },
  {
   "cell_type": "markdown",
   "metadata": {
    "id": "45DanHsPB8Xt",
    "pycharm": {
     "name": "#%% md\n"
    }
   },
   "source": [
    "Upload and applying Haar cascade with augmentations."
   ]
  },
  {
   "cell_type": "code",
   "execution_count": null,
   "metadata": {
    "colab": {
     "base_uri": "https://localhost:8080/",
     "height": 236
    },
    "id": "18vMfXNgB8Xt",
    "outputId": "203b76d4-ab9c-48cf-bfee-2b5babcf6bd7",
    "pycharm": {
     "name": "#%%\n"
    }
   },
   "outputs": [
    {
     "ename": "FileNotFoundError",
     "evalue": "ignored",
     "output_type": "error",
     "traceback": [
      "\u001b[0;31m---------------------------------------------------------------------------\u001b[0m",
      "\u001b[0;31mFileNotFoundError\u001b[0m                         Traceback (most recent call last)",
      "\u001b[0;32m<ipython-input-37-bbcdeaeb0997>\u001b[0m in \u001b[0;36m<module>\u001b[0;34m()\u001b[0m\n\u001b[1;32m      3\u001b[0m \u001b[0mX_train_Aug\u001b[0m\u001b[0;34m,\u001b[0m \u001b[0my_train_Aug\u001b[0m \u001b[0;34m=\u001b[0m \u001b[0;34m[\u001b[0m\u001b[0;34m]\u001b[0m\u001b[0;34m,\u001b[0m \u001b[0;34m[\u001b[0m\u001b[0;34m]\u001b[0m\u001b[0;34m\u001b[0m\u001b[0;34m\u001b[0m\u001b[0m\n\u001b[1;32m      4\u001b[0m \u001b[0mno_face\u001b[0m \u001b[0;34m=\u001b[0m \u001b[0;36m0\u001b[0m\u001b[0;34m\u001b[0m\u001b[0;34m\u001b[0m\u001b[0m\n\u001b[0;32m----> 5\u001b[0;31m \u001b[0mfilelist\u001b[0m \u001b[0;34m=\u001b[0m \u001b[0mos\u001b[0m\u001b[0;34m.\u001b[0m\u001b[0mlistdir\u001b[0m\u001b[0;34m(\u001b[0m\u001b[0mdirname_train\u001b[0m\u001b[0;34m)\u001b[0m\u001b[0;34m\u001b[0m\u001b[0;34m\u001b[0m\u001b[0m\n\u001b[0m\u001b[1;32m      6\u001b[0m \u001b[0mface_cascade\u001b[0m \u001b[0;34m=\u001b[0m \u001b[0mcv2\u001b[0m\u001b[0;34m.\u001b[0m\u001b[0mCascadeClassifier\u001b[0m\u001b[0;34m(\u001b[0m\u001b[0mcv2\u001b[0m\u001b[0;34m.\u001b[0m\u001b[0mdata\u001b[0m\u001b[0;34m.\u001b[0m\u001b[0mhaarcascades\u001b[0m \u001b[0;34m+\u001b[0m \u001b[0;34m'haarcascade_frontalface_alt2.xml'\u001b[0m\u001b[0;34m)\u001b[0m\u001b[0;34m\u001b[0m\u001b[0;34m\u001b[0m\u001b[0m\n\u001b[1;32m      7\u001b[0m \u001b[0;34m\u001b[0m\u001b[0m\n",
      "\u001b[0;31mFileNotFoundError\u001b[0m: [Errno 2] No such file or directory: '/gdrive/My Drive/StartML_AMI/train'"
     ]
    }
   ],
   "source": [
    "X_train, y_train, X_train3 = [], [], []\n",
    "\n",
    "X_train_Aug, y_train_Aug = [], []\n",
    "no_face = 0\n",
    "filelist = os.listdir(dirname_train)\n",
    "\n",
    "l = ['haarcascade_frontalface_alt.xml', 'haarcascade_frontalface_alt2.xml', 'haarcascade_frontalface_default.xml']\n",
    "\n",
    "for fname in filelist:\n",
    "    img = cv2.imread(os.path.join(dirname_train, fname), cv2.IMREAD_GRAYSCALE)\n",
    "    img = cv2.resize(img, (256, 256), interpolation=cv2.INTER_AREA)\n",
    "    X_train.append(img)\n",
    "    y_train.append(int(fname.split('label')[1].split('.')[0]))\n",
    "\n",
    "for (a,b) in zip(X_train,y_train):\n",
    "    for i in range(5):\n",
    "        X_train3.append(get_aug(a))\n",
    "        #X_train3.append(a)\n",
    "        y_train_Aug.append(b)\n",
    "        #break\n",
    "\n",
    "for img in X_train3:    \n",
    "    for haar in l:\n",
    "        face_cascade = cv2.CascadeClassifier(cv2.data.haarcascades + haar)\n",
    "        face = face_cascade.detectMultiScale(img)\n",
    "        if len(face):\n",
    "          break\n",
    "    for (a, b, w, h) in face:\n",
    "        cv2.rectangle(img, (a, b), (a + w, b + h), (0, 0, 255), 2)\n",
    "        face = img[b:b + h, a:a + w]\n",
    "    \n",
    "    try:\n",
    "        h, w = face.shape\n",
    "        size = min(h, w)\n",
    "        h0 = int((h - size) / 2)\n",
    "        w0 = int((w - size) / 2)\n",
    "            \n",
    "        img = face[h0: h0 + size, w0: w0 + size]\n",
    "\n",
    "    except:\n",
    "        no_face+=1\n",
    "\n",
    "\n",
    "    img = cv2.resize(img, (64, 64), interpolation = cv2.INTER_AREA)    \n",
    "    X_train_Aug.append(img)\n",
    "    \n",
    "\n",
    "print(no_face,'faces were not found')\n",
    "\n",
    "len(X_train_Aug), len(y_train_Aug)"
   ]
  },
  {
   "cell_type": "code",
   "execution_count": null,
   "metadata": {
    "id": "L2hrcCU-B8Xu",
    "pycharm": {
     "name": "#%%\n"
    }
   },
   "outputs": [],
   "source": [
    "bins = np.arange(0, 21, 1) \n",
    "\n",
    "plt.hist(y_train, bins=bins, alpha=1)\n",
    "plt.xlabel('Classes')\n",
    "plt.ylabel('Counts')\n",
    "\n",
    "plt.show()"
   ]
  },
  {
   "cell_type": "code",
   "execution_count": null,
   "metadata": {
    "id": "BDV7hp4cB8Xv",
    "pycharm": {
     "name": "#%%\n"
    }
   },
   "outputs": [],
   "source": [
    "fig, axx = plt.subplots(1, 8, figsize=(20, 10))\n",
    "\n",
    "for i in range(8):\n",
    "    img = X_train_Aug[i+62]\n",
    "    axx[i].imshow(img)"
   ]
  },
  {
   "cell_type": "markdown",
   "metadata": {
    "id": "QYq7BTetB8Xv",
    "pycharm": {
     "name": "#%% md\n"
    }
   },
   "source": [
    "Downscale test dataset to (64, 64)"
   ]
  },
  {
   "cell_type": "code",
   "execution_count": null,
   "metadata": {
    "id": "dEm5AQJXB8Xv",
    "pycharm": {
     "name": "#%%\n"
    }
   },
   "outputs": [],
   "source": [
    "def sort_by_index(fname):\n",
    "    return int(fname.split('.')[0].split('img')[1])"
   ]
  },
  {
   "cell_type": "code",
   "execution_count": null,
   "metadata": {
    "id": "HLQVWXucB8Xv",
    "pycharm": {
     "name": "#%%\n"
    }
   },
   "outputs": [],
   "source": [
    "X_test = []\n",
    "Names = []\n",
    "no_face = 0\n",
    "\n",
    "for fname in tqdm(sorted(os.listdir(dirname_test), key=sort_by_index)):\n",
    "    img = cv2.imread(os.path.join(dirname_test, fname), cv2.IMREAD_GRAYSCALE)\n",
    "    img = cv2.resize(img, (256, 256), interpolation=cv2.INTER_AREA) \n",
    "    Names.append(fname)\n",
    "    l = ['haarcascade_frontalface_alt.xml', 'haarcascade_frontalface_alt2.xml', 'haarcascade_frontalface_default.xml']\n",
    "    \n",
    "    for haar in l:\n",
    "        face_cascade = cv2.CascadeClassifier(cv2.data.haarcascades + haar)\n",
    "        face = face_cascade.detectMultiScale(img)\n",
    "        if len(face):\n",
    "          break\n",
    "    for (a, b, w, h) in face:\n",
    "        cv2.rectangle(img, (a, b), (a + w, b + h), (0, 0, 255), 2)\n",
    "        face = img[b:b + h, a:a + w]\n",
    "    \n",
    "    try:\n",
    "        h, w = face.shape\n",
    "        size = min(h, w)\n",
    "        h0 = int((h - size) / 2)\n",
    "        w0 = int((w - size) / 2)\n",
    "            \n",
    "        img = face[h0: h0 + size, w0: w0 + size]\n",
    "\n",
    "    except:\n",
    "        no_face+=1\n",
    "\n",
    "    \n",
    "    img = cv2.resize(img, (64, 64), interpolation = cv2.INTER_AREA)\n",
    "    X_test.append(img)\n",
    "    \n",
    "print(no_face,'faces were not found')\n",
    "len(X_test)"
   ]
  },
  {
   "cell_type": "code",
   "execution_count": null,
   "metadata": {
    "id": "G_sUVhS6B8Xw",
    "pycharm": {
     "name": "#%%\n"
    }
   },
   "outputs": [],
   "source": [
    "fig, axx = plt.subplots(1, 4, figsize=(10, 5))\n",
    "\n",
    "for i in range(4):\n",
    "    img = X_test[i+90]\n",
    "    axx[i].imshow(img)"
   ]
  },
  {
   "cell_type": "markdown",
   "metadata": {
    "id": "NPKd8ZLFB8Xw",
    "pycharm": {
     "name": "#%% md\n"
    }
   },
   "source": [
    "Searching attributes via HOG"
   ]
  },
  {
   "cell_type": "code",
   "execution_count": null,
   "metadata": {
    "id": "4zQjXnvyB8Xw",
    "pycharm": {
     "name": "#%%\n"
    }
   },
   "outputs": [],
   "source": [
    "hog_img_train = []\n",
    "for i in range(len(X_train_Aug)):\n",
    "    fd, hog_image = hog(X_train_Aug[i], orientations=8, pixels_per_cell=(8, 8),\n",
    "                \tcells_per_block=(2, 2), visualize=True)\n",
    "    hog_img_train.append(hog_image)"
   ]
  },
  {
   "cell_type": "code",
   "execution_count": null,
   "metadata": {
    "id": "oNSb0ClJB8Xx",
    "pycharm": {
     "name": "#%%\n"
    }
   },
   "outputs": [],
   "source": [
    "hog_img_test = []\n",
    "for i in range(len(X_test)):\n",
    "    fd, hog_image = hog(X_test[i], orientations=8, pixels_per_cell=(8, 8),\n",
    "                \tcells_per_block=(2, 2), visualize=True)\n",
    "    hog_img_test.append(hog_image)"
   ]
  },
  {
   "cell_type": "code",
   "execution_count": null,
   "metadata": {
    "id": "5SEd-rGMB8Xx",
    "pycharm": {
     "name": "#%%\n"
    }
   },
   "outputs": [],
   "source": [
    "fig, axx = plt.subplots(1, 8, figsize=(20, 10))\n",
    "\n",
    "for i in range(8):\n",
    "    img = hog_img_test[i+45]\n",
    "    axx[i].imshow(img)"
   ]
  },
  {
   "cell_type": "markdown",
   "metadata": {
    "id": "hBM-bqbGB8Xy",
    "pycharm": {
     "name": "#%% md\n"
    }
   },
   "source": [
    "Model fitting"
   ]
  },
  {
   "cell_type": "code",
   "execution_count": null,
   "metadata": {
    "id": "8s9bS3glB8Xy",
    "pycharm": {
     "name": "#%%\n"
    }
   },
   "outputs": [],
   "source": [
    "X_train_flatten = np.array([el.ravel() for el in hog_img_train])\n",
    "X_test_flatten = np.array([el.ravel() for el in hog_img_test])"
   ]
  },
  {
   "cell_type": "code",
   "execution_count": null,
   "metadata": {
    "id": "iKm06YRZB8Xz",
    "pycharm": {
     "name": "#%%\n"
    }
   },
   "outputs": [],
   "source": [
    "X_tr, X_val, y_tr, y_val = train_test_split(X_train_flatten, y_train_Aug, stratify=y_train_Aug, random_state=42)"
   ]
  },
  {
   "cell_type": "markdown",
   "metadata": {
    "id": "xR7diFbOB8Xz",
    "pycharm": {
     "name": "#%% md\n"
    }
   },
   "source": [
    "Appying PCA"
   ]
  },
  {
   "cell_type": "code",
   "execution_count": null,
   "metadata": {
    "id": "uhwJF72NB8Xz",
    "pycharm": {
     "name": "#%%\n"
    }
   },
   "outputs": [],
   "source": [
    "pca = PCA().fit(X_tr, y_tr)\n",
    "plt.plot(np.cumsum(pca.explained_variance_ratio_))\n",
    "plt.axhline(y=0.95, color='r', linestyle='-')\n",
    "plt.xlabel('number of components')\n",
    "plt.ylabel('cumulative explained variance')"
   ]
  },
  {
   "cell_type": "code",
   "execution_count": null,
   "metadata": {
    "id": "JElpvoXRB8X0",
    "pycharm": {
     "name": "#%%\n"
    }
   },
   "outputs": [],
   "source": [
    "scl = StandardScaler()\n",
    "pca = KernelPCA()\n",
    "model_svm = SVC(probability=True)\n",
    "\n",
    "pipe = Pipeline(steps=[('scl', scl), ('pca', pca), ('svm', model_svm)])\n",
    "\n",
    "param_grid = {\n",
    "    \"pca__n_components\": [i for i in range(146, 160, 2)],\n",
    "    \"pca__kernel\": ['rbf', 'poly'],\n",
    "    'svm__C': [i for i in range(1, 21, 2)],\n",
    "    'svm__kernel': ['rbf', 'poly'],\n",
    "}\n",
    "\n",
    "grid = GridSearchCV(estimator = pipe, param_grid = param_grid, \n",
    "                           scoring = 'accuracy', cv = 10, \n",
    "                           n_jobs = -1, verbose = 2)\n",
    "\n",
    "grid.fit(X_tr, y_tr)\n",
    "\n",
    "print(f\"best mean cross-validation score: {grid.best_score_}\")\n",
    "print(f\"best parameters: {grid.best_params_}\")\n",
    "print(f\"val-set score: {grid.score(X_val, y_val):.3f}\")"
   ]
  },
  {
   "cell_type": "markdown",
   "metadata": {
    "pycharm": {
     "name": "#%% md\n"
    }
   },
   "source": [
    "Saving prediction to csv"
   ]
  },
  {
   "cell_type": "code",
   "execution_count": null,
   "metadata": {
    "id": "jgw17dXlo777",
    "pycharm": {
     "name": "#%%\n"
    }
   },
   "outputs": [],
   "source": [
    "pred = cbc.predict(X_test_flatten)\n",
    "pred_df = pd.DataFrame(list(zip(Names, pred)), columns = ['img', 'label'])\n",
    "\n",
    "pred_df.to_csv(\"sec_submission.csv\", index=False)"
   ]
  },
  {
   "cell_type": "code",
   "execution_count": null,
   "metadata": {
    "id": "ElGsiN8iHQ-1",
    "pycharm": {
     "name": "#%%\n"
    }
   },
   "outputs": [],
   "source": [
    "\n",
    "pred_df.to_csv(\"first_submission.csv\", index=False)"
   ]
  }
 ],
 "metadata": {
  "accelerator": "GPU",
  "colab": {
   "name": "competition_classic_ML track.ipynb",
   "provenance": []
  },
  "gpuClass": "standard",
  "kernelspec": {
   "display_name": "Python 3 (ipykernel)",
   "language": "python",
   "name": "python3"
  },
  "language_info": {
   "codemirror_mode": {
    "name": "ipython",
    "version": 3
   },
   "file_extension": ".py",
   "mimetype": "text/x-python",
   "name": "python",
   "nbconvert_exporter": "python",
   "pygments_lexer": "ipython3",
   "version": "3.10.4"
  },
  "vscode": {
   "interpreter": {
    "hash": "4ddb79095c8b81f9e096a70ddfd126f35fa60c739c920655c40085ee79dd7f67"
   }
  },
  "widgets": {
   "application/vnd.jupyter.widget-state+json": {
    "89d896c2b743405abc66c3502979b66a": {
     "model_module": "catboost-widget",
     "model_module_version": "^1.0.0",
     "model_name": "CatboostWidgetModel",
     "state": {
      "_dom_classes": [],
      "_model_module": "catboost-widget",
      "_model_module_version": "^1.0.0",
      "_model_name": "CatboostWidgetModel",
      "_view_count": null,
      "_view_module": "catboost-widget",
      "_view_module_version": "^1.0.0",
      "_view_name": "CatboostWidgetView",
      "data": {
       "catboost_info": {
        "content": {
         "data": {
          "iterations": [
           {
            "iteration": 0,
            "learn": [
             0.05999711124
            ],
            "parameters": [
             {
              "depth": 4,
              "learning_rate": 0.18
             }
            ],
            "passed_time": 41.38212269,
            "remaining_time": 455.2033496,
            "test": [
             0.7683126435
            ]
           },
           {
            "iteration": 1,
            "learn": [
             0.0571505642
            ],
            "parameters": [
             {
              "depth": 4,
              "learning_rate": 0.19
             }
            ],
            "passed_time": 80.89777318,
            "remaining_time": 404.4888659,
            "test": [
             0.7675615073
            ]
           },
           {
            "iteration": 2,
            "learn": [
             0.05385388775
            ],
            "parameters": [
             {
              "depth": 4,
              "learning_rate": 0.2
             }
            ],
            "passed_time": 120.5424255,
            "remaining_time": 361.6272765,
            "test": [
             0.7449785771
            ]
           },
           {
            "iteration": 3,
            "learn": [
             0.05263824171
            ],
            "parameters": [
             {
              "depth": 4,
              "learning_rate": 0.21
             }
            ],
            "passed_time": 160.441059,
            "remaining_time": 320.882118,
            "test": [
             0.7699930516
            ]
           },
           {
            "iteration": 4,
            "learn": [
             0.03501094383
            ],
            "parameters": [
             {
              "depth": 6,
              "learning_rate": 0.18
             }
            ],
            "passed_time": 280.4965808,
            "remaining_time": 392.6952131,
            "test": [
             0.7659710212
            ]
           },
           {
            "iteration": 5,
            "learn": [
             0.03429749576
            ],
            "parameters": [
             {
              "depth": 6,
              "learning_rate": 0.19
             }
            ],
            "passed_time": 399.8647811,
            "remaining_time": 399.8647811,
            "test": [
             0.7777911858
            ]
           },
           {
            "iteration": 6,
            "learn": [
             0.03324403392
            ],
            "parameters": [
             {
              "depth": 6,
              "learning_rate": 0.2
             }
            ],
            "passed_time": 519.4566126,
            "remaining_time": 371.0404376,
            "test": [
             0.7522334519
            ]
           }
          ],
          "meta": {
           "iteration_count": 12,
           "launch_mode": "Train",
           "learn_metrics": [
            {
             "best_value": "Min",
             "name": "MultiClass"
            }
           ],
           "learn_sets": [
            "learn"
           ],
           "name": "experiment",
           "parameters": "parameters",
           "test_metrics": [
            {
             "best_value": "Min",
             "name": "MultiClass"
            }
           ],
           "test_sets": [
            "test"
           ]
          }
         },
         "passed_iterations": 6,
         "total_iterations": 12
        },
        "name": "catboost_info",
        "path": "catboost_info"
       }
      },
      "layout": "IPY_MODEL_723f6ccc61cc48868ad86c6fcbfcf8b0"
     }
    }
   }
  }
 },
 "nbformat": 4,
 "nbformat_minor": 1
}
