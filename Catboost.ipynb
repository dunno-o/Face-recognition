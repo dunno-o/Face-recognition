{
 "cells": [
  {
   "cell_type": "code",
   "execution_count": 2,
   "metadata": {
    "executionInfo": {
     "elapsed": 1122,
     "status": "ok",
     "timestamp": 1658245515458,
     "user": {
      "displayName": "Артем Парфенов",
      "userId": "10897937486958484914"
     },
     "user_tz": -180
    },
    "id": "qnlj_WvwB8Xq",
    "pycharm": {
     "name": "#%%\n"
    },
    "scrolled": true
   },
   "outputs": [],
   "source": [
    "import pandas as pd\n",
    "%matplotlib inline\n",
    "import numpy as np\n",
    "import matplotlib.pyplot as plt\n",
    "\n",
    "import os\n",
    "import cv2\n",
    "from tqdm import tqdm\n",
    "\n",
    "# use seaborn plotting defaults\n",
    "import seaborn as sns; sns.set()\n",
    "\n",
    "from sklearn.model_selection import train_test_split, GridSearchCV\n",
    "from sklearn.svm import SVC\n",
    "from sklearn.decomposition import KernelPCA, PCA\n",
    "from sklearn.preprocessing import StandardScaler\n",
    "from sklearn.pipeline import Pipeline\n",
    "\n",
    "from skimage.io import imread\n",
    "from skimage.transform import resize\n",
    "from skimage.feature import hog"
   ]
  },
  {
   "cell_type": "code",
   "execution_count": 8,
   "metadata": {},
   "outputs": [
    {
     "name": "stdout",
     "output_type": "stream",
     "text": [
      "Collecting albumentations\n",
      "  Using cached albumentations-1.2.1-py3-none-any.whl (116 kB)\n",
      "Requirement already satisfied: PyYAML in c:\\users\\slava\\anaconda3\\lib\\site-packages (from albumentations) (6.0)\n",
      "Collecting opencv-python-headless>=4.1.1\n",
      "  Using cached opencv_python_headless-4.6.0.66-cp36-abi3-win_amd64.whl (35.5 MB)\n",
      "Collecting qudida>=0.0.4\n",
      "  Using cached qudida-0.0.4-py3-none-any.whl (3.5 kB)\n",
      "Requirement already satisfied: scikit-image>=0.16.1 in c:\\users\\slava\\anaconda3\\lib\\site-packages (from albumentations) (0.19.2)\n",
      "Requirement already satisfied: numpy>=1.11.1 in c:\\users\\slava\\anaconda3\\lib\\site-packages (from albumentations) (1.21.5)\n",
      "Requirement already satisfied: scipy in c:\\users\\slava\\anaconda3\\lib\\site-packages (from albumentations) (1.7.3)\n",
      "Requirement already satisfied: typing-extensions in c:\\users\\slava\\anaconda3\\lib\\site-packages (from qudida>=0.0.4->albumentations) (4.1.1)\n",
      "Requirement already satisfied: scikit-learn>=0.19.1 in c:\\users\\slava\\anaconda3\\lib\\site-packages (from qudida>=0.0.4->albumentations) (1.0.2)\n",
      "Requirement already satisfied: PyWavelets>=1.1.1 in c:\\users\\slava\\anaconda3\\lib\\site-packages (from scikit-image>=0.16.1->albumentations) (1.3.0)\n",
      "Requirement already satisfied: pillow!=7.1.0,!=7.1.1,!=8.3.0,>=6.1.0 in c:\\users\\slava\\anaconda3\\lib\\site-packages (from scikit-image>=0.16.1->albumentations) (9.0.1)\n",
      "Requirement already satisfied: packaging>=20.0 in c:\\users\\slava\\anaconda3\\lib\\site-packages (from scikit-image>=0.16.1->albumentations) (21.3)\n",
      "Requirement already satisfied: tifffile>=2019.7.26 in c:\\users\\slava\\anaconda3\\lib\\site-packages (from scikit-image>=0.16.1->albumentations) (2021.7.2)\n",
      "Requirement already satisfied: networkx>=2.2 in c:\\users\\slava\\anaconda3\\lib\\site-packages (from scikit-image>=0.16.1->albumentations) (2.7.1)\n",
      "Requirement already satisfied: imageio>=2.4.1 in c:\\users\\slava\\anaconda3\\lib\\site-packages (from scikit-image>=0.16.1->albumentations) (2.9.0)\n",
      "Requirement already satisfied: pyparsing!=3.0.5,>=2.0.2 in c:\\users\\slava\\anaconda3\\lib\\site-packages (from packaging>=20.0->scikit-image>=0.16.1->albumentations) (3.0.4)\n",
      "Requirement already satisfied: joblib>=0.11 in c:\\users\\slava\\anaconda3\\lib\\site-packages (from scikit-learn>=0.19.1->qudida>=0.0.4->albumentations) (1.1.0)\n",
      "Requirement already satisfied: threadpoolctl>=2.0.0 in c:\\users\\slava\\anaconda3\\lib\\site-packages (from scikit-learn>=0.19.1->qudida>=0.0.4->albumentations) (2.2.0)\n",
      "Installing collected packages: opencv-python-headless, qudida, albumentations\n",
      "Successfully installed albumentations-1.2.1 opencv-python-headless-4.6.0.66 qudida-0.0.4\n"
     ]
    }
   ],
   "source": [
    "!pip install albumentations --user"
   ]
  },
  {
   "cell_type": "code",
   "execution_count": 3,
   "metadata": {
    "pycharm": {
     "name": "#%%\n"
    }
   },
   "outputs": [],
   "source": [
    "#директории train и test датасетов\n",
    "dirname_train = r'C:\\Users\\Slava\\Desktop\\ML\\StartML_AMI\\train'\n",
    "\n",
    "dirname_test = r'C:\\Users\\Slava\\Desktop\\ML\\StartML_AMI\\test'"
   ]
  },
  {
   "cell_type": "markdown",
   "metadata": {
    "pycharm": {
     "name": "#%% md\n"
    }
   },
   "source": [
    "Тренировочный датасет довольно маленький по сравнению с тестовым, поэтому мы используем агументацию изображений (варьируем поворот и смещение, яркость и контраст, отражение по горизонтали). В тестовом датасете также присутствуют зашумленные фотографии, поэтому добавляем Гауссовский шум, его интенсивность подбиралась опытынм путем (параметр var_limit). "
   ]
  },
  {
   "cell_type": "code",
   "execution_count": 4,
   "metadata": {
    "pycharm": {
     "name": "#%%\n"
    }
   },
   "outputs": [],
   "source": [
    "import random\n",
    "import albumentations as A\n",
    "\n",
    "from albumentations import (\n",
    "    HorizontalFlip, IAAPerspective, ShiftScaleRotate, CLAHE, RandomRotate90,\n",
    "    Transpose, ShiftScaleRotate, Blur, OpticalDistortion, GridDistortion, HueSaturationValue,\n",
    "    IAAAdditiveGaussianNoise, GaussNoise, MotionBlur, MedianBlur, IAAPiecewiseAffine,\n",
    "    IAASharpen, IAAEmboss, RandomBrightnessContrast, Flip, OneOf, Compose\n",
    ")\n",
    "\n",
    "def get_aug(image):\n",
    "    angle = np.arange(-10,11,1)\n",
    "    angle0 = random.choice(angle)\n",
    "\n",
    "    shift = 0.01*np.arange(-10,11,1)\n",
    "    shift0 = random.choice(shift)\n",
    "\n",
    "    transform = A.Compose([\n",
    "    A.ShiftScaleRotate(shift_limit=[shift0,shift0], scale_limit=0, \n",
    "                        rotate_limit=[angle0,angle0], p=0.5),\n",
    "    A.HorizontalFlip(p=0.5),\n",
    "    A.RandomBrightnessContrast(brightness_limit=0.3, contrast_limit=0.3, p=0.3),\n",
    "    A.GaussNoise(var_limit=(10,250), p=0.5)\n",
    "    ])\n",
    "    return transform(image=image)['image']"
   ]
  },
  {
   "cell_type": "markdown",
   "metadata": {
    "pycharm": {
     "name": "#%% md\n"
    }
   },
   "source": [
    "1. Загрузка и обработка данных"
   ]
  },
  {
   "cell_type": "code",
   "execution_count": null,
   "metadata": {
    "pycharm": {
     "name": "#%%\n"
    }
   },
   "outputs": [],
   "source": [
    "from google.colab import drive\n",
    "drive.mount('/gdrive', force_remount=True)"
   ]
  },
  {
   "cell_type": "markdown",
   "metadata": {
    "pycharm": {
     "name": "#%% md\n"
    }
   },
   "source": [
    "Загрузка тренировочных данных и применение каскадов Хаара для детекции лиц на фотографиях.\n",
    "Оказалось, что точность предсказаний повышается при детекции лиц на уже аугментированных и увеличенных фотографиях"
   ]
  },
  {
   "cell_type": "code",
   "execution_count": 23,
   "metadata": {
    "pycharm": {
     "name": "#%%\n"
    }
   },
   "outputs": [
    {
     "name": "stdout",
     "output_type": "stream",
     "text": [
      "217 faces were not found\n"
     ]
    },
    {
     "data": {
      "text/plain": [
       "(3105, 3105)"
      ]
     },
     "execution_count": 23,
     "metadata": {},
     "output_type": "execute_result"
    }
   ],
   "source": [
    "X_train, y_train, X_train3 = [], [], []\n",
    "\n",
    "X_train_Aug, y_train_Aug = [], []\n",
    "no_face = 0\n",
    "filelist = os.listdir(dirname_train)\n",
    "\n",
    "l = ['haarcascade_frontalface_alt.xml', 'haarcascade_frontalface_alt2.xml', \n",
    "         'haarcascade_frontalface_default.xml', 'haarcascade_frontalface_alt_tree.xml']\n",
    "\n",
    "for fname in filelist:\n",
    "    img = cv2.imread(os.path.join(dirname_train, fname), cv2.IMREAD_GRAYSCALE)\n",
    "    img = cv2.resize(img, (1920, 1920), interpolation=cv2.INTER_AREA)\n",
    "    X_train.append(img)\n",
    "    y_train.append(int(fname.split('label')[1].split('.')[0]))\n",
    "\n",
    "for (a,b) in zip(X_train,y_train):\n",
    "    for i in range(5):\n",
    "        X_train3.append(get_aug(a))\n",
    "        #X_train3.append(a)\n",
    "        y_train_Aug.append(b)\n",
    "        #break\n",
    "\n",
    "for img in X_train3:    \n",
    "    for haar in l:\n",
    "        face_cascade = cv2.CascadeClassifier(cv2.data.haarcascades + haar)\n",
    "        face = face_cascade.detectMultiScale(img)\n",
    "        if len(face):\n",
    "          break\n",
    "    for (a, b, w, h) in face:\n",
    "        cv2.rectangle(img, (a, b), (a + w, b + h), (0, 0, 1920), 2)\n",
    "        face = img[b:b + h, a:a + w]\n",
    "    \n",
    "    try:\n",
    "        h, w = face.shape\n",
    "        size = min(h, w)\n",
    "        h0 = int((h - size) / 2)\n",
    "        w0 = int((w - size) / 2)\n",
    "            \n",
    "        img = face[h0: h0 + size, w0: w0 + size]\n",
    "\n",
    "    except:\n",
    "        no_face+=1\n",
    "\n",
    "\n",
    "    img = cv2.resize(img, (64, 64), interpolation = cv2.INTER_AREA)    \n",
    "    X_train_Aug.append(img)\n",
    "    \n",
    "\n",
    "print(no_face,'faces were not found')\n",
    "\n",
    "len(X_train_Aug), len(y_train_Aug)"
   ]
  },
  {
   "cell_type": "code",
   "execution_count": 6,
   "metadata": {
    "pycharm": {
     "name": "#%%\n"
    }
   },
   "outputs": [
    {
     "data": {
      "image/png": "[encoded data removed]",
      "text/plain": [
       "<Figure size 432x288 with 1 Axes>"
      ]
     },
     "metadata": {},
     "output_type": "display_data"
    }
   ],
   "source": [
    "bins = np.arange(0, 21, 1) \n",
    "\n",
    "plt.hist(y_train, bins=bins, alpha=1)\n",
    "plt.xlabel('Classes')\n",
    "plt.ylabel('Counts')\n",
    "\n",
    "plt.show()"
   ]
  },
  {
   "cell_type": "code",
   "execution_count": 10,
   "metadata": {
    "pycharm": {
     "name": "#%%\n"
    },
    "scrolled": true
   },
   "outputs": [
    {
     "data": {
      "image/png": "[encoded data removed]",
      "text/plain": [
       "<Figure size 1440x720 with 8 Axes>"
      ]
     },
     "metadata": {},
     "output_type": "display_data"
    }
   ],
   "source": [
    "fig, axx = plt.subplots(1, 8, figsize=(20, 10))\n",
    "\n",
    "for i in range(8):\n",
    "    img = X_train_Aug[i+62]\n",
    "    axx[i].imshow(img)"
   ]
  },
  {
   "cell_type": "markdown",
   "metadata": {
    "pycharm": {
     "name": "#%% md\n"
    }
   },
   "source": [
    "Загрузка тестовых данных. Тестовые изображения загружаются в произвольном порядке, поэтому сделаем сортировку по номерам, указанным в названиях изображений.\n",
    "Тестовый датасет мы не аугментируем, но перед детекцией лиц делаем rescale до (256, 256), а обрезанные прямоугольники с лицами снова уменьшаем до (64, 64) "
   ]
  },
  {
   "cell_type": "code",
   "execution_count": 12,
   "metadata": {
    "pycharm": {
     "name": "#%%\n"
    }
   },
   "outputs": [],
   "source": [
    "def sort_by_index(fname):\n",
    "    return int(fname.split('.')[0].split('img')[1])"
   ]
  },
  {
   "cell_type": "code",
   "execution_count": 24,
   "metadata": {
    "pycharm": {
     "name": "#%%\n"
    }
   },
   "outputs": [
    {
     "name": "stderr",
     "output_type": "stream",
     "text": [
      "100%|██████████████████████████████████████████████████████████████████████████████| 4150/4150 [18:36<00:00,  3.72it/s]"
     ]
    },
    {
     "name": "stdout",
     "output_type": "stream",
     "text": [
      "281 faces were not found\n"
     ]
    },
    {
     "name": "stderr",
     "output_type": "stream",
     "text": [
      "\n"
     ]
    },
    {
     "data": {
      "text/plain": [
       "4150"
      ]
     },
     "execution_count": 24,
     "metadata": {},
     "output_type": "execute_result"
    }
   ],
   "source": [
    "X_test = []\n",
    "Names = []\n",
    "no_face = 0\n",
    "\n",
    "for fname in tqdm(sorted(os.listdir(dirname_test), key=sort_by_index)):\n",
    "    img = cv2.imread(os.path.join(dirname_test, fname), cv2.IMREAD_GRAYSCALE)\n",
    "    img = cv2.resize(img, (1920, 1920), interpolation=cv2.INTER_AREA) \n",
    "    Names.append(fname)\n",
    "    l = ['haarcascade_frontalface_alt.xml', 'haarcascade_frontalface_alt2.xml', \n",
    "         'haarcascade_frontalface_default.xml', 'haarcascade_frontalface_alt_tree.xml']\n",
    "    \n",
    "    for haar in l:\n",
    "        face_cascade = cv2.CascadeClassifier(cv2.data.haarcascades + haar)\n",
    "        face = face_cascade.detectMultiScale(img)\n",
    "        if len(face):\n",
    "          break\n",
    "    for (a, b, w, h) in face:\n",
    "        cv2.rectangle(img, (a, b), (a + w, b + h), (0, 0, 1920), 2)\n",
    "        face = img[b:b + h, a:a + w]\n",
    "    \n",
    "    try:\n",
    "        h, w = face.shape\n",
    "        size = min(h, w)\n",
    "        h0 = int((h - size) / 2)\n",
    "        w0 = int((w - size) / 2)\n",
    "            \n",
    "        img = face[h0: h0 + size, w0: w0 + size]\n",
    "\n",
    "    except:\n",
    "        no_face+=1\n",
    "\n",
    "    \n",
    "    img = cv2.resize(img, (64, 64), interpolation = cv2.INTER_AREA)\n",
    "    X_test.append(img)\n",
    "    \n",
    "print(no_face,'faces were not found')\n",
    "len(X_test)"
   ]
  },
  {
   "cell_type": "code",
   "execution_count": 14,
   "metadata": {
    "pycharm": {
     "name": "#%%\n"
    }
   },
   "outputs": [
    {
     "data": {
      "image/png": "[encoded data removed]",
      "text/plain": [
       "<Figure size 720x360 with 4 Axes>"
      ]
     },
     "metadata": {},
     "output_type": "display_data"
    }
   ],
   "source": [
    "fig, axx = plt.subplots(1, 4, figsize=(10, 5))\n",
    "\n",
    "for i in range(4):\n",
    "    img = X_test[i+90]\n",
    "    axx[i].imshow(img)"
   ]
  },
  {
   "cell_type": "markdown",
   "metadata": {
    "pycharm": {
     "name": "#%% md\n"
    }
   },
   "source": [
    "Признаки для классификации извлекаем с помощью метода HOG. Изменение параметров преобразования на практике не дало прироста в точности."
   ]
  },
  {
   "cell_type": "code",
   "execution_count": 25,
   "metadata": {
    "pycharm": {
     "name": "#%%\n"
    }
   },
   "outputs": [],
   "source": [
    "hog_img_train = []\n",
    "for i in range(len(X_train_Aug)):\n",
    "    fd, hog_image = hog(X_train_Aug[i], orientations=8, pixels_per_cell=(8, 8),\n",
    "                \tcells_per_block=(2, 2), visualize=True)\n",
    "    hog_img_train.append(hog_image)"
   ]
  },
  {
   "cell_type": "code",
   "execution_count": 26,
   "metadata": {
    "pycharm": {
     "name": "#%%\n"
    }
   },
   "outputs": [],
   "source": [
    "hog_img_test = []\n",
    "for i in range(len(X_test)):\n",
    "    fd, hog_image = hog(X_test[i], orientations=8, pixels_per_cell=(8, 8),\n",
    "                \tcells_per_block=(2, 2), visualize=True)\n",
    "    hog_img_test.append(hog_image)"
   ]
  },
  {
   "cell_type": "code",
   "execution_count": 17,
   "metadata": {
    "pycharm": {
     "name": "#%%\n"
    },
    "scrolled": true
   },
   "outputs": [
    {
     "data": {
      "image/png": "[encoded data removed]",
      "text/plain": [
       "<Figure size 1440x720 with 8 Axes>"
      ]
     },
     "metadata": {},
     "output_type": "display_data"
    }
   ],
   "source": [
    "fig, axx = plt.subplots(1, 8, figsize=(20, 10))\n",
    "\n",
    "for i in range(8):\n",
    "    img = hog_img_test[i+45]\n",
    "    axx[i].imshow(img)"
   ]
  },
  {
   "cell_type": "markdown",
   "metadata": {
    "pycharm": {
     "name": "#%% md\n"
    }
   },
   "source": [
    "2. Обучение модели и подбор гиперпараметров"
   ]
  },
  {
   "cell_type": "code",
   "execution_count": 27,
   "metadata": {
    "pycharm": {
     "name": "#%%\n"
    }
   },
   "outputs": [],
   "source": [
    "X_train_flatten = np.array([el.ravel() for el in hog_img_train])\n",
    "X_test_flatten = np.array([el.ravel() for el in hog_img_test])"
   ]
  },
  {
   "cell_type": "markdown",
   "metadata": {
    "pycharm": {
     "name": "#%% md\n"
    }
   },
   "source": [
    "Точность модели буду оценивать на отложенной валидационной выборке"
   ]
  },
  {
   "cell_type": "code",
   "execution_count": 28,
   "metadata": {
    "pycharm": {
     "name": "#%%\n"
    }
   },
   "outputs": [],
   "source": [
    "X_tr, X_val, y_tr, y_val = train_test_split(X_train_flatten, y_train_Aug, stratify=y_train_Aug, random_state=42)"
   ]
  },
  {
   "cell_type": "markdown",
   "metadata": {
    "pycharm": {
     "name": "#%% md\n"
    }
   },
   "source": [
    "Для уменьшения размерности пространства признаков мы используем метод главных компонент. Число компонент можно примерно оценить по правилу Кайзера, чтобы при данном числе компонент доля объясненной дисперсии составляла 95%. Перед PCA данные необходимо отнормировать. Я пробовала MinMaxScaler и StandardScaler, последний показал себя чуть лучше.\n",
    "Также для уменьшения размерности я пробовала LinearDiscriminantAnalysis, но прироста в точности этот метод не дал  "
   ]
  },
  {
   "cell_type": "code",
   "execution_count": 26,
   "metadata": {
    "pycharm": {
     "name": "#%%\n"
    }
   },
   "outputs": [
    {
     "data": {
      "text/plain": [
       "Text(0, 0.5, 'cumulative explained variance')"
      ]
     },
     "execution_count": 26,
     "metadata": {},
     "output_type": "execute_result"
    },
    {
     "data": {
      "image/png": "[encoded data removed]",
      "text/plain": [
       "<Figure size 432x288 with 1 Axes>"
      ]
     },
     "metadata": {},
     "output_type": "display_data"
    }
   ],
   "source": [
    "pca = PCA().fit(X_tr, y_tr)\n",
    "plt.plot(np.cumsum(pca.explained_variance_ratio_))\n",
    "plt.axhline(y=0.95, color='r', linestyle='-')\n",
    "plt.xlabel('number of components')\n",
    "plt.ylabel('cumulative explained variance')"
   ]
  },
  {
   "cell_type": "code",
   "execution_count": null,
   "metadata": {
    "pycharm": {
     "name": "#%%\n"
    }
   },
   "outputs": [],
   "source": [
    "scl = StandardScaler()\n",
    "pca = KernelPCA()\n",
    "model_svm = SVC(probability=True)\n",
    "\n",
    "pipe = Pipeline(steps=[('scl', scl), ('pca', pca), ('svm', model_svm)])\n",
    "\n",
    "param_grid = {\n",
    "    \"pca__n_components\": [148],\n",
    "    \"pca__kernel\": ['rbf'],\n",
    "    'svm__C': [21],\n",
    "    'svm__kernel': ['rbf'],\n",
    "}\n",
    "\n",
    "grid = GridSearchCV(estimator = pipe, param_grid = param_grid, \n",
    "                           scoring = 'accuracy', cv = 10, \n",
    "                           n_jobs = -1, verbose = 2)\n",
    "\n",
    "grid.fit(X_tr, y_tr)\n",
    "\n",
    "print(f\"best mean cross-validation score: {grid.best_score_}\")\n",
    "print(f\"best parameters: {grid.best_params_}\")\n",
    "print(f\"val-set score: {grid.score(X_val, y_val):.3f}\")"
   ]
  },
  {
   "cell_type": "code",
   "execution_count": 25,
   "metadata": {
    "pycharm": {
     "name": "#%%\n"
    },
    "scrolled": true
   },
   "outputs": [
    {
     "name": "stdout",
     "output_type": "stream",
     "text": [
      "Requirement already satisfied: catboost in c:\\users\\slava\\anaconda3\\lib\\site-packages (1.0.6)\n",
      "Requirement already satisfied: graphviz in c:\\users\\slava\\anaconda3\\lib\\site-packages (from catboost) (0.20)\n",
      "Requirement already satisfied: numpy>=1.16.0 in c:\\users\\slava\\anaconda3\\lib\\site-packages (from catboost) (1.21.5)\n",
      "Requirement already satisfied: matplotlib in c:\\users\\slava\\anaconda3\\lib\\site-packages (from catboost) (3.5.1)\n",
      "Requirement already satisfied: plotly in c:\\users\\slava\\anaconda3\\lib\\site-packages (from catboost) (5.6.0)\n",
      "Requirement already satisfied: six in c:\\users\\slava\\anaconda3\\lib\\site-packages (from catboost) (1.16.0)\n",
      "Requirement already satisfied: pandas>=0.24.0 in c:\\users\\slava\\anaconda3\\lib\\site-packages (from catboost) (1.4.2)\n",
      "Requirement already satisfied: scipy in c:\\users\\slava\\anaconda3\\lib\\site-packages (from catboost) (1.7.3)\n",
      "Requirement already satisfied: pytz>=2020.1 in c:\\users\\slava\\anaconda3\\lib\\site-packages (from pandas>=0.24.0->catboost) (2021.3)\n",
      "Requirement already satisfied: python-dateutil>=2.8.1 in c:\\users\\slava\\anaconda3\\lib\\site-packages (from pandas>=0.24.0->catboost) (2.8.2)\n",
      "Requirement already satisfied: packaging>=20.0 in c:\\users\\slava\\anaconda3\\lib\\site-packages (from matplotlib->catboost) (21.3)\n",
      "Requirement already satisfied: fonttools>=4.22.0 in c:\\users\\slava\\anaconda3\\lib\\site-packages (from matplotlib->catboost) (4.25.0)\n",
      "Requirement already satisfied: pyparsing>=2.2.1 in c:\\users\\slava\\anaconda3\\lib\\site-packages (from matplotlib->catboost) (3.0.4)\n",
      "Requirement already satisfied: pillow>=6.2.0 in c:\\users\\slava\\anaconda3\\lib\\site-packages (from matplotlib->catboost) (9.0.1)\n",
      "Requirement already satisfied: cycler>=0.10 in c:\\users\\slava\\anaconda3\\lib\\site-packages (from matplotlib->catboost) (0.11.0)\n",
      "Requirement already satisfied: kiwisolver>=1.0.1 in c:\\users\\slava\\anaconda3\\lib\\site-packages (from matplotlib->catboost) (1.3.2)\n",
      "Requirement already satisfied: tenacity>=6.2.0 in c:\\users\\slava\\anaconda3\\lib\\site-packages (from plotly->catboost) (8.0.1)\n"
     ]
    }
   ],
   "source": [
    "!pip install catboost"
   ]
  },
  {
   "cell_type": "code",
   "execution_count": null,
   "metadata": {
    "pycharm": {
     "name": "#%%\n"
    },
    "scrolled": true
   },
   "outputs": [
    {
     "data": {
      "application/vnd.jupyter.widget-view+json": {
       "model_id": "659633bdb0ef48a890c3874d60bedc79",
       "version_major": 2,
       "version_minor": 0
      },
      "text/plain": [
       "MetricVisualizer(layout=Layout(align_self='stretch', height='500px'))"
      ]
     },
     "metadata": {},
     "output_type": "display_data"
    },
    {
     "name": "stderr",
     "output_type": "stream",
     "text": [
      "Default metric period is 5 because AUC is/are not implemented for GPU\n",
      "AUC is not implemented on GPU. Will use CPU for metric computation, this could significantly affect learning time\n"
     ]
    },
    {
     "name": "stdout",
     "output_type": "stream",
     "text": [
      "0:\ttest: 0.7120242\tbest: 0.7120242 (0)\ttotal: 37.4ms\tremaining: 37.3s\n",
      "100:\ttest: 0.9784954\tbest: 0.9784954 (100)\ttotal: 4.7s\tremaining: 41.8s\n",
      "200:\ttest: 0.9891720\tbest: 0.9891720 (200)\ttotal: 9.74s\tremaining: 38.7s\n",
      "300:\ttest: 0.9917861\tbest: 0.9917861 (300)\ttotal: 14.5s\tremaining: 33.6s\n",
      "400:\ttest: 0.9930961\tbest: 0.9931299 (396)\ttotal: 20s\tremaining: 29.9s\n",
      "500:\ttest: 0.9941405\tbest: 0.9941405 (500)\ttotal: 24.5s\tremaining: 24.4s\n",
      "600:\ttest: 0.9948842\tbest: 0.9948842 (600)\ttotal: 29.7s\tremaining: 19.7s\n",
      "bestTest = 0.9952720795\n",
      "bestIteration = 653\n",
      "Metric AUC is not calculated on train by default. To calculate this metric on train, add hints=skip_train~false to metric parameters.\n",
      "0:\tloss: 0.9952721\tbest: 0.9952721 (0)\ttotal: 33.6s\tremaining: 4h 46m 9s\n"
     ]
    },
    {
     "name": "stderr",
     "output_type": "stream",
     "text": [
      "Default metric period is 5 because AUC is/are not implemented for GPU\n",
      "AUC is not implemented on GPU. Will use CPU for metric computation, this could significantly affect learning time\n"
     ]
    },
    {
     "name": "stdout",
     "output_type": "stream",
     "text": [
      "0:\ttest: 0.7114845\tbest: 0.7114845 (0)\ttotal: 44ms\tremaining: 43.9s\n",
      "100:\ttest: 0.9774824\tbest: 0.9774824 (100)\ttotal: 5.69s\tremaining: 50.6s\n",
      "200:\ttest: 0.9877633\tbest: 0.9877633 (200)\ttotal: 11s\tremaining: 43.8s\n",
      "300:\ttest: 0.9910512\tbest: 0.9911008 (296)\ttotal: 15.9s\tremaining: 36.9s\n",
      "400:\ttest: 0.9926450\tbest: 0.9926646 (396)\ttotal: 21.6s\tremaining: 32.2s\n",
      "500:\ttest: 0.9936037\tbest: 0.9936037 (500)\ttotal: 26.9s\tremaining: 26.8s\n",
      "600:\ttest: 0.9942134\tbest: 0.9942134 (600)\ttotal: 32.2s\tremaining: 21.4s\n",
      "700:\ttest: 0.9947768\tbest: 0.9948104 (699)\ttotal: 37s\tremaining: 15.8s\n",
      "800:\ttest: 0.9954382\tbest: 0.9954382 (799)\ttotal: 42.7s\tremaining: 10.6s\n",
      "900:\ttest: 0.9956617\tbest: 0.9956617 (899)\ttotal: 47.5s\tremaining: 5.22s\n",
      "999:\ttest: 0.9958401\tbest: 0.9958518 (991)\ttotal: 52.5s\tremaining: 0us\n",
      "bestTest = 0.9958518397\n",
      "bestIteration = 991\n",
      "Metric AUC is not calculated on train by default. To calculate this metric on train, add hints=skip_train~false to metric parameters.\n",
      "1:\tloss: 0.9958518\tbest: 0.9958518 (1)\ttotal: 1m 26s\tremaining: 6h 6m 40s\n"
     ]
    },
    {
     "name": "stderr",
     "output_type": "stream",
     "text": [
      "Default metric period is 5 because AUC is/are not implemented for GPU\n",
      "AUC is not implemented on GPU. Will use CPU for metric computation, this could significantly affect learning time\n"
     ]
    },
    {
     "name": "stdout",
     "output_type": "stream",
     "text": [
      "0:\ttest: 0.7108157\tbest: 0.7108157 (0)\ttotal: 75.7ms\tremaining: 1m 15s\n",
      "100:\ttest: 0.9760959\tbest: 0.9760959 (100)\ttotal: 5.38s\tremaining: 47.9s\n",
      "200:\ttest: 0.9870272\tbest: 0.9870272 (200)\ttotal: 10.4s\tremaining: 41.4s\n",
      "300:\ttest: 0.9906340\tbest: 0.9906340 (300)\ttotal: 15.3s\tremaining: 35.6s\n",
      "400:\ttest: 0.9924348\tbest: 0.9924348 (400)\ttotal: 20.8s\tremaining: 31.1s\n",
      "500:\ttest: 0.9935132\tbest: 0.9935132 (500)\ttotal: 25.9s\tremaining: 25.8s\n",
      "600:\ttest: 0.9940054\tbest: 0.9940196 (599)\ttotal: 31.3s\tremaining: 20.8s\n",
      "700:\ttest: 0.9945370\tbest: 0.9945370 (700)\ttotal: 36.1s\tremaining: 15.4s\n",
      "800:\ttest: 0.9950114\tbest: 0.9950299 (799)\ttotal: 41.3s\tremaining: 10.3s\n",
      "bestTest = 0.9950902366\n",
      "bestIteration = 819\n",
      "Metric AUC is not calculated on train by default. To calculate this metric on train, add hints=skip_train~false to metric parameters.\n",
      "2:\tloss: 0.9950902\tbest: 0.9958518 (1)\ttotal: 2m 10s\tremaining: 6h 8m 40s\n"
     ]
    },
    {
     "name": "stderr",
     "output_type": "stream",
     "text": [
      "Default metric period is 5 because AUC is/are not implemented for GPU\n",
      "AUC is not implemented on GPU. Will use CPU for metric computation, this could significantly affect learning time\n"
     ]
    },
    {
     "name": "stdout",
     "output_type": "stream",
     "text": [
      "0:\ttest: 0.7106613\tbest: 0.7106613 (0)\ttotal: 40.5ms\tremaining: 40.5s\n",
      "100:\ttest: 0.9748183\tbest: 0.9748183 (100)\ttotal: 6.56s\tremaining: 58.4s\n",
      "200:\ttest: 0.9856902\tbest: 0.9856902 (200)\ttotal: 12.1s\tremaining: 47.9s\n",
      "300:\ttest: 0.9895000\tbest: 0.9895084 (298)\ttotal: 17.5s\tremaining: 40.6s\n",
      "400:\ttest: 0.9915252\tbest: 0.9915300 (397)\ttotal: 22.8s\tremaining: 34s\n",
      "500:\ttest: 0.9928409\tbest: 0.9928409 (500)\ttotal: 27.9s\tremaining: 27.7s\n",
      "bestTest = 0.993459779\n",
      "bestIteration = 571\n",
      "Metric AUC is not calculated on train by default. To calculate this metric on train, add hints=skip_train~false to metric parameters.\n",
      "3:\tloss: 0.9934598\tbest: 0.9958518 (1)\ttotal: 2m 42s\tremaining: 5h 44m 48s\n"
     ]
    },
    {
     "name": "stderr",
     "output_type": "stream",
     "text": [
      "Default metric period is 5 because AUC is/are not implemented for GPU\n",
      "AUC is not implemented on GPU. Will use CPU for metric computation, this could significantly affect learning time\n"
     ]
    },
    {
     "name": "stdout",
     "output_type": "stream",
     "text": [
      "0:\ttest: 0.7120242\tbest: 0.7120242 (0)\ttotal: 63.8ms\tremaining: 1m 16s\n",
      "100:\ttest: 0.9784954\tbest: 0.9784954 (100)\ttotal: 4.82s\tremaining: 52.4s\n",
      "200:\ttest: 0.9891720\tbest: 0.9891720 (200)\ttotal: 10.5s\tremaining: 52.3s\n",
      "300:\ttest: 0.9917861\tbest: 0.9917861 (300)\ttotal: 15.7s\tremaining: 46.8s\n",
      "400:\ttest: 0.9930961\tbest: 0.9931299 (396)\ttotal: 20.7s\tremaining: 41.3s\n",
      "500:\ttest: 0.9941405\tbest: 0.9941405 (500)\ttotal: 25.6s\tremaining: 35.8s\n",
      "600:\ttest: 0.9948842\tbest: 0.9948842 (600)\ttotal: 30.9s\tremaining: 30.8s\n",
      "bestTest = 0.9952720795\n",
      "bestIteration = 653\n",
      "Metric AUC is not calculated on train by default. To calculate this metric on train, add hints=skip_train~false to metric parameters.\n",
      "4:\tloss: 0.9952721\tbest: 0.9958518 (1)\ttotal: 3m 17s\tremaining: 5h 34m\n"
     ]
    },
    {
     "name": "stderr",
     "output_type": "stream",
     "text": [
      "Default metric period is 5 because AUC is/are not implemented for GPU\n",
      "AUC is not implemented on GPU. Will use CPU for metric computation, this could significantly affect learning time\n"
     ]
    },
    {
     "name": "stdout",
     "output_type": "stream",
     "text": [
      "0:\ttest: 0.7114845\tbest: 0.7114845 (0)\ttotal: 76.5ms\tremaining: 1m 31s\n",
      "100:\ttest: 0.9774824\tbest: 0.9774824 (100)\ttotal: 5.03s\tremaining: 54.7s\n",
      "200:\ttest: 0.9877633\tbest: 0.9877633 (200)\ttotal: 10.8s\tremaining: 53.5s\n",
      "300:\ttest: 0.9910512\tbest: 0.9911008 (296)\ttotal: 16.2s\tremaining: 48.5s\n",
      "400:\ttest: 0.9926450\tbest: 0.9926646 (396)\ttotal: 22s\tremaining: 43.8s\n",
      "500:\ttest: 0.9936037\tbest: 0.9936037 (500)\ttotal: 27.1s\tremaining: 37.9s\n",
      "600:\ttest: 0.9942134\tbest: 0.9942134 (600)\ttotal: 31.9s\tremaining: 31.8s\n",
      "700:\ttest: 0.9947768\tbest: 0.9948104 (699)\ttotal: 37s\tremaining: 26.4s\n",
      "800:\ttest: 0.9954382\tbest: 0.9954382 (799)\ttotal: 41.7s\tremaining: 20.8s\n",
      "900:\ttest: 0.9956617\tbest: 0.9956617 (899)\ttotal: 46.7s\tremaining: 15.5s\n",
      "1000:\ttest: 0.9958299\tbest: 0.9958518 (991)\ttotal: 51.4s\tremaining: 10.2s\n",
      "1100:\ttest: 0.9960809\tbest: 0.9960845 (1099)\ttotal: 56.9s\tremaining: 5.12s\n",
      "bestTest = 0.9961327867\n",
      "bestIteration = 1127\n",
      "Metric AUC is not calculated on train by default. To calculate this metric on train, add hints=skip_train~false to metric parameters.\n",
      "5:\tloss: 0.9961328\tbest: 0.9961328 (5)\ttotal: 4m 17s\tremaining: 6h 1m 48s\n"
     ]
    },
    {
     "name": "stderr",
     "output_type": "stream",
     "text": [
      "Default metric period is 5 because AUC is/are not implemented for GPU\n",
      "AUC is not implemented on GPU. Will use CPU for metric computation, this could significantly affect learning time\n"
     ]
    },
    {
     "name": "stdout",
     "output_type": "stream",
     "text": [
      "0:\ttest: 0.7108157\tbest: 0.7108157 (0)\ttotal: 63.6ms\tremaining: 1m 16s\n",
      "100:\ttest: 0.9760959\tbest: 0.9760959 (100)\ttotal: 5.76s\tremaining: 1m 2s\n",
      "200:\ttest: 0.9870272\tbest: 0.9870272 (200)\ttotal: 10.9s\tremaining: 54.1s\n",
      "300:\ttest: 0.9906340\tbest: 0.9906340 (300)\ttotal: 15.7s\tremaining: 47s\n",
      "400:\ttest: 0.9924348\tbest: 0.9924348 (400)\ttotal: 20.9s\tremaining: 41.7s\n",
      "500:\ttest: 0.9935132\tbest: 0.9935132 (500)\ttotal: 26.6s\tremaining: 37.1s\n",
      "600:\ttest: 0.9940054\tbest: 0.9940196 (599)\ttotal: 31.9s\tremaining: 31.8s\n",
      "700:\ttest: 0.9945370\tbest: 0.9945370 (700)\ttotal: 36.8s\tremaining: 26.2s\n",
      "800:\ttest: 0.9950114\tbest: 0.9950299 (799)\ttotal: 42.3s\tremaining: 21.1s\n",
      "bestTest = 0.9950902366\n",
      "bestIteration = 819\n",
      "Metric AUC is not calculated on train by default. To calculate this metric on train, add hints=skip_train~false to metric parameters.\n",
      "6:\tloss: 0.9950902\tbest: 0.9961328 (5)\ttotal: 5m 1s\tremaining: 6h 2m 57s\n"
     ]
    },
    {
     "name": "stderr",
     "output_type": "stream",
     "text": [
      "Default metric period is 5 because AUC is/are not implemented for GPU\n",
      "AUC is not implemented on GPU. Will use CPU for metric computation, this could significantly affect learning time\n"
     ]
    },
    {
     "name": "stdout",
     "output_type": "stream",
     "text": [
      "0:\ttest: 0.7106613\tbest: 0.7106613 (0)\ttotal: 37.5ms\tremaining: 44.9s\n",
      "100:\ttest: 0.9748183\tbest: 0.9748183 (100)\ttotal: 5.28s\tremaining: 57.5s\n",
      "200:\ttest: 0.9856902\tbest: 0.9856902 (200)\ttotal: 10.4s\tremaining: 51.6s\n",
      "300:\ttest: 0.9895000\tbest: 0.9895084 (298)\ttotal: 15.9s\tremaining: 47.6s\n",
      "400:\ttest: 0.9915252\tbest: 0.9915300 (397)\ttotal: 21.1s\tremaining: 42s\n",
      "500:\ttest: 0.9928409\tbest: 0.9928409 (500)\ttotal: 26.2s\tremaining: 36.6s\n",
      "bestTest = 0.993459779\n",
      "bestIteration = 571\n",
      "Metric AUC is not calculated on train by default. To calculate this metric on train, add hints=skip_train~false to metric parameters.\n",
      "7:\tloss: 0.9934598\tbest: 0.9961328 (5)\ttotal: 5m 32s\tremaining: 5h 49m 20s\n"
     ]
    },
    {
     "name": "stderr",
     "output_type": "stream",
     "text": [
      "Default metric period is 5 because AUC is/are not implemented for GPU\n",
      "AUC is not implemented on GPU. Will use CPU for metric computation, this could significantly affect learning time\n"
     ]
    },
    {
     "name": "stdout",
     "output_type": "stream",
     "text": [
      "0:\ttest: 0.7120242\tbest: 0.7120242 (0)\ttotal: 74.6ms\tremaining: 1m 44s\n",
      "100:\ttest: 0.9784954\tbest: 0.9784954 (100)\ttotal: 4.99s\tremaining: 1m 4s\n",
      "200:\ttest: 0.9891720\tbest: 0.9891720 (200)\ttotal: 11s\tremaining: 1m 5s\n",
      "300:\ttest: 0.9917861\tbest: 0.9917861 (300)\ttotal: 15.8s\tremaining: 57.6s\n",
      "400:\ttest: 0.9930961\tbest: 0.9931299 (396)\ttotal: 21.3s\tremaining: 52.9s\n",
      "500:\ttest: 0.9941405\tbest: 0.9941405 (500)\ttotal: 26.5s\tremaining: 47.5s\n",
      "600:\ttest: 0.9948842\tbest: 0.9948842 (600)\ttotal: 31.3s\tremaining: 41.6s\n",
      "bestTest = 0.9952720795\n",
      "bestIteration = 653\n",
      "Metric AUC is not calculated on train by default. To calculate this metric on train, add hints=skip_train~false to metric parameters.\n",
      "8:\tloss: 0.9952721\tbest: 0.9961328 (5)\ttotal: 6m 8s\tremaining: 5h 42m 47s\n"
     ]
    },
    {
     "name": "stderr",
     "output_type": "stream",
     "text": [
      "Default metric period is 5 because AUC is/are not implemented for GPU\n",
      "AUC is not implemented on GPU. Will use CPU for metric computation, this could significantly affect learning time\n"
     ]
    },
    {
     "name": "stdout",
     "output_type": "stream",
     "text": [
      "0:\ttest: 0.7114845\tbest: 0.7114845 (0)\ttotal: 39.9ms\tremaining: 55.8s\n",
      "100:\ttest: 0.9774824\tbest: 0.9774824 (100)\ttotal: 5.28s\tremaining: 1m 7s\n",
      "200:\ttest: 0.9877633\tbest: 0.9877633 (200)\ttotal: 10.4s\tremaining: 1m 1s\n",
      "300:\ttest: 0.9910512\tbest: 0.9911008 (296)\ttotal: 15.4s\tremaining: 56.2s\n",
      "400:\ttest: 0.9926450\tbest: 0.9926646 (396)\ttotal: 20.8s\tremaining: 51.9s\n",
      "500:\ttest: 0.9936037\tbest: 0.9936037 (500)\ttotal: 26s\tremaining: 46.6s\n",
      "600:\ttest: 0.9942134\tbest: 0.9942134 (600)\ttotal: 31.3s\tremaining: 41.6s\n",
      "700:\ttest: 0.9947768\tbest: 0.9948104 (699)\ttotal: 36.4s\tremaining: 36.3s\n",
      "800:\ttest: 0.9954382\tbest: 0.9954382 (799)\ttotal: 41.5s\tremaining: 31.1s\n",
      "900:\ttest: 0.9956617\tbest: 0.9956617 (899)\ttotal: 46.4s\tremaining: 25.7s\n",
      "1000:\ttest: 0.9958299\tbest: 0.9958518 (991)\ttotal: 51.4s\tremaining: 20.5s\n",
      "1100:\ttest: 0.9960809\tbest: 0.9960845 (1099)\ttotal: 56.4s\tremaining: 15.3s\n",
      "bestTest = 0.9961327867\n",
      "bestIteration = 1127\n",
      "Metric AUC is not calculated on train by default. To calculate this metric on train, add hints=skip_train~false to metric parameters.\n",
      "9:\tloss: 0.9961328\tbest: 0.9961328 (5)\ttotal: 7m 7s\tremaining: 5h 57m 41s\n"
     ]
    },
    {
     "name": "stderr",
     "output_type": "stream",
     "text": [
      "Default metric period is 5 because AUC is/are not implemented for GPU\n",
      "AUC is not implemented on GPU. Will use CPU for metric computation, this could significantly affect learning time\n"
     ]
    },
    {
     "name": "stdout",
     "output_type": "stream",
     "text": [
      "0:\ttest: 0.7108157\tbest: 0.7108157 (0)\ttotal: 63.3ms\tremaining: 1m 28s\n",
      "100:\ttest: 0.9760959\tbest: 0.9760959 (100)\ttotal: 5.55s\tremaining: 1m 11s\n",
      "200:\ttest: 0.9870272\tbest: 0.9870272 (200)\ttotal: 10.9s\tremaining: 1m 4s\n",
      "300:\ttest: 0.9906340\tbest: 0.9906340 (300)\ttotal: 16.7s\tremaining: 1m\n",
      "400:\ttest: 0.9924348\tbest: 0.9924348 (400)\ttotal: 21.7s\tremaining: 54.1s\n",
      "500:\ttest: 0.9935132\tbest: 0.9935132 (500)\ttotal: 27.1s\tremaining: 48.7s\n",
      "600:\ttest: 0.9940054\tbest: 0.9940196 (599)\ttotal: 32.2s\tremaining: 42.8s\n",
      "700:\ttest: 0.9945370\tbest: 0.9945370 (700)\ttotal: 37.7s\tremaining: 37.6s\n",
      "800:\ttest: 0.9950114\tbest: 0.9950299 (799)\ttotal: 42.6s\tremaining: 31.8s\n",
      "bestTest = 0.9950902366\n",
      "bestIteration = 819\n",
      "Metric AUC is not calculated on train by default. To calculate this metric on train, add hints=skip_train~false to metric parameters.\n",
      "10:\tloss: 0.9950902\tbest: 0.9961328 (5)\ttotal: 7m 52s\tremaining: 5h 58m 27s\n"
     ]
    },
    {
     "name": "stderr",
     "output_type": "stream",
     "text": [
      "Default metric period is 5 because AUC is/are not implemented for GPU\n",
      "AUC is not implemented on GPU. Will use CPU for metric computation, this could significantly affect learning time\n"
     ]
    },
    {
     "name": "stdout",
     "output_type": "stream",
     "text": [
      "0:\ttest: 0.7106613\tbest: 0.7106613 (0)\ttotal: 40.3ms\tremaining: 56.3s\n",
      "100:\ttest: 0.9748183\tbest: 0.9748183 (100)\ttotal: 5.71s\tremaining: 1m 13s\n",
      "200:\ttest: 0.9856902\tbest: 0.9856902 (200)\ttotal: 10.6s\tremaining: 1m 3s\n",
      "300:\ttest: 0.9895000\tbest: 0.9895084 (298)\ttotal: 16.3s\tremaining: 59.5s\n",
      "400:\ttest: 0.9915252\tbest: 0.9915300 (397)\ttotal: 21.2s\tremaining: 52.7s\n",
      "500:\ttest: 0.9928409\tbest: 0.9928409 (500)\ttotal: 26.5s\tremaining: 47.6s\n",
      "bestTest = 0.993459779\n",
      "bestIteration = 571\n",
      "Metric AUC is not calculated on train by default. To calculate this metric on train, add hints=skip_train~false to metric parameters.\n",
      "11:\tloss: 0.9934598\tbest: 0.9961328 (5)\ttotal: 8m 23s\tremaining: 5h 49m 56s\n"
     ]
    },
    {
     "name": "stderr",
     "output_type": "stream",
     "text": [
      "Default metric period is 5 because AUC is/are not implemented for GPU\n",
      "AUC is not implemented on GPU. Will use CPU for metric computation, this could significantly affect learning time\n"
     ]
    },
    {
     "name": "stdout",
     "output_type": "stream",
     "text": [
      "0:\ttest: 0.7120242\tbest: 0.7120242 (0)\ttotal: 69.4ms\tremaining: 1m 50s\n",
      "100:\ttest: 0.9784954\tbest: 0.9784954 (100)\ttotal: 5.33s\tremaining: 1m 19s\n",
      "200:\ttest: 0.9891720\tbest: 0.9891720 (200)\ttotal: 11.2s\tremaining: 1m 17s\n",
      "300:\ttest: 0.9917861\tbest: 0.9917861 (300)\ttotal: 16.1s\tremaining: 1m 9s\n",
      "400:\ttest: 0.9930961\tbest: 0.9931299 (396)\ttotal: 21.4s\tremaining: 1m 3s\n",
      "500:\ttest: 0.9941405\tbest: 0.9941405 (500)\ttotal: 26.8s\tremaining: 58.8s\n",
      "600:\ttest: 0.9948842\tbest: 0.9948842 (600)\ttotal: 32.2s\tremaining: 53.5s\n",
      "bestTest = 0.9952720795\n",
      "bestIteration = 653\n",
      "Metric AUC is not calculated on train by default. To calculate this metric on train, add hints=skip_train~false to metric parameters.\n",
      "12:\tloss: 0.9952721\tbest: 0.9961328 (5)\ttotal: 9m\tremaining: 5h 45m 36s\n"
     ]
    },
    {
     "name": "stderr",
     "output_type": "stream",
     "text": [
      "Default metric period is 5 because AUC is/are not implemented for GPU\n",
      "AUC is not implemented on GPU. Will use CPU for metric computation, this could significantly affect learning time\n"
     ]
    },
    {
     "name": "stdout",
     "output_type": "stream",
     "text": [
      "0:\ttest: 0.7114845\tbest: 0.7114845 (0)\ttotal: 39.4ms\tremaining: 1m 2s\n",
      "100:\ttest: 0.9774824\tbest: 0.9774824 (100)\ttotal: 5.32s\tremaining: 1m 18s\n",
      "200:\ttest: 0.9877633\tbest: 0.9877633 (200)\ttotal: 10.5s\tremaining: 1m 12s\n",
      "300:\ttest: 0.9910512\tbest: 0.9911008 (296)\ttotal: 15.7s\tremaining: 1m 7s\n",
      "400:\ttest: 0.9926450\tbest: 0.9926646 (396)\ttotal: 21.3s\tremaining: 1m 3s\n",
      "500:\ttest: 0.9936037\tbest: 0.9936037 (500)\ttotal: 26.2s\tremaining: 57.5s\n",
      "600:\ttest: 0.9942134\tbest: 0.9942134 (600)\ttotal: 31.5s\tremaining: 52.4s\n",
      "700:\ttest: 0.9947768\tbest: 0.9948104 (699)\ttotal: 36.1s\tremaining: 46.3s\n",
      "800:\ttest: 0.9954382\tbest: 0.9954382 (799)\ttotal: 41.5s\tremaining: 41.4s\n",
      "900:\ttest: 0.9956617\tbest: 0.9956617 (899)\ttotal: 47.4s\tremaining: 36.8s\n",
      "1000:\ttest: 0.9958299\tbest: 0.9958518 (991)\ttotal: 53s\tremaining: 31.7s\n",
      "1100:\ttest: 0.9960809\tbest: 0.9960845 (1099)\ttotal: 58.2s\tremaining: 26.4s\n",
      "bestTest = 0.9961327867\n",
      "bestIteration = 1127\n",
      "Metric AUC is not calculated on train by default. To calculate this metric on train, add hints=skip_train~false to metric parameters.\n",
      "13:\tloss: 0.9961328\tbest: 0.9961328 (5)\ttotal: 10m 1s\tremaining: 5h 56m 30s\n"
     ]
    },
    {
     "name": "stderr",
     "output_type": "stream",
     "text": [
      "Default metric period is 5 because AUC is/are not implemented for GPU\n",
      "AUC is not implemented on GPU. Will use CPU for metric computation, this could significantly affect learning time\n"
     ]
    },
    {
     "name": "stdout",
     "output_type": "stream",
     "text": [
      "0:\ttest: 0.7108157\tbest: 0.7108157 (0)\ttotal: 38.3ms\tremaining: 1m 1s\n",
      "100:\ttest: 0.9760959\tbest: 0.9760959 (100)\ttotal: 5.3s\tremaining: 1m 18s\n",
      "200:\ttest: 0.9870272\tbest: 0.9870272 (200)\ttotal: 11.1s\tremaining: 1m 17s\n",
      "300:\ttest: 0.9906340\tbest: 0.9906340 (300)\ttotal: 16.2s\tremaining: 1m 10s\n",
      "400:\ttest: 0.9924348\tbest: 0.9924348 (400)\ttotal: 21.6s\tremaining: 1m 4s\n",
      "500:\ttest: 0.9935132\tbest: 0.9935132 (500)\ttotal: 26.7s\tremaining: 58.5s\n",
      "600:\ttest: 0.9940054\tbest: 0.9940196 (599)\ttotal: 31.7s\tremaining: 52.6s\n",
      "700:\ttest: 0.9945370\tbest: 0.9945370 (700)\ttotal: 37.1s\tremaining: 47.6s\n",
      "800:\ttest: 0.9950114\tbest: 0.9950299 (799)\ttotal: 42.1s\tremaining: 42s\n",
      "bestTest = 0.9950902366\n",
      "bestIteration = 819\n",
      "Metric AUC is not calculated on train by default. To calculate this metric on train, add hints=skip_train~false to metric parameters.\n",
      "14:\tloss: 0.9950902\tbest: 0.9961328 (5)\ttotal: 10m 46s\tremaining: 5h 56m 55s\n"
     ]
    },
    {
     "name": "stderr",
     "output_type": "stream",
     "text": [
      "Default metric period is 5 because AUC is/are not implemented for GPU\n",
      "AUC is not implemented on GPU. Will use CPU for metric computation, this could significantly affect learning time\n"
     ]
    },
    {
     "name": "stdout",
     "output_type": "stream",
     "text": [
      "0:\ttest: 0.7106613\tbest: 0.7106613 (0)\ttotal: 74.8ms\tremaining: 1m 59s\n",
      "100:\ttest: 0.9748183\tbest: 0.9748183 (100)\ttotal: 5.22s\tremaining: 1m 17s\n",
      "200:\ttest: 0.9856902\tbest: 0.9856902 (200)\ttotal: 10.7s\tremaining: 1m 14s\n",
      "300:\ttest: 0.9895000\tbest: 0.9895084 (298)\ttotal: 15.9s\tremaining: 1m 8s\n",
      "400:\ttest: 0.9915252\tbest: 0.9915300 (397)\ttotal: 21.4s\tremaining: 1m 3s\n",
      "500:\ttest: 0.9928409\tbest: 0.9928409 (500)\ttotal: 26.7s\tremaining: 58.5s\n",
      "bestTest = 0.993459779\n",
      "bestIteration = 571\n",
      "Metric AUC is not calculated on train by default. To calculate this metric on train, add hints=skip_train~false to metric parameters.\n",
      "15:\tloss: 0.9934598\tbest: 0.9961328 (5)\ttotal: 11m 18s\tremaining: 5h 50m 33s\n"
     ]
    },
    {
     "name": "stderr",
     "output_type": "stream",
     "text": [
      "Default metric period is 5 because AUC is/are not implemented for GPU\n",
      "AUC is not implemented on GPU. Will use CPU for metric computation, this could significantly affect learning time\n"
     ]
    },
    {
     "name": "stdout",
     "output_type": "stream",
     "text": [
      "0:\ttest: 0.7120242\tbest: 0.7120242 (0)\ttotal: 41ms\tremaining: 1m 13s\n",
      "100:\ttest: 0.9784954\tbest: 0.9784954 (100)\ttotal: 5.39s\tremaining: 1m 30s\n",
      "200:\ttest: 0.9891720\tbest: 0.9891720 (200)\ttotal: 11s\tremaining: 1m 27s\n",
      "300:\ttest: 0.9917861\tbest: 0.9917861 (300)\ttotal: 16.5s\tremaining: 1m 21s\n",
      "400:\ttest: 0.9930961\tbest: 0.9931299 (396)\ttotal: 21.6s\tremaining: 1m 15s\n",
      "500:\ttest: 0.9941405\tbest: 0.9941405 (500)\ttotal: 27.2s\tremaining: 1m 10s\n",
      "600:\ttest: 0.9948842\tbest: 0.9948842 (600)\ttotal: 32.1s\tremaining: 1m 4s\n",
      "bestTest = 0.9952720795\n",
      "bestIteration = 653\n",
      "Metric AUC is not calculated on train by default. To calculate this metric on train, add hints=skip_train~false to metric parameters.\n",
      "16:\tloss: 0.9952721\tbest: 0.9961328 (5)\ttotal: 11m 55s\tremaining: 5h 47m 2s\n"
     ]
    },
    {
     "name": "stderr",
     "output_type": "stream",
     "text": [
      "Default metric period is 5 because AUC is/are not implemented for GPU\n",
      "AUC is not implemented on GPU. Will use CPU for metric computation, this could significantly affect learning time\n"
     ]
    },
    {
     "name": "stdout",
     "output_type": "stream",
     "text": [
      "0:\ttest: 0.7114845\tbest: 0.7114845 (0)\ttotal: 41.2ms\tremaining: 1m 14s\n",
      "100:\ttest: 0.9774824\tbest: 0.9774824 (100)\ttotal: 5.33s\tremaining: 1m 29s\n",
      "200:\ttest: 0.9877633\tbest: 0.9877633 (200)\ttotal: 10.2s\tremaining: 1m 21s\n",
      "300:\ttest: 0.9910512\tbest: 0.9911008 (296)\ttotal: 15s\tremaining: 1m 14s\n",
      "400:\ttest: 0.9926450\tbest: 0.9926646 (396)\ttotal: 20.3s\tremaining: 1m 10s\n",
      "500:\ttest: 0.9936037\tbest: 0.9936037 (500)\ttotal: 26.3s\tremaining: 1m 8s\n",
      "600:\ttest: 0.9942134\tbest: 0.9942134 (600)\ttotal: 31.2s\tremaining: 1m 2s\n",
      "700:\ttest: 0.9947768\tbest: 0.9948104 (699)\ttotal: 36.3s\tremaining: 56.8s\n",
      "800:\ttest: 0.9954382\tbest: 0.9954382 (799)\ttotal: 41.4s\tremaining: 51.6s\n",
      "900:\ttest: 0.9956617\tbest: 0.9956617 (899)\ttotal: 46.3s\tremaining: 46.2s\n",
      "1000:\ttest: 0.9958299\tbest: 0.9958518 (991)\ttotal: 51.2s\tremaining: 40.9s\n",
      "1100:\ttest: 0.9960809\tbest: 0.9960845 (1099)\ttotal: 56.7s\tremaining: 36s\n",
      "bestTest = 0.9961327867\n",
      "bestIteration = 1127\n",
      "Metric AUC is not calculated on train by default. To calculate this metric on train, add hints=skip_train~false to metric parameters.\n",
      "17:\tloss: 0.9961328\tbest: 0.9961328 (5)\ttotal: 12m 54s\tremaining: 5h 54m 19s\n"
     ]
    },
    {
     "name": "stderr",
     "output_type": "stream",
     "text": [
      "Default metric period is 5 because AUC is/are not implemented for GPU\n",
      "AUC is not implemented on GPU. Will use CPU for metric computation, this could significantly affect learning time\n"
     ]
    },
    {
     "name": "stdout",
     "output_type": "stream",
     "text": [
      "0:\ttest: 0.7108157\tbest: 0.7108157 (0)\ttotal: 74.2ms\tremaining: 2m 13s\n",
      "100:\ttest: 0.9760959\tbest: 0.9760959 (100)\ttotal: 5.36s\tremaining: 1m 30s\n",
      "200:\ttest: 0.9870272\tbest: 0.9870272 (200)\ttotal: 10.7s\tremaining: 1m 25s\n",
      "300:\ttest: 0.9906340\tbest: 0.9906340 (300)\ttotal: 15.8s\tremaining: 1m 18s\n",
      "400:\ttest: 0.9924348\tbest: 0.9924348 (400)\ttotal: 20.7s\tremaining: 1m 12s\n",
      "500:\ttest: 0.9935132\tbest: 0.9935132 (500)\ttotal: 25.8s\tremaining: 1m 6s\n",
      "600:\ttest: 0.9940054\tbest: 0.9940196 (599)\ttotal: 31.2s\tremaining: 1m 2s\n",
      "700:\ttest: 0.9945370\tbest: 0.9945370 (700)\ttotal: 36.2s\tremaining: 56.8s\n",
      "800:\ttest: 0.9950114\tbest: 0.9950299 (799)\ttotal: 41.4s\tremaining: 51.7s\n",
      "bestTest = 0.9950902366\n",
      "bestIteration = 819\n",
      "Metric AUC is not calculated on train by default. To calculate this metric on train, add hints=skip_train~false to metric parameters.\n",
      "18:\tloss: 0.9950902\tbest: 0.9961328 (5)\ttotal: 13m 38s\tremaining: 5h 54m\n"
     ]
    },
    {
     "name": "stderr",
     "output_type": "stream",
     "text": [
      "Default metric period is 5 because AUC is/are not implemented for GPU\n",
      "AUC is not implemented on GPU. Will use CPU for metric computation, this could significantly affect learning time\n"
     ]
    },
    {
     "name": "stdout",
     "output_type": "stream",
     "text": [
      "0:\ttest: 0.7106613\tbest: 0.7106613 (0)\ttotal: 40.1ms\tremaining: 1m 12s\n",
      "100:\ttest: 0.9748183\tbest: 0.9748183 (100)\ttotal: 5.12s\tremaining: 1m 26s\n",
      "200:\ttest: 0.9856902\tbest: 0.9856902 (200)\ttotal: 9.99s\tremaining: 1m 19s\n",
      "300:\ttest: 0.9895000\tbest: 0.9895084 (298)\ttotal: 15.5s\tremaining: 1m 17s\n",
      "400:\ttest: 0.9915252\tbest: 0.9915300 (397)\ttotal: 20.2s\tremaining: 1m 10s\n",
      "500:\ttest: 0.9928409\tbest: 0.9928409 (500)\ttotal: 25.6s\tremaining: 1m 6s\n",
      "bestTest = 0.993459779\n",
      "bestIteration = 571\n",
      "Metric AUC is not calculated on train by default. To calculate this metric on train, add hints=skip_train~false to metric parameters.\n",
      "19:\tloss: 0.9934598\tbest: 0.9961328 (5)\ttotal: 14m 9s\tremaining: 5h 48m 10s\n"
     ]
    },
    {
     "name": "stderr",
     "output_type": "stream",
     "text": [
      "Default metric period is 5 because AUC is/are not implemented for GPU\n",
      "AUC is not implemented on GPU. Will use CPU for metric computation, this could significantly affect learning time\n"
     ]
    },
    {
     "name": "stdout",
     "output_type": "stream",
     "text": [
      "0:\ttest: 0.7120242\tbest: 0.7120242 (0)\ttotal: 63.3ms\tremaining: 2m 6s\n",
      "100:\ttest: 0.9784954\tbest: 0.9784954 (100)\ttotal: 5.31s\tremaining: 1m 39s\n",
      "200:\ttest: 0.9891720\tbest: 0.9891720 (200)\ttotal: 10.9s\tremaining: 1m 37s\n",
      "300:\ttest: 0.9917861\tbest: 0.9917861 (300)\ttotal: 16.2s\tremaining: 1m 31s\n",
      "400:\ttest: 0.9930961\tbest: 0.9931299 (396)\ttotal: 22s\tremaining: 1m 27s\n",
      "500:\ttest: 0.9941405\tbest: 0.9941405 (500)\ttotal: 27s\tremaining: 1m 20s\n",
      "600:\ttest: 0.9948842\tbest: 0.9948842 (600)\ttotal: 32.4s\tremaining: 1m 15s\n",
      "bestTest = 0.9952720795\n",
      "bestIteration = 653\n",
      "Metric AUC is not calculated on train by default. To calculate this metric on train, add hints=skip_train~false to metric parameters.\n",
      "20:\tloss: 0.9952721\tbest: 0.9961328 (5)\ttotal: 14m 45s\tremaining: 5h 45m 12s\n"
     ]
    },
    {
     "name": "stderr",
     "output_type": "stream",
     "text": [
      "Default metric period is 5 because AUC is/are not implemented for GPU\n",
      "AUC is not implemented on GPU. Will use CPU for metric computation, this could significantly affect learning time\n"
     ]
    },
    {
     "name": "stdout",
     "output_type": "stream",
     "text": [
      "0:\ttest: 0.7114845\tbest: 0.7114845 (0)\ttotal: 68.9ms\tremaining: 2m 17s\n",
      "100:\ttest: 0.9774824\tbest: 0.9774824 (100)\ttotal: 4.9s\tremaining: 1m 32s\n",
      "200:\ttest: 0.9877633\tbest: 0.9877633 (200)\ttotal: 9.97s\tremaining: 1m 29s\n",
      "300:\ttest: 0.9910512\tbest: 0.9911008 (296)\ttotal: 15.7s\tremaining: 1m 28s\n",
      "400:\ttest: 0.9926450\tbest: 0.9926646 (396)\ttotal: 20.3s\tremaining: 1m 20s\n",
      "500:\ttest: 0.9936037\tbest: 0.9936037 (500)\ttotal: 25.8s\tremaining: 1m 17s\n",
      "600:\ttest: 0.9942134\tbest: 0.9942134 (600)\ttotal: 31.1s\tremaining: 1m 12s\n",
      "700:\ttest: 0.9947768\tbest: 0.9948104 (699)\ttotal: 36.2s\tremaining: 1m 7s\n",
      "800:\ttest: 0.9954382\tbest: 0.9954382 (799)\ttotal: 41.1s\tremaining: 1m 1s\n",
      "900:\ttest: 0.9956617\tbest: 0.9956617 (899)\ttotal: 46.4s\tremaining: 56.6s\n",
      "1000:\ttest: 0.9958299\tbest: 0.9958518 (991)\ttotal: 52.4s\tremaining: 52.3s\n",
      "1100:\ttest: 0.9960809\tbest: 0.9960845 (1099)\ttotal: 57.6s\tremaining: 47s\n",
      "bestTest = 0.9961327867\n",
      "bestIteration = 1127\n",
      "Metric AUC is not calculated on train by default. To calculate this metric on train, add hints=skip_train~false to metric parameters.\n",
      "21:\tloss: 0.9961328\tbest: 0.9961328 (5)\ttotal: 15m 45s\tremaining: 5h 51m 9s\n"
     ]
    },
    {
     "name": "stderr",
     "output_type": "stream",
     "text": [
      "Default metric period is 5 because AUC is/are not implemented for GPU\n",
      "AUC is not implemented on GPU. Will use CPU for metric computation, this could significantly affect learning time\n"
     ]
    },
    {
     "name": "stdout",
     "output_type": "stream",
     "text": [
      "0:\ttest: 0.7108157\tbest: 0.7108157 (0)\ttotal: 40ms\tremaining: 1m 20s\n",
      "100:\ttest: 0.9760959\tbest: 0.9760959 (100)\ttotal: 5.26s\tremaining: 1m 38s\n",
      "200:\ttest: 0.9870272\tbest: 0.9870272 (200)\ttotal: 10.5s\tremaining: 1m 33s\n",
      "300:\ttest: 0.9906340\tbest: 0.9906340 (300)\ttotal: 15.8s\tremaining: 1m 29s\n",
      "400:\ttest: 0.9924348\tbest: 0.9924348 (400)\ttotal: 21.2s\tremaining: 1m 24s\n",
      "500:\ttest: 0.9935132\tbest: 0.9935132 (500)\ttotal: 26.6s\tremaining: 1m 19s\n",
      "600:\ttest: 0.9940054\tbest: 0.9940196 (599)\ttotal: 31s\tremaining: 1m 12s\n",
      "700:\ttest: 0.9945370\tbest: 0.9945370 (700)\ttotal: 36.6s\tremaining: 1m 7s\n",
      "800:\ttest: 0.9950114\tbest: 0.9950299 (799)\ttotal: 41.1s\tremaining: 1m 1s\n",
      "bestTest = 0.9950902366\n",
      "bestIteration = 819\n",
      "Metric AUC is not calculated on train by default. To calculate this metric on train, add hints=skip_train~false to metric parameters.\n",
      "22:\tloss: 0.9950902\tbest: 0.9961328 (5)\ttotal: 16m 29s\tremaining: 5h 50m 41s\n"
     ]
    },
    {
     "name": "stderr",
     "output_type": "stream",
     "text": [
      "Default metric period is 5 because AUC is/are not implemented for GPU\n",
      "AUC is not implemented on GPU. Will use CPU for metric computation, this could significantly affect learning time\n"
     ]
    },
    {
     "name": "stdout",
     "output_type": "stream",
     "text": [
      "0:\ttest: 0.7106613\tbest: 0.7106613 (0)\ttotal: 216ms\tremaining: 7m 12s\n",
      "100:\ttest: 0.9748183\tbest: 0.9748183 (100)\ttotal: 4.79s\tremaining: 1m 30s\n",
      "200:\ttest: 0.9856902\tbest: 0.9856902 (200)\ttotal: 10.7s\tremaining: 1m 35s\n",
      "300:\ttest: 0.9895000\tbest: 0.9895084 (298)\ttotal: 15.8s\tremaining: 1m 29s\n",
      "400:\ttest: 0.9915252\tbest: 0.9915300 (397)\ttotal: 21.1s\tremaining: 1m 24s\n",
      "500:\ttest: 0.9928409\tbest: 0.9928409 (500)\ttotal: 26.4s\tremaining: 1m 18s\n",
      "bestTest = 0.993459779\n",
      "bestIteration = 571\n",
      "Metric AUC is not calculated on train by default. To calculate this metric on train, add hints=skip_train~false to metric parameters.\n",
      "23:\tloss: 0.9934598\tbest: 0.9961328 (5)\ttotal: 17m 1s\tremaining: 5h 46m 8s\n"
     ]
    },
    {
     "name": "stderr",
     "output_type": "stream",
     "text": [
      "Default metric period is 5 because AUC is/are not implemented for GPU\n",
      "AUC is not implemented on GPU. Will use CPU for metric computation, this could significantly affect learning time\n"
     ]
    },
    {
     "name": "stdout",
     "output_type": "stream",
     "text": [
      "0:\ttest: 0.7120242\tbest: 0.7120242 (0)\ttotal: 172ms\tremaining: 6m 19s\n",
      "100:\ttest: 0.9784954\tbest: 0.9784954 (100)\ttotal: 5.81s\tremaining: 2m\n",
      "200:\ttest: 0.9891720\tbest: 0.9891720 (200)\ttotal: 10.7s\tremaining: 1m 46s\n",
      "300:\ttest: 0.9917861\tbest: 0.9917861 (300)\ttotal: 16.6s\tremaining: 1m 44s\n",
      "400:\ttest: 0.9930961\tbest: 0.9931299 (396)\ttotal: 21.3s\tremaining: 1m 35s\n",
      "500:\ttest: 0.9941405\tbest: 0.9941405 (500)\ttotal: 26.6s\tremaining: 1m 30s\n",
      "600:\ttest: 0.9948842\tbest: 0.9948842 (600)\ttotal: 32s\tremaining: 1m 25s\n",
      "bestTest = 0.9952720795\n",
      "bestIteration = 653\n",
      "Metric AUC is not calculated on train by default. To calculate this metric on train, add hints=skip_train~false to metric parameters.\n",
      "24:\tloss: 0.9952721\tbest: 0.9961328 (5)\ttotal: 17m 37s\tremaining: 5h 43m 20s\n"
     ]
    },
    {
     "name": "stderr",
     "output_type": "stream",
     "text": [
      "Default metric period is 5 because AUC is/are not implemented for GPU\n",
      "AUC is not implemented on GPU. Will use CPU for metric computation, this could significantly affect learning time\n"
     ]
    },
    {
     "name": "stdout",
     "output_type": "stream",
     "text": [
      "0:\ttest: 0.7114845\tbest: 0.7114845 (0)\ttotal: 38.2ms\tremaining: 1m 24s\n",
      "100:\ttest: 0.9774824\tbest: 0.9774824 (100)\ttotal: 5.43s\tremaining: 1m 52s\n",
      "200:\ttest: 0.9877633\tbest: 0.9877633 (200)\ttotal: 10.5s\tremaining: 1m 44s\n",
      "300:\ttest: 0.9910512\tbest: 0.9911008 (296)\ttotal: 16.1s\tremaining: 1m 41s\n",
      "400:\ttest: 0.9926450\tbest: 0.9926646 (396)\ttotal: 21.2s\tremaining: 1m 35s\n",
      "500:\ttest: 0.9936037\tbest: 0.9936037 (500)\ttotal: 26.4s\tremaining: 1m 29s\n",
      "600:\ttest: 0.9942134\tbest: 0.9942134 (600)\ttotal: 32s\tremaining: 1m 25s\n",
      "700:\ttest: 0.9947768\tbest: 0.9948104 (699)\ttotal: 37.2s\tremaining: 1m 19s\n",
      "800:\ttest: 0.9954382\tbest: 0.9954382 (799)\ttotal: 42.5s\tremaining: 1m 14s\n",
      "900:\ttest: 0.9956617\tbest: 0.9956617 (899)\ttotal: 47.6s\tremaining: 1m 8s\n",
      "1000:\ttest: 0.9958299\tbest: 0.9958518 (991)\ttotal: 53s\tremaining: 1m 3s\n",
      "1100:\ttest: 0.9960809\tbest: 0.9960845 (1099)\ttotal: 58s\tremaining: 57.9s\n",
      "bestTest = 0.9961327867\n",
      "bestIteration = 1127\n",
      "Metric AUC is not calculated on train by default. To calculate this metric on train, add hints=skip_train~false to metric parameters.\n",
      "25:\tloss: 0.9961328\tbest: 0.9961328 (5)\ttotal: 18m 38s\tremaining: 5h 48m 21s\n"
     ]
    },
    {
     "name": "stderr",
     "output_type": "stream",
     "text": [
      "Default metric period is 5 because AUC is/are not implemented for GPU\n",
      "AUC is not implemented on GPU. Will use CPU for metric computation, this could significantly affect learning time\n"
     ]
    },
    {
     "name": "stdout",
     "output_type": "stream",
     "text": [
      "0:\ttest: 0.7108157\tbest: 0.7108157 (0)\ttotal: 38.3ms\tremaining: 1m 24s\n",
      "100:\ttest: 0.9760959\tbest: 0.9760959 (100)\ttotal: 5.56s\tremaining: 1m 55s\n",
      "200:\ttest: 0.9870272\tbest: 0.9870272 (200)\ttotal: 10.4s\tremaining: 1m 43s\n",
      "300:\ttest: 0.9906340\tbest: 0.9906340 (300)\ttotal: 15.6s\tremaining: 1m 38s\n",
      "400:\ttest: 0.9924348\tbest: 0.9924348 (400)\ttotal: 21s\tremaining: 1m 34s\n",
      "500:\ttest: 0.9935132\tbest: 0.9935132 (500)\ttotal: 26.1s\tremaining: 1m 28s\n",
      "600:\ttest: 0.9940054\tbest: 0.9940196 (599)\ttotal: 30.7s\tremaining: 1m 21s\n",
      "700:\ttest: 0.9945370\tbest: 0.9945370 (700)\ttotal: 36.5s\tremaining: 1m 17s\n",
      "800:\ttest: 0.9950114\tbest: 0.9950299 (799)\ttotal: 41.3s\tremaining: 1m 12s\n",
      "bestTest = 0.9950902366\n",
      "bestIteration = 819\n",
      "Metric AUC is not calculated on train by default. To calculate this metric on train, add hints=skip_train~false to metric parameters.\n",
      "26:\tloss: 0.9950902\tbest: 0.9961328 (5)\ttotal: 19m 21s\tremaining: 5h 47m 50s\n"
     ]
    },
    {
     "name": "stderr",
     "output_type": "stream",
     "text": [
      "Default metric period is 5 because AUC is/are not implemented for GPU\n",
      "AUC is not implemented on GPU. Will use CPU for metric computation, this could significantly affect learning time\n"
     ]
    },
    {
     "name": "stdout",
     "output_type": "stream",
     "text": [
      "0:\ttest: 0.7106613\tbest: 0.7106613 (0)\ttotal: 45.8ms\tremaining: 1m 40s\n",
      "100:\ttest: 0.9748183\tbest: 0.9748183 (100)\ttotal: 5.75s\tremaining: 1m 59s\n",
      "200:\ttest: 0.9856902\tbest: 0.9856902 (200)\ttotal: 10.6s\tremaining: 1m 45s\n",
      "300:\ttest: 0.9895000\tbest: 0.9895084 (298)\ttotal: 15.9s\tremaining: 1m 40s\n",
      "400:\ttest: 0.9915252\tbest: 0.9915300 (397)\ttotal: 22s\tremaining: 1m 38s\n",
      "500:\ttest: 0.9928409\tbest: 0.9928409 (500)\ttotal: 26.8s\tremaining: 1m 30s\n",
      "bestTest = 0.993459779\n",
      "bestIteration = 571\n",
      "Metric AUC is not calculated on train by default. To calculate this metric on train, add hints=skip_train~false to metric parameters.\n",
      "27:\tloss: 0.9934598\tbest: 0.9961328 (5)\ttotal: 19m 54s\tremaining: 5h 44m 10s\n"
     ]
    },
    {
     "name": "stderr",
     "output_type": "stream",
     "text": [
      "Default metric period is 5 because AUC is/are not implemented for GPU\n",
      "AUC is not implemented on GPU. Will use CPU for metric computation, this could significantly affect learning time\n"
     ]
    },
    {
     "name": "stdout",
     "output_type": "stream",
     "text": [
      "0:\ttest: 0.7120242\tbest: 0.7120242 (0)\ttotal: 39.7ms\tremaining: 1m 35s\n",
      "100:\ttest: 0.9784954\tbest: 0.9784954 (100)\ttotal: 5.47s\tremaining: 2m 4s\n",
      "200:\ttest: 0.9891720\tbest: 0.9891720 (200)\ttotal: 10.7s\tremaining: 1m 57s\n",
      "300:\ttest: 0.9917861\tbest: 0.9917861 (300)\ttotal: 16.4s\tremaining: 1m 54s\n",
      "400:\ttest: 0.9930961\tbest: 0.9931299 (396)\ttotal: 22.1s\tremaining: 1m 50s\n",
      "500:\ttest: 0.9941405\tbest: 0.9941405 (500)\ttotal: 27.2s\tremaining: 1m 43s\n",
      "600:\ttest: 0.9948842\tbest: 0.9948842 (600)\ttotal: 32.3s\tremaining: 1m 36s\n",
      "bestTest = 0.9952720795\n",
      "bestIteration = 653\n",
      "Metric AUC is not calculated on train by default. To calculate this metric on train, add hints=skip_train~false to metric parameters.\n",
      "28:\tloss: 0.9952721\tbest: 0.9961328 (5)\ttotal: 20m 31s\tremaining: 5h 41m 47s\n"
     ]
    },
    {
     "name": "stderr",
     "output_type": "stream",
     "text": [
      "Default metric period is 5 because AUC is/are not implemented for GPU\n",
      "AUC is not implemented on GPU. Will use CPU for metric computation, this could significantly affect learning time\n"
     ]
    },
    {
     "name": "stdout",
     "output_type": "stream",
     "text": [
      "0:\ttest: 0.7114845\tbest: 0.7114845 (0)\ttotal: 66.2ms\tremaining: 2m 38s\n",
      "100:\ttest: 0.9774824\tbest: 0.9774824 (100)\ttotal: 5.3s\tremaining: 2m\n",
      "200:\ttest: 0.9877633\tbest: 0.9877633 (200)\ttotal: 10.4s\tremaining: 1m 53s\n",
      "300:\ttest: 0.9910512\tbest: 0.9911008 (296)\ttotal: 15.4s\tremaining: 1m 47s\n",
      "400:\ttest: 0.9926450\tbest: 0.9926646 (396)\ttotal: 20.4s\tremaining: 1m 41s\n",
      "500:\ttest: 0.9936037\tbest: 0.9936037 (500)\ttotal: 26.3s\tremaining: 1m 39s\n",
      "600:\ttest: 0.9942134\tbest: 0.9942134 (600)\ttotal: 31.2s\tremaining: 1m 33s\n",
      "700:\ttest: 0.9947768\tbest: 0.9948104 (699)\ttotal: 36.9s\tremaining: 1m 29s\n",
      "800:\ttest: 0.9954382\tbest: 0.9954382 (799)\ttotal: 41.7s\tremaining: 1m 23s\n",
      "900:\ttest: 0.9956617\tbest: 0.9956617 (899)\ttotal: 46.5s\tremaining: 1m 17s\n",
      "1000:\ttest: 0.9958299\tbest: 0.9958518 (991)\ttotal: 51.7s\tremaining: 1m 12s\n",
      "1100:\ttest: 0.9960809\tbest: 0.9960845 (1099)\ttotal: 57.2s\tremaining: 1m 7s\n",
      "bestTest = 0.9961327867\n",
      "bestIteration = 1127\n",
      "Metric AUC is not calculated on train by default. To calculate this metric on train, add hints=skip_train~false to metric parameters.\n",
      "29:\tloss: 0.9961328\tbest: 0.9961328 (5)\ttotal: 21m 31s\tremaining: 5h 45m 45s\n"
     ]
    },
    {
     "name": "stderr",
     "output_type": "stream",
     "text": [
      "Default metric period is 5 because AUC is/are not implemented for GPU\n",
      "AUC is not implemented on GPU. Will use CPU for metric computation, this could significantly affect learning time\n"
     ]
    },
    {
     "name": "stdout",
     "output_type": "stream",
     "text": [
      "0:\ttest: 0.7108157\tbest: 0.7108157 (0)\ttotal: 41.6ms\tremaining: 1m 39s\n",
      "100:\ttest: 0.9760959\tbest: 0.9760959 (100)\ttotal: 5.28s\tremaining: 2m\n",
      "200:\ttest: 0.9870272\tbest: 0.9870272 (200)\ttotal: 11.1s\tremaining: 2m 1s\n",
      "300:\ttest: 0.9906340\tbest: 0.9906340 (300)\ttotal: 16.2s\tremaining: 1m 52s\n",
      "400:\ttest: 0.9924348\tbest: 0.9924348 (400)\ttotal: 21.3s\tremaining: 1m 46s\n",
      "500:\ttest: 0.9935132\tbest: 0.9935132 (500)\ttotal: 27s\tremaining: 1m 42s\n",
      "600:\ttest: 0.9940054\tbest: 0.9940196 (599)\ttotal: 31.9s\tremaining: 1m 35s\n",
      "700:\ttest: 0.9945370\tbest: 0.9945370 (700)\ttotal: 37s\tremaining: 1m 29s\n",
      "800:\ttest: 0.9950114\tbest: 0.9950299 (799)\ttotal: 42.3s\tremaining: 1m 24s\n",
      "bestTest = 0.9950902366\n",
      "bestIteration = 819\n",
      "Metric AUC is not calculated on train by default. To calculate this metric on train, add hints=skip_train~false to metric parameters.\n",
      "30:\tloss: 0.9950902\tbest: 0.9961328 (5)\ttotal: 22m 16s\tremaining: 5h 45m 33s\n"
     ]
    },
    {
     "name": "stderr",
     "output_type": "stream",
     "text": [
      "Default metric period is 5 because AUC is/are not implemented for GPU\n",
      "AUC is not implemented on GPU. Will use CPU for metric computation, this could significantly affect learning time\n"
     ]
    },
    {
     "name": "stdout",
     "output_type": "stream",
     "text": [
      "0:\ttest: 0.7106613\tbest: 0.7106613 (0)\ttotal: 40.9ms\tremaining: 1m 38s\n",
      "100:\ttest: 0.9748183\tbest: 0.9748183 (100)\ttotal: 5.98s\tremaining: 2m 16s\n",
      "200:\ttest: 0.9856902\tbest: 0.9856902 (200)\ttotal: 11s\tremaining: 2m\n",
      "300:\ttest: 0.9895000\tbest: 0.9895084 (298)\ttotal: 16.5s\tremaining: 1m 55s\n",
      "400:\ttest: 0.9915252\tbest: 0.9915300 (397)\ttotal: 22.2s\tremaining: 1m 50s\n",
      "500:\ttest: 0.9928409\tbest: 0.9928409 (500)\ttotal: 27.6s\tremaining: 1m 44s\n",
      "bestTest = 0.993459779\n",
      "bestIteration = 571\n",
      "Metric AUC is not calculated on train by default. To calculate this metric on train, add hints=skip_train~false to metric parameters.\n",
      "31:\tloss: 0.9934598\tbest: 0.9961328 (5)\ttotal: 22m 48s\tremaining: 5h 42m 10s\n"
     ]
    },
    {
     "name": "stderr",
     "output_type": "stream",
     "text": [
      "Default metric period is 5 because AUC is/are not implemented for GPU\n",
      "AUC is not implemented on GPU. Will use CPU for metric computation, this could significantly affect learning time\n"
     ]
    },
    {
     "name": "stdout",
     "output_type": "stream",
     "text": [
      "0:\ttest: 0.7120242\tbest: 0.7120242 (0)\ttotal: 40.7ms\tremaining: 1m 45s\n",
      "100:\ttest: 0.9784954\tbest: 0.9784954 (100)\ttotal: 5.83s\tremaining: 2m 24s\n",
      "200:\ttest: 0.9891720\tbest: 0.9891720 (200)\ttotal: 11.4s\tremaining: 2m 16s\n",
      "300:\ttest: 0.9917861\tbest: 0.9917861 (300)\ttotal: 16.4s\tremaining: 2m 5s\n",
      "400:\ttest: 0.9930961\tbest: 0.9931299 (396)\ttotal: 22s\tremaining: 2m\n",
      "500:\ttest: 0.9941405\tbest: 0.9941405 (500)\ttotal: 27.4s\tremaining: 1m 54s\n",
      "600:\ttest: 0.9948842\tbest: 0.9948842 (600)\ttotal: 32.7s\tremaining: 1m 48s\n",
      "bestTest = 0.9952720795\n",
      "bestIteration = 653\n",
      "Metric AUC is not calculated on train by default. To calculate this metric on train, add hints=skip_train~false to metric parameters.\n",
      "32:\tloss: 0.9952721\tbest: 0.9961328 (5)\ttotal: 23m 25s\tremaining: 5h 39m 59s\n"
     ]
    },
    {
     "name": "stderr",
     "output_type": "stream",
     "text": [
      "Default metric period is 5 because AUC is/are not implemented for GPU\n",
      "AUC is not implemented on GPU. Will use CPU for metric computation, this could significantly affect learning time\n"
     ]
    },
    {
     "name": "stdout",
     "output_type": "stream",
     "text": [
      "0:\ttest: 0.7114845\tbest: 0.7114845 (0)\ttotal: 38.3ms\tremaining: 1m 39s\n",
      "100:\ttest: 0.9774824\tbest: 0.9774824 (100)\ttotal: 5.37s\tremaining: 2m 12s\n",
      "200:\ttest: 0.9877633\tbest: 0.9877633 (200)\ttotal: 10.6s\tremaining: 2m 6s\n",
      "300:\ttest: 0.9910512\tbest: 0.9911008 (296)\ttotal: 16.2s\tremaining: 2m 3s\n",
      "400:\ttest: 0.9926450\tbest: 0.9926646 (396)\ttotal: 21.8s\tremaining: 1m 59s\n",
      "500:\ttest: 0.9936037\tbest: 0.9936037 (500)\ttotal: 26.5s\tremaining: 1m 51s\n",
      "600:\ttest: 0.9942134\tbest: 0.9942134 (600)\ttotal: 31.6s\tremaining: 1m 45s\n",
      "700:\ttest: 0.9947768\tbest: 0.9948104 (699)\ttotal: 37s\tremaining: 1m 40s\n",
      "800:\ttest: 0.9954382\tbest: 0.9954382 (799)\ttotal: 42.1s\tremaining: 1m 34s\n",
      "900:\ttest: 0.9956617\tbest: 0.9956617 (899)\ttotal: 47.2s\tremaining: 1m 29s\n",
      "1000:\ttest: 0.9958299\tbest: 0.9958518 (991)\ttotal: 52.4s\tremaining: 1m 23s\n",
      "1100:\ttest: 0.9960809\tbest: 0.9960845 (1099)\ttotal: 57.4s\tremaining: 1m 18s\n",
      "bestTest = 0.9961327867\n",
      "bestIteration = 1127\n",
      "Metric AUC is not calculated on train by default. To calculate this metric on train, add hints=skip_train~false to metric parameters.\n",
      "33:\tloss: 0.9961328\tbest: 0.9961328 (5)\ttotal: 24m 25s\tremaining: 5h 43m 26s\n"
     ]
    },
    {
     "name": "stderr",
     "output_type": "stream",
     "text": [
      "Default metric period is 5 because AUC is/are not implemented for GPU\n",
      "AUC is not implemented on GPU. Will use CPU for metric computation, this could significantly affect learning time\n"
     ]
    },
    {
     "name": "stdout",
     "output_type": "stream",
     "text": [
      "0:\ttest: 0.7108157\tbest: 0.7108157 (0)\ttotal: 81.6ms\tremaining: 3m 32s\n",
      "100:\ttest: 0.9760959\tbest: 0.9760959 (100)\ttotal: 5.46s\tremaining: 2m 15s\n",
      "200:\ttest: 0.9870272\tbest: 0.9870272 (200)\ttotal: 10.6s\tremaining: 2m 7s\n",
      "300:\ttest: 0.9906340\tbest: 0.9906340 (300)\ttotal: 16.3s\tremaining: 2m 4s\n",
      "400:\ttest: 0.9924348\tbest: 0.9924348 (400)\ttotal: 21.5s\tremaining: 1m 58s\n",
      "500:\ttest: 0.9935132\tbest: 0.9935132 (500)\ttotal: 26.7s\tremaining: 1m 51s\n",
      "600:\ttest: 0.9940054\tbest: 0.9940196 (599)\ttotal: 32.3s\tremaining: 1m 47s\n",
      "700:\ttest: 0.9945370\tbest: 0.9945370 (700)\ttotal: 38s\tremaining: 1m 42s\n",
      "800:\ttest: 0.9950114\tbest: 0.9950299 (799)\ttotal: 42.4s\tremaining: 1m 35s\n",
      "bestTest = 0.9950902366\n",
      "bestIteration = 819\n",
      "Metric AUC is not calculated on train by default. To calculate this metric on train, add hints=skip_train~false to metric parameters.\n",
      "34:\tloss: 0.9950902\tbest: 0.9961328 (5)\ttotal: 25m 10s\tremaining: 5h 43m 11s\n"
     ]
    },
    {
     "name": "stderr",
     "output_type": "stream",
     "text": [
      "Default metric period is 5 because AUC is/are not implemented for GPU\n",
      "AUC is not implemented on GPU. Will use CPU for metric computation, this could significantly affect learning time\n"
     ]
    },
    {
     "name": "stdout",
     "output_type": "stream",
     "text": [
      "0:\ttest: 0.7106613\tbest: 0.7106613 (0)\ttotal: 41.2ms\tremaining: 1m 47s\n",
      "100:\ttest: 0.9748183\tbest: 0.9748183 (100)\ttotal: 5.56s\tremaining: 2m 17s\n",
      "200:\ttest: 0.9856902\tbest: 0.9856902 (200)\ttotal: 10.2s\tremaining: 2m 1s\n",
      "300:\ttest: 0.9895000\tbest: 0.9895084 (298)\ttotal: 15.6s\tremaining: 1m 59s\n",
      "400:\ttest: 0.9915252\tbest: 0.9915300 (397)\ttotal: 20.6s\tremaining: 1m 53s\n",
      "500:\ttest: 0.9928409\tbest: 0.9928409 (500)\ttotal: 26.4s\tremaining: 1m 50s\n",
      "bestTest = 0.993459779\n",
      "bestIteration = 571\n",
      "Metric AUC is not calculated on train by default. To calculate this metric on train, add hints=skip_train~false to metric parameters.\n",
      "35:\tloss: 0.9934598\tbest: 0.9961328 (5)\ttotal: 25m 42s\tremaining: 5h 39m 54s\n"
     ]
    },
    {
     "name": "stderr",
     "output_type": "stream",
     "text": [
      "Default metric period is 5 because AUC is/are not implemented for GPU\n",
      "AUC is not implemented on GPU. Will use CPU for metric computation, this could significantly affect learning time\n"
     ]
    },
    {
     "name": "stdout",
     "output_type": "stream",
     "text": [
      "0:\ttest: 0.7120242\tbest: 0.7120242 (0)\ttotal: 73.9ms\tremaining: 3m 26s\n",
      "100:\ttest: 0.9784954\tbest: 0.9784954 (100)\ttotal: 5.47s\tremaining: 2m 26s\n",
      "200:\ttest: 0.9891720\tbest: 0.9891720 (200)\ttotal: 11.3s\tremaining: 2m 25s\n",
      "300:\ttest: 0.9917861\tbest: 0.9917861 (300)\ttotal: 16.3s\tremaining: 2m 15s\n",
      "400:\ttest: 0.9930961\tbest: 0.9931299 (396)\ttotal: 21.4s\tremaining: 2m 8s\n",
      "500:\ttest: 0.9941405\tbest: 0.9941405 (500)\ttotal: 27.5s\tremaining: 2m 6s\n",
      "600:\ttest: 0.9948842\tbest: 0.9948842 (600)\ttotal: 32.5s\tremaining: 1m 59s\n",
      "bestTest = 0.9952720795\n",
      "bestIteration = 653\n",
      "Metric AUC is not calculated on train by default. To calculate this metric on train, add hints=skip_train~false to metric parameters.\n",
      "36:\tloss: 0.9952721\tbest: 0.9961328 (5)\ttotal: 26m 19s\tremaining: 5h 37m 51s\n"
     ]
    },
    {
     "name": "stderr",
     "output_type": "stream",
     "text": [
      "Default metric period is 5 because AUC is/are not implemented for GPU\n",
      "AUC is not implemented on GPU. Will use CPU for metric computation, this could significantly affect learning time\n"
     ]
    },
    {
     "name": "stdout",
     "output_type": "stream",
     "text": [
      "0:\ttest: 0.7114845\tbest: 0.7114845 (0)\ttotal: 75.6ms\tremaining: 3m 31s\n",
      "100:\ttest: 0.9774824\tbest: 0.9774824 (100)\ttotal: 5s\tremaining: 2m 13s\n",
      "200:\ttest: 0.9877633\tbest: 0.9877633 (200)\ttotal: 10.2s\tremaining: 2m 12s\n",
      "300:\ttest: 0.9910512\tbest: 0.9911008 (296)\ttotal: 15.5s\tremaining: 2m 9s\n",
      "400:\ttest: 0.9926450\tbest: 0.9926646 (396)\ttotal: 21.4s\tremaining: 2m 7s\n",
      "500:\ttest: 0.9936037\tbest: 0.9936037 (500)\ttotal: 26.8s\tremaining: 2m 2s\n",
      "600:\ttest: 0.9942134\tbest: 0.9942134 (600)\ttotal: 31.9s\tremaining: 1m 56s\n",
      "700:\ttest: 0.9947768\tbest: 0.9948104 (699)\ttotal: 36.8s\tremaining: 1m 50s\n",
      "800:\ttest: 0.9954382\tbest: 0.9954382 (799)\ttotal: 41.8s\tremaining: 1m 44s\n",
      "900:\ttest: 0.9956617\tbest: 0.9956617 (899)\ttotal: 47.6s\tremaining: 1m 40s\n",
      "1000:\ttest: 0.9958299\tbest: 0.9958518 (991)\ttotal: 52.6s\tremaining: 1m 34s\n",
      "1100:\ttest: 0.9960809\tbest: 0.9960845 (1099)\ttotal: 57.6s\tremaining: 1m 28s\n",
      "bestTest = 0.9961327867\n",
      "bestIteration = 1127\n",
      "Metric AUC is not calculated on train by default. To calculate this metric on train, add hints=skip_train~false to metric parameters.\n",
      "37:\tloss: 0.9961328\tbest: 0.9961328 (5)\ttotal: 27m 19s\tremaining: 5h 40m 52s\n"
     ]
    },
    {
     "name": "stderr",
     "output_type": "stream",
     "text": [
      "Default metric period is 5 because AUC is/are not implemented for GPU\n",
      "AUC is not implemented on GPU. Will use CPU for metric computation, this could significantly affect learning time\n"
     ]
    },
    {
     "name": "stdout",
     "output_type": "stream",
     "text": [
      "0:\ttest: 0.7108157\tbest: 0.7108157 (0)\ttotal: 63.6ms\tremaining: 2m 58s\n",
      "100:\ttest: 0.9760959\tbest: 0.9760959 (100)\ttotal: 5.03s\tremaining: 2m 14s\n",
      "200:\ttest: 0.9870272\tbest: 0.9870272 (200)\ttotal: 10.4s\tremaining: 2m 13s\n",
      "300:\ttest: 0.9906340\tbest: 0.9906340 (300)\ttotal: 15.6s\tremaining: 2m 9s\n",
      "400:\ttest: 0.9924348\tbest: 0.9924348 (400)\ttotal: 21s\tremaining: 2m 5s\n",
      "500:\ttest: 0.9935132\tbest: 0.9935132 (500)\ttotal: 26.1s\tremaining: 1m 59s\n",
      "600:\ttest: 0.9940054\tbest: 0.9940196 (599)\ttotal: 30.9s\tremaining: 1m 53s\n",
      "700:\ttest: 0.9945370\tbest: 0.9945370 (700)\ttotal: 36.2s\tremaining: 1m 48s\n",
      "800:\ttest: 0.9950114\tbest: 0.9950299 (799)\ttotal: 41.3s\tremaining: 1m 43s\n",
      "bestTest = 0.9950902366\n",
      "bestIteration = 819\n",
      "Metric AUC is not calculated on train by default. To calculate this metric on train, add hints=skip_train~false to metric parameters.\n",
      "38:\tloss: 0.9950902\tbest: 0.9961328 (5)\ttotal: 28m 3s\tremaining: 5h 40m 16s\n"
     ]
    },
    {
     "name": "stderr",
     "output_type": "stream",
     "text": [
      "Default metric period is 5 because AUC is/are not implemented for GPU\n",
      "AUC is not implemented on GPU. Will use CPU for metric computation, this could significantly affect learning time\n"
     ]
    },
    {
     "name": "stdout",
     "output_type": "stream",
     "text": [
      "0:\ttest: 0.7106613\tbest: 0.7106613 (0)\ttotal: 64.6ms\tremaining: 3m\n",
      "100:\ttest: 0.9748183\tbest: 0.9748183 (100)\ttotal: 4.92s\tremaining: 2m 11s\n",
      "200:\ttest: 0.9856902\tbest: 0.9856902 (200)\ttotal: 10.6s\tremaining: 2m 17s\n",
      "300:\ttest: 0.9895000\tbest: 0.9895084 (298)\ttotal: 15.3s\tremaining: 2m 6s\n",
      "400:\ttest: 0.9915252\tbest: 0.9915300 (397)\ttotal: 20.5s\tremaining: 2m 2s\n",
      "500:\ttest: 0.9928409\tbest: 0.9928409 (500)\ttotal: 25.6s\tremaining: 1m 57s\n",
      "bestTest = 0.993459779\n",
      "bestIteration = 571\n",
      "Metric AUC is not calculated on train by default. To calculate this metric on train, add hints=skip_train~false to metric parameters.\n",
      "39:\tloss: 0.9934598\tbest: 0.9961328 (5)\ttotal: 28m 34s\tremaining: 5h 37m 12s\n"
     ]
    },
    {
     "name": "stderr",
     "output_type": "stream",
     "text": [
      "Default metric period is 5 because AUC is/are not implemented for GPU\n",
      "AUC is not implemented on GPU. Will use CPU for metric computation, this could significantly affect learning time\n"
     ]
    },
    {
     "name": "stdout",
     "output_type": "stream",
     "text": [
      "0:\ttest: 0.7120242\tbest: 0.7120242 (0)\ttotal: 40.4ms\tremaining: 2m 1s\n",
      "100:\ttest: 0.9784954\tbest: 0.9784954 (100)\ttotal: 5.27s\tremaining: 2m 31s\n",
      "200:\ttest: 0.9891720\tbest: 0.9891720 (200)\ttotal: 11s\tremaining: 2m 32s\n",
      "300:\ttest: 0.9917861\tbest: 0.9917861 (300)\ttotal: 15.9s\tremaining: 2m 22s\n",
      "400:\ttest: 0.9930961\tbest: 0.9931299 (396)\ttotal: 21.3s\tremaining: 2m 17s\n",
      "500:\ttest: 0.9941405\tbest: 0.9941405 (500)\ttotal: 26.6s\tremaining: 2m 12s\n",
      "600:\ttest: 0.9948842\tbest: 0.9948842 (600)\ttotal: 31.3s\tremaining: 2m 4s\n",
      "bestTest = 0.9952720795\n",
      "bestIteration = 653\n",
      "Metric AUC is not calculated on train by default. To calculate this metric on train, add hints=skip_train~false to metric parameters.\n",
      "40:\tloss: 0.9952721\tbest: 0.9961328 (5)\ttotal: 29m 10s\tremaining: 5h 35m 5s\n"
     ]
    },
    {
     "name": "stderr",
     "output_type": "stream",
     "text": [
      "Default metric period is 5 because AUC is/are not implemented for GPU\n",
      "AUC is not implemented on GPU. Will use CPU for metric computation, this could significantly affect learning time\n"
     ]
    },
    {
     "name": "stdout",
     "output_type": "stream",
     "text": [
      "0:\ttest: 0.7114845\tbest: 0.7114845 (0)\ttotal: 75.6ms\tremaining: 3m 46s\n",
      "100:\ttest: 0.9774824\tbest: 0.9774824 (100)\ttotal: 4.8s\tremaining: 2m 17s\n",
      "200:\ttest: 0.9877633\tbest: 0.9877633 (200)\ttotal: 10.3s\tremaining: 2m 22s\n",
      "300:\ttest: 0.9910512\tbest: 0.9911008 (296)\ttotal: 15.6s\tremaining: 2m 19s\n",
      "400:\ttest: 0.9926450\tbest: 0.9926646 (396)\ttotal: 20.9s\tremaining: 2m 15s\n",
      "500:\ttest: 0.9936037\tbest: 0.9936037 (500)\ttotal: 25.9s\tremaining: 2m 9s\n",
      "600:\ttest: 0.9942134\tbest: 0.9942134 (600)\ttotal: 31.5s\tremaining: 2m 5s\n",
      "700:\ttest: 0.9947768\tbest: 0.9948104 (699)\ttotal: 36.4s\tremaining: 1m 59s\n",
      "800:\ttest: 0.9954382\tbest: 0.9954382 (799)\ttotal: 42.1s\tremaining: 1m 55s\n",
      "900:\ttest: 0.9956617\tbest: 0.9956617 (899)\ttotal: 46.7s\tremaining: 1m 48s\n",
      "1000:\ttest: 0.9958299\tbest: 0.9958518 (991)\ttotal: 51.7s\tremaining: 1m 43s\n",
      "1100:\ttest: 0.9960809\tbest: 0.9960845 (1099)\ttotal: 57.2s\tremaining: 1m 38s\n",
      "bestTest = 0.9961327867\n",
      "bestIteration = 1127\n",
      "Metric AUC is not calculated on train by default. To calculate this metric on train, add hints=skip_train~false to metric parameters.\n",
      "41:\tloss: 0.9961328\tbest: 0.9961328 (5)\ttotal: 30m 9s\tremaining: 5h 37m 34s\n"
     ]
    },
    {
     "name": "stderr",
     "output_type": "stream",
     "text": [
      "Default metric period is 5 because AUC is/are not implemented for GPU\n",
      "AUC is not implemented on GPU. Will use CPU for metric computation, this could significantly affect learning time\n"
     ]
    },
    {
     "name": "stdout",
     "output_type": "stream",
     "text": [
      "0:\ttest: 0.7108157\tbest: 0.7108157 (0)\ttotal: 41.7ms\tremaining: 2m 5s\n",
      "100:\ttest: 0.9760959\tbest: 0.9760959 (100)\ttotal: 5.25s\tremaining: 2m 30s\n",
      "200:\ttest: 0.9870272\tbest: 0.9870272 (200)\ttotal: 10.8s\tremaining: 2m 30s\n",
      "300:\ttest: 0.9906340\tbest: 0.9906340 (300)\ttotal: 16.2s\tremaining: 2m 24s\n",
      "400:\ttest: 0.9924348\tbest: 0.9924348 (400)\ttotal: 21.1s\tremaining: 2m 16s\n",
      "500:\ttest: 0.9935132\tbest: 0.9935132 (500)\ttotal: 26.7s\tremaining: 2m 12s\n",
      "600:\ttest: 0.9940054\tbest: 0.9940196 (599)\ttotal: 31.3s\tremaining: 2m 4s\n",
      "700:\ttest: 0.9945370\tbest: 0.9945370 (700)\ttotal: 36.9s\tremaining: 2m\n",
      "800:\ttest: 0.9950114\tbest: 0.9950299 (799)\ttotal: 41.8s\tremaining: 1m 54s\n",
      "bestTest = 0.9950902366\n",
      "bestIteration = 819\n",
      "Metric AUC is not calculated on train by default. To calculate this metric on train, add hints=skip_train~false to metric parameters.\n",
      "42:\tloss: 0.9950902\tbest: 0.9961328 (5)\ttotal: 30m 54s\tremaining: 5h 37m 4s\n"
     ]
    },
    {
     "name": "stderr",
     "output_type": "stream",
     "text": [
      "Default metric period is 5 because AUC is/are not implemented for GPU\n",
      "AUC is not implemented on GPU. Will use CPU for metric computation, this could significantly affect learning time\n"
     ]
    },
    {
     "name": "stdout",
     "output_type": "stream",
     "text": [
      "0:\ttest: 0.7106613\tbest: 0.7106613 (0)\ttotal: 73.1ms\tremaining: 3m 39s\n",
      "100:\ttest: 0.9748183\tbest: 0.9748183 (100)\ttotal: 5.16s\tremaining: 2m 28s\n",
      "200:\ttest: 0.9856902\tbest: 0.9856902 (200)\ttotal: 10.4s\tremaining: 2m 24s\n",
      "300:\ttest: 0.9895000\tbest: 0.9895084 (298)\ttotal: 15.4s\tremaining: 2m 18s\n",
      "400:\ttest: 0.9915252\tbest: 0.9915300 (397)\ttotal: 20.2s\tremaining: 2m 10s\n",
      "500:\ttest: 0.9928409\tbest: 0.9928409 (500)\ttotal: 25.6s\tremaining: 2m 7s\n",
      "bestTest = 0.993459779\n",
      "bestIteration = 571\n",
      "Metric AUC is not calculated on train by default. To calculate this metric on train, add hints=skip_train~false to metric parameters.\n",
      "43:\tloss: 0.9934598\tbest: 0.9961328 (5)\ttotal: 31m 24s\tremaining: 5h 34m 9s\n"
     ]
    },
    {
     "name": "stderr",
     "output_type": "stream",
     "text": [
      "Default metric period is 5 because AUC is/are not implemented for GPU\n",
      "AUC is not implemented on GPU. Will use CPU for metric computation, this could significantly affect learning time\n"
     ]
    },
    {
     "name": "stdout",
     "output_type": "stream",
     "text": [
      "0:\ttest: 0.7120242\tbest: 0.7120242 (0)\ttotal: 39.2ms\tremaining: 2m 5s\n",
      "100:\ttest: 0.9784954\tbest: 0.9784954 (100)\ttotal: 5.51s\tremaining: 2m 48s\n",
      "200:\ttest: 0.9891720\tbest: 0.9891720 (200)\ttotal: 10.5s\tremaining: 2m 36s\n",
      "300:\ttest: 0.9917861\tbest: 0.9917861 (300)\ttotal: 15.9s\tremaining: 2m 33s\n",
      "400:\ttest: 0.9930961\tbest: 0.9931299 (396)\ttotal: 20.8s\tremaining: 2m 25s\n",
      "500:\ttest: 0.9941405\tbest: 0.9941405 (500)\ttotal: 26.5s\tremaining: 2m 22s\n",
      "600:\ttest: 0.9948842\tbest: 0.9948842 (600)\ttotal: 31.5s\tremaining: 2m 16s\n",
      "bestTest = 0.9952720795\n",
      "bestIteration = 653\n",
      "Metric AUC is not calculated on train by default. To calculate this metric on train, add hints=skip_train~false to metric parameters.\n",
      "44:\tloss: 0.9952721\tbest: 0.9961328 (5)\ttotal: 32m\tremaining: 5h 32m 12s\n"
     ]
    },
    {
     "name": "stderr",
     "output_type": "stream",
     "text": [
      "Default metric period is 5 because AUC is/are not implemented for GPU\n",
      "AUC is not implemented on GPU. Will use CPU for metric computation, this could significantly affect learning time\n"
     ]
    },
    {
     "name": "stdout",
     "output_type": "stream",
     "text": [
      "0:\ttest: 0.7114845\tbest: 0.7114845 (0)\ttotal: 41.8ms\tremaining: 2m 13s\n",
      "100:\ttest: 0.9774824\tbest: 0.9774824 (100)\ttotal: 5.57s\tremaining: 2m 51s\n",
      "200:\ttest: 0.9877633\tbest: 0.9877633 (200)\ttotal: 10.8s\tremaining: 2m 40s\n",
      "300:\ttest: 0.9910512\tbest: 0.9911008 (296)\ttotal: 16.1s\tremaining: 2m 34s\n",
      "400:\ttest: 0.9926450\tbest: 0.9926646 (396)\ttotal: 21.8s\tremaining: 2m 32s\n",
      "500:\ttest: 0.9936037\tbest: 0.9936037 (500)\ttotal: 26.5s\tremaining: 2m 22s\n",
      "600:\ttest: 0.9942134\tbest: 0.9942134 (600)\ttotal: 32s\tremaining: 2m 18s\n",
      "700:\ttest: 0.9947768\tbest: 0.9948104 (699)\ttotal: 37.3s\tremaining: 2m 12s\n",
      "800:\ttest: 0.9954382\tbest: 0.9954382 (799)\ttotal: 41.7s\tremaining: 2m 5s\n",
      "900:\ttest: 0.9956617\tbest: 0.9956617 (899)\ttotal: 47.2s\tremaining: 2m\n",
      "1000:\ttest: 0.9958299\tbest: 0.9958518 (991)\ttotal: 52.6s\tremaining: 1m 55s\n",
      "1100:\ttest: 0.9960809\tbest: 0.9960845 (1099)\ttotal: 57.3s\tremaining: 1m 49s\n",
      "bestTest = 0.9961327867\n",
      "bestIteration = 1127\n",
      "Metric AUC is not calculated on train by default. To calculate this metric on train, add hints=skip_train~false to metric parameters.\n",
      "45:\tloss: 0.9961328\tbest: 0.9961328 (5)\ttotal: 33m\tremaining: 5h 34m 25s\n"
     ]
    },
    {
     "name": "stderr",
     "output_type": "stream",
     "text": [
      "Default metric period is 5 because AUC is/are not implemented for GPU\n",
      "AUC is not implemented on GPU. Will use CPU for metric computation, this could significantly affect learning time\n"
     ]
    },
    {
     "name": "stdout",
     "output_type": "stream",
     "text": [
      "0:\ttest: 0.7108157\tbest: 0.7108157 (0)\ttotal: 46.9ms\tremaining: 2m 30s\n",
      "100:\ttest: 0.9760959\tbest: 0.9760959 (100)\ttotal: 5.04s\tremaining: 2m 34s\n",
      "200:\ttest: 0.9870272\tbest: 0.9870272 (200)\ttotal: 10.7s\tremaining: 2m 38s\n",
      "300:\ttest: 0.9906340\tbest: 0.9906340 (300)\ttotal: 15.6s\tremaining: 2m 29s\n",
      "400:\ttest: 0.9924348\tbest: 0.9924348 (400)\ttotal: 21.7s\tremaining: 2m 31s\n",
      "500:\ttest: 0.9935132\tbest: 0.9935132 (500)\ttotal: 26.8s\tremaining: 2m 24s\n",
      "600:\ttest: 0.9940054\tbest: 0.9940196 (599)\ttotal: 32.3s\tremaining: 2m 19s\n",
      "700:\ttest: 0.9945370\tbest: 0.9945370 (700)\ttotal: 37.8s\tremaining: 2m 14s\n",
      "800:\ttest: 0.9950114\tbest: 0.9950299 (799)\ttotal: 42.7s\tremaining: 2m 7s\n",
      "bestTest = 0.9950902366\n",
      "bestIteration = 819\n",
      "Metric AUC is not calculated on train by default. To calculate this metric on train, add hints=skip_train~false to metric parameters.\n",
      "46:\tloss: 0.9950902\tbest: 0.9961328 (5)\ttotal: 33m 45s\tremaining: 5h 34m 1s\n"
     ]
    },
    {
     "name": "stderr",
     "output_type": "stream",
     "text": [
      "Default metric period is 5 because AUC is/are not implemented for GPU\n",
      "AUC is not implemented on GPU. Will use CPU for metric computation, this could significantly affect learning time\n"
     ]
    },
    {
     "name": "stdout",
     "output_type": "stream",
     "text": [
      "0:\ttest: 0.7106613\tbest: 0.7106613 (0)\ttotal: 38.2ms\tremaining: 2m 2s\n",
      "100:\ttest: 0.9748183\tbest: 0.9748183 (100)\ttotal: 5.72s\tremaining: 2m 55s\n",
      "200:\ttest: 0.9856902\tbest: 0.9856902 (200)\ttotal: 11s\tremaining: 2m 43s\n",
      "300:\ttest: 0.9895000\tbest: 0.9895084 (298)\ttotal: 16.5s\tremaining: 2m 39s\n",
      "400:\ttest: 0.9915252\tbest: 0.9915300 (397)\ttotal: 21.4s\tremaining: 2m 29s\n",
      "500:\ttest: 0.9928409\tbest: 0.9928409 (500)\ttotal: 26.9s\tremaining: 2m 24s\n",
      "bestTest = 0.993459779\n",
      "bestIteration = 571\n",
      "Metric AUC is not calculated on train by default. To calculate this metric on train, add hints=skip_train~false to metric parameters.\n",
      "47:\tloss: 0.9934598\tbest: 0.9961328 (5)\ttotal: 34m 17s\tremaining: 5h 31m 31s\n"
     ]
    },
    {
     "name": "stderr",
     "output_type": "stream",
     "text": [
      "Default metric period is 5 because AUC is/are not implemented for GPU\n",
      "AUC is not implemented on GPU. Will use CPU for metric computation, this could significantly affect learning time\n"
     ]
    },
    {
     "name": "stdout",
     "output_type": "stream",
     "text": [
      "0:\ttest: 0.7120242\tbest: 0.7120242 (0)\ttotal: 76.4ms\tremaining: 4m 19s\n",
      "100:\ttest: 0.9784954\tbest: 0.9784954 (100)\ttotal: 5.83s\tremaining: 3m 10s\n",
      "200:\ttest: 0.9891720\tbest: 0.9891720 (200)\ttotal: 10.8s\tremaining: 2m 51s\n",
      "300:\ttest: 0.9917861\tbest: 0.9917861 (300)\ttotal: 16.5s\tremaining: 2m 49s\n",
      "400:\ttest: 0.9930961\tbest: 0.9931299 (396)\ttotal: 21.2s\tremaining: 2m 38s\n",
      "500:\ttest: 0.9941405\tbest: 0.9941405 (500)\ttotal: 27.2s\tremaining: 2m 37s\n",
      "600:\ttest: 0.9948842\tbest: 0.9948842 (600)\ttotal: 32.1s\tremaining: 2m 29s\n",
      "bestTest = 0.9952720795\n",
      "bestIteration = 653\n",
      "Metric AUC is not calculated on train by default. To calculate this metric on train, add hints=skip_train~false to metric parameters.\n",
      "48:\tloss: 0.9952721\tbest: 0.9961328 (5)\ttotal: 34m 54s\tremaining: 5h 29m 48s\n"
     ]
    },
    {
     "name": "stderr",
     "output_type": "stream",
     "text": [
      "Default metric period is 5 because AUC is/are not implemented for GPU\n",
      "AUC is not implemented on GPU. Will use CPU for metric computation, this could significantly affect learning time\n"
     ]
    },
    {
     "name": "stdout",
     "output_type": "stream",
     "text": [
      "0:\ttest: 0.7114845\tbest: 0.7114845 (0)\ttotal: 36.2ms\tremaining: 2m 2s\n",
      "100:\ttest: 0.9774824\tbest: 0.9774824 (100)\ttotal: 5.57s\tremaining: 3m 2s\n",
      "200:\ttest: 0.9877633\tbest: 0.9877633 (200)\ttotal: 10.9s\tremaining: 2m 53s\n",
      "300:\ttest: 0.9910512\tbest: 0.9911008 (296)\ttotal: 16.3s\tremaining: 2m 47s\n",
      "400:\ttest: 0.9926450\tbest: 0.9926646 (396)\ttotal: 21.9s\tremaining: 2m 43s\n",
      "500:\ttest: 0.9936037\tbest: 0.9936037 (500)\ttotal: 27.4s\tremaining: 2m 38s\n",
      "600:\ttest: 0.9942134\tbest: 0.9942134 (600)\ttotal: 32.2s\tremaining: 2m 29s\n",
      "700:\ttest: 0.9947768\tbest: 0.9948104 (699)\ttotal: 37.2s\tremaining: 2m 23s\n",
      "800:\ttest: 0.9954382\tbest: 0.9954382 (799)\ttotal: 42.1s\tremaining: 2m 16s\n",
      "900:\ttest: 0.9956617\tbest: 0.9956617 (899)\ttotal: 47.7s\tremaining: 2m 12s\n",
      "1000:\ttest: 0.9958299\tbest: 0.9958518 (991)\ttotal: 53s\tremaining: 2m 6s\n",
      "1100:\ttest: 0.9960809\tbest: 0.9960845 (1099)\ttotal: 57.8s\tremaining: 2m\n",
      "bestTest = 0.9961327867\n",
      "bestIteration = 1127\n",
      "Metric AUC is not calculated on train by default. To calculate this metric on train, add hints=skip_train~false to metric parameters.\n",
      "49:\tloss: 0.9961328\tbest: 0.9961328 (5)\ttotal: 35m 55s\tremaining: 5h 31m 53s\n"
     ]
    },
    {
     "name": "stderr",
     "output_type": "stream",
     "text": [
      "Default metric period is 5 because AUC is/are not implemented for GPU\n",
      "AUC is not implemented on GPU. Will use CPU for metric computation, this could significantly affect learning time\n"
     ]
    },
    {
     "name": "stdout",
     "output_type": "stream",
     "text": [
      "0:\ttest: 0.7108157\tbest: 0.7108157 (0)\ttotal: 41ms\tremaining: 2m 19s\n",
      "100:\ttest: 0.9760959\tbest: 0.9760959 (100)\ttotal: 5.25s\tremaining: 2m 51s\n",
      "200:\ttest: 0.9870272\tbest: 0.9870272 (200)\ttotal: 10.4s\tremaining: 2m 46s\n",
      "300:\ttest: 0.9906340\tbest: 0.9906340 (300)\ttotal: 15.9s\tremaining: 2m 43s\n",
      "400:\ttest: 0.9924348\tbest: 0.9924348 (400)\ttotal: 21.2s\tremaining: 2m 38s\n",
      "500:\ttest: 0.9935132\tbest: 0.9935132 (500)\ttotal: 26.5s\tremaining: 2m 33s\n",
      "600:\ttest: 0.9940054\tbest: 0.9940196 (599)\ttotal: 31.3s\tremaining: 2m 25s\n",
      "700:\ttest: 0.9945370\tbest: 0.9945370 (700)\ttotal: 36.4s\tremaining: 2m 20s\n",
      "800:\ttest: 0.9950114\tbest: 0.9950299 (799)\ttotal: 41.8s\tremaining: 2m 15s\n",
      "bestTest = 0.9950902366\n",
      "bestIteration = 819\n",
      "Metric AUC is not calculated on train by default. To calculate this metric on train, add hints=skip_train~false to metric parameters.\n",
      "50:\tloss: 0.9950902\tbest: 0.9961328 (5)\ttotal: 36m 38s\tremaining: 5h 31m 16s\n"
     ]
    },
    {
     "name": "stderr",
     "output_type": "stream",
     "text": [
      "Default metric period is 5 because AUC is/are not implemented for GPU\n",
      "AUC is not implemented on GPU. Will use CPU for metric computation, this could significantly affect learning time\n"
     ]
    },
    {
     "name": "stdout",
     "output_type": "stream",
     "text": [
      "0:\ttest: 0.7106613\tbest: 0.7106613 (0)\ttotal: 257ms\tremaining: 14m 34s\n",
      "100:\ttest: 0.9748183\tbest: 0.9748183 (100)\ttotal: 5.42s\tremaining: 2m 56s\n",
      "200:\ttest: 0.9856902\tbest: 0.9856902 (200)\ttotal: 10.6s\tremaining: 2m 48s\n",
      "300:\ttest: 0.9895000\tbest: 0.9895084 (298)\ttotal: 15.7s\tremaining: 2m 41s\n",
      "400:\ttest: 0.9915252\tbest: 0.9915300 (397)\ttotal: 21.2s\tremaining: 2m 38s\n",
      "500:\ttest: 0.9928409\tbest: 0.9928409 (500)\ttotal: 26.6s\tremaining: 2m 33s\n",
      "bestTest = 0.993459779\n",
      "bestIteration = 571\n",
      "Metric AUC is not calculated on train by default. To calculate this metric on train, add hints=skip_train~false to metric parameters.\n",
      "51:\tloss: 0.9934598\tbest: 0.9961328 (5)\ttotal: 37m 10s\tremaining: 5h 28m 53s\n"
     ]
    },
    {
     "name": "stderr",
     "output_type": "stream",
     "text": [
      "Default metric period is 5 because AUC is/are not implemented for GPU\n",
      "AUC is not implemented on GPU. Will use CPU for metric computation, this could significantly affect learning time\n"
     ]
    },
    {
     "name": "stdout",
     "output_type": "stream",
     "text": [
      "0:\ttest: 0.7120242\tbest: 0.7120242 (0)\ttotal: 40.5ms\tremaining: 2m 25s\n",
      "100:\ttest: 0.9784954\tbest: 0.9784954 (100)\ttotal: 5.01s\tremaining: 2m 53s\n",
      "200:\ttest: 0.9891720\tbest: 0.9891720 (200)\ttotal: 10.3s\tremaining: 2m 54s\n",
      "300:\ttest: 0.9917861\tbest: 0.9917861 (300)\ttotal: 15.8s\tremaining: 2m 53s\n",
      "400:\ttest: 0.9930961\tbest: 0.9931299 (396)\ttotal: 20.9s\tremaining: 2m 46s\n",
      "500:\ttest: 0.9941405\tbest: 0.9941405 (500)\ttotal: 25.8s\tremaining: 2m 39s\n",
      "600:\ttest: 0.9948842\tbest: 0.9948842 (600)\ttotal: 31.4s\tremaining: 2m 36s\n",
      "bestTest = 0.9952720795\n",
      "bestIteration = 653\n",
      "Metric AUC is not calculated on train by default. To calculate this metric on train, add hints=skip_train~false to metric parameters.\n",
      "52:\tloss: 0.9952721\tbest: 0.9961328 (5)\ttotal: 37m 45s\tremaining: 5h 27m 4s\n"
     ]
    },
    {
     "name": "stderr",
     "output_type": "stream",
     "text": [
      "Default metric period is 5 because AUC is/are not implemented for GPU\n",
      "AUC is not implemented on GPU. Will use CPU for metric computation, this could significantly affect learning time\n"
     ]
    },
    {
     "name": "stdout",
     "output_type": "stream",
     "text": [
      "0:\ttest: 0.7114845\tbest: 0.7114845 (0)\ttotal: 41.4ms\tremaining: 2m 29s\n",
      "100:\ttest: 0.9774824\tbest: 0.9774824 (100)\ttotal: 5.26s\tremaining: 3m 2s\n",
      "200:\ttest: 0.9877633\tbest: 0.9877633 (200)\ttotal: 10.1s\tremaining: 2m 51s\n",
      "300:\ttest: 0.9910512\tbest: 0.9911008 (296)\ttotal: 16.1s\tremaining: 2m 56s\n",
      "400:\ttest: 0.9926450\tbest: 0.9926646 (396)\ttotal: 21.3s\tremaining: 2m 50s\n",
      "500:\ttest: 0.9936037\tbest: 0.9936037 (500)\ttotal: 26.6s\tremaining: 2m 44s\n",
      "600:\ttest: 0.9942134\tbest: 0.9942134 (600)\ttotal: 32.1s\tremaining: 2m 40s\n",
      "700:\ttest: 0.9947768\tbest: 0.9948104 (699)\ttotal: 37.3s\tremaining: 2m 34s\n",
      "800:\ttest: 0.9954382\tbest: 0.9954382 (799)\ttotal: 42.5s\tremaining: 2m 28s\n",
      "900:\ttest: 0.9956617\tbest: 0.9956617 (899)\ttotal: 47.5s\tremaining: 2m 22s\n",
      "1000:\ttest: 0.9958299\tbest: 0.9958518 (991)\ttotal: 53.3s\tremaining: 2m 18s\n",
      "1100:\ttest: 0.9960809\tbest: 0.9960845 (1099)\ttotal: 58s\tremaining: 2m 11s\n",
      "bestTest = 0.9961327867\n",
      "bestIteration = 1127\n",
      "Metric AUC is not calculated on train by default. To calculate this metric on train, add hints=skip_train~false to metric parameters.\n",
      "53:\tloss: 0.9961328\tbest: 0.9961328 (5)\ttotal: 38m 47s\tremaining: 5h 28m 58s\n"
     ]
    },
    {
     "name": "stderr",
     "output_type": "stream",
     "text": [
      "Default metric period is 5 because AUC is/are not implemented for GPU\n",
      "AUC is not implemented on GPU. Will use CPU for metric computation, this could significantly affect learning time\n"
     ]
    },
    {
     "name": "stdout",
     "output_type": "stream",
     "text": [
      "0:\ttest: 0.7108157\tbest: 0.7108157 (0)\ttotal: 73.8ms\tremaining: 4m 25s\n",
      "100:\ttest: 0.9760959\tbest: 0.9760959 (100)\ttotal: 5.43s\tremaining: 3m 8s\n",
      "200:\ttest: 0.9870272\tbest: 0.9870272 (200)\ttotal: 10.6s\tremaining: 2m 59s\n",
      "300:\ttest: 0.9906340\tbest: 0.9906340 (300)\ttotal: 15.4s\tremaining: 2m 49s\n",
      "400:\ttest: 0.9924348\tbest: 0.9924348 (400)\ttotal: 21.3s\tremaining: 2m 49s\n",
      "500:\ttest: 0.9935132\tbest: 0.9935132 (500)\ttotal: 25.9s\tremaining: 2m 40s\n",
      "600:\ttest: 0.9940054\tbest: 0.9940196 (599)\ttotal: 31.2s\tremaining: 2m 35s\n",
      "700:\ttest: 0.9945370\tbest: 0.9945370 (700)\ttotal: 35.9s\tremaining: 2m 28s\n",
      "800:\ttest: 0.9950114\tbest: 0.9950299 (799)\ttotal: 41.3s\tremaining: 2m 24s\n",
      "bestTest = 0.9950902366\n",
      "bestIteration = 819\n",
      "Metric AUC is not calculated on train by default. To calculate this metric on train, add hints=skip_train~false to metric parameters.\n",
      "54:\tloss: 0.9950902\tbest: 0.9961328 (5)\ttotal: 39m 30s\tremaining: 5h 28m 17s\n"
     ]
    },
    {
     "name": "stderr",
     "output_type": "stream",
     "text": [
      "Default metric period is 5 because AUC is/are not implemented for GPU\n",
      "AUC is not implemented on GPU. Will use CPU for metric computation, this could significantly affect learning time\n"
     ]
    },
    {
     "name": "stdout",
     "output_type": "stream",
     "text": [
      "0:\ttest: 0.7106613\tbest: 0.7106613 (0)\ttotal: 52.8ms\tremaining: 3m 9s\n",
      "100:\ttest: 0.9748183\tbest: 0.9748183 (100)\ttotal: 5.24s\tremaining: 3m 1s\n",
      "200:\ttest: 0.9856902\tbest: 0.9856902 (200)\ttotal: 11s\tremaining: 3m 6s\n",
      "300:\ttest: 0.9895000\tbest: 0.9895084 (298)\ttotal: 15.9s\tremaining: 2m 54s\n",
      "400:\ttest: 0.9915252\tbest: 0.9915300 (397)\ttotal: 21.5s\tremaining: 2m 51s\n",
      "500:\ttest: 0.9928409\tbest: 0.9928409 (500)\ttotal: 26.4s\tremaining: 2m 43s\n",
      "bestTest = 0.993459779\n",
      "bestIteration = 571\n",
      "Metric AUC is not calculated on train by default. To calculate this metric on train, add hints=skip_train~false to metric parameters.\n",
      "55:\tloss: 0.9934598\tbest: 0.9961328 (5)\ttotal: 40m 2s\tremaining: 5h 25m 59s\n"
     ]
    },
    {
     "name": "stderr",
     "output_type": "stream",
     "text": [
      "Default metric period is 5 because AUC is/are not implemented for GPU\n",
      "AUC is not implemented on GPU. Will use CPU for metric computation, this could significantly affect learning time\n"
     ]
    },
    {
     "name": "stdout",
     "output_type": "stream",
     "text": [
      "0:\ttest: 0.7120242\tbest: 0.7120242 (0)\ttotal: 285ms\tremaining: 18m\n",
      "100:\ttest: 0.9784954\tbest: 0.9784954 (100)\ttotal: 5.49s\tremaining: 3m 21s\n",
      "200:\ttest: 0.9891720\tbest: 0.9891720 (200)\ttotal: 10.6s\tremaining: 3m 9s\n",
      "300:\ttest: 0.9917861\tbest: 0.9917861 (300)\ttotal: 15.5s\tremaining: 3m\n",
      "400:\ttest: 0.9930961\tbest: 0.9931299 (396)\ttotal: 20.7s\tremaining: 2m 55s\n",
      "500:\ttest: 0.9941405\tbest: 0.9941405 (500)\ttotal: 26s\tremaining: 2m 51s\n",
      "600:\ttest: 0.9948842\tbest: 0.9948842 (600)\ttotal: 31.5s\tremaining: 2m 47s\n",
      "bestTest = 0.9952720795\n",
      "bestIteration = 653\n",
      "Metric AUC is not calculated on train by default. To calculate this metric on train, add hints=skip_train~false to metric parameters.\n",
      "56:\tloss: 0.9952721\tbest: 0.9961328 (5)\ttotal: 40m 37s\tremaining: 5h 24m 15s\n"
     ]
    },
    {
     "name": "stderr",
     "output_type": "stream",
     "text": [
      "Default metric period is 5 because AUC is/are not implemented for GPU\n",
      "AUC is not implemented on GPU. Will use CPU for metric computation, this could significantly affect learning time\n"
     ]
    },
    {
     "name": "stdout",
     "output_type": "stream",
     "text": [
      "0:\ttest: 0.7114845\tbest: 0.7114845 (0)\ttotal: 284ms\tremaining: 17m 59s\n",
      "100:\ttest: 0.9774824\tbest: 0.9774824 (100)\ttotal: 5.63s\tremaining: 3m 26s\n",
      "200:\ttest: 0.9877633\tbest: 0.9877633 (200)\ttotal: 10.6s\tremaining: 3m 9s\n",
      "300:\ttest: 0.9910512\tbest: 0.9911008 (296)\ttotal: 16.3s\tremaining: 3m 8s\n",
      "400:\ttest: 0.9926450\tbest: 0.9926646 (396)\ttotal: 21.1s\tremaining: 2m 58s\n",
      "500:\ttest: 0.9936037\tbest: 0.9936037 (500)\ttotal: 26.5s\tremaining: 2m 54s\n",
      "600:\ttest: 0.9942134\tbest: 0.9942134 (600)\ttotal: 31.9s\tremaining: 2m 50s\n",
      "700:\ttest: 0.9947768\tbest: 0.9948104 (699)\ttotal: 37s\tremaining: 2m 43s\n",
      "800:\ttest: 0.9954382\tbest: 0.9954382 (799)\ttotal: 42.1s\tremaining: 2m 37s\n",
      "900:\ttest: 0.9956617\tbest: 0.9956617 (899)\ttotal: 47.1s\tremaining: 2m 31s\n",
      "1000:\ttest: 0.9958299\tbest: 0.9958518 (991)\ttotal: 52.2s\tremaining: 2m 25s\n",
      "1100:\ttest: 0.9960809\tbest: 0.9960845 (1099)\ttotal: 57.2s\tremaining: 2m 20s\n",
      "bestTest = 0.9961327867\n",
      "bestIteration = 1127\n",
      "Metric AUC is not calculated on train by default. To calculate this metric on train, add hints=skip_train~false to metric parameters.\n",
      "57:\tloss: 0.9961328\tbest: 0.9961328 (5)\ttotal: 41m 37s\tremaining: 5h 25m 48s\n"
     ]
    },
    {
     "name": "stderr",
     "output_type": "stream",
     "text": [
      "Default metric period is 5 because AUC is/are not implemented for GPU\n",
      "AUC is not implemented on GPU. Will use CPU for metric computation, this could significantly affect learning time\n"
     ]
    },
    {
     "name": "stdout",
     "output_type": "stream",
     "text": [
      "0:\ttest: 0.7108157\tbest: 0.7108157 (0)\ttotal: 40ms\tremaining: 2m 32s\n",
      "100:\ttest: 0.9760959\tbest: 0.9760959 (100)\ttotal: 5.22s\tremaining: 3m 11s\n",
      "200:\ttest: 0.9870272\tbest: 0.9870272 (200)\ttotal: 10.2s\tremaining: 3m 3s\n",
      "300:\ttest: 0.9906340\tbest: 0.9906340 (300)\ttotal: 16s\tremaining: 3m 6s\n",
      "400:\ttest: 0.9924348\tbest: 0.9924348 (400)\ttotal: 20.8s\tremaining: 2m 56s\n",
      "500:\ttest: 0.9935132\tbest: 0.9935132 (500)\ttotal: 26.6s\tremaining: 2m 55s\n",
      "600:\ttest: 0.9940054\tbest: 0.9940196 (599)\ttotal: 31.5s\tremaining: 2m 47s\n",
      "700:\ttest: 0.9945370\tbest: 0.9945370 (700)\ttotal: 36.9s\tremaining: 2m 43s\n",
      "800:\ttest: 0.9950114\tbest: 0.9950299 (799)\ttotal: 42s\tremaining: 2m 37s\n",
      "bestTest = 0.9950902366\n",
      "bestIteration = 819\n",
      "Metric AUC is not calculated on train by default. To calculate this metric on train, add hints=skip_train~false to metric parameters.\n",
      "58:\tloss: 0.9950902\tbest: 0.9961328 (5)\ttotal: 42m 22s\tremaining: 5h 25m 17s\n"
     ]
    },
    {
     "name": "stderr",
     "output_type": "stream",
     "text": [
      "Default metric period is 5 because AUC is/are not implemented for GPU\n",
      "AUC is not implemented on GPU. Will use CPU for metric computation, this could significantly affect learning time\n"
     ]
    },
    {
     "name": "stdout",
     "output_type": "stream",
     "text": [
      "0:\ttest: 0.7106613\tbest: 0.7106613 (0)\ttotal: 40.1ms\tremaining: 2m 32s\n",
      "100:\ttest: 0.9748183\tbest: 0.9748183 (100)\ttotal: 5.36s\tremaining: 3m 16s\n",
      "200:\ttest: 0.9856902\tbest: 0.9856902 (200)\ttotal: 10.9s\tremaining: 3m 14s\n",
      "300:\ttest: 0.9895000\tbest: 0.9895084 (298)\ttotal: 16.5s\tremaining: 3m 11s\n",
      "400:\ttest: 0.9915252\tbest: 0.9915300 (397)\ttotal: 21.8s\tremaining: 3m 4s\n",
      "500:\ttest: 0.9928409\tbest: 0.9928409 (500)\ttotal: 27.2s\tremaining: 2m 59s\n",
      "bestTest = 0.993459779\n",
      "bestIteration = 571\n",
      "Metric AUC is not calculated on train by default. To calculate this metric on train, add hints=skip_train~false to metric parameters.\n",
      "59:\tloss: 0.9934598\tbest: 0.9961328 (5)\ttotal: 42m 54s\tremaining: 5h 23m 14s\n"
     ]
    },
    {
     "name": "stderr",
     "output_type": "stream",
     "text": [
      "Default metric period is 5 because AUC is/are not implemented for GPU\n",
      "AUC is not implemented on GPU. Will use CPU for metric computation, this could significantly affect learning time\n"
     ]
    },
    {
     "name": "stdout",
     "output_type": "stream",
     "text": [
      "0:\ttest: 0.7120242\tbest: 0.7120242 (0)\ttotal: 41.2ms\tremaining: 2m 44s\n",
      "100:\ttest: 0.9784954\tbest: 0.9784954 (100)\ttotal: 6.14s\tremaining: 3m 56s\n",
      "200:\ttest: 0.9891720\tbest: 0.9891720 (200)\ttotal: 11.5s\tremaining: 3m 36s\n",
      "300:\ttest: 0.9917861\tbest: 0.9917861 (300)\ttotal: 17.1s\tremaining: 3m 30s\n",
      "400:\ttest: 0.9930961\tbest: 0.9931299 (396)\ttotal: 22.5s\tremaining: 3m 22s\n",
      "500:\ttest: 0.9941405\tbest: 0.9941405 (500)\ttotal: 27.9s\tremaining: 3m 14s\n",
      "600:\ttest: 0.9948842\tbest: 0.9948842 (600)\ttotal: 33.1s\tremaining: 3m 7s\n",
      "bestTest = 0.9952720795\n",
      "bestIteration = 653\n",
      "Metric AUC is not calculated on train by default. To calculate this metric on train, add hints=skip_train~false to metric parameters.\n",
      "60:\tloss: 0.9952721\tbest: 0.9961328 (5)\ttotal: 43m 31s\tremaining: 5h 21m 51s\n"
     ]
    },
    {
     "name": "stderr",
     "output_type": "stream",
     "text": [
      "Default metric period is 5 because AUC is/are not implemented for GPU\n",
      "AUC is not implemented on GPU. Will use CPU for metric computation, this could significantly affect learning time\n"
     ]
    },
    {
     "name": "stdout",
     "output_type": "stream",
     "text": [
      "0:\ttest: 0.7114845\tbest: 0.7114845 (0)\ttotal: 39.6ms\tremaining: 2m 38s\n",
      "100:\ttest: 0.9774824\tbest: 0.9774824 (100)\ttotal: 5.25s\tremaining: 3m 22s\n",
      "200:\ttest: 0.9877633\tbest: 0.9877633 (200)\ttotal: 10s\tremaining: 3m 9s\n",
      "300:\ttest: 0.9910512\tbest: 0.9911008 (296)\ttotal: 15.7s\tremaining: 3m 13s\n",
      "400:\ttest: 0.9926450\tbest: 0.9926646 (396)\ttotal: 20.4s\tremaining: 3m 3s\n",
      "500:\ttest: 0.9936037\tbest: 0.9936037 (500)\ttotal: 25.9s\tremaining: 3m 1s\n",
      "600:\ttest: 0.9942134\tbest: 0.9942134 (600)\ttotal: 31.3s\tremaining: 2m 56s\n",
      "700:\ttest: 0.9947768\tbest: 0.9948104 (699)\ttotal: 35.9s\tremaining: 2m 49s\n",
      "800:\ttest: 0.9954382\tbest: 0.9954382 (799)\ttotal: 40.9s\tremaining: 2m 43s\n",
      "900:\ttest: 0.9956617\tbest: 0.9956617 (899)\ttotal: 45.7s\tremaining: 2m 37s\n",
      "1000:\ttest: 0.9958299\tbest: 0.9958518 (991)\ttotal: 51s\tremaining: 2m 32s\n",
      "1100:\ttest: 0.9960809\tbest: 0.9960845 (1099)\ttotal: 56.5s\tremaining: 2m 28s\n",
      "bestTest = 0.9961327867\n",
      "bestIteration = 1127\n",
      "Metric AUC is not calculated on train by default. To calculate this metric on train, add hints=skip_train~false to metric parameters.\n",
      "61:\tloss: 0.9961328\tbest: 0.9961328 (5)\ttotal: 44m 30s\tremaining: 5h 23m 6s\n"
     ]
    },
    {
     "name": "stderr",
     "output_type": "stream",
     "text": [
      "Default metric period is 5 because AUC is/are not implemented for GPU\n",
      "AUC is not implemented on GPU. Will use CPU for metric computation, this could significantly affect learning time\n"
     ]
    },
    {
     "name": "stdout",
     "output_type": "stream",
     "text": [
      "0:\ttest: 0.7108157\tbest: 0.7108157 (0)\ttotal: 48.8ms\tremaining: 3m 15s\n",
      "100:\ttest: 0.9760959\tbest: 0.9760959 (100)\ttotal: 5.33s\tremaining: 3m 25s\n",
      "200:\ttest: 0.9870272\tbest: 0.9870272 (200)\ttotal: 10.4s\tremaining: 3m 17s\n",
      "300:\ttest: 0.9906340\tbest: 0.9906340 (300)\ttotal: 15.8s\tremaining: 3m 14s\n",
      "400:\ttest: 0.9924348\tbest: 0.9924348 (400)\ttotal: 21s\tremaining: 3m 8s\n",
      "500:\ttest: 0.9935132\tbest: 0.9935132 (500)\ttotal: 26.3s\tremaining: 3m 3s\n",
      "600:\ttest: 0.9940054\tbest: 0.9940196 (599)\ttotal: 31.5s\tremaining: 2m 58s\n",
      "700:\ttest: 0.9945370\tbest: 0.9945370 (700)\ttotal: 36.8s\tremaining: 2m 53s\n",
      "800:\ttest: 0.9950114\tbest: 0.9950299 (799)\ttotal: 41.4s\tremaining: 2m 45s\n",
      "bestTest = 0.9950902366\n",
      "bestIteration = 819\n",
      "Metric AUC is not calculated on train by default. To calculate this metric on train, add hints=skip_train~false to metric parameters.\n",
      "62:\tloss: 0.9950902\tbest: 0.9961328 (5)\ttotal: 45m 14s\tremaining: 5h 22m 28s\n"
     ]
    },
    {
     "name": "stderr",
     "output_type": "stream",
     "text": [
      "Default metric period is 5 because AUC is/are not implemented for GPU\n",
      "AUC is not implemented on GPU. Will use CPU for metric computation, this could significantly affect learning time\n"
     ]
    },
    {
     "name": "stdout",
     "output_type": "stream",
     "text": [
      "0:\ttest: 0.7106613\tbest: 0.7106613 (0)\ttotal: 201ms\tremaining: 13m 25s\n",
      "100:\ttest: 0.9748183\tbest: 0.9748183 (100)\ttotal: 5.76s\tremaining: 3m 42s\n",
      "200:\ttest: 0.9856902\tbest: 0.9856902 (200)\ttotal: 10.9s\tremaining: 3m 25s\n",
      "300:\ttest: 0.9895000\tbest: 0.9895084 (298)\ttotal: 15.7s\tremaining: 3m 13s\n",
      "400:\ttest: 0.9915252\tbest: 0.9915300 (397)\ttotal: 21s\tremaining: 3m 8s\n",
      "500:\ttest: 0.9928409\tbest: 0.9928409 (500)\ttotal: 26.9s\tremaining: 3m 8s\n",
      "bestTest = 0.993459779\n",
      "bestIteration = 571\n",
      "Metric AUC is not calculated on train by default. To calculate this metric on train, add hints=skip_train~false to metric parameters.\n",
      "63:\tloss: 0.9934598\tbest: 0.9961328 (5)\ttotal: 45m 47s\tremaining: 5h 20m 31s\n"
     ]
    },
    {
     "name": "stderr",
     "output_type": "stream",
     "text": [
      "Default metric period is 5 because AUC is/are not implemented for GPU\n",
      "AUC is not implemented on GPU. Will use CPU for metric computation, this could significantly affect learning time\n"
     ]
    },
    {
     "name": "stdout",
     "output_type": "stream",
     "text": [
      "0:\ttest: 0.7723739\tbest: 0.7723739 (0)\ttotal: 115ms\tremaining: 1m 54s\n",
      "100:\ttest: 0.9812729\tbest: 0.9812729 (100)\ttotal: 10.1s\tremaining: 1m 30s\n",
      "200:\ttest: 0.9902845\tbest: 0.9903150 (197)\ttotal: 20.8s\tremaining: 1m 22s\n",
      "300:\ttest: 0.9928917\tbest: 0.9928917 (300)\ttotal: 30.4s\tremaining: 1m 10s\n",
      "400:\ttest: 0.9943635\tbest: 0.9943635 (400)\ttotal: 40.4s\tremaining: 1m\n",
      "500:\ttest: 0.9949468\tbest: 0.9949778 (496)\ttotal: 50.6s\tremaining: 50.4s\n",
      "bestTest = 0.9951531253\n",
      "bestIteration = 528\n",
      "Metric AUC is not calculated on train by default. To calculate this metric on train, add hints=skip_train~false to metric parameters.\n",
      "64:\tloss: 0.9951531\tbest: 0.9961328 (5)\ttotal: 46m 43s\tremaining: 5h 21m 16s\n"
     ]
    },
    {
     "name": "stderr",
     "output_type": "stream",
     "text": [
      "Default metric period is 5 because AUC is/are not implemented for GPU\n",
      "AUC is not implemented on GPU. Will use CPU for metric computation, this could significantly affect learning time\n"
     ]
    },
    {
     "name": "stdout",
     "output_type": "stream",
     "text": [
      "0:\ttest: 0.7717710\tbest: 0.7717710 (0)\ttotal: 65.9ms\tremaining: 1m 5s\n",
      "100:\ttest: 0.9789912\tbest: 0.9790317 (99)\ttotal: 10.8s\tremaining: 1m 36s\n",
      "200:\ttest: 0.9892770\tbest: 0.9893667 (197)\ttotal: 20.7s\tremaining: 1m 22s\n",
      "300:\ttest: 0.9919452\tbest: 0.9919452 (300)\ttotal: 30.8s\tremaining: 1m 11s\n",
      "400:\ttest: 0.9935509\tbest: 0.9935530 (399)\ttotal: 41s\tremaining: 1m 1s\n",
      "500:\ttest: 0.9944094\tbest: 0.9944279 (493)\ttotal: 50.5s\tremaining: 50.3s\n",
      "bestTest = 0.994759313\n",
      "bestIteration = 541\n",
      "Metric AUC is not calculated on train by default. To calculate this metric on train, add hints=skip_train~false to metric parameters.\n",
      "65:\tloss: 0.9947593\tbest: 0.9961328 (5)\ttotal: 47m 40s\tremaining: 5h 22m 8s\n"
     ]
    },
    {
     "name": "stderr",
     "output_type": "stream",
     "text": [
      "Default metric period is 5 because AUC is/are not implemented for GPU\n",
      "AUC is not implemented on GPU. Will use CPU for metric computation, this could significantly affect learning time\n"
     ]
    },
    {
     "name": "stdout",
     "output_type": "stream",
     "text": [
      "0:\ttest: 0.7721672\tbest: 0.7721672 (0)\ttotal: 66.3ms\tremaining: 1m 6s\n",
      "100:\ttest: 0.9793942\tbest: 0.9796112 (99)\ttotal: 10.9s\tremaining: 1m 36s\n",
      "200:\ttest: 0.9894212\tbest: 0.9894778 (199)\ttotal: 21s\tremaining: 1m 23s\n",
      "300:\ttest: 0.9917538\tbest: 0.9917700 (293)\ttotal: 30.8s\tremaining: 1m 11s\n",
      "400:\ttest: 0.9934585\tbest: 0.9934671 (398)\ttotal: 40.3s\tremaining: 1m\n",
      "500:\ttest: 0.9943467\tbest: 0.9943467 (500)\ttotal: 50.2s\tremaining: 50s\n",
      "600:\ttest: 0.9949352\tbest: 0.9949352 (600)\ttotal: 59.3s\tremaining: 39.4s\n",
      "700:\ttest: 0.9954125\tbest: 0.9954441 (695)\ttotal: 1m 9s\tremaining: 29.6s\n",
      "bestTest = 0.9954441026\n",
      "bestIteration = 695\n",
      "Metric AUC is not calculated on train by default. To calculate this metric on train, add hints=skip_train~false to metric parameters.\n",
      "66:\tloss: 0.9954441\tbest: 0.9961328 (5)\ttotal: 48m 51s\tremaining: 5h 24m 29s\n"
     ]
    },
    {
     "name": "stderr",
     "output_type": "stream",
     "text": [
      "Default metric period is 5 because AUC is/are not implemented for GPU\n",
      "AUC is not implemented on GPU. Will use CPU for metric computation, this could significantly affect learning time\n"
     ]
    },
    {
     "name": "stdout",
     "output_type": "stream",
     "text": [
      "0:\ttest: 0.7712753\tbest: 0.7712753 (0)\ttotal: 238ms\tremaining: 3m 57s\n",
      "100:\ttest: 0.9778802\tbest: 0.9778802 (100)\ttotal: 10.6s\tremaining: 1m 34s\n",
      "200:\ttest: 0.9884066\tbest: 0.9884960 (198)\ttotal: 21.1s\tremaining: 1m 23s\n",
      "300:\ttest: 0.9909074\tbest: 0.9909348 (296)\ttotal: 31.6s\tremaining: 1m 13s\n",
      "400:\ttest: 0.9927980\tbest: 0.9927980 (400)\ttotal: 41.8s\tremaining: 1m 2s\n",
      "500:\ttest: 0.9935090\tbest: 0.9935215 (489)\ttotal: 51.6s\tremaining: 51.4s\n",
      "600:\ttest: 0.9942178\tbest: 0.9942394 (597)\ttotal: 1m 1s\tremaining: 40.9s\n",
      "bestTest = 0.9944598713\n",
      "bestIteration = 622\n",
      "Metric AUC is not calculated on train by default. To calculate this metric on train, add hints=skip_train~false to metric parameters.\n",
      "67:\tloss: 0.9944599\tbest: 0.9961328 (5)\ttotal: 49m 57s\tremaining: 5h 26m 12s\n"
     ]
    },
    {
     "name": "stderr",
     "output_type": "stream",
     "text": [
      "Default metric period is 5 because AUC is/are not implemented for GPU\n",
      "AUC is not implemented on GPU. Will use CPU for metric computation, this could significantly affect learning time\n"
     ]
    },
    {
     "name": "stdout",
     "output_type": "stream",
     "text": [
      "0:\ttest: 0.7723739\tbest: 0.7723739 (0)\ttotal: 64.5ms\tremaining: 1m 17s\n",
      "100:\ttest: 0.9812729\tbest: 0.9812729 (100)\ttotal: 10.8s\tremaining: 1m 57s\n",
      "200:\ttest: 0.9902845\tbest: 0.9903150 (197)\ttotal: 21.1s\tremaining: 1m 44s\n",
      "300:\ttest: 0.9928917\tbest: 0.9928917 (300)\ttotal: 31.6s\tremaining: 1m 34s\n",
      "400:\ttest: 0.9943635\tbest: 0.9943635 (400)\ttotal: 41.3s\tremaining: 1m 22s\n",
      "500:\ttest: 0.9949468\tbest: 0.9949778 (496)\ttotal: 51.1s\tremaining: 1m 11s\n",
      "bestTest = 0.9951531253\n",
      "bestIteration = 528\n",
      "Metric AUC is not calculated on train by default. To calculate this metric on train, add hints=skip_train~false to metric parameters.\n",
      "68:\tloss: 0.9951531\tbest: 0.9961328 (5)\ttotal: 50m 53s\tremaining: 5h 26m 44s\n"
     ]
    },
    {
     "name": "stderr",
     "output_type": "stream",
     "text": [
      "Default metric period is 5 because AUC is/are not implemented for GPU\n",
      "AUC is not implemented on GPU. Will use CPU for metric computation, this could significantly affect learning time\n"
     ]
    },
    {
     "name": "stdout",
     "output_type": "stream",
     "text": [
      "0:\ttest: 0.7717710\tbest: 0.7717710 (0)\ttotal: 66.2ms\tremaining: 1m 19s\n",
      "100:\ttest: 0.9789912\tbest: 0.9790317 (99)\ttotal: 10.4s\tremaining: 1m 53s\n",
      "200:\ttest: 0.9892770\tbest: 0.9893667 (197)\ttotal: 20.8s\tremaining: 1m 43s\n",
      "300:\ttest: 0.9919452\tbest: 0.9919452 (300)\ttotal: 31.3s\tremaining: 1m 33s\n",
      "400:\ttest: 0.9935509\tbest: 0.9935530 (399)\ttotal: 41.3s\tremaining: 1m 22s\n",
      "500:\ttest: 0.9944094\tbest: 0.9944279 (493)\ttotal: 51s\tremaining: 1m 11s\n",
      "bestTest = 0.994759313\n",
      "bestIteration = 541\n",
      "Metric AUC is not calculated on train by default. To calculate this metric on train, add hints=skip_train~false to metric parameters.\n",
      "69:\tloss: 0.9947593\tbest: 0.9961328 (5)\ttotal: 51m 50s\tremaining: 5h 27m 22s\n"
     ]
    },
    {
     "name": "stderr",
     "output_type": "stream",
     "text": [
      "Default metric period is 5 because AUC is/are not implemented for GPU\n",
      "AUC is not implemented on GPU. Will use CPU for metric computation, this could significantly affect learning time\n"
     ]
    },
    {
     "name": "stdout",
     "output_type": "stream",
     "text": [
      "0:\ttest: 0.7721672\tbest: 0.7721672 (0)\ttotal: 139ms\tremaining: 2m 47s\n",
      "100:\ttest: 0.9793942\tbest: 0.9796112 (99)\ttotal: 10.5s\tremaining: 1m 53s\n",
      "200:\ttest: 0.9894212\tbest: 0.9894778 (199)\ttotal: 21.2s\tremaining: 1m 45s\n",
      "300:\ttest: 0.9917538\tbest: 0.9917700 (293)\ttotal: 31.4s\tremaining: 1m 33s\n",
      "400:\ttest: 0.9934585\tbest: 0.9934671 (398)\ttotal: 41.6s\tremaining: 1m 22s\n",
      "500:\ttest: 0.9943467\tbest: 0.9943467 (500)\ttotal: 51s\tremaining: 1m 11s\n",
      "600:\ttest: 0.9949352\tbest: 0.9949352 (600)\ttotal: 1m\tremaining: 1m\n",
      "700:\ttest: 0.9954125\tbest: 0.9954441 (695)\ttotal: 1m 10s\tremaining: 50.1s\n",
      "bestTest = 0.9954441026\n",
      "bestIteration = 695\n",
      "Metric AUC is not calculated on train by default. To calculate this metric on train, add hints=skip_train~false to metric parameters.\n",
      "70:\tloss: 0.9954441\tbest: 0.9961328 (5)\ttotal: 53m 2s\tremaining: 5h 29m 30s\n"
     ]
    },
    {
     "name": "stderr",
     "output_type": "stream",
     "text": [
      "Default metric period is 5 because AUC is/are not implemented for GPU\n",
      "AUC is not implemented on GPU. Will use CPU for metric computation, this could significantly affect learning time\n"
     ]
    },
    {
     "name": "stdout",
     "output_type": "stream",
     "text": [
      "0:\ttest: 0.7712753\tbest: 0.7712753 (0)\ttotal: 241ms\tremaining: 4m 49s\n",
      "100:\ttest: 0.9778802\tbest: 0.9778802 (100)\ttotal: 10.8s\tremaining: 1m 57s\n",
      "200:\ttest: 0.9884066\tbest: 0.9884960 (198)\ttotal: 20.8s\tremaining: 1m 43s\n",
      "300:\ttest: 0.9909074\tbest: 0.9909348 (296)\ttotal: 31.2s\tremaining: 1m 33s\n",
      "400:\ttest: 0.9927980\tbest: 0.9927980 (400)\ttotal: 41s\tremaining: 1m 21s\n",
      "500:\ttest: 0.9935090\tbest: 0.9935215 (489)\ttotal: 51s\tremaining: 1m 11s\n",
      "600:\ttest: 0.9942178\tbest: 0.9942394 (597)\ttotal: 1m 1s\tremaining: 1m\n",
      "bestTest = 0.9944598713\n",
      "bestIteration = 622\n",
      "Metric AUC is not calculated on train by default. To calculate this metric on train, add hints=skip_train~false to metric parameters.\n",
      "71:\tloss: 0.9944599\tbest: 0.9961328 (5)\ttotal: 54m 8s\tremaining: 5h 30m 54s\n"
     ]
    },
    {
     "name": "stderr",
     "output_type": "stream",
     "text": [
      "Default metric period is 5 because AUC is/are not implemented for GPU\n",
      "AUC is not implemented on GPU. Will use CPU for metric computation, this could significantly affect learning time\n"
     ]
    },
    {
     "name": "stdout",
     "output_type": "stream",
     "text": [
      "0:\ttest: 0.7723739\tbest: 0.7723739 (0)\ttotal: 67.7ms\tremaining: 1m 34s\n",
      "100:\ttest: 0.9812729\tbest: 0.9812729 (100)\ttotal: 10.5s\tremaining: 2m 15s\n",
      "200:\ttest: 0.9902845\tbest: 0.9903150 (197)\ttotal: 20.5s\tremaining: 2m 2s\n",
      "300:\ttest: 0.9928917\tbest: 0.9928917 (300)\ttotal: 30.4s\tremaining: 1m 50s\n",
      "400:\ttest: 0.9943635\tbest: 0.9943635 (400)\ttotal: 40.4s\tremaining: 1m 40s\n",
      "500:\ttest: 0.9949468\tbest: 0.9949778 (496)\ttotal: 50.3s\tremaining: 1m 30s\n",
      "bestTest = 0.9951531253\n",
      "bestIteration = 528\n",
      "Metric AUC is not calculated on train by default. To calculate this metric on train, add hints=skip_train~false to metric parameters.\n",
      "72:\tloss: 0.9951531\tbest: 0.9961328 (5)\ttotal: 55m 4s\tremaining: 5h 31m 14s\n"
     ]
    },
    {
     "name": "stderr",
     "output_type": "stream",
     "text": [
      "Default metric period is 5 because AUC is/are not implemented for GPU\n",
      "AUC is not implemented on GPU. Will use CPU for metric computation, this could significantly affect learning time\n"
     ]
    },
    {
     "name": "stdout",
     "output_type": "stream",
     "text": [
      "0:\ttest: 0.7717710\tbest: 0.7717710 (0)\ttotal: 107ms\tremaining: 2m 29s\n",
      "100:\ttest: 0.9789912\tbest: 0.9790317 (99)\ttotal: 10.5s\tremaining: 2m 14s\n",
      "200:\ttest: 0.9892770\tbest: 0.9893667 (197)\ttotal: 20.2s\tremaining: 2m\n",
      "300:\ttest: 0.9919452\tbest: 0.9919452 (300)\ttotal: 30.9s\tremaining: 1m 52s\n",
      "400:\ttest: 0.9935509\tbest: 0.9935530 (399)\ttotal: 40.5s\tremaining: 1m 40s\n",
      "500:\ttest: 0.9944094\tbest: 0.9944279 (493)\ttotal: 51s\tremaining: 1m 31s\n",
      "bestTest = 0.994759313\n",
      "bestIteration = 541\n",
      "Metric AUC is not calculated on train by default. To calculate this metric on train, add hints=skip_train~false to metric parameters.\n",
      "73:\tloss: 0.9947593\tbest: 0.9961328 (5)\ttotal: 56m 2s\tremaining: 5h 31m 42s\n"
     ]
    },
    {
     "name": "stderr",
     "output_type": "stream",
     "text": [
      "Default metric period is 5 because AUC is/are not implemented for GPU\n",
      "AUC is not implemented on GPU. Will use CPU for metric computation, this could significantly affect learning time\n"
     ]
    },
    {
     "name": "stdout",
     "output_type": "stream",
     "text": [
      "0:\ttest: 0.7721672\tbest: 0.7721672 (0)\ttotal: 61.2ms\tremaining: 1m 25s\n",
      "100:\ttest: 0.9793942\tbest: 0.9796112 (99)\ttotal: 10.5s\tremaining: 2m 15s\n",
      "200:\ttest: 0.9894212\tbest: 0.9894778 (199)\ttotal: 20.1s\tremaining: 1m 59s\n",
      "300:\ttest: 0.9917538\tbest: 0.9917700 (293)\ttotal: 31.2s\tremaining: 1m 53s\n",
      "400:\ttest: 0.9934585\tbest: 0.9934671 (398)\ttotal: 41.1s\tremaining: 1m 42s\n",
      "500:\ttest: 0.9943467\tbest: 0.9943467 (500)\ttotal: 51.7s\tremaining: 1m 32s\n",
      "600:\ttest: 0.9949352\tbest: 0.9949352 (600)\ttotal: 1m\tremaining: 1m 21s\n",
      "700:\ttest: 0.9954125\tbest: 0.9954441 (695)\ttotal: 1m 10s\tremaining: 1m 10s\n",
      "bestTest = 0.9954441026\n",
      "bestIteration = 695\n",
      "Metric AUC is not calculated on train by default. To calculate this metric on train, add hints=skip_train~false to metric parameters.\n",
      "74:\tloss: 0.9954441\tbest: 0.9961328 (5)\ttotal: 57m 15s\tremaining: 5h 33m 36s\n"
     ]
    },
    {
     "name": "stderr",
     "output_type": "stream",
     "text": [
      "Default metric period is 5 because AUC is/are not implemented for GPU\n",
      "AUC is not implemented on GPU. Will use CPU for metric computation, this could significantly affect learning time\n"
     ]
    },
    {
     "name": "stdout",
     "output_type": "stream",
     "text": [
      "0:\ttest: 0.7712753\tbest: 0.7712753 (0)\ttotal: 67.3ms\tremaining: 1m 34s\n",
      "100:\ttest: 0.9778802\tbest: 0.9778802 (100)\ttotal: 10.6s\tremaining: 2m 16s\n",
      "200:\ttest: 0.9884066\tbest: 0.9884960 (198)\ttotal: 20.8s\tremaining: 2m 4s\n",
      "300:\ttest: 0.9909074\tbest: 0.9909348 (296)\ttotal: 30.7s\tremaining: 1m 52s\n",
      "400:\ttest: 0.9927980\tbest: 0.9927980 (400)\ttotal: 40.9s\tremaining: 1m 41s\n",
      "500:\ttest: 0.9935090\tbest: 0.9935215 (489)\ttotal: 50.7s\tremaining: 1m 31s\n",
      "600:\ttest: 0.9942178\tbest: 0.9942394 (597)\ttotal: 1m\tremaining: 1m 20s\n",
      "bestTest = 0.9944598713\n",
      "bestIteration = 622\n",
      "Metric AUC is not calculated on train by default. To calculate this metric on train, add hints=skip_train~false to metric parameters.\n",
      "75:\tloss: 0.9944599\tbest: 0.9961328 (5)\ttotal: 58m 20s\tremaining: 5h 34m 41s\n"
     ]
    },
    {
     "name": "stderr",
     "output_type": "stream",
     "text": [
      "Default metric period is 5 because AUC is/are not implemented for GPU\n",
      "AUC is not implemented on GPU. Will use CPU for metric computation, this could significantly affect learning time\n"
     ]
    },
    {
     "name": "stdout",
     "output_type": "stream",
     "text": [
      "0:\ttest: 0.7723739\tbest: 0.7723739 (0)\ttotal: 61.5ms\tremaining: 1m 38s\n",
      "100:\ttest: 0.9812729\tbest: 0.9812729 (100)\ttotal: 10.9s\tremaining: 2m 41s\n",
      "200:\ttest: 0.9902845\tbest: 0.9903150 (197)\ttotal: 21.1s\tremaining: 2m 26s\n",
      "300:\ttest: 0.9928917\tbest: 0.9928917 (300)\ttotal: 31.1s\tremaining: 2m 14s\n",
      "400:\ttest: 0.9943635\tbest: 0.9943635 (400)\ttotal: 41.6s\tremaining: 2m 4s\n",
      "500:\ttest: 0.9949468\tbest: 0.9949778 (496)\ttotal: 50.7s\tremaining: 1m 51s\n",
      "bestTest = 0.9951531253\n",
      "bestIteration = 528\n",
      "Metric AUC is not calculated on train by default. To calculate this metric on train, add hints=skip_train~false to metric parameters.\n",
      "76:\tloss: 0.9951531\tbest: 0.9961328 (5)\ttotal: 59m 16s\tremaining: 5h 34m 50s\n"
     ]
    },
    {
     "name": "stderr",
     "output_type": "stream",
     "text": [
      "Default metric period is 5 because AUC is/are not implemented for GPU\n",
      "AUC is not implemented on GPU. Will use CPU for metric computation, this could significantly affect learning time\n"
     ]
    },
    {
     "name": "stdout",
     "output_type": "stream",
     "text": [
      "0:\ttest: 0.7717710\tbest: 0.7717710 (0)\ttotal: 66.5ms\tremaining: 1m 46s\n",
      "100:\ttest: 0.9789912\tbest: 0.9790317 (99)\ttotal: 10.7s\tremaining: 2m 38s\n",
      "200:\ttest: 0.9892770\tbest: 0.9893667 (197)\ttotal: 21.4s\tremaining: 2m 28s\n",
      "300:\ttest: 0.9919452\tbest: 0.9919452 (300)\ttotal: 31.4s\tremaining: 2m 15s\n",
      "400:\ttest: 0.9935509\tbest: 0.9935530 (399)\ttotal: 41.8s\tremaining: 2m 4s\n",
      "500:\ttest: 0.9944094\tbest: 0.9944279 (493)\ttotal: 51.3s\tremaining: 1m 52s\n",
      "bestTest = 0.994759313\n",
      "bestIteration = 541\n",
      "Metric AUC is not calculated on train by default. To calculate this metric on train, add hints=skip_train~false to metric parameters.\n",
      "77:\tloss: 0.9947593\tbest: 0.9961328 (5)\ttotal: 1h 14s\tremaining: 5h 35m 9s\n"
     ]
    },
    {
     "name": "stderr",
     "output_type": "stream",
     "text": [
      "Default metric period is 5 because AUC is/are not implemented for GPU\n",
      "AUC is not implemented on GPU. Will use CPU for metric computation, this could significantly affect learning time\n"
     ]
    },
    {
     "name": "stdout",
     "output_type": "stream",
     "text": [
      "0:\ttest: 0.7721672\tbest: 0.7721672 (0)\ttotal: 116ms\tremaining: 3m 5s\n",
      "100:\ttest: 0.9793942\tbest: 0.9796112 (99)\ttotal: 9.92s\tremaining: 2m 27s\n",
      "200:\ttest: 0.9894212\tbest: 0.9894778 (199)\ttotal: 20.4s\tremaining: 2m 21s\n",
      "300:\ttest: 0.9917538\tbest: 0.9917700 (293)\ttotal: 30.1s\tremaining: 2m 9s\n",
      "400:\ttest: 0.9934585\tbest: 0.9934671 (398)\ttotal: 39.9s\tremaining: 1m 59s\n",
      "500:\ttest: 0.9943467\tbest: 0.9943467 (500)\ttotal: 50.2s\tremaining: 1m 50s\n",
      "600:\ttest: 0.9949352\tbest: 0.9949352 (600)\ttotal: 59.9s\tremaining: 1m 39s\n",
      "700:\ttest: 0.9954125\tbest: 0.9954441 (695)\ttotal: 1m 8s\tremaining: 1m 28s\n",
      "bestTest = 0.9954441026\n",
      "bestIteration = 695\n",
      "Metric AUC is not calculated on train by default. To calculate this metric on train, add hints=skip_train~false to metric parameters.\n",
      "78:\tloss: 0.9954441\tbest: 0.9961328 (5)\ttotal: 1h 1m 25s\tremaining: 5h 36m 39s\n"
     ]
    },
    {
     "name": "stderr",
     "output_type": "stream",
     "text": [
      "Default metric period is 5 because AUC is/are not implemented for GPU\n",
      "AUC is not implemented on GPU. Will use CPU for metric computation, this could significantly affect learning time\n"
     ]
    },
    {
     "name": "stdout",
     "output_type": "stream",
     "text": [
      "0:\ttest: 0.7712753\tbest: 0.7712753 (0)\ttotal: 67ms\tremaining: 1m 47s\n",
      "100:\ttest: 0.9778802\tbest: 0.9778802 (100)\ttotal: 10.1s\tremaining: 2m 30s\n",
      "200:\ttest: 0.9884066\tbest: 0.9884960 (198)\ttotal: 20.2s\tremaining: 2m 20s\n",
      "300:\ttest: 0.9909074\tbest: 0.9909348 (296)\ttotal: 31.1s\tremaining: 2m 14s\n",
      "400:\ttest: 0.9927980\tbest: 0.9927980 (400)\ttotal: 40.5s\tremaining: 2m\n",
      "500:\ttest: 0.9935090\tbest: 0.9935215 (489)\ttotal: 51s\tremaining: 1m 51s\n",
      "600:\ttest: 0.9942178\tbest: 0.9942394 (597)\ttotal: 1m 1s\tremaining: 1m 41s\n",
      "bestTest = 0.9944598713\n",
      "bestIteration = 622\n",
      "Metric AUC is not calculated on train by default. To calculate this metric on train, add hints=skip_train~false to metric parameters.\n",
      "79:\tloss: 0.9944599\tbest: 0.9961328 (5)\ttotal: 1h 2m 30s\tremaining: 5h 37m 34s\n"
     ]
    },
    {
     "name": "stderr",
     "output_type": "stream",
     "text": [
      "Default metric period is 5 because AUC is/are not implemented for GPU\n",
      "AUC is not implemented on GPU. Will use CPU for metric computation, this could significantly affect learning time\n"
     ]
    },
    {
     "name": "stdout",
     "output_type": "stream",
     "text": [
      "0:\ttest: 0.7723739\tbest: 0.7723739 (0)\ttotal: 496ms\tremaining: 14m 51s\n",
      "100:\ttest: 0.9812729\tbest: 0.9812729 (100)\ttotal: 10.3s\tremaining: 2m 53s\n",
      "200:\ttest: 0.9902845\tbest: 0.9903150 (197)\ttotal: 20.5s\tremaining: 2m 42s\n",
      "300:\ttest: 0.9928917\tbest: 0.9928917 (300)\ttotal: 31s\tremaining: 2m 34s\n",
      "400:\ttest: 0.9943635\tbest: 0.9943635 (400)\ttotal: 41s\tremaining: 2m 22s\n",
      "500:\ttest: 0.9949468\tbest: 0.9949778 (496)\ttotal: 50s\tremaining: 2m 9s\n",
      "bestTest = 0.9951531253\n",
      "bestIteration = 528\n",
      "Metric AUC is not calculated on train by default. To calculate this metric on train, add hints=skip_train~false to metric parameters.\n",
      "80:\tloss: 0.9951531\tbest: 0.9961328 (5)\ttotal: 1h 3m 26s\tremaining: 5h 37m 32s\n"
     ]
    },
    {
     "name": "stderr",
     "output_type": "stream",
     "text": [
      "Default metric period is 5 because AUC is/are not implemented for GPU\n",
      "AUC is not implemented on GPU. Will use CPU for metric computation, this could significantly affect learning time\n"
     ]
    },
    {
     "name": "stdout",
     "output_type": "stream",
     "text": [
      "0:\ttest: 0.7717710\tbest: 0.7717710 (0)\ttotal: 69.4ms\tremaining: 2m 4s\n",
      "100:\ttest: 0.9789912\tbest: 0.9790317 (99)\ttotal: 10.6s\tremaining: 2m 59s\n",
      "200:\ttest: 0.9892770\tbest: 0.9893667 (197)\ttotal: 20.8s\tremaining: 2m 45s\n",
      "300:\ttest: 0.9919452\tbest: 0.9919452 (300)\ttotal: 31.4s\tremaining: 2m 36s\n",
      "400:\ttest: 0.9935509\tbest: 0.9935530 (399)\ttotal: 40.7s\tremaining: 2m 22s\n",
      "500:\ttest: 0.9944094\tbest: 0.9944279 (493)\ttotal: 50.4s\tremaining: 2m 10s\n",
      "bestTest = 0.994759313\n",
      "bestIteration = 541\n",
      "Metric AUC is not calculated on train by default. To calculate this metric on train, add hints=skip_train~false to metric parameters.\n",
      "81:\tloss: 0.9947593\tbest: 0.9961328 (5)\ttotal: 1h 4m 23s\tremaining: 5h 37m 37s\n"
     ]
    },
    {
     "name": "stderr",
     "output_type": "stream",
     "text": [
      "Default metric period is 5 because AUC is/are not implemented for GPU\n",
      "AUC is not implemented on GPU. Will use CPU for metric computation, this could significantly affect learning time\n"
     ]
    },
    {
     "name": "stdout",
     "output_type": "stream",
     "text": [
      "0:\ttest: 0.7721672\tbest: 0.7721672 (0)\ttotal: 144ms\tremaining: 4m 19s\n",
      "100:\ttest: 0.9793942\tbest: 0.9796112 (99)\ttotal: 10.6s\tremaining: 2m 57s\n",
      "200:\ttest: 0.9894212\tbest: 0.9894778 (199)\ttotal: 20.8s\tremaining: 2m 45s\n",
      "300:\ttest: 0.9917538\tbest: 0.9917700 (293)\ttotal: 30.6s\tremaining: 2m 32s\n",
      "400:\ttest: 0.9934585\tbest: 0.9934671 (398)\ttotal: 40.8s\tremaining: 2m 22s\n",
      "500:\ttest: 0.9943467\tbest: 0.9943467 (500)\ttotal: 51.1s\tremaining: 2m 12s\n",
      "600:\ttest: 0.9949352\tbest: 0.9949352 (600)\ttotal: 1m\tremaining: 2m\n",
      "700:\ttest: 0.9954125\tbest: 0.9954441 (695)\ttotal: 1m 9s\tremaining: 1m 48s\n",
      "bestTest = 0.9954441026\n",
      "bestIteration = 695\n",
      "Metric AUC is not calculated on train by default. To calculate this metric on train, add hints=skip_train~false to metric parameters.\n",
      "82:\tloss: 0.9954441\tbest: 0.9961328 (5)\ttotal: 1h 5m 34s\tremaining: 5h 38m 56s\n"
     ]
    },
    {
     "name": "stderr",
     "output_type": "stream",
     "text": [
      "Default metric period is 5 because AUC is/are not implemented for GPU\n",
      "AUC is not implemented on GPU. Will use CPU for metric computation, this could significantly affect learning time\n"
     ]
    },
    {
     "name": "stdout",
     "output_type": "stream",
     "text": [
      "0:\ttest: 0.7712753\tbest: 0.7712753 (0)\ttotal: 66.2ms\tremaining: 1m 59s\n",
      "100:\ttest: 0.9778802\tbest: 0.9778802 (100)\ttotal: 11.4s\tremaining: 3m 11s\n",
      "200:\ttest: 0.9884066\tbest: 0.9884960 (198)\ttotal: 21.2s\tremaining: 2m 48s\n",
      "300:\ttest: 0.9909074\tbest: 0.9909348 (296)\ttotal: 31.4s\tremaining: 2m 36s\n",
      "400:\ttest: 0.9927980\tbest: 0.9927980 (400)\ttotal: 41.2s\tremaining: 2m 23s\n",
      "500:\ttest: 0.9935090\tbest: 0.9935215 (489)\ttotal: 50.7s\tremaining: 2m 11s\n",
      "600:\ttest: 0.9942178\tbest: 0.9942394 (597)\ttotal: 1m\tremaining: 2m\n",
      "bestTest = 0.9944598713\n",
      "bestIteration = 622\n",
      "Metric AUC is not calculated on train by default. To calculate this metric on train, add hints=skip_train~false to metric parameters.\n",
      "83:\tloss: 0.9944599\tbest: 0.9961328 (5)\ttotal: 1h 6m 39s\tremaining: 5h 39m 40s\n"
     ]
    },
    {
     "name": "stderr",
     "output_type": "stream",
     "text": [
      "Default metric period is 5 because AUC is/are not implemented for GPU\n",
      "AUC is not implemented on GPU. Will use CPU for metric computation, this could significantly affect learning time\n"
     ]
    },
    {
     "name": "stdout",
     "output_type": "stream",
     "text": [
      "0:\ttest: 0.7723739\tbest: 0.7723739 (0)\ttotal: 66.6ms\tremaining: 2m 13s\n",
      "100:\ttest: 0.9812729\tbest: 0.9812729 (100)\ttotal: 10.2s\tremaining: 3m 11s\n",
      "200:\ttest: 0.9902845\tbest: 0.9903150 (197)\ttotal: 21.2s\tremaining: 3m 10s\n",
      "300:\ttest: 0.9928917\tbest: 0.9928917 (300)\ttotal: 31.6s\tremaining: 2m 58s\n",
      "400:\ttest: 0.9943635\tbest: 0.9943635 (400)\ttotal: 41s\tremaining: 2m 43s\n",
      "500:\ttest: 0.9949468\tbest: 0.9949778 (496)\ttotal: 51.3s\tremaining: 2m 33s\n",
      "bestTest = 0.9951531253\n",
      "bestIteration = 528\n",
      "Metric AUC is not calculated on train by default. To calculate this metric on train, add hints=skip_train~false to metric parameters.\n",
      "84:\tloss: 0.9951531\tbest: 0.9961328 (5)\ttotal: 1h 7m 36s\tremaining: 5h 39m 36s\n"
     ]
    },
    {
     "name": "stderr",
     "output_type": "stream",
     "text": [
      "Default metric period is 5 because AUC is/are not implemented for GPU\n",
      "AUC is not implemented on GPU. Will use CPU for metric computation, this could significantly affect learning time\n"
     ]
    },
    {
     "name": "stdout",
     "output_type": "stream",
     "text": [
      "0:\ttest: 0.7717710\tbest: 0.7717710 (0)\ttotal: 61.2ms\tremaining: 2m 2s\n",
      "100:\ttest: 0.9789912\tbest: 0.9790317 (99)\ttotal: 10.8s\tremaining: 3m 22s\n",
      "200:\ttest: 0.9892770\tbest: 0.9893667 (197)\ttotal: 20.4s\tremaining: 3m 2s\n",
      "300:\ttest: 0.9919452\tbest: 0.9919452 (300)\ttotal: 31.1s\tremaining: 2m 55s\n",
      "400:\ttest: 0.9935509\tbest: 0.9935530 (399)\ttotal: 41s\tremaining: 2m 43s\n",
      "500:\ttest: 0.9944094\tbest: 0.9944279 (493)\ttotal: 50.7s\tremaining: 2m 31s\n",
      "bestTest = 0.994759313\n",
      "bestIteration = 541\n",
      "Metric AUC is not calculated on train by default. To calculate this metric on train, add hints=skip_train~false to metric parameters.\n",
      "85:\tloss: 0.9947593\tbest: 0.9961328 (5)\ttotal: 1h 8m 33s\tremaining: 5h 39m 36s\n"
     ]
    },
    {
     "name": "stderr",
     "output_type": "stream",
     "text": [
      "Default metric period is 5 because AUC is/are not implemented for GPU\n",
      "AUC is not implemented on GPU. Will use CPU for metric computation, this could significantly affect learning time\n"
     ]
    },
    {
     "name": "stdout",
     "output_type": "stream",
     "text": [
      "0:\ttest: 0.7721672\tbest: 0.7721672 (0)\ttotal: 429ms\tremaining: 14m 17s\n",
      "100:\ttest: 0.9793942\tbest: 0.9796112 (99)\ttotal: 10.8s\tremaining: 3m 22s\n",
      "200:\ttest: 0.9894212\tbest: 0.9894778 (199)\ttotal: 20.8s\tremaining: 3m 6s\n",
      "300:\ttest: 0.9917538\tbest: 0.9917700 (293)\ttotal: 31.3s\tremaining: 2m 56s\n",
      "400:\ttest: 0.9934585\tbest: 0.9934671 (398)\ttotal: 41.1s\tremaining: 2m 44s\n",
      "500:\ttest: 0.9943467\tbest: 0.9943467 (500)\ttotal: 51.1s\tremaining: 2m 32s\n",
      "600:\ttest: 0.9949352\tbest: 0.9949352 (600)\ttotal: 1m\tremaining: 2m 20s\n",
      "700:\ttest: 0.9954125\tbest: 0.9954441 (695)\ttotal: 1m 9s\tremaining: 2m 8s\n",
      "bestTest = 0.9954441026\n",
      "bestIteration = 695\n",
      "Metric AUC is not calculated on train by default. To calculate this metric on train, add hints=skip_train~false to metric parameters.\n",
      "86:\tloss: 0.9954441\tbest: 0.9961328 (5)\ttotal: 1h 9m 45s\tremaining: 5h 40m 45s\n"
     ]
    },
    {
     "name": "stderr",
     "output_type": "stream",
     "text": [
      "Default metric period is 5 because AUC is/are not implemented for GPU\n",
      "AUC is not implemented on GPU. Will use CPU for metric computation, this could significantly affect learning time\n"
     ]
    },
    {
     "name": "stdout",
     "output_type": "stream",
     "text": [
      "0:\ttest: 0.7712753\tbest: 0.7712753 (0)\ttotal: 362ms\tremaining: 12m 2s\n",
      "100:\ttest: 0.9778802\tbest: 0.9778802 (100)\ttotal: 11.2s\tremaining: 3m 30s\n",
      "200:\ttest: 0.9884066\tbest: 0.9884960 (198)\ttotal: 21.4s\tremaining: 3m 11s\n",
      "300:\ttest: 0.9909074\tbest: 0.9909348 (296)\ttotal: 32s\tremaining: 3m\n",
      "400:\ttest: 0.9927980\tbest: 0.9927980 (400)\ttotal: 42.5s\tremaining: 2m 49s\n",
      "500:\ttest: 0.9935090\tbest: 0.9935215 (489)\ttotal: 52.3s\tremaining: 2m 36s\n",
      "600:\ttest: 0.9942178\tbest: 0.9942394 (597)\ttotal: 1m 1s\tremaining: 2m 22s\n",
      "bestTest = 0.9944598713\n",
      "bestIteration = 622\n",
      "Metric AUC is not calculated on train by default. To calculate this metric on train, add hints=skip_train~false to metric parameters.\n",
      "87:\tloss: 0.9944599\tbest: 0.9961328 (5)\ttotal: 1h 10m 51s\tremaining: 5h 41m 24s\n"
     ]
    },
    {
     "name": "stderr",
     "output_type": "stream",
     "text": [
      "Default metric period is 5 because AUC is/are not implemented for GPU\n",
      "AUC is not implemented on GPU. Will use CPU for metric computation, this could significantly affect learning time\n"
     ]
    },
    {
     "name": "stdout",
     "output_type": "stream",
     "text": [
      "0:\ttest: 0.7723739\tbest: 0.7723739 (0)\ttotal: 109ms\tremaining: 3m 59s\n",
      "100:\ttest: 0.9812729\tbest: 0.9812729 (100)\ttotal: 10.7s\tremaining: 3m 42s\n",
      "200:\ttest: 0.9902845\tbest: 0.9903150 (197)\ttotal: 21s\tremaining: 3m 29s\n",
      "300:\ttest: 0.9928917\tbest: 0.9928917 (300)\ttotal: 30.5s\tremaining: 3m 12s\n",
      "400:\ttest: 0.9943635\tbest: 0.9943635 (400)\ttotal: 40.6s\tremaining: 3m 2s\n",
      "500:\ttest: 0.9949468\tbest: 0.9949778 (496)\ttotal: 50.2s\tremaining: 2m 50s\n",
      "bestTest = 0.9951531253\n",
      "bestIteration = 528\n",
      "Metric AUC is not calculated on train by default. To calculate this metric on train, add hints=skip_train~false to metric parameters.\n",
      "88:\tloss: 0.9951531\tbest: 0.9961328 (5)\ttotal: 1h 11m 46s\tremaining: 5h 41m 9s\n"
     ]
    },
    {
     "name": "stderr",
     "output_type": "stream",
     "text": [
      "Default metric period is 5 because AUC is/are not implemented for GPU\n",
      "AUC is not implemented on GPU. Will use CPU for metric computation, this could significantly affect learning time\n"
     ]
    },
    {
     "name": "stdout",
     "output_type": "stream",
     "text": [
      "0:\ttest: 0.7717710\tbest: 0.7717710 (0)\ttotal: 62.5ms\tremaining: 2m 17s\n",
      "100:\ttest: 0.9789912\tbest: 0.9790317 (99)\ttotal: 10.7s\tremaining: 3m 42s\n",
      "200:\ttest: 0.9892770\tbest: 0.9893667 (197)\ttotal: 21s\tremaining: 3m 29s\n",
      "300:\ttest: 0.9919452\tbest: 0.9919452 (300)\ttotal: 31.1s\tremaining: 3m 16s\n",
      "400:\ttest: 0.9935509\tbest: 0.9935530 (399)\ttotal: 41s\tremaining: 3m 4s\n",
      "500:\ttest: 0.9944094\tbest: 0.9944279 (493)\ttotal: 50.9s\tremaining: 2m 52s\n",
      "bestTest = 0.994759313\n",
      "bestIteration = 541\n",
      "Metric AUC is not calculated on train by default. To calculate this metric on train, add hints=skip_train~false to metric parameters.\n",
      "89:\tloss: 0.9947593\tbest: 0.9961328 (5)\ttotal: 1h 12m 43s\tremaining: 5h 41m 2s\n"
     ]
    },
    {
     "name": "stderr",
     "output_type": "stream",
     "text": [
      "Default metric period is 5 because AUC is/are not implemented for GPU\n",
      "AUC is not implemented on GPU. Will use CPU for metric computation, this could significantly affect learning time\n"
     ]
    },
    {
     "name": "stdout",
     "output_type": "stream",
     "text": [
      "0:\ttest: 0.7721672\tbest: 0.7721672 (0)\ttotal: 118ms\tremaining: 4m 20s\n",
      "100:\ttest: 0.9793942\tbest: 0.9796112 (99)\ttotal: 10.3s\tremaining: 3m 33s\n",
      "200:\ttest: 0.9894212\tbest: 0.9894778 (199)\ttotal: 21s\tremaining: 3m 28s\n",
      "300:\ttest: 0.9917538\tbest: 0.9917700 (293)\ttotal: 30.5s\tremaining: 3m 12s\n",
      "400:\ttest: 0.9934585\tbest: 0.9934671 (398)\ttotal: 40.9s\tremaining: 3m 3s\n",
      "500:\ttest: 0.9943467\tbest: 0.9943467 (500)\ttotal: 50.3s\tremaining: 2m 50s\n",
      "600:\ttest: 0.9949352\tbest: 0.9949352 (600)\ttotal: 1m\tremaining: 2m 40s\n",
      "700:\ttest: 0.9954125\tbest: 0.9954441 (695)\ttotal: 1m 9s\tremaining: 2m 29s\n",
      "bestTest = 0.9954441026\n",
      "bestIteration = 695\n",
      "Metric AUC is not calculated on train by default. To calculate this metric on train, add hints=skip_train~false to metric parameters.\n",
      "90:\tloss: 0.9954441\tbest: 0.9961328 (5)\ttotal: 1h 13m 55s\tremaining: 5h 42m 1s\n"
     ]
    },
    {
     "name": "stderr",
     "output_type": "stream",
     "text": [
      "Default metric period is 5 because AUC is/are not implemented for GPU\n",
      "AUC is not implemented on GPU. Will use CPU for metric computation, this could significantly affect learning time\n"
     ]
    },
    {
     "name": "stdout",
     "output_type": "stream",
     "text": [
      "0:\ttest: 0.7712753\tbest: 0.7712753 (0)\ttotal: 65.8ms\tremaining: 2m 24s\n",
      "100:\ttest: 0.9778802\tbest: 0.9778802 (100)\ttotal: 10.5s\tremaining: 3m 38s\n",
      "200:\ttest: 0.9884066\tbest: 0.9884960 (198)\ttotal: 20.8s\tremaining: 3m 26s\n",
      "300:\ttest: 0.9909074\tbest: 0.9909348 (296)\ttotal: 31.4s\tremaining: 3m 18s\n",
      "400:\ttest: 0.9927980\tbest: 0.9927980 (400)\ttotal: 41.8s\tremaining: 3m 7s\n",
      "500:\ttest: 0.9935090\tbest: 0.9935215 (489)\ttotal: 51.5s\tremaining: 2m 54s\n",
      "600:\ttest: 0.9942178\tbest: 0.9942394 (597)\ttotal: 1m 1s\tremaining: 2m 42s\n",
      "bestTest = 0.9944598713\n",
      "bestIteration = 622\n",
      "Metric AUC is not calculated on train by default. To calculate this metric on train, add hints=skip_train~false to metric parameters.\n",
      "91:\tloss: 0.9944599\tbest: 0.9961328 (5)\ttotal: 1h 15m 1s\tremaining: 5h 42m 31s\n"
     ]
    },
    {
     "name": "stderr",
     "output_type": "stream",
     "text": [
      "Default metric period is 5 because AUC is/are not implemented for GPU\n",
      "AUC is not implemented on GPU. Will use CPU for metric computation, this could significantly affect learning time\n"
     ]
    },
    {
     "name": "stdout",
     "output_type": "stream",
     "text": [
      "0:\ttest: 0.7723739\tbest: 0.7723739 (0)\ttotal: 136ms\tremaining: 5m 25s\n",
      "100:\ttest: 0.9812729\tbest: 0.9812729 (100)\ttotal: 9.97s\tremaining: 3m 47s\n",
      "200:\ttest: 0.9902845\tbest: 0.9903150 (197)\ttotal: 20.4s\tremaining: 3m 42s\n",
      "300:\ttest: 0.9928917\tbest: 0.9928917 (300)\ttotal: 30.5s\tremaining: 3m 32s\n",
      "400:\ttest: 0.9943635\tbest: 0.9943635 (400)\ttotal: 40.7s\tremaining: 3m 22s\n",
      "500:\ttest: 0.9949468\tbest: 0.9949778 (496)\ttotal: 49.9s\tremaining: 3m 9s\n",
      "bestTest = 0.9951531253\n",
      "bestIteration = 528\n",
      "Metric AUC is not calculated on train by default. To calculate this metric on train, add hints=skip_train~false to metric parameters.\n",
      "92:\tloss: 0.9951531\tbest: 0.9961328 (5)\ttotal: 1h 15m 57s\tremaining: 5h 42m 12s\n"
     ]
    },
    {
     "name": "stderr",
     "output_type": "stream",
     "text": [
      "Default metric period is 5 because AUC is/are not implemented for GPU\n",
      "AUC is not implemented on GPU. Will use CPU for metric computation, this could significantly affect learning time\n"
     ]
    },
    {
     "name": "stdout",
     "output_type": "stream",
     "text": [
      "0:\ttest: 0.7717710\tbest: 0.7717710 (0)\ttotal: 132ms\tremaining: 5m 15s\n",
      "100:\ttest: 0.9789912\tbest: 0.9790317 (99)\ttotal: 10s\tremaining: 3m 48s\n",
      "200:\ttest: 0.9892770\tbest: 0.9893667 (197)\ttotal: 21s\tremaining: 3m 49s\n",
      "300:\ttest: 0.9919452\tbest: 0.9919452 (300)\ttotal: 30.6s\tremaining: 3m 33s\n",
      "400:\ttest: 0.9935509\tbest: 0.9935530 (399)\ttotal: 40.8s\tremaining: 3m 23s\n",
      "500:\ttest: 0.9944094\tbest: 0.9944279 (493)\ttotal: 50.4s\tremaining: 3m 11s\n",
      "bestTest = 0.994759313\n",
      "bestIteration = 541\n",
      "Metric AUC is not calculated on train by default. To calculate this metric on train, add hints=skip_train~false to metric parameters.\n",
      "93:\tloss: 0.9947593\tbest: 0.9961328 (5)\ttotal: 1h 16m 54s\tremaining: 5h 41m 58s\n"
     ]
    },
    {
     "name": "stderr",
     "output_type": "stream",
     "text": [
      "Default metric period is 5 because AUC is/are not implemented for GPU\n",
      "AUC is not implemented on GPU. Will use CPU for metric computation, this could significantly affect learning time\n"
     ]
    },
    {
     "name": "stdout",
     "output_type": "stream",
     "text": [
      "0:\ttest: 0.7721672\tbest: 0.7721672 (0)\ttotal: 58.9ms\tremaining: 2m 21s\n",
      "100:\ttest: 0.9793942\tbest: 0.9796112 (99)\ttotal: 10.2s\tremaining: 3m 51s\n",
      "200:\ttest: 0.9894212\tbest: 0.9894778 (199)\ttotal: 20.6s\tremaining: 3m 45s\n",
      "300:\ttest: 0.9917538\tbest: 0.9917700 (293)\ttotal: 30.9s\tremaining: 3m 35s\n",
      "400:\ttest: 0.9934585\tbest: 0.9934671 (398)\ttotal: 40.5s\tremaining: 3m 21s\n",
      "500:\ttest: 0.9943467\tbest: 0.9943467 (500)\ttotal: 49.9s\tremaining: 3m 9s\n",
      "600:\ttest: 0.9949352\tbest: 0.9949352 (600)\ttotal: 1m\tremaining: 2m 59s\n",
      "700:\ttest: 0.9954125\tbest: 0.9954441 (695)\ttotal: 1m 8s\tremaining: 2m 47s\n",
      "bestTest = 0.9954441026\n",
      "bestIteration = 695\n",
      "Metric AUC is not calculated on train by default. To calculate this metric on train, add hints=skip_train~false to metric parameters.\n",
      "94:\tloss: 0.9954441\tbest: 0.9961328 (5)\ttotal: 1h 18m 5s\tremaining: 5h 42m 45s\n"
     ]
    },
    {
     "name": "stderr",
     "output_type": "stream",
     "text": [
      "Default metric period is 5 because AUC is/are not implemented for GPU\n",
      "AUC is not implemented on GPU. Will use CPU for metric computation, this could significantly affect learning time\n"
     ]
    },
    {
     "name": "stdout",
     "output_type": "stream",
     "text": [
      "0:\ttest: 0.7712753\tbest: 0.7712753 (0)\ttotal: 116ms\tremaining: 4m 37s\n",
      "100:\ttest: 0.9778802\tbest: 0.9778802 (100)\ttotal: 10.4s\tremaining: 3m 56s\n",
      "200:\ttest: 0.9884066\tbest: 0.9884960 (198)\ttotal: 20.9s\tremaining: 3m 48s\n",
      "300:\ttest: 0.9909074\tbest: 0.9909348 (296)\ttotal: 30.9s\tremaining: 3m 35s\n",
      "400:\ttest: 0.9927980\tbest: 0.9927980 (400)\ttotal: 41s\tremaining: 3m 24s\n",
      "500:\ttest: 0.9935090\tbest: 0.9935215 (489)\ttotal: 50.9s\tremaining: 3m 12s\n",
      "600:\ttest: 0.9942178\tbest: 0.9942394 (597)\ttotal: 1m\tremaining: 3m\n",
      "bestTest = 0.9944598713\n",
      "bestIteration = 622\n",
      "Metric AUC is not calculated on train by default. To calculate this metric on train, add hints=skip_train~false to metric parameters.\n",
      "95:\tloss: 0.9944599\tbest: 0.9961328 (5)\ttotal: 1h 19m 10s\tremaining: 5h 43m 5s\n"
     ]
    },
    {
     "name": "stderr",
     "output_type": "stream",
     "text": [
      "Default metric period is 5 because AUC is/are not implemented for GPU\n",
      "AUC is not implemented on GPU. Will use CPU for metric computation, this could significantly affect learning time\n"
     ]
    },
    {
     "name": "stdout",
     "output_type": "stream",
     "text": [
      "0:\ttest: 0.7723739\tbest: 0.7723739 (0)\ttotal: 58.1ms\tremaining: 2m 30s\n",
      "100:\ttest: 0.9812729\tbest: 0.9812729 (100)\ttotal: 10.3s\tremaining: 4m 14s\n",
      "200:\ttest: 0.9902845\tbest: 0.9903150 (197)\ttotal: 20.8s\tremaining: 4m 8s\n",
      "300:\ttest: 0.9928917\tbest: 0.9928917 (300)\ttotal: 31.2s\tremaining: 3m 58s\n",
      "400:\ttest: 0.9943635\tbest: 0.9943635 (400)\ttotal: 40.9s\tremaining: 3m 44s\n",
      "500:\ttest: 0.9949468\tbest: 0.9949778 (496)\ttotal: 50.2s\tremaining: 3m 30s\n",
      "bestTest = 0.9951531253\n",
      "bestIteration = 528\n",
      "Metric AUC is not calculated on train by default. To calculate this metric on train, add hints=skip_train~false to metric parameters.\n",
      "96:\tloss: 0.9951531\tbest: 0.9961328 (5)\ttotal: 1h 20m 6s\tremaining: 5h 42m 42s\n"
     ]
    },
    {
     "name": "stderr",
     "output_type": "stream",
     "text": [
      "Default metric period is 5 because AUC is/are not implemented for GPU\n",
      "AUC is not implemented on GPU. Will use CPU for metric computation, this could significantly affect learning time\n"
     ]
    },
    {
     "name": "stdout",
     "output_type": "stream",
     "text": [
      "0:\ttest: 0.7717710\tbest: 0.7717710 (0)\ttotal: 118ms\tremaining: 5m 7s\n",
      "100:\ttest: 0.9789912\tbest: 0.9790317 (99)\ttotal: 10s\tremaining: 4m 8s\n",
      "200:\ttest: 0.9892770\tbest: 0.9893667 (197)\ttotal: 20.1s\tremaining: 3m 59s\n",
      "300:\ttest: 0.9919452\tbest: 0.9919452 (300)\ttotal: 30.2s\tremaining: 3m 50s\n",
      "400:\ttest: 0.9935509\tbest: 0.9935530 (399)\ttotal: 40.1s\tremaining: 3m 39s\n",
      "500:\ttest: 0.9944094\tbest: 0.9944279 (493)\ttotal: 50.3s\tremaining: 3m 30s\n",
      "bestTest = 0.994759313\n",
      "bestIteration = 541\n",
      "Metric AUC is not calculated on train by default. To calculate this metric on train, add hints=skip_train~false to metric parameters.\n",
      "97:\tloss: 0.9947593\tbest: 0.9961328 (5)\ttotal: 1h 21m 2s\tremaining: 5h 42m 21s\n"
     ]
    },
    {
     "name": "stderr",
     "output_type": "stream",
     "text": [
      "Default metric period is 5 because AUC is/are not implemented for GPU\n",
      "AUC is not implemented on GPU. Will use CPU for metric computation, this could significantly affect learning time\n"
     ]
    },
    {
     "name": "stdout",
     "output_type": "stream",
     "text": [
      "0:\ttest: 0.7721672\tbest: 0.7721672 (0)\ttotal: 406ms\tremaining: 17m 34s\n",
      "100:\ttest: 0.9793942\tbest: 0.9796112 (99)\ttotal: 10.5s\tremaining: 4m 20s\n",
      "200:\ttest: 0.9894212\tbest: 0.9894778 (199)\ttotal: 20.7s\tremaining: 4m 7s\n",
      "300:\ttest: 0.9917538\tbest: 0.9917700 (293)\ttotal: 30.7s\tremaining: 3m 54s\n",
      "400:\ttest: 0.9934585\tbest: 0.9934671 (398)\ttotal: 40.1s\tremaining: 3m 40s\n",
      "500:\ttest: 0.9943467\tbest: 0.9943467 (500)\ttotal: 50.1s\tremaining: 3m 29s\n",
      "600:\ttest: 0.9949352\tbest: 0.9949352 (600)\ttotal: 59.6s\tremaining: 3m 18s\n",
      "700:\ttest: 0.9954125\tbest: 0.9954441 (695)\ttotal: 1m 8s\tremaining: 3m 6s\n",
      "bestTest = 0.9954441026\n",
      "bestIteration = 695\n",
      "Metric AUC is not calculated on train by default. To calculate this metric on train, add hints=skip_train~false to metric parameters.\n",
      "98:\tloss: 0.9954441\tbest: 0.9961328 (5)\ttotal: 1h 22m 13s\tremaining: 5h 43m\n"
     ]
    },
    {
     "name": "stderr",
     "output_type": "stream",
     "text": [
      "Default metric period is 5 because AUC is/are not implemented for GPU\n",
      "AUC is not implemented on GPU. Will use CPU for metric computation, this could significantly affect learning time\n"
     ]
    },
    {
     "name": "stdout",
     "output_type": "stream",
     "text": [
      "0:\ttest: 0.7712753\tbest: 0.7712753 (0)\ttotal: 215ms\tremaining: 9m 19s\n",
      "100:\ttest: 0.9778802\tbest: 0.9778802 (100)\ttotal: 10.5s\tremaining: 4m 18s\n",
      "200:\ttest: 0.9884066\tbest: 0.9884960 (198)\ttotal: 20.7s\tremaining: 4m 6s\n",
      "300:\ttest: 0.9909074\tbest: 0.9909348 (296)\ttotal: 30.8s\tremaining: 3m 55s\n",
      "400:\ttest: 0.9927980\tbest: 0.9927980 (400)\ttotal: 41.2s\tremaining: 3m 45s\n",
      "500:\ttest: 0.9935090\tbest: 0.9935215 (489)\ttotal: 51.2s\tremaining: 3m 34s\n",
      "600:\ttest: 0.9942178\tbest: 0.9942394 (597)\ttotal: 1m 1s\tremaining: 3m 23s\n",
      "bestTest = 0.9944598713\n",
      "bestIteration = 622\n",
      "Metric AUC is not calculated on train by default. To calculate this metric on train, add hints=skip_train~false to metric parameters.\n",
      "99:\tloss: 0.9944599\tbest: 0.9961328 (5)\ttotal: 1h 23m 18s\tremaining: 5h 43m 15s\n"
     ]
    },
    {
     "name": "stderr",
     "output_type": "stream",
     "text": [
      "Default metric period is 5 because AUC is/are not implemented for GPU\n",
      "AUC is not implemented on GPU. Will use CPU for metric computation, this could significantly affect learning time\n"
     ]
    },
    {
     "name": "stdout",
     "output_type": "stream",
     "text": [
      "0:\ttest: 0.7723739\tbest: 0.7723739 (0)\ttotal: 63.5ms\tremaining: 2m 57s\n",
      "100:\ttest: 0.9812729\tbest: 0.9812729 (100)\ttotal: 10.5s\tremaining: 4m 39s\n",
      "200:\ttest: 0.9902845\tbest: 0.9903150 (197)\ttotal: 21s\tremaining: 4m 31s\n",
      "300:\ttest: 0.9928917\tbest: 0.9928917 (300)\ttotal: 31.1s\tremaining: 4m 18s\n",
      "400:\ttest: 0.9943635\tbest: 0.9943635 (400)\ttotal: 41s\tremaining: 4m 5s\n",
      "500:\ttest: 0.9949468\tbest: 0.9949778 (496)\ttotal: 50.7s\tremaining: 3m 52s\n",
      "bestTest = 0.9951531253\n",
      "bestIteration = 528\n",
      "Metric AUC is not calculated on train by default. To calculate this metric on train, add hints=skip_train~false to metric parameters.\n",
      "100:\tloss: 0.9951531\tbest: 0.9961328 (5)\ttotal: 1h 24m 14s\tremaining: 5h 42m 48s\n"
     ]
    },
    {
     "name": "stderr",
     "output_type": "stream",
     "text": [
      "Default metric period is 5 because AUC is/are not implemented for GPU\n",
      "AUC is not implemented on GPU. Will use CPU for metric computation, this could significantly affect learning time\n"
     ]
    },
    {
     "name": "stdout",
     "output_type": "stream",
     "text": [
      "0:\ttest: 0.7717710\tbest: 0.7717710 (0)\ttotal: 65.3ms\tremaining: 3m 2s\n",
      "100:\ttest: 0.9789912\tbest: 0.9790317 (99)\ttotal: 10.3s\tremaining: 4m 35s\n",
      "200:\ttest: 0.9892770\tbest: 0.9893667 (197)\ttotal: 21s\tremaining: 4m 31s\n",
      "300:\ttest: 0.9919452\tbest: 0.9919452 (300)\ttotal: 31.4s\tremaining: 4m 20s\n",
      "400:\ttest: 0.9935509\tbest: 0.9935530 (399)\ttotal: 41.2s\tremaining: 4m 6s\n",
      "500:\ttest: 0.9944094\tbest: 0.9944279 (493)\ttotal: 50.8s\tremaining: 3m 53s\n",
      "bestTest = 0.994759313\n",
      "bestIteration = 541\n",
      "Metric AUC is not calculated on train by default. To calculate this metric on train, add hints=skip_train~false to metric parameters.\n",
      "101:\tloss: 0.9947593\tbest: 0.9961328 (5)\ttotal: 1h 25m 11s\tremaining: 5h 42m 27s\n"
     ]
    },
    {
     "name": "stderr",
     "output_type": "stream",
     "text": [
      "Default metric period is 5 because AUC is/are not implemented for GPU\n",
      "AUC is not implemented on GPU. Will use CPU for metric computation, this could significantly affect learning time\n"
     ]
    },
    {
     "name": "stdout",
     "output_type": "stream",
     "text": [
      "0:\ttest: 0.7721672\tbest: 0.7721672 (0)\ttotal: 109ms\tremaining: 5m 5s\n",
      "100:\ttest: 0.9793942\tbest: 0.9796112 (99)\ttotal: 10.8s\tremaining: 4m 48s\n",
      "200:\ttest: 0.9894212\tbest: 0.9894778 (199)\ttotal: 20.8s\tremaining: 4m 28s\n",
      "300:\ttest: 0.9917538\tbest: 0.9917700 (293)\ttotal: 31.5s\tremaining: 4m 21s\n",
      "400:\ttest: 0.9934585\tbest: 0.9934671 (398)\ttotal: 41.3s\tremaining: 4m 6s\n",
      "500:\ttest: 0.9943467\tbest: 0.9943467 (500)\ttotal: 51.2s\tremaining: 3m 54s\n",
      "600:\ttest: 0.9949352\tbest: 0.9949352 (600)\ttotal: 1m\tremaining: 3m 42s\n",
      "700:\ttest: 0.9954125\tbest: 0.9954441 (695)\ttotal: 1m 9s\tremaining: 3m 29s\n",
      "bestTest = 0.9954441026\n",
      "bestIteration = 695\n",
      "Metric AUC is not calculated on train by default. To calculate this metric on train, add hints=skip_train~false to metric parameters.\n",
      "102:\tloss: 0.9954441\tbest: 0.9961328 (5)\ttotal: 1h 26m 24s\tremaining: 5h 43m 5s\n"
     ]
    },
    {
     "name": "stderr",
     "output_type": "stream",
     "text": [
      "Default metric period is 5 because AUC is/are not implemented for GPU\n",
      "AUC is not implemented on GPU. Will use CPU for metric computation, this could significantly affect learning time\n"
     ]
    },
    {
     "name": "stdout",
     "output_type": "stream",
     "text": [
      "0:\ttest: 0.7712753\tbest: 0.7712753 (0)\ttotal: 64.8ms\tremaining: 3m 1s\n",
      "100:\ttest: 0.9778802\tbest: 0.9778802 (100)\ttotal: 11.1s\tremaining: 4m 55s\n",
      "200:\ttest: 0.9884066\tbest: 0.9884960 (198)\ttotal: 20.9s\tremaining: 4m 30s\n",
      "300:\ttest: 0.9909074\tbest: 0.9909348 (296)\ttotal: 31s\tremaining: 4m 17s\n",
      "400:\ttest: 0.9927980\tbest: 0.9927980 (400)\ttotal: 41.1s\tremaining: 4m 5s\n",
      "500:\ttest: 0.9935090\tbest: 0.9935215 (489)\ttotal: 51.5s\tremaining: 3m 56s\n",
      "600:\ttest: 0.9942178\tbest: 0.9942394 (597)\ttotal: 1m 1s\tremaining: 3m 43s\n",
      "bestTest = 0.9944598713\n",
      "bestIteration = 622\n",
      "Metric AUC is not calculated on train by default. To calculate this metric on train, add hints=skip_train~false to metric parameters.\n",
      "103:\tloss: 0.9944599\tbest: 0.9961328 (5)\ttotal: 1h 27m 29s\tremaining: 5h 43m 15s\n"
     ]
    },
    {
     "name": "stderr",
     "output_type": "stream",
     "text": [
      "Default metric period is 5 because AUC is/are not implemented for GPU\n",
      "AUC is not implemented on GPU. Will use CPU for metric computation, this could significantly affect learning time\n"
     ]
    },
    {
     "name": "stdout",
     "output_type": "stream",
     "text": [
      "0:\ttest: 0.7723739\tbest: 0.7723739 (0)\ttotal: 67.8ms\tremaining: 3m 23s\n",
      "100:\ttest: 0.9812729\tbest: 0.9812729 (100)\ttotal: 9.99s\tremaining: 4m 46s\n",
      "200:\ttest: 0.9902845\tbest: 0.9903150 (197)\ttotal: 20.3s\tremaining: 4m 43s\n",
      "300:\ttest: 0.9928917\tbest: 0.9928917 (300)\ttotal: 31s\tremaining: 4m 38s\n",
      "400:\ttest: 0.9943635\tbest: 0.9943635 (400)\ttotal: 40.9s\tremaining: 4m 24s\n",
      "500:\ttest: 0.9949468\tbest: 0.9949778 (496)\ttotal: 49.7s\tremaining: 4m 7s\n",
      "bestTest = 0.9951531253\n",
      "bestIteration = 528\n",
      "Metric AUC is not calculated on train by default. To calculate this metric on train, add hints=skip_train~false to metric parameters.\n",
      "104:\tloss: 0.9951531\tbest: 0.9961328 (5)\ttotal: 1h 28m 24s\tremaining: 5h 42m 42s\n"
     ]
    },
    {
     "name": "stderr",
     "output_type": "stream",
     "text": [
      "Default metric period is 5 because AUC is/are not implemented for GPU\n",
      "AUC is not implemented on GPU. Will use CPU for metric computation, this could significantly affect learning time\n"
     ]
    },
    {
     "name": "stdout",
     "output_type": "stream",
     "text": [
      "0:\ttest: 0.7717710\tbest: 0.7717710 (0)\ttotal: 66.9ms\tremaining: 3m 20s\n",
      "100:\ttest: 0.9789912\tbest: 0.9790317 (99)\ttotal: 10.6s\tremaining: 5m 3s\n",
      "200:\ttest: 0.9892770\tbest: 0.9893667 (197)\ttotal: 20.7s\tremaining: 4m 48s\n",
      "300:\ttest: 0.9919452\tbest: 0.9919452 (300)\ttotal: 30.4s\tremaining: 4m 32s\n",
      "400:\ttest: 0.9935509\tbest: 0.9935530 (399)\ttotal: 41.1s\tremaining: 4m 26s\n",
      "500:\ttest: 0.9944094\tbest: 0.9944279 (493)\ttotal: 50.8s\tremaining: 4m 13s\n",
      "bestTest = 0.994759313\n",
      "bestIteration = 541\n",
      "Metric AUC is not calculated on train by default. To calculate this metric on train, add hints=skip_train~false to metric parameters.\n",
      "105:\tloss: 0.9947593\tbest: 0.9961328 (5)\ttotal: 1h 29m 22s\tremaining: 5h 42m 19s\n"
     ]
    },
    {
     "name": "stderr",
     "output_type": "stream",
     "text": [
      "Default metric period is 5 because AUC is/are not implemented for GPU\n",
      "AUC is not implemented on GPU. Will use CPU for metric computation, this could significantly affect learning time\n"
     ]
    },
    {
     "name": "stdout",
     "output_type": "stream",
     "text": [
      "0:\ttest: 0.7721672\tbest: 0.7721672 (0)\ttotal: 69.2ms\tremaining: 3m 27s\n",
      "100:\ttest: 0.9793942\tbest: 0.9796112 (99)\ttotal: 10.8s\tremaining: 5m 10s\n",
      "200:\ttest: 0.9894212\tbest: 0.9894778 (199)\ttotal: 21s\tremaining: 4m 51s\n",
      "300:\ttest: 0.9917538\tbest: 0.9917700 (293)\ttotal: 31.4s\tremaining: 4m 41s\n",
      "400:\ttest: 0.9934585\tbest: 0.9934671 (398)\ttotal: 41.3s\tremaining: 4m 27s\n",
      "500:\ttest: 0.9943467\tbest: 0.9943467 (500)\ttotal: 51.1s\tremaining: 4m 14s\n",
      "600:\ttest: 0.9949352\tbest: 0.9949352 (600)\ttotal: 1m\tremaining: 4m 2s\n",
      "700:\ttest: 0.9954125\tbest: 0.9954441 (695)\ttotal: 1m 10s\tremaining: 3m 52s\n",
      "bestTest = 0.9954441026\n",
      "bestIteration = 695\n",
      "Metric AUC is not calculated on train by default. To calculate this metric on train, add hints=skip_train~false to metric parameters.\n",
      "106:\tloss: 0.9954441\tbest: 0.9961328 (5)\ttotal: 1h 30m 35s\tremaining: 5h 42m 52s\n"
     ]
    },
    {
     "name": "stderr",
     "output_type": "stream",
     "text": [
      "Default metric period is 5 because AUC is/are not implemented for GPU\n",
      "AUC is not implemented on GPU. Will use CPU for metric computation, this could significantly affect learning time\n"
     ]
    },
    {
     "name": "stdout",
     "output_type": "stream",
     "text": [
      "0:\ttest: 0.7712753\tbest: 0.7712753 (0)\ttotal: 114ms\tremaining: 5m 40s\n",
      "100:\ttest: 0.9778802\tbest: 0.9778802 (100)\ttotal: 10.4s\tremaining: 4m 57s\n",
      "200:\ttest: 0.9884066\tbest: 0.9884960 (198)\ttotal: 20.8s\tremaining: 4m 49s\n",
      "300:\ttest: 0.9909074\tbest: 0.9909348 (296)\ttotal: 31.1s\tremaining: 4m 38s\n",
      "400:\ttest: 0.9927980\tbest: 0.9927980 (400)\ttotal: 41s\tremaining: 4m 25s\n",
      "500:\ttest: 0.9935090\tbest: 0.9935215 (489)\ttotal: 51s\tremaining: 4m 14s\n",
      "600:\ttest: 0.9942178\tbest: 0.9942394 (597)\ttotal: 1m\tremaining: 4m 2s\n",
      "bestTest = 0.9944598713\n",
      "bestIteration = 622\n",
      "Metric AUC is not calculated on train by default. To calculate this metric on train, add hints=skip_train~false to metric parameters.\n",
      "107:\tloss: 0.9944599\tbest: 0.9961328 (5)\ttotal: 1h 31m 40s\tremaining: 5h 42m 56s\n"
     ]
    },
    {
     "name": "stderr",
     "output_type": "stream",
     "text": [
      "Default metric period is 5 because AUC is/are not implemented for GPU\n",
      "AUC is not implemented on GPU. Will use CPU for metric computation, this could significantly affect learning time\n"
     ]
    },
    {
     "name": "stdout",
     "output_type": "stream",
     "text": [
      "0:\ttest: 0.7723739\tbest: 0.7723739 (0)\ttotal: 63.5ms\tremaining: 3m 23s\n",
      "100:\ttest: 0.9812729\tbest: 0.9812729 (100)\ttotal: 9.95s\tremaining: 5m 5s\n",
      "200:\ttest: 0.9902845\tbest: 0.9903150 (197)\ttotal: 20.5s\tremaining: 5m 5s\n",
      "300:\ttest: 0.9928917\tbest: 0.9928917 (300)\ttotal: 30.3s\tremaining: 4m 51s\n",
      "400:\ttest: 0.9943635\tbest: 0.9943635 (400)\ttotal: 40.6s\tremaining: 4m 43s\n",
      "500:\ttest: 0.9949468\tbest: 0.9949778 (496)\ttotal: 50.3s\tremaining: 4m 31s\n",
      "bestTest = 0.9951531253\n",
      "bestIteration = 528\n",
      "Metric AUC is not calculated on train by default. To calculate this metric on train, add hints=skip_train~false to metric parameters.\n",
      "108:\tloss: 0.9951531\tbest: 0.9961328 (5)\ttotal: 1h 32m 36s\tremaining: 5h 42m 22s\n"
     ]
    },
    {
     "name": "stderr",
     "output_type": "stream",
     "text": [
      "Default metric period is 5 because AUC is/are not implemented for GPU\n",
      "AUC is not implemented on GPU. Will use CPU for metric computation, this could significantly affect learning time\n"
     ]
    },
    {
     "name": "stdout",
     "output_type": "stream",
     "text": [
      "0:\ttest: 0.7717710\tbest: 0.7717710 (0)\ttotal: 115ms\tremaining: 6m 8s\n",
      "100:\ttest: 0.9789912\tbest: 0.9790317 (99)\ttotal: 10.6s\tremaining: 5m 26s\n",
      "200:\ttest: 0.9892770\tbest: 0.9893667 (197)\ttotal: 20.9s\tremaining: 5m 12s\n",
      "300:\ttest: 0.9919452\tbest: 0.9919452 (300)\ttotal: 31.1s\tremaining: 4m 59s\n",
      "400:\ttest: 0.9935509\tbest: 0.9935530 (399)\ttotal: 40.6s\tremaining: 4m 43s\n",
      "500:\ttest: 0.9944094\tbest: 0.9944279 (493)\ttotal: 50.4s\tremaining: 4m 31s\n",
      "bestTest = 0.994759313\n",
      "bestIteration = 541\n",
      "Metric AUC is not calculated on train by default. To calculate this metric on train, add hints=skip_train~false to metric parameters.\n",
      "109:\tloss: 0.9947593\tbest: 0.9961328 (5)\ttotal: 1h 33m 33s\tremaining: 5h 41m 55s\n"
     ]
    },
    {
     "name": "stderr",
     "output_type": "stream",
     "text": [
      "Default metric period is 5 because AUC is/are not implemented for GPU\n",
      "AUC is not implemented on GPU. Will use CPU for metric computation, this could significantly affect learning time\n"
     ]
    },
    {
     "name": "stdout",
     "output_type": "stream",
     "text": [
      "0:\ttest: 0.7721672\tbest: 0.7721672 (0)\ttotal: 114ms\tremaining: 6m 3s\n",
      "100:\ttest: 0.9793942\tbest: 0.9796112 (99)\ttotal: 10.2s\tremaining: 5m 12s\n",
      "200:\ttest: 0.9894212\tbest: 0.9894778 (199)\ttotal: 21s\tremaining: 5m 13s\n",
      "300:\ttest: 0.9917538\tbest: 0.9917700 (293)\ttotal: 30.8s\tremaining: 4m 56s\n",
      "400:\ttest: 0.9934585\tbest: 0.9934671 (398)\ttotal: 41.1s\tremaining: 4m 47s\n",
      "500:\ttest: 0.9943467\tbest: 0.9943467 (500)\ttotal: 50.6s\tremaining: 4m 32s\n",
      "600:\ttest: 0.9949352\tbest: 0.9949352 (600)\ttotal: 1m\tremaining: 4m 23s\n",
      "700:\ttest: 0.9954125\tbest: 0.9954441 (695)\ttotal: 1m 9s\tremaining: 4m 9s\n",
      "bestTest = 0.9954441026\n",
      "bestIteration = 695\n",
      "Metric AUC is not calculated on train by default. To calculate this metric on train, add hints=skip_train~false to metric parameters.\n",
      "110:\tloss: 0.9954441\tbest: 0.9961328 (5)\ttotal: 1h 34m 45s\tremaining: 5h 42m 20s\n"
     ]
    },
    {
     "name": "stderr",
     "output_type": "stream",
     "text": [
      "Default metric period is 5 because AUC is/are not implemented for GPU\n",
      "AUC is not implemented on GPU. Will use CPU for metric computation, this could significantly affect learning time\n"
     ]
    },
    {
     "name": "stdout",
     "output_type": "stream",
     "text": [
      "0:\ttest: 0.7712753\tbest: 0.7712753 (0)\ttotal: 68.6ms\tremaining: 3m 39s\n",
      "100:\ttest: 0.9778802\tbest: 0.9778802 (100)\ttotal: 10.8s\tremaining: 5m 30s\n",
      "200:\ttest: 0.9884066\tbest: 0.9884960 (198)\ttotal: 20.9s\tremaining: 5m 11s\n",
      "300:\ttest: 0.9909074\tbest: 0.9909348 (296)\ttotal: 31s\tremaining: 4m 58s\n",
      "400:\ttest: 0.9927980\tbest: 0.9927980 (400)\ttotal: 41s\tremaining: 4m 46s\n",
      "500:\ttest: 0.9935090\tbest: 0.9935215 (489)\ttotal: 51.4s\tremaining: 4m 36s\n",
      "600:\ttest: 0.9942178\tbest: 0.9942394 (597)\ttotal: 1m\tremaining: 4m 22s\n",
      "bestTest = 0.9944598713\n",
      "bestIteration = 622\n",
      "Metric AUC is not calculated on train by default. To calculate this metric on train, add hints=skip_train~false to metric parameters.\n",
      "111:\tloss: 0.9944599\tbest: 0.9961328 (5)\ttotal: 1h 35m 50s\tremaining: 5h 42m 19s\n"
     ]
    },
    {
     "name": "stderr",
     "output_type": "stream",
     "text": [
      "Default metric period is 5 because AUC is/are not implemented for GPU\n",
      "AUC is not implemented on GPU. Will use CPU for metric computation, this could significantly affect learning time\n"
     ]
    },
    {
     "name": "stdout",
     "output_type": "stream",
     "text": [
      "0:\ttest: 0.7723739\tbest: 0.7723739 (0)\ttotal: 112ms\tremaining: 6m 21s\n",
      "100:\ttest: 0.9812729\tbest: 0.9812729 (100)\ttotal: 9.94s\tremaining: 5m 24s\n",
      "200:\ttest: 0.9902845\tbest: 0.9903150 (197)\ttotal: 20.2s\tremaining: 5m 21s\n",
      "300:\ttest: 0.9928917\tbest: 0.9928917 (300)\ttotal: 30.8s\tremaining: 5m 16s\n",
      "400:\ttest: 0.9943635\tbest: 0.9943635 (400)\ttotal: 40s\tremaining: 4m 59s\n",
      "500:\ttest: 0.9949468\tbest: 0.9949778 (496)\ttotal: 49.6s\tremaining: 4m 46s\n",
      "bestTest = 0.9951531253\n",
      "bestIteration = 528\n",
      "Metric AUC is not calculated on train by default. To calculate this metric on train, add hints=skip_train~false to metric parameters.\n",
      "112:\tloss: 0.9951531\tbest: 0.9961328 (5)\ttotal: 1h 36m 45s\tremaining: 5h 41m 38s\n"
     ]
    },
    {
     "name": "stderr",
     "output_type": "stream",
     "text": [
      "Default metric period is 5 because AUC is/are not implemented for GPU\n",
      "AUC is not implemented on GPU. Will use CPU for metric computation, this could significantly affect learning time\n"
     ]
    },
    {
     "name": "stdout",
     "output_type": "stream",
     "text": [
      "0:\ttest: 0.7717710\tbest: 0.7717710 (0)\ttotal: 67.9ms\tremaining: 3m 50s\n",
      "100:\ttest: 0.9789912\tbest: 0.9790317 (99)\ttotal: 10.5s\tremaining: 5m 42s\n",
      "200:\ttest: 0.9892770\tbest: 0.9893667 (197)\ttotal: 20.8s\tremaining: 5m 30s\n",
      "300:\ttest: 0.9919452\tbest: 0.9919452 (300)\ttotal: 30.7s\tremaining: 5m 16s\n",
      "400:\ttest: 0.9935509\tbest: 0.9935530 (399)\ttotal: 41.3s\tremaining: 5m 8s\n",
      "500:\ttest: 0.9944094\tbest: 0.9944279 (493)\ttotal: 50.7s\tremaining: 4m 53s\n",
      "bestTest = 0.994759313\n",
      "bestIteration = 541\n",
      "Metric AUC is not calculated on train by default. To calculate this metric on train, add hints=skip_train~false to metric parameters.\n",
      "113:\tloss: 0.9947593\tbest: 0.9961328 (5)\ttotal: 1h 37m 43s\tremaining: 5h 41m 9s\n"
     ]
    },
    {
     "name": "stderr",
     "output_type": "stream",
     "text": [
      "Default metric period is 5 because AUC is/are not implemented for GPU\n",
      "AUC is not implemented on GPU. Will use CPU for metric computation, this could significantly affect learning time\n"
     ]
    },
    {
     "name": "stdout",
     "output_type": "stream",
     "text": [
      "0:\ttest: 0.7721672\tbest: 0.7721672 (0)\ttotal: 59.2ms\tremaining: 3m 21s\n",
      "100:\ttest: 0.9793942\tbest: 0.9796112 (99)\ttotal: 10.4s\tremaining: 5m 39s\n",
      "200:\ttest: 0.9894212\tbest: 0.9894778 (199)\ttotal: 20.8s\tremaining: 5m 30s\n",
      "300:\ttest: 0.9917538\tbest: 0.9917700 (293)\ttotal: 30.9s\tremaining: 5m 18s\n",
      "400:\ttest: 0.9934585\tbest: 0.9934671 (398)\ttotal: 41.3s\tremaining: 5m 8s\n",
      "500:\ttest: 0.9943467\tbest: 0.9943467 (500)\ttotal: 51.2s\tremaining: 4m 56s\n",
      "600:\ttest: 0.9949352\tbest: 0.9949352 (600)\ttotal: 1m\tremaining: 4m 41s\n",
      "700:\ttest: 0.9954125\tbest: 0.9954441 (695)\ttotal: 1m 10s\tremaining: 4m 31s\n",
      "bestTest = 0.9954441026\n",
      "bestIteration = 695\n",
      "Metric AUC is not calculated on train by default. To calculate this metric on train, add hints=skip_train~false to metric parameters.\n",
      "114:\tloss: 0.9954441\tbest: 0.9961328 (5)\ttotal: 1h 38m 55s\tremaining: 5h 41m 31s\n"
     ]
    },
    {
     "name": "stderr",
     "output_type": "stream",
     "text": [
      "Default metric period is 5 because AUC is/are not implemented for GPU\n",
      "AUC is not implemented on GPU. Will use CPU for metric computation, this could significantly affect learning time\n"
     ]
    },
    {
     "name": "stdout",
     "output_type": "stream",
     "text": [
      "0:\ttest: 0.7712753\tbest: 0.7712753 (0)\ttotal: 63ms\tremaining: 3m 34s\n",
      "100:\ttest: 0.9778802\tbest: 0.9778802 (100)\ttotal: 10.2s\tremaining: 5m 34s\n",
      "200:\ttest: 0.9884066\tbest: 0.9884960 (198)\ttotal: 20s\tremaining: 5m 18s\n",
      "300:\ttest: 0.9909074\tbest: 0.9909348 (296)\ttotal: 30.4s\tremaining: 5m 13s\n",
      "400:\ttest: 0.9927980\tbest: 0.9927980 (400)\ttotal: 41.3s\tremaining: 5m 9s\n",
      "500:\ttest: 0.9935090\tbest: 0.9935215 (489)\ttotal: 50.8s\tremaining: 4m 53s\n",
      "600:\ttest: 0.9942178\tbest: 0.9942394 (597)\ttotal: 1m\tremaining: 4m 39s\n",
      "bestTest = 0.9944598713\n",
      "bestIteration = 622\n",
      "Metric AUC is not calculated on train by default. To calculate this metric on train, add hints=skip_train~false to metric parameters.\n",
      "115:\tloss: 0.9944599\tbest: 0.9961328 (5)\ttotal: 1h 40m\tremaining: 5h 41m 24s\n"
     ]
    },
    {
     "name": "stderr",
     "output_type": "stream",
     "text": [
      "Default metric period is 5 because AUC is/are not implemented for GPU\n",
      "AUC is not implemented on GPU. Will use CPU for metric computation, this could significantly affect learning time\n"
     ]
    },
    {
     "name": "stdout",
     "output_type": "stream",
     "text": [
      "0:\ttest: 0.7723739\tbest: 0.7723739 (0)\ttotal: 133ms\tremaining: 7m 59s\n",
      "100:\ttest: 0.9812729\tbest: 0.9812729 (100)\ttotal: 9.88s\tremaining: 5m 42s\n",
      "200:\ttest: 0.9902845\tbest: 0.9903150 (197)\ttotal: 20s\tremaining: 5m 38s\n",
      "300:\ttest: 0.9928917\tbest: 0.9928917 (300)\ttotal: 30s\tremaining: 5m 28s\n",
      "400:\ttest: 0.9943635\tbest: 0.9943635 (400)\ttotal: 40.4s\tremaining: 5m 22s\n",
      "500:\ttest: 0.9949468\tbest: 0.9949778 (496)\ttotal: 49.6s\tremaining: 5m 7s\n",
      "bestTest = 0.9951531253\n",
      "bestIteration = 528\n",
      "Metric AUC is not calculated on train by default. To calculate this metric on train, add hints=skip_train~false to metric parameters.\n",
      "116:\tloss: 0.9951531\tbest: 0.9961328 (5)\ttotal: 1h 40m 55s\tremaining: 5h 40m 42s\n"
     ]
    },
    {
     "name": "stderr",
     "output_type": "stream",
     "text": [
      "Default metric period is 5 because AUC is/are not implemented for GPU\n",
      "AUC is not implemented on GPU. Will use CPU for metric computation, this could significantly affect learning time\n"
     ]
    },
    {
     "name": "stdout",
     "output_type": "stream",
     "text": [
      "0:\ttest: 0.7717710\tbest: 0.7717710 (0)\ttotal: 67.9ms\tremaining: 4m 4s\n",
      "100:\ttest: 0.9789912\tbest: 0.9790317 (99)\ttotal: 10.7s\tremaining: 6m 9s\n",
      "200:\ttest: 0.9892770\tbest: 0.9893667 (197)\ttotal: 20.8s\tremaining: 5m 51s\n",
      "300:\ttest: 0.9919452\tbest: 0.9919452 (300)\ttotal: 30.5s\tremaining: 5m 34s\n",
      "400:\ttest: 0.9935509\tbest: 0.9935530 (399)\ttotal: 40.8s\tremaining: 5m 25s\n",
      "500:\ttest: 0.9944094\tbest: 0.9944279 (493)\ttotal: 50.1s\tremaining: 5m 10s\n",
      "bestTest = 0.994759313\n",
      "bestIteration = 541\n",
      "Metric AUC is not calculated on train by default. To calculate this metric on train, add hints=skip_train~false to metric parameters.\n",
      "117:\tloss: 0.9947593\tbest: 0.9961328 (5)\ttotal: 1h 41m 51s\tremaining: 5h 40m 7s\n"
     ]
    },
    {
     "name": "stderr",
     "output_type": "stream",
     "text": [
      "Default metric period is 5 because AUC is/are not implemented for GPU\n",
      "AUC is not implemented on GPU. Will use CPU for metric computation, this could significantly affect learning time\n"
     ]
    },
    {
     "name": "stdout",
     "output_type": "stream",
     "text": [
      "0:\ttest: 0.7721672\tbest: 0.7721672 (0)\ttotal: 66ms\tremaining: 3m 57s\n",
      "100:\ttest: 0.9793942\tbest: 0.9796112 (99)\ttotal: 10.8s\tremaining: 6m 14s\n",
      "200:\ttest: 0.9894212\tbest: 0.9894778 (199)\ttotal: 20.5s\tremaining: 5m 46s\n",
      "300:\ttest: 0.9917538\tbest: 0.9917700 (293)\ttotal: 31.3s\tremaining: 5m 43s\n",
      "400:\ttest: 0.9934585\tbest: 0.9934671 (398)\ttotal: 40.9s\tremaining: 5m 26s\n",
      "500:\ttest: 0.9943467\tbest: 0.9943467 (500)\ttotal: 50.8s\tremaining: 5m 14s\n",
      "600:\ttest: 0.9949352\tbest: 0.9949352 (600)\ttotal: 1m\tremaining: 5m 1s\n",
      "700:\ttest: 0.9954125\tbest: 0.9954441 (695)\ttotal: 1m 10s\tremaining: 4m 49s\n",
      "bestTest = 0.9954441026\n",
      "bestIteration = 695\n",
      "Metric AUC is not calculated on train by default. To calculate this metric on train, add hints=skip_train~false to metric parameters.\n",
      "118:\tloss: 0.9954441\tbest: 0.9961328 (5)\ttotal: 1h 43m 3s\tremaining: 5h 40m 21s\n"
     ]
    },
    {
     "name": "stderr",
     "output_type": "stream",
     "text": [
      "Default metric period is 5 because AUC is/are not implemented for GPU\n",
      "AUC is not implemented on GPU. Will use CPU for metric computation, this could significantly affect learning time\n"
     ]
    },
    {
     "name": "stdout",
     "output_type": "stream",
     "text": [
      "0:\ttest: 0.7712753\tbest: 0.7712753 (0)\ttotal: 280ms\tremaining: 16m 46s\n",
      "100:\ttest: 0.9778802\tbest: 0.9778802 (100)\ttotal: 10.9s\tremaining: 6m 16s\n",
      "200:\ttest: 0.9884066\tbest: 0.9884960 (198)\ttotal: 21.2s\tremaining: 5m 57s\n",
      "300:\ttest: 0.9909074\tbest: 0.9909348 (296)\ttotal: 31.5s\tremaining: 5m 45s\n",
      "400:\ttest: 0.9927980\tbest: 0.9927980 (400)\ttotal: 41.6s\tremaining: 5m 32s\n",
      "500:\ttest: 0.9935090\tbest: 0.9935215 (489)\ttotal: 51s\tremaining: 5m 15s\n",
      "600:\ttest: 0.9942178\tbest: 0.9942394 (597)\ttotal: 1m 1s\tremaining: 5m 4s\n",
      "bestTest = 0.9944598713\n",
      "bestIteration = 622\n",
      "Metric AUC is not calculated on train by default. To calculate this metric on train, add hints=skip_train~false to metric parameters.\n",
      "119:\tloss: 0.9944599\tbest: 0.9961328 (5)\ttotal: 1h 44m 9s\tremaining: 5h 40m 14s\n"
     ]
    },
    {
     "name": "stderr",
     "output_type": "stream",
     "text": [
      "Default metric period is 5 because AUC is/are not implemented for GPU\n",
      "AUC is not implemented on GPU. Will use CPU for metric computation, this could significantly affect learning time\n"
     ]
    },
    {
     "name": "stdout",
     "output_type": "stream",
     "text": [
      "0:\ttest: 0.7723739\tbest: 0.7723739 (0)\ttotal: 66.3ms\tremaining: 4m 11s\n",
      "100:\ttest: 0.9812729\tbest: 0.9812729 (100)\ttotal: 10.6s\tremaining: 6m 29s\n",
      "200:\ttest: 0.9902845\tbest: 0.9903150 (197)\ttotal: 20.8s\tremaining: 6m 12s\n",
      "300:\ttest: 0.9928917\tbest: 0.9928917 (300)\ttotal: 31.4s\tremaining: 6m 5s\n",
      "400:\ttest: 0.9943635\tbest: 0.9943635 (400)\ttotal: 41.1s\tremaining: 5m 48s\n",
      "500:\ttest: 0.9949468\tbest: 0.9949778 (496)\ttotal: 50.5s\tremaining: 5m 32s\n",
      "bestTest = 0.9951531253\n",
      "bestIteration = 528\n",
      "Metric AUC is not calculated on train by default. To calculate this metric on train, add hints=skip_train~false to metric parameters.\n",
      "120:\tloss: 0.9951531\tbest: 0.9961328 (5)\ttotal: 1h 45m 5s\tremaining: 5h 39m 34s\n"
     ]
    },
    {
     "name": "stderr",
     "output_type": "stream",
     "text": [
      "Default metric period is 5 because AUC is/are not implemented for GPU\n",
      "AUC is not implemented on GPU. Will use CPU for metric computation, this could significantly affect learning time\n"
     ]
    },
    {
     "name": "stdout",
     "output_type": "stream",
     "text": [
      "0:\ttest: 0.7717710\tbest: 0.7717710 (0)\ttotal: 108ms\tremaining: 6m 48s\n",
      "100:\ttest: 0.9789912\tbest: 0.9790317 (99)\ttotal: 10.8s\tremaining: 6m 36s\n",
      "200:\ttest: 0.9892770\tbest: 0.9893667 (197)\ttotal: 20.9s\tremaining: 6m 13s\n",
      "300:\ttest: 0.9919452\tbest: 0.9919452 (300)\ttotal: 30.6s\tremaining: 5m 55s\n",
      "400:\ttest: 0.9935509\tbest: 0.9935530 (399)\ttotal: 40.9s\tremaining: 5m 46s\n",
      "500:\ttest: 0.9944094\tbest: 0.9944279 (493)\ttotal: 50.1s\tremaining: 5m 29s\n",
      "bestTest = 0.994759313\n",
      "bestIteration = 541\n",
      "Metric AUC is not calculated on train by default. To calculate this metric on train, add hints=skip_train~false to metric parameters.\n",
      "121:\tloss: 0.9947593\tbest: 0.9961328 (5)\ttotal: 1h 46m 2s\tremaining: 5h 38m 58s\n"
     ]
    },
    {
     "name": "stderr",
     "output_type": "stream",
     "text": [
      "Default metric period is 5 because AUC is/are not implemented for GPU\n",
      "AUC is not implemented on GPU. Will use CPU for metric computation, this could significantly affect learning time\n"
     ]
    },
    {
     "name": "stdout",
     "output_type": "stream",
     "text": [
      "0:\ttest: 0.7721672\tbest: 0.7721672 (0)\ttotal: 67.6ms\tremaining: 4m 16s\n",
      "100:\ttest: 0.9793942\tbest: 0.9796112 (99)\ttotal: 10.7s\tremaining: 6m 30s\n",
      "200:\ttest: 0.9894212\tbest: 0.9894778 (199)\ttotal: 20.9s\tremaining: 6m 14s\n",
      "300:\ttest: 0.9917538\tbest: 0.9917700 (293)\ttotal: 31.4s\tremaining: 6m 5s\n",
      "400:\ttest: 0.9934585\tbest: 0.9934671 (398)\ttotal: 41.1s\tremaining: 5m 47s\n",
      "500:\ttest: 0.9943467\tbest: 0.9943467 (500)\ttotal: 50.6s\tremaining: 5m 32s\n",
      "600:\ttest: 0.9949352\tbest: 0.9949352 (600)\ttotal: 1m\tremaining: 5m 20s\n",
      "700:\ttest: 0.9954125\tbest: 0.9954441 (695)\ttotal: 1m 9s\tremaining: 5m 5s\n",
      "bestTest = 0.9954441026\n",
      "bestIteration = 695\n",
      "Metric AUC is not calculated on train by default. To calculate this metric on train, add hints=skip_train~false to metric parameters.\n",
      "122:\tloss: 0.9954441\tbest: 0.9961328 (5)\ttotal: 1h 47m 13s\tremaining: 5h 39m 6s\n"
     ]
    },
    {
     "name": "stderr",
     "output_type": "stream",
     "text": [
      "Default metric period is 5 because AUC is/are not implemented for GPU\n",
      "AUC is not implemented on GPU. Will use CPU for metric computation, this could significantly affect learning time\n"
     ]
    },
    {
     "name": "stdout",
     "output_type": "stream",
     "text": [
      "0:\ttest: 0.7712753\tbest: 0.7712753 (0)\ttotal: 143ms\tremaining: 9m 2s\n",
      "100:\ttest: 0.9778802\tbest: 0.9778802 (100)\ttotal: 10s\tremaining: 6m 7s\n",
      "200:\ttest: 0.9884066\tbest: 0.9884960 (198)\ttotal: 20s\tremaining: 5m 57s\n",
      "300:\ttest: 0.9909074\tbest: 0.9909348 (296)\ttotal: 30.5s\tremaining: 5m 54s\n",
      "400:\ttest: 0.9927980\tbest: 0.9927980 (400)\ttotal: 40.8s\tremaining: 5m 46s\n",
      "500:\ttest: 0.9935090\tbest: 0.9935215 (489)\ttotal: 50.1s\tremaining: 5m 30s\n",
      "600:\ttest: 0.9942178\tbest: 0.9942394 (597)\ttotal: 60s\tremaining: 5m 19s\n",
      "bestTest = 0.9944598713\n",
      "bestIteration = 622\n",
      "Metric AUC is not calculated on train by default. To calculate this metric on train, add hints=skip_train~false to metric parameters.\n",
      "123:\tloss: 0.9944599\tbest: 0.9961328 (5)\ttotal: 1h 48m 18s\tremaining: 5h 38m 52s\n"
     ]
    },
    {
     "name": "stderr",
     "output_type": "stream",
     "text": [
      "Default metric period is 5 because AUC is/are not implemented for GPU\n",
      "AUC is not implemented on GPU. Will use CPU for metric computation, this could significantly affect learning time\n"
     ]
    },
    {
     "name": "stdout",
     "output_type": "stream",
     "text": [
      "0:\ttest: 0.7723739\tbest: 0.7723739 (0)\ttotal: 108ms\tremaining: 7m 11s\n",
      "100:\ttest: 0.9812729\tbest: 0.9812729 (100)\ttotal: 9.91s\tremaining: 6m 22s\n",
      "200:\ttest: 0.9902845\tbest: 0.9903150 (197)\ttotal: 20.1s\tremaining: 6m 20s\n",
      "300:\ttest: 0.9928917\tbest: 0.9928917 (300)\ttotal: 30.3s\tremaining: 6m 12s\n",
      "400:\ttest: 0.9943635\tbest: 0.9943635 (400)\ttotal: 40s\tremaining: 5m 58s\n",
      "500:\ttest: 0.9949468\tbest: 0.9949778 (496)\ttotal: 50s\tremaining: 5m 49s\n",
      "bestTest = 0.9951531253\n",
      "bestIteration = 528\n",
      "Metric AUC is not calculated on train by default. To calculate this metric on train, add hints=skip_train~false to metric parameters.\n",
      "124:\tloss: 0.9951531\tbest: 0.9961328 (5)\ttotal: 1h 49m 13s\tremaining: 5h 38m 8s\n"
     ]
    },
    {
     "name": "stderr",
     "output_type": "stream",
     "text": [
      "Default metric period is 5 because AUC is/are not implemented for GPU\n",
      "AUC is not implemented on GPU. Will use CPU for metric computation, this could significantly affect learning time\n"
     ]
    },
    {
     "name": "stdout",
     "output_type": "stream",
     "text": [
      "0:\ttest: 0.7717710\tbest: 0.7717710 (0)\ttotal: 63.9ms\tremaining: 4m 15s\n",
      "100:\ttest: 0.9789912\tbest: 0.9790317 (99)\ttotal: 10.3s\tremaining: 6m 38s\n",
      "200:\ttest: 0.9892770\tbest: 0.9893667 (197)\ttotal: 20.1s\tremaining: 6m 19s\n",
      "300:\ttest: 0.9919452\tbest: 0.9919452 (300)\ttotal: 30.6s\tremaining: 6m 16s\n",
      "400:\ttest: 0.9935509\tbest: 0.9935530 (399)\ttotal: 40.6s\tremaining: 6m 4s\n",
      "500:\ttest: 0.9944094\tbest: 0.9944279 (493)\ttotal: 50s\tremaining: 5m 49s\n",
      "bestTest = 0.994759313\n",
      "bestIteration = 541\n",
      "Metric AUC is not calculated on train by default. To calculate this metric on train, add hints=skip_train~false to metric parameters.\n",
      "125:\tloss: 0.9947593\tbest: 0.9961328 (5)\ttotal: 1h 50m 9s\tremaining: 5h 37m 28s\n"
     ]
    },
    {
     "name": "stderr",
     "output_type": "stream",
     "text": [
      "Default metric period is 5 because AUC is/are not implemented for GPU\n",
      "AUC is not implemented on GPU. Will use CPU for metric computation, this could significantly affect learning time\n"
     ]
    },
    {
     "name": "stdout",
     "output_type": "stream",
     "text": [
      "0:\ttest: 0.7721672\tbest: 0.7721672 (0)\ttotal: 67.1ms\tremaining: 4m 28s\n",
      "100:\ttest: 0.9793942\tbest: 0.9796112 (99)\ttotal: 10.5s\tremaining: 6m 45s\n",
      "200:\ttest: 0.9894212\tbest: 0.9894778 (199)\ttotal: 20.8s\tremaining: 6m 33s\n",
      "300:\ttest: 0.9917538\tbest: 0.9917700 (293)\ttotal: 30.2s\tremaining: 6m 10s\n",
      "400:\ttest: 0.9934585\tbest: 0.9934671 (398)\ttotal: 40.9s\tremaining: 6m 6s\n",
      "500:\ttest: 0.9943467\tbest: 0.9943467 (500)\ttotal: 50.1s\tremaining: 5m 50s\n",
      "600:\ttest: 0.9949352\tbest: 0.9949352 (600)\ttotal: 59.5s\tremaining: 5m 36s\n",
      "700:\ttest: 0.9954125\tbest: 0.9954441 (695)\ttotal: 1m 9s\tremaining: 5m 26s\n",
      "bestTest = 0.9954441026\n",
      "bestIteration = 695\n",
      "Metric AUC is not calculated on train by default. To calculate this metric on train, add hints=skip_train~false to metric parameters.\n",
      "126:\tloss: 0.9954441\tbest: 0.9961328 (5)\ttotal: 1h 51m 20s\tremaining: 5h 37m 31s\n"
     ]
    },
    {
     "name": "stderr",
     "output_type": "stream",
     "text": [
      "Default metric period is 5 because AUC is/are not implemented for GPU\n",
      "AUC is not implemented on GPU. Will use CPU for metric computation, this could significantly affect learning time\n"
     ]
    },
    {
     "name": "stdout",
     "output_type": "stream",
     "text": [
      "0:\ttest: 0.7712753\tbest: 0.7712753 (0)\ttotal: 459ms\tremaining: 30m 34s\n",
      "100:\ttest: 0.9778802\tbest: 0.9778802 (100)\ttotal: 10.3s\tremaining: 6m 39s\n",
      "200:\ttest: 0.9884066\tbest: 0.9884960 (198)\ttotal: 20.2s\tremaining: 6m 22s\n",
      "300:\ttest: 0.9909074\tbest: 0.9909348 (296)\ttotal: 30.4s\tremaining: 6m 13s\n",
      "400:\ttest: 0.9927980\tbest: 0.9927980 (400)\ttotal: 40.8s\tremaining: 6m 6s\n",
      "500:\ttest: 0.9935090\tbest: 0.9935215 (489)\ttotal: 50.1s\tremaining: 5m 49s\n",
      "600:\ttest: 0.9942178\tbest: 0.9942394 (597)\ttotal: 59.3s\tremaining: 5m 35s\n",
      "bestTest = 0.9944598713\n",
      "bestIteration = 622\n",
      "Metric AUC is not calculated on train by default. To calculate this metric on train, add hints=skip_train~false to metric parameters.\n",
      "127:\tloss: 0.9944599\tbest: 0.9961328 (5)\ttotal: 1h 52m 24s\tremaining: 5h 37m 14s\n"
     ]
    },
    {
     "name": "stderr",
     "output_type": "stream",
     "text": [
      "Default metric period is 5 because AUC is/are not implemented for GPU\n",
      "AUC is not implemented on GPU. Will use CPU for metric computation, this could significantly affect learning time\n"
     ]
    },
    {
     "name": "stdout",
     "output_type": "stream",
     "text": [
      "0:\ttest: 0.7120242\tbest: 0.7120242 (0)\ttotal: 80.6ms\tremaining: 1m 20s\n",
      "100:\ttest: 0.9782242\tbest: 0.9782242 (100)\ttotal: 5.2s\tremaining: 46.3s\n",
      "200:\ttest: 0.9883147\tbest: 0.9883147 (200)\ttotal: 11.2s\tremaining: 44.6s\n",
      "300:\ttest: 0.9914722\tbest: 0.9914745 (299)\ttotal: 16.8s\tremaining: 39s\n",
      "400:\ttest: 0.9929901\tbest: 0.9930310 (398)\ttotal: 23s\tremaining: 34.3s\n",
      "500:\ttest: 0.9939880\tbest: 0.9939880 (500)\ttotal: 28.3s\tremaining: 28.2s\n",
      "600:\ttest: 0.9946577\tbest: 0.9946577 (600)\ttotal: 34s\tremaining: 22.5s\n",
      "700:\ttest: 0.9952023\tbest: 0.9952287 (699)\ttotal: 39.4s\tremaining: 16.8s\n",
      "800:\ttest: 0.9955965\tbest: 0.9956643 (796)\ttotal: 44.8s\tremaining: 11.1s\n",
      "bestTest = 0.9956643369\n",
      "bestIteration = 796\n",
      "Metric AUC is not calculated on train by default. To calculate this metric on train, add hints=skip_train~false to metric parameters.\n",
      "128:\tloss: 0.9956643\tbest: 0.9961328 (5)\ttotal: 1h 53m 10s\tremaining: 5h 36m 1s\n"
     ]
    },
    {
     "name": "stderr",
     "output_type": "stream",
     "text": [
      "Default metric period is 5 because AUC is/are not implemented for GPU\n",
      "AUC is not implemented on GPU. Will use CPU for metric computation, this could significantly affect learning time\n"
     ]
    },
    {
     "name": "stdout",
     "output_type": "stream",
     "text": [
      "0:\ttest: 0.7114845\tbest: 0.7114845 (0)\ttotal: 186ms\tremaining: 3m 5s\n",
      "100:\ttest: 0.9769029\tbest: 0.9769029 (100)\ttotal: 6.01s\tremaining: 53.5s\n",
      "200:\ttest: 0.9881810\tbest: 0.9881810 (200)\ttotal: 11.7s\tremaining: 46.5s\n",
      "300:\ttest: 0.9914246\tbest: 0.9914246 (300)\ttotal: 17.3s\tremaining: 40.2s\n",
      "400:\ttest: 0.9930717\tbest: 0.9930717 (400)\ttotal: 22.6s\tremaining: 33.8s\n",
      "500:\ttest: 0.9938364\tbest: 0.9938640 (499)\ttotal: 28.5s\tremaining: 28.4s\n",
      "600:\ttest: 0.9944535\tbest: 0.9944952 (596)\ttotal: 33.5s\tremaining: 22.2s\n",
      "700:\ttest: 0.9950069\tbest: 0.9950306 (698)\ttotal: 39.6s\tremaining: 16.9s\n",
      "800:\ttest: 0.9953081\tbest: 0.9953485 (794)\ttotal: 44.5s\tremaining: 11.1s\n",
      "900:\ttest: 0.9956012\tbest: 0.9956012 (900)\ttotal: 50.3s\tremaining: 5.53s\n",
      "bestTest = 0.9957604796\n",
      "bestIteration = 958\n",
      "Metric AUC is not calculated on train by default. To calculate this metric on train, add hints=skip_train~false to metric parameters.\n",
      "129:\tloss: 0.9957605\tbest: 0.9961328 (5)\ttotal: 1h 54m 5s\tremaining: 5h 35m 15s\n"
     ]
    },
    {
     "name": "stderr",
     "output_type": "stream",
     "text": [
      "Default metric period is 5 because AUC is/are not implemented for GPU\n",
      "AUC is not implemented on GPU. Will use CPU for metric computation, this could significantly affect learning time\n"
     ]
    },
    {
     "name": "stdout",
     "output_type": "stream",
     "text": [
      "0:\ttest: 0.7108157\tbest: 0.7108157 (0)\ttotal: 42ms\tremaining: 42s\n",
      "100:\ttest: 0.9747385\tbest: 0.9747385 (100)\ttotal: 5.24s\tremaining: 46.6s\n",
      "200:\ttest: 0.9865421\tbest: 0.9866292 (199)\ttotal: 11.3s\tremaining: 44.9s\n",
      "300:\ttest: 0.9903223\tbest: 0.9903305 (299)\ttotal: 17s\tremaining: 39.4s\n",
      "400:\ttest: 0.9922953\tbest: 0.9923057 (399)\ttotal: 22s\tremaining: 32.9s\n",
      "500:\ttest: 0.9935775\tbest: 0.9935839 (496)\ttotal: 27.9s\tremaining: 27.7s\n",
      "600:\ttest: 0.9942234\tbest: 0.9942415 (596)\ttotal: 33.4s\tremaining: 22.2s\n",
      "700:\ttest: 0.9946361\tbest: 0.9946379 (699)\ttotal: 38.4s\tremaining: 16.4s\n",
      "800:\ttest: 0.9951036\tbest: 0.9951432 (791)\ttotal: 44.1s\tremaining: 11s\n",
      "bestTest = 0.9951432044\n",
      "bestIteration = 791\n",
      "Metric AUC is not calculated on train by default. To calculate this metric on train, add hints=skip_train~false to metric parameters.\n",
      "130:\tloss: 0.9951432\tbest: 0.9961328 (5)\ttotal: 1h 54m 50s\tremaining: 5h 34m\n"
     ]
    },
    {
     "name": "stderr",
     "output_type": "stream",
     "text": [
      "Default metric period is 5 because AUC is/are not implemented for GPU\n",
      "AUC is not implemented on GPU. Will use CPU for metric computation, this could significantly affect learning time\n"
     ]
    },
    {
     "name": "stdout",
     "output_type": "stream",
     "text": [
      "0:\ttest: 0.7106613\tbest: 0.7106613 (0)\ttotal: 68.6ms\tremaining: 1m 8s\n",
      "100:\ttest: 0.9741949\tbest: 0.9742338 (99)\ttotal: 6s\tremaining: 53.4s\n",
      "200:\ttest: 0.9857482\tbest: 0.9857482 (200)\ttotal: 11.5s\tremaining: 45.8s\n",
      "300:\ttest: 0.9894820\tbest: 0.9895136 (297)\ttotal: 17.1s\tremaining: 39.7s\n",
      "400:\ttest: 0.9914067\tbest: 0.9914067 (400)\ttotal: 22.9s\tremaining: 34.2s\n",
      "500:\ttest: 0.9926834\tbest: 0.9926834 (500)\ttotal: 28.7s\tremaining: 28.6s\n",
      "600:\ttest: 0.9936768\tbest: 0.9936797 (595)\ttotal: 34.2s\tremaining: 22.7s\n",
      "bestTest = 0.9939011274\n",
      "bestIteration = 662\n",
      "Metric AUC is not calculated on train by default. To calculate this metric on train, add hints=skip_train~false to metric parameters.\n",
      "131:\tloss: 0.9939011\tbest: 0.9961328 (5)\ttotal: 1h 55m 29s\tremaining: 5h 32m 28s\n"
     ]
    },
    {
     "name": "stderr",
     "output_type": "stream",
     "text": [
      "Default metric period is 5 because AUC is/are not implemented for GPU\n",
      "AUC is not implemented on GPU. Will use CPU for metric computation, this could significantly affect learning time\n"
     ]
    },
    {
     "name": "stdout",
     "output_type": "stream",
     "text": [
      "0:\ttest: 0.7120242\tbest: 0.7120242 (0)\ttotal: 40.7ms\tremaining: 48.8s\n",
      "100:\ttest: 0.9782242\tbest: 0.9782242 (100)\ttotal: 5.73s\tremaining: 1m 2s\n",
      "200:\ttest: 0.9883147\tbest: 0.9883147 (200)\ttotal: 12.1s\tremaining: 59.9s\n",
      "300:\ttest: 0.9914722\tbest: 0.9914745 (299)\ttotal: 17.7s\tremaining: 52.9s\n",
      "400:\ttest: 0.9929901\tbest: 0.9930310 (398)\ttotal: 23.6s\tremaining: 46.9s\n",
      "500:\ttest: 0.9939880\tbest: 0.9939880 (500)\ttotal: 29.1s\tremaining: 40.6s\n",
      "600:\ttest: 0.9946577\tbest: 0.9946577 (600)\ttotal: 34.6s\tremaining: 34.5s\n",
      "700:\ttest: 0.9952023\tbest: 0.9952287 (699)\ttotal: 39.8s\tremaining: 28.4s\n",
      "800:\ttest: 0.9955965\tbest: 0.9956643 (796)\ttotal: 46s\tremaining: 22.9s\n",
      "bestTest = 0.9956643369\n",
      "bestIteration = 796\n",
      "Metric AUC is not calculated on train by default. To calculate this metric on train, add hints=skip_train~false to metric parameters.\n",
      "132:\tloss: 0.9956643\tbest: 0.9961328 (5)\ttotal: 1h 56m 16s\tremaining: 5h 31m 20s\n"
     ]
    },
    {
     "name": "stderr",
     "output_type": "stream",
     "text": [
      "Default metric period is 5 because AUC is/are not implemented for GPU\n",
      "AUC is not implemented on GPU. Will use CPU for metric computation, this could significantly affect learning time\n"
     ]
    },
    {
     "name": "stdout",
     "output_type": "stream",
     "text": [
      "0:\ttest: 0.7114845\tbest: 0.7114845 (0)\ttotal: 44.1ms\tremaining: 52.8s\n",
      "100:\ttest: 0.9769029\tbest: 0.9769029 (100)\ttotal: 5.86s\tremaining: 1m 3s\n",
      "200:\ttest: 0.9881810\tbest: 0.9881810 (200)\ttotal: 11.5s\tremaining: 57.3s\n",
      "300:\ttest: 0.9914246\tbest: 0.9914246 (300)\ttotal: 16.7s\tremaining: 49.9s\n",
      "400:\ttest: 0.9930717\tbest: 0.9930717 (400)\ttotal: 22.9s\tremaining: 45.7s\n",
      "500:\ttest: 0.9938364\tbest: 0.9938640 (499)\ttotal: 27.7s\tremaining: 38.7s\n",
      "600:\ttest: 0.9944535\tbest: 0.9944952 (596)\ttotal: 33.3s\tremaining: 33.2s\n",
      "700:\ttest: 0.9950069\tbest: 0.9950306 (698)\ttotal: 38.8s\tremaining: 27.6s\n",
      "800:\ttest: 0.9953081\tbest: 0.9953485 (794)\ttotal: 44.2s\tremaining: 22s\n",
      "900:\ttest: 0.9956012\tbest: 0.9956012 (900)\ttotal: 49.3s\tremaining: 16.4s\n",
      "bestTest = 0.9957604796\n",
      "bestIteration = 958\n",
      "Metric AUC is not calculated on train by default. To calculate this metric on train, add hints=skip_train~false to metric parameters.\n",
      "133:\tloss: 0.9957605\tbest: 0.9961328 (5)\ttotal: 1h 57m 10s\tremaining: 5h 30m 31s\n"
     ]
    },
    {
     "name": "stderr",
     "output_type": "stream",
     "text": [
      "Default metric period is 5 because AUC is/are not implemented for GPU\n",
      "AUC is not implemented on GPU. Will use CPU for metric computation, this could significantly affect learning time\n"
     ]
    },
    {
     "name": "stdout",
     "output_type": "stream",
     "text": [
      "0:\ttest: 0.7108157\tbest: 0.7108157 (0)\ttotal: 43.3ms\tremaining: 52s\n",
      "100:\ttest: 0.9747385\tbest: 0.9747385 (100)\ttotal: 5.64s\tremaining: 1m 1s\n",
      "200:\ttest: 0.9865421\tbest: 0.9866292 (199)\ttotal: 11.1s\tremaining: 54.9s\n",
      "300:\ttest: 0.9903223\tbest: 0.9903305 (299)\ttotal: 16.7s\tremaining: 49.9s\n",
      "400:\ttest: 0.9922953\tbest: 0.9923057 (399)\ttotal: 21.8s\tremaining: 43.5s\n",
      "500:\ttest: 0.9935775\tbest: 0.9935839 (496)\ttotal: 27.4s\tremaining: 38.3s\n",
      "600:\ttest: 0.9942234\tbest: 0.9942415 (596)\ttotal: 33.4s\tremaining: 33.3s\n",
      "700:\ttest: 0.9946361\tbest: 0.9946379 (699)\ttotal: 38.6s\tremaining: 27.5s\n",
      "800:\ttest: 0.9951036\tbest: 0.9951432 (791)\ttotal: 44.1s\tremaining: 21.9s\n",
      "bestTest = 0.9951432044\n",
      "bestIteration = 791\n",
      "Metric AUC is not calculated on train by default. To calculate this metric on train, add hints=skip_train~false to metric parameters.\n",
      "134:\tloss: 0.9951432\tbest: 0.9961328 (5)\ttotal: 1h 57m 55s\tremaining: 5h 29m 19s\n"
     ]
    },
    {
     "name": "stderr",
     "output_type": "stream",
     "text": [
      "Default metric period is 5 because AUC is/are not implemented for GPU\n",
      "AUC is not implemented on GPU. Will use CPU for metric computation, this could significantly affect learning time\n"
     ]
    },
    {
     "name": "stdout",
     "output_type": "stream",
     "text": [
      "0:\ttest: 0.7106613\tbest: 0.7106613 (0)\ttotal: 79.4ms\tremaining: 1m 35s\n",
      "100:\ttest: 0.9741949\tbest: 0.9742338 (99)\ttotal: 5.13s\tremaining: 55.8s\n",
      "200:\ttest: 0.9857482\tbest: 0.9857482 (200)\ttotal: 11.5s\tremaining: 56.9s\n",
      "300:\ttest: 0.9894820\tbest: 0.9895136 (297)\ttotal: 17s\tremaining: 50.9s\n",
      "400:\ttest: 0.9914067\tbest: 0.9914067 (400)\ttotal: 22.6s\tremaining: 45s\n",
      "500:\ttest: 0.9926834\tbest: 0.9926834 (500)\ttotal: 28.3s\tremaining: 39.5s\n",
      "600:\ttest: 0.9936768\tbest: 0.9936797 (595)\ttotal: 33.4s\tremaining: 33.3s\n",
      "bestTest = 0.9939011274\n",
      "bestIteration = 662\n",
      "Metric AUC is not calculated on train by default. To calculate this metric on train, add hints=skip_train~false to metric parameters.\n",
      "135:\tloss: 0.9939011\tbest: 0.9961328 (5)\ttotal: 1h 58m 33s\tremaining: 5h 27m 47s\n"
     ]
    },
    {
     "name": "stderr",
     "output_type": "stream",
     "text": [
      "Default metric period is 5 because AUC is/are not implemented for GPU\n",
      "AUC is not implemented on GPU. Will use CPU for metric computation, this could significantly affect learning time\n"
     ]
    },
    {
     "name": "stdout",
     "output_type": "stream",
     "text": [
      "0:\ttest: 0.7120242\tbest: 0.7120242 (0)\ttotal: 296ms\tremaining: 6m 54s\n",
      "100:\ttest: 0.9782242\tbest: 0.9782242 (100)\ttotal: 6.24s\tremaining: 1m 20s\n",
      "200:\ttest: 0.9883147\tbest: 0.9883147 (200)\ttotal: 11.9s\tremaining: 1m 10s\n",
      "300:\ttest: 0.9914722\tbest: 0.9914745 (299)\ttotal: 17.6s\tremaining: 1m 4s\n",
      "400:\ttest: 0.9929901\tbest: 0.9930310 (398)\ttotal: 23.2s\tremaining: 57.8s\n",
      "500:\ttest: 0.9939880\tbest: 0.9939880 (500)\ttotal: 28.7s\tremaining: 51.4s\n",
      "600:\ttest: 0.9946577\tbest: 0.9946577 (600)\ttotal: 33.9s\tremaining: 45.1s\n",
      "700:\ttest: 0.9952023\tbest: 0.9952287 (699)\ttotal: 40.3s\tremaining: 40.1s\n",
      "800:\ttest: 0.9955965\tbest: 0.9956643 (796)\ttotal: 45.4s\tremaining: 34s\n",
      "bestTest = 0.9956643369\n",
      "bestIteration = 796\n",
      "Metric AUC is not calculated on train by default. To calculate this metric on train, add hints=skip_train~false to metric parameters.\n",
      "136:\tloss: 0.9956643\tbest: 0.9961328 (5)\ttotal: 1h 59m 21s\tremaining: 5h 26m 41s\n"
     ]
    },
    {
     "name": "stderr",
     "output_type": "stream",
     "text": [
      "Default metric period is 5 because AUC is/are not implemented for GPU\n",
      "AUC is not implemented on GPU. Will use CPU for metric computation, this could significantly affect learning time\n"
     ]
    },
    {
     "name": "stdout",
     "output_type": "stream",
     "text": [
      "0:\ttest: 0.7114845\tbest: 0.7114845 (0)\ttotal: 43.3ms\tremaining: 1m\n",
      "100:\ttest: 0.9769029\tbest: 0.9769029 (100)\ttotal: 6.07s\tremaining: 1m 18s\n",
      "200:\ttest: 0.9881810\tbest: 0.9881810 (200)\ttotal: 11.4s\tremaining: 1m 8s\n",
      "300:\ttest: 0.9914246\tbest: 0.9914246 (300)\ttotal: 17.2s\tremaining: 1m 2s\n",
      "400:\ttest: 0.9930717\tbest: 0.9930717 (400)\ttotal: 22.6s\tremaining: 56.3s\n",
      "500:\ttest: 0.9938364\tbest: 0.9938640 (499)\ttotal: 28.4s\tremaining: 50.9s\n",
      "600:\ttest: 0.9944535\tbest: 0.9944952 (596)\ttotal: 34.2s\tremaining: 45.5s\n",
      "700:\ttest: 0.9950069\tbest: 0.9950306 (698)\ttotal: 39.7s\tremaining: 39.6s\n",
      "800:\ttest: 0.9953081\tbest: 0.9953485 (794)\ttotal: 45s\tremaining: 33.7s\n",
      "900:\ttest: 0.9956012\tbest: 0.9956012 (900)\ttotal: 50.3s\tremaining: 27.8s\n",
      "bestTest = 0.9957604796\n",
      "bestIteration = 958\n",
      "Metric AUC is not calculated on train by default. To calculate this metric on train, add hints=skip_train~false to metric parameters.\n",
      "137:\tloss: 0.9957605\tbest: 0.9961328 (5)\ttotal: 2h 16s\tremaining: 5h 25m 57s\n"
     ]
    },
    {
     "name": "stderr",
     "output_type": "stream",
     "text": [
      "Default metric period is 5 because AUC is/are not implemented for GPU\n",
      "AUC is not implemented on GPU. Will use CPU for metric computation, this could significantly affect learning time\n"
     ]
    },
    {
     "name": "stdout",
     "output_type": "stream",
     "text": [
      "0:\ttest: 0.7108157\tbest: 0.7108157 (0)\ttotal: 257ms\tremaining: 5m 59s\n",
      "100:\ttest: 0.9747385\tbest: 0.9747385 (100)\ttotal: 6.05s\tremaining: 1m 17s\n",
      "200:\ttest: 0.9865421\tbest: 0.9866292 (199)\ttotal: 11.4s\tremaining: 1m 7s\n",
      "300:\ttest: 0.9903223\tbest: 0.9903305 (299)\ttotal: 17s\tremaining: 1m 2s\n",
      "400:\ttest: 0.9922953\tbest: 0.9923057 (399)\ttotal: 23.1s\tremaining: 57.6s\n",
      "500:\ttest: 0.9935775\tbest: 0.9935839 (496)\ttotal: 28.9s\tremaining: 51.8s\n",
      "600:\ttest: 0.9942234\tbest: 0.9942415 (596)\ttotal: 34.5s\tremaining: 45.8s\n",
      "700:\ttest: 0.9946361\tbest: 0.9946379 (699)\ttotal: 39.3s\tremaining: 39.2s\n",
      "800:\ttest: 0.9951036\tbest: 0.9951432 (791)\ttotal: 45.2s\tremaining: 33.8s\n",
      "bestTest = 0.9951432044\n",
      "bestIteration = 791\n",
      "Metric AUC is not calculated on train by default. To calculate this metric on train, add hints=skip_train~false to metric parameters.\n",
      "138:\tloss: 0.9951432\tbest: 0.9961328 (5)\ttotal: 2h 1m 2s\tremaining: 5h 24m 48s\n"
     ]
    },
    {
     "name": "stderr",
     "output_type": "stream",
     "text": [
      "Default metric period is 5 because AUC is/are not implemented for GPU\n",
      "AUC is not implemented on GPU. Will use CPU for metric computation, this could significantly affect learning time\n"
     ]
    },
    {
     "name": "stdout",
     "output_type": "stream",
     "text": [
      "0:\ttest: 0.7106613\tbest: 0.7106613 (0)\ttotal: 187ms\tremaining: 4m 21s\n",
      "100:\ttest: 0.9741949\tbest: 0.9742338 (99)\ttotal: 5.83s\tremaining: 1m 15s\n",
      "200:\ttest: 0.9857482\tbest: 0.9857482 (200)\ttotal: 11.8s\tremaining: 1m 10s\n",
      "300:\ttest: 0.9894820\tbest: 0.9895136 (297)\ttotal: 17.2s\tremaining: 1m 2s\n",
      "400:\ttest: 0.9914067\tbest: 0.9914067 (400)\ttotal: 23.1s\tremaining: 57.5s\n",
      "500:\ttest: 0.9926834\tbest: 0.9926834 (500)\ttotal: 28.3s\tremaining: 50.8s\n",
      "600:\ttest: 0.9936768\tbest: 0.9936797 (595)\ttotal: 33.4s\tremaining: 44.4s\n",
      "bestTest = 0.9939011274\n",
      "bestIteration = 662\n",
      "Metric AUC is not calculated on train by default. To calculate this metric on train, add hints=skip_train~false to metric parameters.\n",
      "139:\tloss: 0.9939011\tbest: 0.9961328 (5)\ttotal: 2h 1m 40s\tremaining: 5h 23m 18s\n"
     ]
    },
    {
     "name": "stderr",
     "output_type": "stream",
     "text": [
      "Default metric period is 5 because AUC is/are not implemented for GPU\n",
      "AUC is not implemented on GPU. Will use CPU for metric computation, this could significantly affect learning time\n"
     ]
    },
    {
     "name": "stdout",
     "output_type": "stream",
     "text": [
      "0:\ttest: 0.7120242\tbest: 0.7120242 (0)\ttotal: 81.7ms\tremaining: 2m 10s\n",
      "100:\ttest: 0.9782242\tbest: 0.9782242 (100)\ttotal: 6.06s\tremaining: 1m 29s\n",
      "200:\ttest: 0.9883147\tbest: 0.9883147 (200)\ttotal: 11.4s\tremaining: 1m 19s\n",
      "300:\ttest: 0.9914722\tbest: 0.9914745 (299)\ttotal: 17.2s\tremaining: 1m 14s\n",
      "400:\ttest: 0.9929901\tbest: 0.9930310 (398)\ttotal: 22.8s\tremaining: 1m 8s\n",
      "500:\ttest: 0.9939880\tbest: 0.9939880 (500)\ttotal: 27.9s\tremaining: 1m 1s\n",
      "600:\ttest: 0.9946577\tbest: 0.9946577 (600)\ttotal: 33.8s\tremaining: 56.2s\n",
      "700:\ttest: 0.9952023\tbest: 0.9952287 (699)\ttotal: 39.2s\tremaining: 50.2s\n",
      "800:\ttest: 0.9955965\tbest: 0.9956643 (796)\ttotal: 44.9s\tremaining: 44.8s\n",
      "bestTest = 0.9956643369\n",
      "bestIteration = 796\n",
      "Metric AUC is not calculated on train by default. To calculate this metric on train, add hints=skip_train~false to metric parameters.\n",
      "140:\tloss: 0.9956643\tbest: 0.9961328 (5)\ttotal: 2h 2m 26s\tremaining: 5h 22m 9s\n"
     ]
    },
    {
     "name": "stderr",
     "output_type": "stream",
     "text": [
      "Default metric period is 5 because AUC is/are not implemented for GPU\n",
      "AUC is not implemented on GPU. Will use CPU for metric computation, this could significantly affect learning time\n"
     ]
    },
    {
     "name": "stdout",
     "output_type": "stream",
     "text": [
      "0:\ttest: 0.7114845\tbest: 0.7114845 (0)\ttotal: 68.6ms\tremaining: 1m 49s\n",
      "100:\ttest: 0.9769029\tbest: 0.9769029 (100)\ttotal: 5.66s\tremaining: 1m 24s\n",
      "200:\ttest: 0.9881810\tbest: 0.9881810 (200)\ttotal: 11.2s\tremaining: 1m 17s\n",
      "300:\ttest: 0.9914246\tbest: 0.9914246 (300)\ttotal: 17.1s\tremaining: 1m 13s\n",
      "400:\ttest: 0.9930717\tbest: 0.9930717 (400)\ttotal: 22.9s\tremaining: 1m 8s\n",
      "500:\ttest: 0.9938364\tbest: 0.9938640 (499)\ttotal: 28.2s\tremaining: 1m 1s\n",
      "600:\ttest: 0.9944535\tbest: 0.9944952 (596)\ttotal: 33.6s\tremaining: 55.8s\n",
      "700:\ttest: 0.9950069\tbest: 0.9950306 (698)\ttotal: 39s\tremaining: 50s\n",
      "800:\ttest: 0.9953081\tbest: 0.9953485 (794)\ttotal: 44.2s\tremaining: 44.1s\n",
      "900:\ttest: 0.9956012\tbest: 0.9956012 (900)\ttotal: 49.8s\tremaining: 38.6s\n",
      "bestTest = 0.9957604796\n",
      "bestIteration = 958\n",
      "Metric AUC is not calculated on train by default. To calculate this metric on train, add hints=skip_train~false to metric parameters.\n",
      "141:\tloss: 0.9957605\tbest: 0.9961328 (5)\ttotal: 2h 3m 20s\tremaining: 5h 21m 22s\n"
     ]
    },
    {
     "name": "stderr",
     "output_type": "stream",
     "text": [
      "Default metric period is 5 because AUC is/are not implemented for GPU\n",
      "AUC is not implemented on GPU. Will use CPU for metric computation, this could significantly affect learning time\n"
     ]
    },
    {
     "name": "stdout",
     "output_type": "stream",
     "text": [
      "0:\ttest: 0.7108157\tbest: 0.7108157 (0)\ttotal: 81ms\tremaining: 2m 9s\n",
      "100:\ttest: 0.9747385\tbest: 0.9747385 (100)\ttotal: 5.82s\tremaining: 1m 26s\n",
      "200:\ttest: 0.9865421\tbest: 0.9866292 (199)\ttotal: 11.5s\tremaining: 1m 20s\n",
      "300:\ttest: 0.9903223\tbest: 0.9903305 (299)\ttotal: 17.3s\tremaining: 1m 14s\n",
      "400:\ttest: 0.9922953\tbest: 0.9923057 (399)\ttotal: 22.4s\tremaining: 1m 6s\n",
      "500:\ttest: 0.9935775\tbest: 0.9935839 (496)\ttotal: 28s\tremaining: 1m 1s\n",
      "600:\ttest: 0.9942234\tbest: 0.9942415 (596)\ttotal: 32.9s\tremaining: 54.8s\n",
      "700:\ttest: 0.9946361\tbest: 0.9946379 (699)\ttotal: 38.5s\tremaining: 49.4s\n",
      "800:\ttest: 0.9951036\tbest: 0.9951432 (791)\ttotal: 44.5s\tremaining: 44.4s\n",
      "bestTest = 0.9951432044\n",
      "bestIteration = 791\n",
      "Metric AUC is not calculated on train by default. To calculate this metric on train, add hints=skip_train~false to metric parameters.\n",
      "142:\tloss: 0.9951432\tbest: 0.9961328 (5)\ttotal: 2h 4m 5s\tremaining: 5h 20m 12s\n"
     ]
    },
    {
     "name": "stderr",
     "output_type": "stream",
     "text": [
      "Default metric period is 5 because AUC is/are not implemented for GPU\n",
      "AUC is not implemented on GPU. Will use CPU for metric computation, this could significantly affect learning time\n"
     ]
    },
    {
     "name": "stdout",
     "output_type": "stream",
     "text": [
      "0:\ttest: 0.7106613\tbest: 0.7106613 (0)\ttotal: 249ms\tremaining: 6m 38s\n",
      "100:\ttest: 0.9741949\tbest: 0.9742338 (99)\ttotal: 5.81s\tremaining: 1m 26s\n",
      "200:\ttest: 0.9857482\tbest: 0.9857482 (200)\ttotal: 11.1s\tremaining: 1m 16s\n",
      "300:\ttest: 0.9894820\tbest: 0.9895136 (297)\ttotal: 16.4s\tremaining: 1m 10s\n",
      "400:\ttest: 0.9914067\tbest: 0.9914067 (400)\ttotal: 22.5s\tremaining: 1m 7s\n",
      "500:\ttest: 0.9926834\tbest: 0.9926834 (500)\ttotal: 28s\tremaining: 1m 1s\n",
      "600:\ttest: 0.9936768\tbest: 0.9936797 (595)\ttotal: 34.1s\tremaining: 56.6s\n",
      "bestTest = 0.9939011274\n",
      "bestIteration = 662\n",
      "Metric AUC is not calculated on train by default. To calculate this metric on train, add hints=skip_train~false to metric parameters.\n",
      "143:\tloss: 0.9939011\tbest: 0.9961328 (5)\ttotal: 2h 4m 44s\tremaining: 5h 18m 46s\n"
     ]
    },
    {
     "name": "stderr",
     "output_type": "stream",
     "text": [
      "Default metric period is 5 because AUC is/are not implemented for GPU\n",
      "AUC is not implemented on GPU. Will use CPU for metric computation, this could significantly affect learning time\n"
     ]
    },
    {
     "name": "stdout",
     "output_type": "stream",
     "text": [
      "0:\ttest: 0.7120242\tbest: 0.7120242 (0)\ttotal: 42.3ms\tremaining: 1m 16s\n",
      "100:\ttest: 0.9782242\tbest: 0.9782242 (100)\ttotal: 6.53s\tremaining: 1m 49s\n",
      "200:\ttest: 0.9883147\tbest: 0.9883147 (200)\ttotal: 11.6s\tremaining: 1m 32s\n",
      "300:\ttest: 0.9914722\tbest: 0.9914745 (299)\ttotal: 17.6s\tremaining: 1m 27s\n",
      "400:\ttest: 0.9929901\tbest: 0.9930310 (398)\ttotal: 23.1s\tremaining: 1m 20s\n",
      "500:\ttest: 0.9939880\tbest: 0.9939880 (500)\ttotal: 28.5s\tremaining: 1m 13s\n",
      "600:\ttest: 0.9946577\tbest: 0.9946577 (600)\ttotal: 34.2s\tremaining: 1m 8s\n",
      "700:\ttest: 0.9952023\tbest: 0.9952287 (699)\ttotal: 39.4s\tremaining: 1m 1s\n",
      "800:\ttest: 0.9955965\tbest: 0.9956643 (796)\ttotal: 44.8s\tremaining: 55.8s\n",
      "bestTest = 0.9956643369\n",
      "bestIteration = 796\n",
      "Metric AUC is not calculated on train by default. To calculate this metric on train, add hints=skip_train~false to metric parameters.\n",
      "144:\tloss: 0.9956643\tbest: 0.9961328 (5)\ttotal: 2h 5m 30s\tremaining: 5h 17m 40s\n"
     ]
    },
    {
     "name": "stderr",
     "output_type": "stream",
     "text": [
      "Default metric period is 5 because AUC is/are not implemented for GPU\n",
      "AUC is not implemented on GPU. Will use CPU for metric computation, this could significantly affect learning time\n"
     ]
    },
    {
     "name": "stdout",
     "output_type": "stream",
     "text": [
      "0:\ttest: 0.7114845\tbest: 0.7114845 (0)\ttotal: 42.1ms\tremaining: 1m 15s\n",
      "100:\ttest: 0.9769029\tbest: 0.9769029 (100)\ttotal: 5.64s\tremaining: 1m 34s\n",
      "200:\ttest: 0.9881810\tbest: 0.9881810 (200)\ttotal: 10.9s\tremaining: 1m 26s\n",
      "300:\ttest: 0.9914246\tbest: 0.9914246 (300)\ttotal: 16.9s\tremaining: 1m 24s\n",
      "400:\ttest: 0.9930717\tbest: 0.9930717 (400)\ttotal: 22.2s\tremaining: 1m 17s\n",
      "500:\ttest: 0.9938364\tbest: 0.9938640 (499)\ttotal: 28s\tremaining: 1m 12s\n",
      "600:\ttest: 0.9944535\tbest: 0.9944952 (596)\ttotal: 33s\tremaining: 1m 5s\n",
      "700:\ttest: 0.9950069\tbest: 0.9950306 (698)\ttotal: 38.8s\tremaining: 1m\n",
      "800:\ttest: 0.9953081\tbest: 0.9953485 (794)\ttotal: 44.1s\tremaining: 54.9s\n",
      "900:\ttest: 0.9956012\tbest: 0.9956012 (900)\ttotal: 50.2s\tremaining: 50.1s\n",
      "bestTest = 0.9957604796\n",
      "bestIteration = 958\n",
      "Metric AUC is not calculated on train by default. To calculate this metric on train, add hints=skip_train~false to metric parameters.\n",
      "145:\tloss: 0.9957605\tbest: 0.9961328 (5)\ttotal: 2h 6m 25s\tremaining: 5h 16m 56s\n"
     ]
    },
    {
     "name": "stderr",
     "output_type": "stream",
     "text": [
      "Default metric period is 5 because AUC is/are not implemented for GPU\n",
      "AUC is not implemented on GPU. Will use CPU for metric computation, this could significantly affect learning time\n"
     ]
    },
    {
     "name": "stdout",
     "output_type": "stream",
     "text": [
      "0:\ttest: 0.7108157\tbest: 0.7108157 (0)\ttotal: 42ms\tremaining: 1m 15s\n",
      "100:\ttest: 0.9747385\tbest: 0.9747385 (100)\ttotal: 5.56s\tremaining: 1m 33s\n",
      "200:\ttest: 0.9865421\tbest: 0.9866292 (199)\ttotal: 11.6s\tremaining: 1m 32s\n",
      "300:\ttest: 0.9903223\tbest: 0.9903305 (299)\ttotal: 17.6s\tremaining: 1m 27s\n",
      "400:\ttest: 0.9922953\tbest: 0.9923057 (399)\ttotal: 22.9s\tremaining: 1m 19s\n",
      "500:\ttest: 0.9935775\tbest: 0.9935839 (496)\ttotal: 28.9s\tremaining: 1m 15s\n",
      "600:\ttest: 0.9942234\tbest: 0.9942415 (596)\ttotal: 34s\tremaining: 1m 7s\n",
      "700:\ttest: 0.9946361\tbest: 0.9946379 (699)\ttotal: 40s\tremaining: 1m 2s\n",
      "800:\ttest: 0.9951036\tbest: 0.9951432 (791)\ttotal: 45.1s\tremaining: 56.3s\n",
      "bestTest = 0.9951432044\n",
      "bestIteration = 791\n",
      "Metric AUC is not calculated on train by default. To calculate this metric on train, add hints=skip_train~false to metric parameters.\n",
      "146:\tloss: 0.9951432\tbest: 0.9961328 (5)\ttotal: 2h 7m 12s\tremaining: 5h 15m 50s\n"
     ]
    },
    {
     "name": "stderr",
     "output_type": "stream",
     "text": [
      "Default metric period is 5 because AUC is/are not implemented for GPU\n",
      "AUC is not implemented on GPU. Will use CPU for metric computation, this could significantly affect learning time\n"
     ]
    },
    {
     "name": "stdout",
     "output_type": "stream",
     "text": [
      "0:\ttest: 0.7106613\tbest: 0.7106613 (0)\ttotal: 66.4ms\tremaining: 1m 59s\n",
      "100:\ttest: 0.9741949\tbest: 0.9742338 (99)\ttotal: 5.64s\tremaining: 1m 34s\n",
      "200:\ttest: 0.9857482\tbest: 0.9857482 (200)\ttotal: 10.8s\tremaining: 1m 26s\n",
      "300:\ttest: 0.9894820\tbest: 0.9895136 (297)\ttotal: 16.3s\tremaining: 1m 21s\n",
      "400:\ttest: 0.9914067\tbest: 0.9914067 (400)\ttotal: 22s\tremaining: 1m 16s\n",
      "500:\ttest: 0.9926834\tbest: 0.9926834 (500)\ttotal: 27.4s\tremaining: 1m 11s\n",
      "600:\ttest: 0.9936768\tbest: 0.9936797 (595)\ttotal: 33s\tremaining: 1m 5s\n",
      "bestTest = 0.9939011274\n",
      "bestIteration = 662\n",
      "Metric AUC is not calculated on train by default. To calculate this metric on train, add hints=skip_train~false to metric parameters.\n",
      "147:\tloss: 0.9939011\tbest: 0.9961328 (5)\ttotal: 2h 7m 50s\tremaining: 5h 14m 24s\n"
     ]
    },
    {
     "name": "stderr",
     "output_type": "stream",
     "text": [
      "Default metric period is 5 because AUC is/are not implemented for GPU\n",
      "AUC is not implemented on GPU. Will use CPU for metric computation, this could significantly affect learning time\n"
     ]
    },
    {
     "name": "stdout",
     "output_type": "stream",
     "text": [
      "0:\ttest: 0.7120242\tbest: 0.7120242 (0)\ttotal: 42.2ms\tremaining: 1m 24s\n",
      "100:\ttest: 0.9782242\tbest: 0.9782242 (100)\ttotal: 6.04s\tremaining: 1m 53s\n",
      "200:\ttest: 0.9883147\tbest: 0.9883147 (200)\ttotal: 11.3s\tremaining: 1m 40s\n",
      "300:\ttest: 0.9914722\tbest: 0.9914745 (299)\ttotal: 17.1s\tremaining: 1m 36s\n",
      "400:\ttest: 0.9929901\tbest: 0.9930310 (398)\ttotal: 23.1s\tremaining: 1m 32s\n",
      "500:\ttest: 0.9939880\tbest: 0.9939880 (500)\ttotal: 28.2s\tremaining: 1m 24s\n",
      "600:\ttest: 0.9946577\tbest: 0.9946577 (600)\ttotal: 34s\tremaining: 1m 19s\n",
      "700:\ttest: 0.9952023\tbest: 0.9952287 (699)\ttotal: 39.5s\tremaining: 1m 13s\n",
      "800:\ttest: 0.9955965\tbest: 0.9956643 (796)\ttotal: 45.6s\tremaining: 1m 8s\n",
      "bestTest = 0.9956643369\n",
      "bestIteration = 796\n",
      "Metric AUC is not calculated on train by default. To calculate this metric on train, add hints=skip_train~false to metric parameters.\n",
      "148:\tloss: 0.9956643\tbest: 0.9961328 (5)\ttotal: 2h 8m 36s\tremaining: 5h 13m 19s\n"
     ]
    },
    {
     "name": "stderr",
     "output_type": "stream",
     "text": [
      "Default metric period is 5 because AUC is/are not implemented for GPU\n",
      "AUC is not implemented on GPU. Will use CPU for metric computation, this could significantly affect learning time\n"
     ]
    },
    {
     "name": "stdout",
     "output_type": "stream",
     "text": [
      "0:\ttest: 0.7114845\tbest: 0.7114845 (0)\ttotal: 45.9ms\tremaining: 1m 31s\n",
      "100:\ttest: 0.9769029\tbest: 0.9769029 (100)\ttotal: 6.02s\tremaining: 1m 53s\n",
      "200:\ttest: 0.9881810\tbest: 0.9881810 (200)\ttotal: 11.2s\tremaining: 1m 40s\n",
      "300:\ttest: 0.9914246\tbest: 0.9914246 (300)\ttotal: 17.5s\tremaining: 1m 38s\n",
      "400:\ttest: 0.9930717\tbest: 0.9930717 (400)\ttotal: 22.9s\tremaining: 1m 31s\n",
      "500:\ttest: 0.9938364\tbest: 0.9938640 (499)\ttotal: 28.8s\tremaining: 1m 26s\n",
      "600:\ttest: 0.9944535\tbest: 0.9944952 (596)\ttotal: 34.2s\tremaining: 1m 19s\n",
      "700:\ttest: 0.9950069\tbest: 0.9950306 (698)\ttotal: 39.7s\tremaining: 1m 13s\n",
      "800:\ttest: 0.9953081\tbest: 0.9953485 (794)\ttotal: 45s\tremaining: 1m 7s\n",
      "900:\ttest: 0.9956012\tbest: 0.9956012 (900)\ttotal: 50.5s\tremaining: 1m 1s\n",
      "bestTest = 0.9957604796\n",
      "bestIteration = 958\n",
      "Metric AUC is not calculated on train by default. To calculate this metric on train, add hints=skip_train~false to metric parameters.\n",
      "149:\tloss: 0.9957605\tbest: 0.9961328 (5)\ttotal: 2h 9m 32s\tremaining: 5h 12m 36s\n"
     ]
    },
    {
     "name": "stderr",
     "output_type": "stream",
     "text": [
      "Default metric period is 5 because AUC is/are not implemented for GPU\n",
      "AUC is not implemented on GPU. Will use CPU for metric computation, this could significantly affect learning time\n"
     ]
    },
    {
     "name": "stdout",
     "output_type": "stream",
     "text": [
      "0:\ttest: 0.7108157\tbest: 0.7108157 (0)\ttotal: 41.7ms\tremaining: 1m 23s\n",
      "100:\ttest: 0.9747385\tbest: 0.9747385 (100)\ttotal: 6.01s\tremaining: 1m 53s\n",
      "200:\ttest: 0.9865421\tbest: 0.9866292 (199)\ttotal: 11s\tremaining: 1m 38s\n",
      "300:\ttest: 0.9903223\tbest: 0.9903305 (299)\ttotal: 17s\tremaining: 1m 35s\n",
      "400:\ttest: 0.9922953\tbest: 0.9923057 (399)\ttotal: 22.1s\tremaining: 1m 28s\n",
      "500:\ttest: 0.9935775\tbest: 0.9935839 (496)\ttotal: 27.5s\tremaining: 1m 22s\n",
      "600:\ttest: 0.9942234\tbest: 0.9942415 (596)\ttotal: 33.8s\tremaining: 1m 18s\n",
      "700:\ttest: 0.9946361\tbest: 0.9946379 (699)\ttotal: 38.5s\tremaining: 1m 11s\n",
      "800:\ttest: 0.9951036\tbest: 0.9951432 (791)\ttotal: 44s\tremaining: 1m 5s\n",
      "bestTest = 0.9951432044\n",
      "bestIteration = 791\n",
      "Metric AUC is not calculated on train by default. To calculate this metric on train, add hints=skip_train~false to metric parameters.\n",
      "150:\tloss: 0.9951432\tbest: 0.9961328 (5)\ttotal: 2h 10m 16s\tremaining: 5h 11m 28s\n"
     ]
    },
    {
     "name": "stderr",
     "output_type": "stream",
     "text": [
      "Default metric period is 5 because AUC is/are not implemented for GPU\n",
      "AUC is not implemented on GPU. Will use CPU for metric computation, this could significantly affect learning time\n"
     ]
    },
    {
     "name": "stdout",
     "output_type": "stream",
     "text": [
      "0:\ttest: 0.7106613\tbest: 0.7106613 (0)\ttotal: 71ms\tremaining: 2m 22s\n",
      "100:\ttest: 0.9741949\tbest: 0.9742338 (99)\ttotal: 5.11s\tremaining: 1m 36s\n",
      "200:\ttest: 0.9857482\tbest: 0.9857482 (200)\ttotal: 11s\tremaining: 1m 38s\n",
      "300:\ttest: 0.9894820\tbest: 0.9895136 (297)\ttotal: 16.5s\tremaining: 1m 33s\n",
      "400:\ttest: 0.9914067\tbest: 0.9914067 (400)\ttotal: 22.5s\tremaining: 1m 29s\n",
      "500:\ttest: 0.9926834\tbest: 0.9926834 (500)\ttotal: 27.9s\tremaining: 1m 23s\n",
      "600:\ttest: 0.9936768\tbest: 0.9936797 (595)\ttotal: 34.1s\tremaining: 1m 19s\n",
      "bestTest = 0.9939011274\n",
      "bestIteration = 662\n",
      "Metric AUC is not calculated on train by default. To calculate this metric on train, add hints=skip_train~false to metric parameters.\n",
      "151:\tloss: 0.9939011\tbest: 0.9961328 (5)\ttotal: 2h 10m 56s\tremaining: 5h 10m 6s\n"
     ]
    },
    {
     "name": "stderr",
     "output_type": "stream",
     "text": [
      "Default metric period is 5 because AUC is/are not implemented for GPU\n",
      "AUC is not implemented on GPU. Will use CPU for metric computation, this could significantly affect learning time\n"
     ]
    },
    {
     "name": "stdout",
     "output_type": "stream",
     "text": [
      "0:\ttest: 0.7120242\tbest: 0.7120242 (0)\ttotal: 41.3ms\tremaining: 1m 30s\n",
      "100:\ttest: 0.9782242\tbest: 0.9782242 (100)\ttotal: 5.35s\tremaining: 1m 51s\n",
      "200:\ttest: 0.9883147\tbest: 0.9883147 (200)\ttotal: 11.4s\tremaining: 1m 53s\n",
      "300:\ttest: 0.9914722\tbest: 0.9914745 (299)\ttotal: 17.4s\tremaining: 1m 49s\n",
      "400:\ttest: 0.9929901\tbest: 0.9930310 (398)\ttotal: 22.2s\tremaining: 1m 39s\n",
      "500:\ttest: 0.9939880\tbest: 0.9939880 (500)\ttotal: 28.4s\tremaining: 1m 36s\n",
      "600:\ttest: 0.9946577\tbest: 0.9946577 (600)\ttotal: 33.6s\tremaining: 1m 29s\n",
      "700:\ttest: 0.9952023\tbest: 0.9952287 (699)\ttotal: 39.7s\tremaining: 1m 24s\n",
      "800:\ttest: 0.9955965\tbest: 0.9956643 (796)\ttotal: 45s\tremaining: 1m 18s\n",
      "bestTest = 0.9956643369\n",
      "bestIteration = 796\n",
      "Metric AUC is not calculated on train by default. To calculate this metric on train, add hints=skip_train~false to metric parameters.\n",
      "152:\tloss: 0.9956643\tbest: 0.9961328 (5)\ttotal: 2h 11m 42s\tremaining: 5h 9m 2s\n"
     ]
    },
    {
     "name": "stderr",
     "output_type": "stream",
     "text": [
      "Default metric period is 5 because AUC is/are not implemented for GPU\n",
      "AUC is not implemented on GPU. Will use CPU for metric computation, this could significantly affect learning time\n"
     ]
    },
    {
     "name": "stdout",
     "output_type": "stream",
     "text": [
      "0:\ttest: 0.7114845\tbest: 0.7114845 (0)\ttotal: 68.6ms\tremaining: 2m 30s\n",
      "100:\ttest: 0.9769029\tbest: 0.9769029 (100)\ttotal: 5.07s\tremaining: 1m 45s\n",
      "200:\ttest: 0.9881810\tbest: 0.9881810 (200)\ttotal: 11.4s\tremaining: 1m 53s\n",
      "300:\ttest: 0.9914246\tbest: 0.9914246 (300)\ttotal: 17.3s\tremaining: 1m 49s\n",
      "400:\ttest: 0.9930717\tbest: 0.9930717 (400)\ttotal: 22.8s\tremaining: 1m 42s\n",
      "500:\ttest: 0.9938364\tbest: 0.9938640 (499)\ttotal: 28.8s\tremaining: 1m 37s\n",
      "600:\ttest: 0.9944535\tbest: 0.9944952 (596)\ttotal: 34s\tremaining: 1m 30s\n",
      "700:\ttest: 0.9950069\tbest: 0.9950306 (698)\ttotal: 39.3s\tremaining: 1m 24s\n",
      "800:\ttest: 0.9953081\tbest: 0.9953485 (794)\ttotal: 45s\tremaining: 1m 18s\n",
      "900:\ttest: 0.9956012\tbest: 0.9956012 (900)\ttotal: 50.9s\tremaining: 1m 13s\n",
      "bestTest = 0.9957604796\n",
      "bestIteration = 958\n",
      "Metric AUC is not calculated on train by default. To calculate this metric on train, add hints=skip_train~false to metric parameters.\n",
      "153:\tloss: 0.9957605\tbest: 0.9961328 (5)\ttotal: 2h 12m 38s\tremaining: 5h 8m 20s\n"
     ]
    },
    {
     "name": "stderr",
     "output_type": "stream",
     "text": [
      "Default metric period is 5 because AUC is/are not implemented for GPU\n",
      "AUC is not implemented on GPU. Will use CPU for metric computation, this could significantly affect learning time\n"
     ]
    },
    {
     "name": "stdout",
     "output_type": "stream",
     "text": [
      "0:\ttest: 0.7108157\tbest: 0.7108157 (0)\ttotal: 44.5ms\tremaining: 1m 37s\n",
      "100:\ttest: 0.9747385\tbest: 0.9747385 (100)\ttotal: 6.12s\tremaining: 2m 7s\n",
      "200:\ttest: 0.9865421\tbest: 0.9866292 (199)\ttotal: 11.5s\tremaining: 1m 54s\n",
      "300:\ttest: 0.9903223\tbest: 0.9903305 (299)\ttotal: 16.7s\tremaining: 1m 45s\n",
      "400:\ttest: 0.9922953\tbest: 0.9923057 (399)\ttotal: 22.6s\tremaining: 1m 41s\n",
      "500:\ttest: 0.9935775\tbest: 0.9935839 (496)\ttotal: 28.2s\tremaining: 1m 35s\n",
      "600:\ttest: 0.9942234\tbest: 0.9942415 (596)\ttotal: 34.3s\tremaining: 1m 31s\n",
      "700:\ttest: 0.9946361\tbest: 0.9946379 (699)\ttotal: 39.5s\tremaining: 1m 24s\n",
      "800:\ttest: 0.9951036\tbest: 0.9951432 (791)\ttotal: 45.1s\tremaining: 1m 18s\n"
     ]
    },
    {
     "name": "stderr",
     "output_type": "stream",
     "text": [
      "Default metric period is 5 because AUC is/are not implemented for GPU\n",
      "AUC is not implemented on GPU. Will use CPU for metric computation, this could significantly affect learning time\n"
     ]
    },
    {
     "name": "stdout",
     "output_type": "stream",
     "text": [
      "bestTest = 0.9951432044\n",
      "bestIteration = 791\n",
      "Metric AUC is not calculated on train by default. To calculate this metric on train, add hints=skip_train~false to metric parameters.\n",
      "154:\tloss: 0.9951432\tbest: 0.9961328 (5)\ttotal: 2h 13m 24s\tremaining: 5h 7m 15s\n",
      "0:\ttest: 0.7106613\tbest: 0.7106613 (0)\ttotal: 64.7ms\tremaining: 2m 22s\n",
      "100:\ttest: 0.9741949\tbest: 0.9742338 (99)\ttotal: 5.68s\tremaining: 1m 58s\n",
      "200:\ttest: 0.9857482\tbest: 0.9857482 (200)\ttotal: 11.9s\tremaining: 1m 58s\n",
      "300:\ttest: 0.9894820\tbest: 0.9895136 (297)\ttotal: 17.2s\tremaining: 1m 48s\n",
      "400:\ttest: 0.9914067\tbest: 0.9914067 (400)\ttotal: 23.1s\tremaining: 1m 43s\n",
      "500:\ttest: 0.9926834\tbest: 0.9926834 (500)\ttotal: 29s\tremaining: 1m 38s\n",
      "600:\ttest: 0.9936768\tbest: 0.9936797 (595)\ttotal: 34.4s\tremaining: 1m 31s\n",
      "bestTest = 0.9939011274\n",
      "bestIteration = 662\n",
      "Metric AUC is not calculated on train by default. To calculate this metric on train, add hints=skip_train~false to metric parameters.\n",
      "155:\tloss: 0.9939011\tbest: 0.9961328 (5)\ttotal: 2h 14m 3s\tremaining: 5h 5m 55s\n"
     ]
    },
    {
     "name": "stderr",
     "output_type": "stream",
     "text": [
      "Default metric period is 5 because AUC is/are not implemented for GPU\n",
      "AUC is not implemented on GPU. Will use CPU for metric computation, this could significantly affect learning time\n"
     ]
    },
    {
     "name": "stdout",
     "output_type": "stream",
     "text": [
      "0:\ttest: 0.7120242\tbest: 0.7120242 (0)\ttotal: 41.4ms\tremaining: 1m 39s\n",
      "100:\ttest: 0.9782242\tbest: 0.9782242 (100)\ttotal: 5.78s\tremaining: 2m 11s\n",
      "200:\ttest: 0.9883147\tbest: 0.9883147 (200)\ttotal: 11.3s\tremaining: 2m 3s\n",
      "300:\ttest: 0.9914722\tbest: 0.9914745 (299)\ttotal: 17.3s\tremaining: 2m\n",
      "400:\ttest: 0.9929901\tbest: 0.9930310 (398)\ttotal: 22.9s\tremaining: 1m 53s\n",
      "500:\ttest: 0.9939880\tbest: 0.9939880 (500)\ttotal: 28.7s\tremaining: 1m 48s\n",
      "600:\ttest: 0.9946577\tbest: 0.9946577 (600)\ttotal: 34.4s\tremaining: 1m 43s\n",
      "700:\ttest: 0.9952023\tbest: 0.9952287 (699)\ttotal: 39.7s\tremaining: 1m 36s\n",
      "800:\ttest: 0.9955965\tbest: 0.9956643 (796)\ttotal: 44.9s\tremaining: 1m 29s\n",
      "bestTest = 0.9956643369\n",
      "bestIteration = 796\n",
      "Metric AUC is not calculated on train by default. To calculate this metric on train, add hints=skip_train~false to metric parameters.\n",
      "156:\tloss: 0.9956643\tbest: 0.9961328 (5)\ttotal: 2h 14m 49s\tremaining: 5h 4m 51s\n"
     ]
    },
    {
     "name": "stderr",
     "output_type": "stream",
     "text": [
      "Default metric period is 5 because AUC is/are not implemented for GPU\n",
      "AUC is not implemented on GPU. Will use CPU for metric computation, this could significantly affect learning time\n"
     ]
    },
    {
     "name": "stdout",
     "output_type": "stream",
     "text": [
      "0:\ttest: 0.7114845\tbest: 0.7114845 (0)\ttotal: 51ms\tremaining: 2m 2s\n",
      "100:\ttest: 0.9769029\tbest: 0.9769029 (100)\ttotal: 6.04s\tremaining: 2m 17s\n",
      "200:\ttest: 0.9881810\tbest: 0.9881810 (200)\ttotal: 10.7s\tremaining: 1m 57s\n",
      "300:\ttest: 0.9914246\tbest: 0.9914246 (300)\ttotal: 17.2s\tremaining: 2m\n",
      "400:\ttest: 0.9930717\tbest: 0.9930717 (400)\ttotal: 22.9s\tremaining: 1m 53s\n",
      "500:\ttest: 0.9938364\tbest: 0.9938640 (499)\ttotal: 28.1s\tremaining: 1m 46s\n",
      "600:\ttest: 0.9944535\tbest: 0.9944952 (596)\ttotal: 33.9s\tremaining: 1m 41s\n",
      "700:\ttest: 0.9950069\tbest: 0.9950306 (698)\ttotal: 39.8s\tremaining: 1m 36s\n",
      "800:\ttest: 0.9953081\tbest: 0.9953485 (794)\ttotal: 45.2s\tremaining: 1m 30s\n",
      "900:\ttest: 0.9956012\tbest: 0.9956012 (900)\ttotal: 50.6s\tremaining: 1m 24s\n",
      "bestTest = 0.9957604796\n",
      "bestIteration = 958\n",
      "Metric AUC is not calculated on train by default. To calculate this metric on train, add hints=skip_train~false to metric parameters.\n",
      "157:\tloss: 0.9957605\tbest: 0.9961328 (5)\ttotal: 2h 15m 44s\tremaining: 5h 4m 8s\n"
     ]
    },
    {
     "name": "stderr",
     "output_type": "stream",
     "text": [
      "Default metric period is 5 because AUC is/are not implemented for GPU\n",
      "AUC is not implemented on GPU. Will use CPU for metric computation, this could significantly affect learning time\n"
     ]
    },
    {
     "name": "stdout",
     "output_type": "stream",
     "text": [
      "0:\ttest: 0.7108157\tbest: 0.7108157 (0)\ttotal: 42.5ms\tremaining: 1m 41s\n",
      "100:\ttest: 0.9747385\tbest: 0.9747385 (100)\ttotal: 5.99s\tremaining: 2m 16s\n",
      "200:\ttest: 0.9865421\tbest: 0.9866292 (199)\ttotal: 11.2s\tremaining: 2m 2s\n",
      "300:\ttest: 0.9903223\tbest: 0.9903305 (299)\ttotal: 16.7s\tremaining: 1m 56s\n",
      "400:\ttest: 0.9922953\tbest: 0.9923057 (399)\ttotal: 22.8s\tremaining: 1m 53s\n",
      "500:\ttest: 0.9935775\tbest: 0.9935839 (496)\ttotal: 28.7s\tremaining: 1m 48s\n",
      "600:\ttest: 0.9942234\tbest: 0.9942415 (596)\ttotal: 34.1s\tremaining: 1m 42s\n",
      "700:\ttest: 0.9946361\tbest: 0.9946379 (699)\ttotal: 40.3s\tremaining: 1m 37s\n",
      "800:\ttest: 0.9951036\tbest: 0.9951432 (791)\ttotal: 45.3s\tremaining: 1m 30s\n",
      "bestTest = 0.9951432044\n",
      "bestIteration = 791\n",
      "Metric AUC is not calculated on train by default. To calculate this metric on train, add hints=skip_train~false to metric parameters.\n",
      "158:\tloss: 0.9951432\tbest: 0.9961328 (5)\ttotal: 2h 16m 31s\tremaining: 5h 3m 6s\n"
     ]
    },
    {
     "name": "stderr",
     "output_type": "stream",
     "text": [
      "Default metric period is 5 because AUC is/are not implemented for GPU\n",
      "AUC is not implemented on GPU. Will use CPU for metric computation, this could significantly affect learning time\n"
     ]
    },
    {
     "name": "stdout",
     "output_type": "stream",
     "text": [
      "0:\ttest: 0.7106613\tbest: 0.7106613 (0)\ttotal: 67.1ms\tremaining: 2m 41s\n",
      "100:\ttest: 0.9741949\tbest: 0.9742338 (99)\ttotal: 5.28s\tremaining: 2m\n",
      "200:\ttest: 0.9857482\tbest: 0.9857482 (200)\ttotal: 11.3s\tremaining: 2m 4s\n",
      "300:\ttest: 0.9894820\tbest: 0.9895136 (297)\ttotal: 17.3s\tremaining: 2m\n",
      "400:\ttest: 0.9914067\tbest: 0.9914067 (400)\ttotal: 22.7s\tremaining: 1m 52s\n",
      "500:\ttest: 0.9926834\tbest: 0.9926834 (500)\ttotal: 28.1s\tremaining: 1m 46s\n",
      "600:\ttest: 0.9936768\tbest: 0.9936797 (595)\ttotal: 33.8s\tremaining: 1m 41s\n",
      "bestTest = 0.9939011274\n",
      "bestIteration = 662\n",
      "Metric AUC is not calculated on train by default. To calculate this metric on train, add hints=skip_train~false to metric parameters.\n",
      "159:\tloss: 0.9939011\tbest: 0.9961328 (5)\ttotal: 2h 17m 10s\tremaining: 5h 1m 48s\n"
     ]
    },
    {
     "name": "stderr",
     "output_type": "stream",
     "text": [
      "Default metric period is 5 because AUC is/are not implemented for GPU\n",
      "AUC is not implemented on GPU. Will use CPU for metric computation, this could significantly affect learning time\n"
     ]
    },
    {
     "name": "stdout",
     "output_type": "stream",
     "text": [
      "0:\ttest: 0.7120242\tbest: 0.7120242 (0)\ttotal: 66.4ms\tremaining: 2m 52s\n",
      "100:\ttest: 0.9782242\tbest: 0.9782242 (100)\ttotal: 5.35s\tremaining: 2m 12s\n",
      "200:\ttest: 0.9883147\tbest: 0.9883147 (200)\ttotal: 10.9s\tremaining: 2m 10s\n",
      "300:\ttest: 0.9914722\tbest: 0.9914745 (299)\ttotal: 16.9s\tremaining: 2m 8s\n",
      "400:\ttest: 0.9929901\tbest: 0.9930310 (398)\ttotal: 22.2s\tremaining: 2m 1s\n",
      "500:\ttest: 0.9939880\tbest: 0.9939880 (500)\ttotal: 27.6s\tremaining: 1m 55s\n",
      "600:\ttest: 0.9946577\tbest: 0.9946577 (600)\ttotal: 33.5s\tremaining: 1m 51s\n",
      "700:\ttest: 0.9952023\tbest: 0.9952287 (699)\ttotal: 38.8s\tremaining: 1m 45s\n",
      "800:\ttest: 0.9955965\tbest: 0.9956643 (796)\ttotal: 44.6s\tremaining: 1m 40s\n",
      "bestTest = 0.9956643369\n",
      "bestIteration = 796\n",
      "Metric AUC is not calculated on train by default. To calculate this metric on train, add hints=skip_train~false to metric parameters.\n",
      "160:\tloss: 0.9956643\tbest: 0.9961328 (5)\ttotal: 2h 17m 56s\tremaining: 5h 43s\n"
     ]
    },
    {
     "name": "stderr",
     "output_type": "stream",
     "text": [
      "Default metric period is 5 because AUC is/are not implemented for GPU\n",
      "AUC is not implemented on GPU. Will use CPU for metric computation, this could significantly affect learning time\n"
     ]
    },
    {
     "name": "stdout",
     "output_type": "stream",
     "text": [
      "0:\ttest: 0.7114845\tbest: 0.7114845 (0)\ttotal: 44.6ms\tremaining: 1m 55s\n",
      "100:\ttest: 0.9769029\tbest: 0.9769029 (100)\ttotal: 5.79s\tremaining: 2m 23s\n",
      "200:\ttest: 0.9881810\tbest: 0.9881810 (200)\ttotal: 11.8s\tremaining: 2m 20s\n",
      "300:\ttest: 0.9914246\tbest: 0.9914246 (300)\ttotal: 17.5s\tremaining: 2m 13s\n",
      "400:\ttest: 0.9930717\tbest: 0.9930717 (400)\ttotal: 23.2s\tremaining: 2m 7s\n",
      "500:\ttest: 0.9938364\tbest: 0.9938640 (499)\ttotal: 28.6s\tremaining: 1m 59s\n",
      "600:\ttest: 0.9944535\tbest: 0.9944952 (596)\ttotal: 34.6s\tremaining: 1m 55s\n",
      "700:\ttest: 0.9950069\tbest: 0.9950306 (698)\ttotal: 39.6s\tremaining: 1m 47s\n",
      "800:\ttest: 0.9953081\tbest: 0.9953485 (794)\ttotal: 45.5s\tremaining: 1m 42s\n",
      "900:\ttest: 0.9956012\tbest: 0.9956012 (900)\ttotal: 51s\tremaining: 1m 36s\n",
      "bestTest = 0.9957604796\n",
      "bestIteration = 958\n",
      "Metric AUC is not calculated on train by default. To calculate this metric on train, add hints=skip_train~false to metric parameters.\n",
      "161:\tloss: 0.9957605\tbest: 0.9961328 (5)\ttotal: 2h 18m 52s\tremaining: 5h 2s\n"
     ]
    },
    {
     "name": "stderr",
     "output_type": "stream",
     "text": [
      "Default metric period is 5 because AUC is/are not implemented for GPU\n",
      "AUC is not implemented on GPU. Will use CPU for metric computation, this could significantly affect learning time\n"
     ]
    },
    {
     "name": "stdout",
     "output_type": "stream",
     "text": [
      "0:\ttest: 0.7108157\tbest: 0.7108157 (0)\ttotal: 39.9ms\tremaining: 1m 43s\n",
      "100:\ttest: 0.9747385\tbest: 0.9747385 (100)\ttotal: 5.65s\tremaining: 2m 19s\n",
      "200:\ttest: 0.9865421\tbest: 0.9866292 (199)\ttotal: 11.5s\tremaining: 2m 17s\n",
      "300:\ttest: 0.9903223\tbest: 0.9903305 (299)\ttotal: 17.2s\tremaining: 2m 11s\n",
      "400:\ttest: 0.9922953\tbest: 0.9923057 (399)\ttotal: 22.6s\tremaining: 2m 3s\n",
      "500:\ttest: 0.9935775\tbest: 0.9935839 (496)\ttotal: 28.7s\tremaining: 2m\n",
      "600:\ttest: 0.9942234\tbest: 0.9942415 (596)\ttotal: 34.4s\tremaining: 1m 54s\n",
      "700:\ttest: 0.9946361\tbest: 0.9946379 (699)\ttotal: 40s\tremaining: 1m 48s\n",
      "800:\ttest: 0.9951036\tbest: 0.9951432 (791)\ttotal: 45.5s\tremaining: 1m 42s\n",
      "bestTest = 0.9951432044\n",
      "bestIteration = 791\n",
      "Metric AUC is not calculated on train by default. To calculate this metric on train, add hints=skip_train~false to metric parameters.\n",
      "162:\tloss: 0.9951432\tbest: 0.9961328 (5)\ttotal: 2h 19m 38s\tremaining: 4h 58m 59s\n"
     ]
    },
    {
     "name": "stderr",
     "output_type": "stream",
     "text": [
      "Default metric period is 5 because AUC is/are not implemented for GPU\n",
      "AUC is not implemented on GPU. Will use CPU for metric computation, this could significantly affect learning time\n"
     ]
    },
    {
     "name": "stdout",
     "output_type": "stream",
     "text": [
      "0:\ttest: 0.7106613\tbest: 0.7106613 (0)\ttotal: 41.7ms\tremaining: 1m 48s\n",
      "100:\ttest: 0.9741949\tbest: 0.9742338 (99)\ttotal: 5.63s\tremaining: 2m 19s\n",
      "200:\ttest: 0.9857482\tbest: 0.9857482 (200)\ttotal: 11s\tremaining: 2m 11s\n",
      "300:\ttest: 0.9894820\tbest: 0.9895136 (297)\ttotal: 17.4s\tremaining: 2m 12s\n",
      "400:\ttest: 0.9914067\tbest: 0.9914067 (400)\ttotal: 22.6s\tremaining: 2m 4s\n",
      "500:\ttest: 0.9926834\tbest: 0.9926834 (500)\ttotal: 28.7s\tremaining: 2m\n",
      "600:\ttest: 0.9936768\tbest: 0.9936797 (595)\ttotal: 34.2s\tremaining: 1m 53s\n",
      "bestTest = 0.9939011274\n",
      "bestIteration = 662\n",
      "Metric AUC is not calculated on train by default. To calculate this metric on train, add hints=skip_train~false to metric parameters.\n",
      "163:\tloss: 0.9939011\tbest: 0.9961328 (5)\ttotal: 2h 20m 17s\tremaining: 4h 57m 42s\n"
     ]
    },
    {
     "name": "stderr",
     "output_type": "stream",
     "text": [
      "Default metric period is 5 because AUC is/are not implemented for GPU\n",
      "AUC is not implemented on GPU. Will use CPU for metric computation, this could significantly affect learning time\n"
     ]
    },
    {
     "name": "stdout",
     "output_type": "stream",
     "text": [
      "0:\ttest: 0.7120242\tbest: 0.7120242 (0)\ttotal: 66.8ms\tremaining: 3m 7s\n",
      "100:\ttest: 0.9782242\tbest: 0.9782242 (100)\ttotal: 5.23s\tremaining: 2m 19s\n",
      "200:\ttest: 0.9883147\tbest: 0.9883147 (200)\ttotal: 11.4s\tremaining: 2m 27s\n",
      "300:\ttest: 0.9914722\tbest: 0.9914745 (299)\ttotal: 17s\tremaining: 2m 21s\n",
      "400:\ttest: 0.9929901\tbest: 0.9930310 (398)\ttotal: 22.9s\tremaining: 2m 16s\n",
      "500:\ttest: 0.9939880\tbest: 0.9939880 (500)\ttotal: 28.4s\tremaining: 2m 10s\n",
      "600:\ttest: 0.9946577\tbest: 0.9946577 (600)\ttotal: 34.2s\tremaining: 2m 5s\n",
      "700:\ttest: 0.9952023\tbest: 0.9952287 (699)\ttotal: 39.5s\tremaining: 1m 58s\n",
      "800:\ttest: 0.9955965\tbest: 0.9956643 (796)\ttotal: 45.4s\tremaining: 1m 53s\n",
      "bestTest = 0.9956643369\n",
      "bestIteration = 796\n",
      "Metric AUC is not calculated on train by default. To calculate this metric on train, add hints=skip_train~false to metric parameters.\n",
      "164:\tloss: 0.9956643\tbest: 0.9961328 (5)\ttotal: 2h 21m 4s\tremaining: 4h 56m 40s\n"
     ]
    },
    {
     "name": "stderr",
     "output_type": "stream",
     "text": [
      "Default metric period is 5 because AUC is/are not implemented for GPU\n",
      "AUC is not implemented on GPU. Will use CPU for metric computation, this could significantly affect learning time\n"
     ]
    },
    {
     "name": "stdout",
     "output_type": "stream",
     "text": [
      "0:\ttest: 0.7114845\tbest: 0.7114845 (0)\ttotal: 252ms\tremaining: 11m 45s\n",
      "100:\ttest: 0.9769029\tbest: 0.9769029 (100)\ttotal: 5.46s\tremaining: 2m 25s\n",
      "200:\ttest: 0.9881810\tbest: 0.9881810 (200)\ttotal: 11.6s\tremaining: 2m 29s\n",
      "300:\ttest: 0.9914246\tbest: 0.9914246 (300)\ttotal: 17s\tremaining: 2m 20s\n",
      "400:\ttest: 0.9930717\tbest: 0.9930717 (400)\ttotal: 22.3s\tremaining: 2m 13s\n",
      "500:\ttest: 0.9938364\tbest: 0.9938640 (499)\ttotal: 28s\tremaining: 2m 8s\n",
      "600:\ttest: 0.9944535\tbest: 0.9944952 (596)\ttotal: 33.8s\tremaining: 2m 3s\n",
      "700:\ttest: 0.9950069\tbest: 0.9950306 (698)\ttotal: 38.8s\tremaining: 1m 56s\n",
      "800:\ttest: 0.9953081\tbest: 0.9953485 (794)\ttotal: 44.6s\tremaining: 1m 51s\n",
      "900:\ttest: 0.9956012\tbest: 0.9956012 (900)\ttotal: 49.9s\tremaining: 1m 45s\n",
      "bestTest = 0.9957604796\n",
      "bestIteration = 958\n",
      "Metric AUC is not calculated on train by default. To calculate this metric on train, add hints=skip_train~false to metric parameters.\n",
      "165:\tloss: 0.9957605\tbest: 0.9961328 (5)\ttotal: 2h 21m 58s\tremaining: 4h 55m 56s\n"
     ]
    },
    {
     "name": "stderr",
     "output_type": "stream",
     "text": [
      "Default metric period is 5 because AUC is/are not implemented for GPU\n",
      "AUC is not implemented on GPU. Will use CPU for metric computation, this could significantly affect learning time\n"
     ]
    },
    {
     "name": "stdout",
     "output_type": "stream",
     "text": [
      "0:\ttest: 0.7108157\tbest: 0.7108157 (0)\ttotal: 42.4ms\tremaining: 1m 58s\n",
      "100:\ttest: 0.9747385\tbest: 0.9747385 (100)\ttotal: 5.73s\tremaining: 2m 33s\n",
      "200:\ttest: 0.9865421\tbest: 0.9866292 (199)\ttotal: 10.8s\tremaining: 2m 19s\n",
      "300:\ttest: 0.9903223\tbest: 0.9903305 (299)\ttotal: 16.5s\tremaining: 2m 16s\n",
      "400:\ttest: 0.9922953\tbest: 0.9923057 (399)\ttotal: 22.1s\tremaining: 2m 12s\n",
      "500:\ttest: 0.9935775\tbest: 0.9935839 (496)\ttotal: 27.1s\tremaining: 2m 4s\n",
      "600:\ttest: 0.9942234\tbest: 0.9942415 (596)\ttotal: 32.7s\tremaining: 1m 59s\n",
      "700:\ttest: 0.9946361\tbest: 0.9946379 (699)\ttotal: 38.5s\tremaining: 1m 55s\n",
      "800:\ttest: 0.9951036\tbest: 0.9951432 (791)\ttotal: 43.6s\tremaining: 1m 48s\n",
      "bestTest = 0.9951432044\n",
      "bestIteration = 791\n",
      "Metric AUC is not calculated on train by default. To calculate this metric on train, add hints=skip_train~false to metric parameters.\n",
      "166:\tloss: 0.9951432\tbest: 0.9961328 (5)\ttotal: 2h 22m 43s\tremaining: 4h 54m 52s\n"
     ]
    },
    {
     "name": "stderr",
     "output_type": "stream",
     "text": [
      "Default metric period is 5 because AUC is/are not implemented for GPU\n",
      "AUC is not implemented on GPU. Will use CPU for metric computation, this could significantly affect learning time\n"
     ]
    },
    {
     "name": "stdout",
     "output_type": "stream",
     "text": [
      "0:\ttest: 0.7106613\tbest: 0.7106613 (0)\ttotal: 66.3ms\tremaining: 3m 5s\n",
      "100:\ttest: 0.9741949\tbest: 0.9742338 (99)\ttotal: 5.43s\tremaining: 2m 25s\n",
      "200:\ttest: 0.9857482\tbest: 0.9857482 (200)\ttotal: 10.5s\tremaining: 2m 15s\n",
      "300:\ttest: 0.9894820\tbest: 0.9895136 (297)\ttotal: 17.2s\tremaining: 2m 22s\n",
      "400:\ttest: 0.9914067\tbest: 0.9914067 (400)\ttotal: 22.3s\tremaining: 2m 13s\n",
      "500:\ttest: 0.9926834\tbest: 0.9926834 (500)\ttotal: 28.1s\tremaining: 2m 9s\n",
      "600:\ttest: 0.9936768\tbest: 0.9936797 (595)\ttotal: 33.9s\tremaining: 2m 4s\n",
      "bestTest = 0.9939011274\n",
      "bestIteration = 662\n",
      "Metric AUC is not calculated on train by default. To calculate this metric on train, add hints=skip_train~false to metric parameters.\n",
      "167:\tloss: 0.9939011\tbest: 0.9961328 (5)\ttotal: 2h 23m 22s\tremaining: 4h 53m 34s\n"
     ]
    },
    {
     "name": "stderr",
     "output_type": "stream",
     "text": [
      "Default metric period is 5 because AUC is/are not implemented for GPU\n",
      "AUC is not implemented on GPU. Will use CPU for metric computation, this could significantly affect learning time\n"
     ]
    },
    {
     "name": "stdout",
     "output_type": "stream",
     "text": [
      "0:\ttest: 0.7120242\tbest: 0.7120242 (0)\ttotal: 300ms\tremaining: 14m 58s\n",
      "100:\ttest: 0.9782242\tbest: 0.9782242 (100)\ttotal: 6.24s\tremaining: 2m 59s\n",
      "200:\ttest: 0.9883147\tbest: 0.9883147 (200)\ttotal: 12s\tremaining: 2m 47s\n",
      "300:\ttest: 0.9914722\tbest: 0.9914745 (299)\ttotal: 17.4s\tremaining: 2m 35s\n",
      "400:\ttest: 0.9929901\tbest: 0.9930310 (398)\ttotal: 23.1s\tremaining: 2m 29s\n",
      "500:\ttest: 0.9939880\tbest: 0.9939880 (500)\ttotal: 28.1s\tremaining: 2m 20s\n",
      "600:\ttest: 0.9946577\tbest: 0.9946577 (600)\ttotal: 33.6s\tremaining: 2m 14s\n",
      "700:\ttest: 0.9952023\tbest: 0.9952287 (699)\ttotal: 39.2s\tremaining: 2m 8s\n",
      "800:\ttest: 0.9955965\tbest: 0.9956643 (796)\ttotal: 44.8s\tremaining: 2m 2s\n",
      "bestTest = 0.9956643369\n",
      "bestIteration = 796\n",
      "Metric AUC is not calculated on train by default. To calculate this metric on train, add hints=skip_train~false to metric parameters.\n",
      "168:\tloss: 0.9956643\tbest: 0.9961328 (5)\ttotal: 2h 24m 8s\tremaining: 4h 52m 32s\n"
     ]
    },
    {
     "name": "stderr",
     "output_type": "stream",
     "text": [
      "Default metric period is 5 because AUC is/are not implemented for GPU\n",
      "AUC is not implemented on GPU. Will use CPU for metric computation, this could significantly affect learning time\n"
     ]
    },
    {
     "name": "stdout",
     "output_type": "stream",
     "text": [
      "0:\ttest: 0.7114845\tbest: 0.7114845 (0)\ttotal: 43ms\tremaining: 2m 9s\n",
      "100:\ttest: 0.9769029\tbest: 0.9769029 (100)\ttotal: 6.34s\tremaining: 3m 2s\n",
      "200:\ttest: 0.9881810\tbest: 0.9881810 (200)\ttotal: 11.7s\tremaining: 2m 42s\n",
      "300:\ttest: 0.9914246\tbest: 0.9914246 (300)\ttotal: 17.5s\tremaining: 2m 37s\n",
      "400:\ttest: 0.9930717\tbest: 0.9930717 (400)\ttotal: 23s\tremaining: 2m 29s\n",
      "500:\ttest: 0.9938364\tbest: 0.9938640 (499)\ttotal: 28.7s\tremaining: 2m 23s\n",
      "600:\ttest: 0.9944535\tbest: 0.9944952 (596)\ttotal: 34.3s\tremaining: 2m 16s\n",
      "700:\ttest: 0.9950069\tbest: 0.9950306 (698)\ttotal: 39.1s\tremaining: 2m 8s\n",
      "800:\ttest: 0.9953081\tbest: 0.9953485 (794)\ttotal: 45.2s\tremaining: 2m 4s\n",
      "900:\ttest: 0.9956012\tbest: 0.9956012 (900)\ttotal: 50.8s\tremaining: 1m 58s\n",
      "bestTest = 0.9957604796\n",
      "bestIteration = 958\n",
      "Metric AUC is not calculated on train by default. To calculate this metric on train, add hints=skip_train~false to metric parameters.\n",
      "169:\tloss: 0.9957605\tbest: 0.9961328 (5)\ttotal: 2h 25m 4s\tremaining: 4h 51m 51s\n"
     ]
    },
    {
     "name": "stderr",
     "output_type": "stream",
     "text": [
      "Default metric period is 5 because AUC is/are not implemented for GPU\n",
      "AUC is not implemented on GPU. Will use CPU for metric computation, this could significantly affect learning time\n"
     ]
    },
    {
     "name": "stdout",
     "output_type": "stream",
     "text": [
      "0:\ttest: 0.7108157\tbest: 0.7108157 (0)\ttotal: 42.4ms\tremaining: 2m 7s\n",
      "100:\ttest: 0.9747385\tbest: 0.9747385 (100)\ttotal: 5.81s\tremaining: 2m 46s\n",
      "200:\ttest: 0.9865421\tbest: 0.9866292 (199)\ttotal: 11s\tremaining: 2m 33s\n",
      "300:\ttest: 0.9903223\tbest: 0.9903305 (299)\ttotal: 17.2s\tremaining: 2m 34s\n",
      "400:\ttest: 0.9922953\tbest: 0.9923057 (399)\ttotal: 22.8s\tremaining: 2m 27s\n",
      "500:\ttest: 0.9935775\tbest: 0.9935839 (496)\ttotal: 28s\tremaining: 2m 19s\n",
      "600:\ttest: 0.9942234\tbest: 0.9942415 (596)\ttotal: 33.5s\tremaining: 2m 13s\n",
      "700:\ttest: 0.9946361\tbest: 0.9946379 (699)\ttotal: 38.9s\tremaining: 2m 7s\n",
      "800:\ttest: 0.9951036\tbest: 0.9951432 (791)\ttotal: 44.9s\tremaining: 2m 3s\n",
      "bestTest = 0.9951432044\n",
      "bestIteration = 791\n",
      "Metric AUC is not calculated on train by default. To calculate this metric on train, add hints=skip_train~false to metric parameters.\n",
      "170:\tloss: 0.9951432\tbest: 0.9961328 (5)\ttotal: 2h 25m 49s\tremaining: 4h 50m 48s\n"
     ]
    },
    {
     "name": "stderr",
     "output_type": "stream",
     "text": [
      "Default metric period is 5 because AUC is/are not implemented for GPU\n",
      "AUC is not implemented on GPU. Will use CPU for metric computation, this could significantly affect learning time\n"
     ]
    },
    {
     "name": "stdout",
     "output_type": "stream",
     "text": [
      "0:\ttest: 0.7106613\tbest: 0.7106613 (0)\ttotal: 40.5ms\tremaining: 2m 1s\n",
      "100:\ttest: 0.9741949\tbest: 0.9742338 (99)\ttotal: 6.23s\tremaining: 2m 58s\n",
      "200:\ttest: 0.9857482\tbest: 0.9857482 (200)\ttotal: 11.5s\tremaining: 2m 40s\n",
      "300:\ttest: 0.9894820\tbest: 0.9895136 (297)\ttotal: 17.4s\tremaining: 2m 35s\n",
      "400:\ttest: 0.9914067\tbest: 0.9914067 (400)\ttotal: 22.9s\tremaining: 2m 28s\n",
      "500:\ttest: 0.9926834\tbest: 0.9926834 (500)\ttotal: 29s\tremaining: 2m 24s\n",
      "600:\ttest: 0.9936768\tbest: 0.9936797 (595)\ttotal: 34.5s\tremaining: 2m 17s\n",
      "bestTest = 0.9939011274\n",
      "bestIteration = 662\n",
      "Metric AUC is not calculated on train by default. To calculate this metric on train, add hints=skip_train~false to metric parameters.\n",
      "171:\tloss: 0.9939011\tbest: 0.9961328 (5)\ttotal: 2h 26m 29s\tremaining: 4h 49m 34s\n"
     ]
    },
    {
     "name": "stderr",
     "output_type": "stream",
     "text": [
      "Default metric period is 5 because AUC is/are not implemented for GPU\n",
      "AUC is not implemented on GPU. Will use CPU for metric computation, this could significantly affect learning time\n"
     ]
    },
    {
     "name": "stdout",
     "output_type": "stream",
     "text": [
      "0:\ttest: 0.7120242\tbest: 0.7120242 (0)\ttotal: 41.6ms\tremaining: 2m 12s\n",
      "100:\ttest: 0.9782242\tbest: 0.9782242 (100)\ttotal: 6.17s\tremaining: 3m 9s\n",
      "200:\ttest: 0.9883147\tbest: 0.9883147 (200)\ttotal: 11.5s\tremaining: 2m 51s\n",
      "300:\ttest: 0.9914722\tbest: 0.9914745 (299)\ttotal: 17.6s\tremaining: 2m 49s\n",
      "400:\ttest: 0.9929901\tbest: 0.9930310 (398)\ttotal: 22.8s\tremaining: 2m 39s\n",
      "500:\ttest: 0.9939880\tbest: 0.9939880 (500)\ttotal: 28.8s\tremaining: 2m 35s\n",
      "600:\ttest: 0.9946577\tbest: 0.9946577 (600)\ttotal: 34.4s\tremaining: 2m 28s\n",
      "700:\ttest: 0.9952023\tbest: 0.9952287 (699)\ttotal: 39.8s\tremaining: 2m 21s\n",
      "800:\ttest: 0.9955965\tbest: 0.9956643 (796)\ttotal: 45s\tremaining: 2m 14s\n",
      "bestTest = 0.9956643369\n",
      "bestIteration = 796\n",
      "Metric AUC is not calculated on train by default. To calculate this metric on train, add hints=skip_train~false to metric parameters.\n",
      "172:\tloss: 0.9956643\tbest: 0.9961328 (5)\ttotal: 2h 27m 16s\tremaining: 4h 48m 34s\n"
     ]
    },
    {
     "name": "stderr",
     "output_type": "stream",
     "text": [
      "Default metric period is 5 because AUC is/are not implemented for GPU\n",
      "AUC is not implemented on GPU. Will use CPU for metric computation, this could significantly affect learning time\n"
     ]
    },
    {
     "name": "stdout",
     "output_type": "stream",
     "text": [
      "0:\ttest: 0.7114845\tbest: 0.7114845 (0)\ttotal: 42.8ms\tremaining: 2m 16s\n",
      "100:\ttest: 0.9769029\tbest: 0.9769029 (100)\ttotal: 5.34s\tremaining: 2m 43s\n",
      "200:\ttest: 0.9881810\tbest: 0.9881810 (200)\ttotal: 10.9s\tremaining: 2m 43s\n",
      "300:\ttest: 0.9914246\tbest: 0.9914246 (300)\ttotal: 16.9s\tremaining: 2m 43s\n",
      "400:\ttest: 0.9930717\tbest: 0.9930717 (400)\ttotal: 22.4s\tremaining: 2m 36s\n",
      "500:\ttest: 0.9938364\tbest: 0.9938640 (499)\ttotal: 27.4s\tremaining: 2m 27s\n",
      "600:\ttest: 0.9944535\tbest: 0.9944952 (596)\ttotal: 33.1s\tremaining: 2m 23s\n",
      "700:\ttest: 0.9950069\tbest: 0.9950306 (698)\ttotal: 39s\tremaining: 2m 18s\n",
      "800:\ttest: 0.9953081\tbest: 0.9953485 (794)\ttotal: 44.5s\tremaining: 2m 13s\n",
      "900:\ttest: 0.9956012\tbest: 0.9956012 (900)\ttotal: 49.9s\tremaining: 2m 7s\n",
      "bestTest = 0.9957604796\n",
      "bestIteration = 958\n",
      "Metric AUC is not calculated on train by default. To calculate this metric on train, add hints=skip_train~false to metric parameters.\n",
      "173:\tloss: 0.9957605\tbest: 0.9961328 (5)\ttotal: 2h 28m 10s\tremaining: 4h 47m 50s\n"
     ]
    },
    {
     "name": "stderr",
     "output_type": "stream",
     "text": [
      "Default metric period is 5 because AUC is/are not implemented for GPU\n",
      "AUC is not implemented on GPU. Will use CPU for metric computation, this could significantly affect learning time\n"
     ]
    },
    {
     "name": "stdout",
     "output_type": "stream",
     "text": [
      "0:\ttest: 0.7108157\tbest: 0.7108157 (0)\ttotal: 44.8ms\tremaining: 2m 23s\n",
      "100:\ttest: 0.9747385\tbest: 0.9747385 (100)\ttotal: 6.38s\tremaining: 3m 15s\n",
      "200:\ttest: 0.9865421\tbest: 0.9866292 (199)\ttotal: 11.6s\tremaining: 2m 52s\n",
      "300:\ttest: 0.9903223\tbest: 0.9903305 (299)\ttotal: 17.8s\tremaining: 2m 51s\n",
      "400:\ttest: 0.9922953\tbest: 0.9923057 (399)\ttotal: 23.1s\tremaining: 2m 41s\n",
      "500:\ttest: 0.9935775\tbest: 0.9935839 (496)\ttotal: 29.2s\tremaining: 2m 37s\n",
      "600:\ttest: 0.9942234\tbest: 0.9942415 (596)\ttotal: 34.5s\tremaining: 2m 28s\n",
      "700:\ttest: 0.9946361\tbest: 0.9946379 (699)\ttotal: 40.6s\tremaining: 2m 24s\n",
      "800:\ttest: 0.9951036\tbest: 0.9951432 (791)\ttotal: 45.9s\tremaining: 2m 17s\n",
      "bestTest = 0.9951432044\n",
      "bestIteration = 791\n",
      "Metric AUC is not calculated on train by default. To calculate this metric on train, add hints=skip_train~false to metric parameters.\n",
      "174:\tloss: 0.9951432\tbest: 0.9961328 (5)\ttotal: 2h 28m 58s\tremaining: 4h 46m 52s\n"
     ]
    },
    {
     "name": "stderr",
     "output_type": "stream",
     "text": [
      "Default metric period is 5 because AUC is/are not implemented for GPU\n",
      "AUC is not implemented on GPU. Will use CPU for metric computation, this could significantly affect learning time\n"
     ]
    },
    {
     "name": "stdout",
     "output_type": "stream",
     "text": [
      "0:\ttest: 0.7106613\tbest: 0.7106613 (0)\ttotal: 40.5ms\tremaining: 2m 9s\n",
      "100:\ttest: 0.9741949\tbest: 0.9742338 (99)\ttotal: 5.52s\tremaining: 2m 49s\n",
      "200:\ttest: 0.9857482\tbest: 0.9857482 (200)\ttotal: 11.2s\tremaining: 2m 46s\n",
      "300:\ttest: 0.9894820\tbest: 0.9895136 (297)\ttotal: 17.3s\tremaining: 2m 46s\n",
      "400:\ttest: 0.9914067\tbest: 0.9914067 (400)\ttotal: 22.9s\tremaining: 2m 39s\n",
      "500:\ttest: 0.9926834\tbest: 0.9926834 (500)\ttotal: 28.9s\tremaining: 2m 35s\n",
      "600:\ttest: 0.9936768\tbest: 0.9936797 (595)\ttotal: 34.5s\tremaining: 2m 28s\n",
      "bestTest = 0.9939011274\n",
      "bestIteration = 662\n",
      "Metric AUC is not calculated on train by default. To calculate this metric on train, add hints=skip_train~false to metric parameters.\n",
      "175:\tloss: 0.9939011\tbest: 0.9961328 (5)\ttotal: 2h 29m 37s\tremaining: 4h 45m 39s\n"
     ]
    },
    {
     "name": "stderr",
     "output_type": "stream",
     "text": [
      "Default metric period is 5 because AUC is/are not implemented for GPU\n",
      "AUC is not implemented on GPU. Will use CPU for metric computation, this could significantly affect learning time\n"
     ]
    },
    {
     "name": "stdout",
     "output_type": "stream",
     "text": [
      "0:\ttest: 0.7120242\tbest: 0.7120242 (0)\ttotal: 76.9ms\tremaining: 4m 21s\n",
      "100:\ttest: 0.9782242\tbest: 0.9782242 (100)\ttotal: 5.26s\tremaining: 2m 51s\n",
      "200:\ttest: 0.9883147\tbest: 0.9883147 (200)\ttotal: 11.4s\tremaining: 3m 2s\n",
      "300:\ttest: 0.9914722\tbest: 0.9914745 (299)\ttotal: 17.2s\tremaining: 2m 56s\n",
      "400:\ttest: 0.9929901\tbest: 0.9930310 (398)\ttotal: 22.6s\tremaining: 2m 48s\n",
      "500:\ttest: 0.9939880\tbest: 0.9939880 (500)\ttotal: 28s\tremaining: 2m 42s\n",
      "600:\ttest: 0.9946577\tbest: 0.9946577 (600)\ttotal: 34.1s\tremaining: 2m 38s\n",
      "700:\ttest: 0.9952023\tbest: 0.9952287 (699)\ttotal: 39.2s\tremaining: 2m 30s\n",
      "800:\ttest: 0.9955965\tbest: 0.9956643 (796)\ttotal: 44.8s\tremaining: 2m 25s\n",
      "bestTest = 0.9956643369\n",
      "bestIteration = 796\n",
      "Metric AUC is not calculated on train by default. To calculate this metric on train, add hints=skip_train~false to metric parameters.\n",
      "176:\tloss: 0.9956643\tbest: 0.9961328 (5)\ttotal: 2h 30m 23s\tremaining: 4h 44m 38s\n"
     ]
    },
    {
     "name": "stderr",
     "output_type": "stream",
     "text": [
      "Default metric period is 5 because AUC is/are not implemented for GPU\n",
      "AUC is not implemented on GPU. Will use CPU for metric computation, this could significantly affect learning time\n"
     ]
    },
    {
     "name": "stdout",
     "output_type": "stream",
     "text": [
      "0:\ttest: 0.7114845\tbest: 0.7114845 (0)\ttotal: 242ms\tremaining: 13m 41s\n",
      "100:\ttest: 0.9769029\tbest: 0.9769029 (100)\ttotal: 5.95s\tremaining: 3m 14s\n",
      "200:\ttest: 0.9881810\tbest: 0.9881810 (200)\ttotal: 11.4s\tremaining: 3m\n",
      "300:\ttest: 0.9914246\tbest: 0.9914246 (300)\ttotal: 17s\tremaining: 2m 54s\n",
      "400:\ttest: 0.9930717\tbest: 0.9930717 (400)\ttotal: 22.7s\tremaining: 2m 50s\n",
      "500:\ttest: 0.9938364\tbest: 0.9938640 (499)\ttotal: 28.6s\tremaining: 2m 45s\n",
      "600:\ttest: 0.9944535\tbest: 0.9944952 (596)\ttotal: 34.2s\tremaining: 2m 39s\n",
      "700:\ttest: 0.9950069\tbest: 0.9950306 (698)\ttotal: 39.2s\tremaining: 2m 30s\n",
      "800:\ttest: 0.9953081\tbest: 0.9953485 (794)\ttotal: 45s\tremaining: 2m 26s\n",
      "900:\ttest: 0.9956012\tbest: 0.9956012 (900)\ttotal: 50.9s\tremaining: 2m 21s\n",
      "bestTest = 0.9957604796\n",
      "bestIteration = 958\n",
      "Metric AUC is not calculated on train by default. To calculate this metric on train, add hints=skip_train~false to metric parameters.\n",
      "177:\tloss: 0.9957605\tbest: 0.9961328 (5)\ttotal: 2h 31m 19s\tremaining: 4h 43m 55s\n"
     ]
    },
    {
     "name": "stderr",
     "output_type": "stream",
     "text": [
      "Default metric period is 5 because AUC is/are not implemented for GPU\n",
      "AUC is not implemented on GPU. Will use CPU for metric computation, this could significantly affect learning time\n"
     ]
    },
    {
     "name": "stdout",
     "output_type": "stream",
     "text": [
      "0:\ttest: 0.7108157\tbest: 0.7108157 (0)\ttotal: 41.3ms\tremaining: 2m 20s\n",
      "100:\ttest: 0.9747385\tbest: 0.9747385 (100)\ttotal: 5.83s\tremaining: 3m 10s\n",
      "200:\ttest: 0.9865421\tbest: 0.9866292 (199)\ttotal: 11.4s\tremaining: 3m 1s\n",
      "300:\ttest: 0.9903223\tbest: 0.9903305 (299)\ttotal: 17.3s\tremaining: 2m 58s\n",
      "400:\ttest: 0.9922953\tbest: 0.9923057 (399)\ttotal: 22.6s\tremaining: 2m 49s\n",
      "500:\ttest: 0.9935775\tbest: 0.9935839 (496)\ttotal: 28.2s\tremaining: 2m 43s\n",
      "600:\ttest: 0.9942234\tbest: 0.9942415 (596)\ttotal: 33.9s\tremaining: 2m 37s\n",
      "700:\ttest: 0.9946361\tbest: 0.9946379 (699)\ttotal: 39.2s\tremaining: 2m 30s\n",
      "800:\ttest: 0.9951036\tbest: 0.9951432 (791)\ttotal: 44.8s\tremaining: 2m 25s\n",
      "bestTest = 0.9951432044\n",
      "bestIteration = 791\n",
      "Metric AUC is not calculated on train by default. To calculate this metric on train, add hints=skip_train~false to metric parameters.\n",
      "178:\tloss: 0.9951432\tbest: 0.9961328 (5)\ttotal: 2h 32m 4s\tremaining: 4h 42m 54s\n"
     ]
    },
    {
     "name": "stderr",
     "output_type": "stream",
     "text": [
      "Default metric period is 5 because AUC is/are not implemented for GPU\n",
      "AUC is not implemented on GPU. Will use CPU for metric computation, this could significantly affect learning time\n"
     ]
    },
    {
     "name": "stdout",
     "output_type": "stream",
     "text": [
      "0:\ttest: 0.7106613\tbest: 0.7106613 (0)\ttotal: 47.8ms\tremaining: 2m 42s\n",
      "100:\ttest: 0.9741949\tbest: 0.9742338 (99)\ttotal: 6.15s\tremaining: 3m 20s\n",
      "200:\ttest: 0.9857482\tbest: 0.9857482 (200)\ttotal: 12.2s\tremaining: 3m 14s\n",
      "300:\ttest: 0.9894820\tbest: 0.9895136 (297)\ttotal: 17.6s\tremaining: 3m 1s\n",
      "400:\ttest: 0.9914067\tbest: 0.9914067 (400)\ttotal: 23.8s\tremaining: 2m 57s\n",
      "500:\ttest: 0.9926834\tbest: 0.9926834 (500)\ttotal: 29.1s\tremaining: 2m 48s\n",
      "600:\ttest: 0.9936768\tbest: 0.9936797 (595)\ttotal: 34.5s\tremaining: 2m 40s\n",
      "bestTest = 0.9939011274\n",
      "bestIteration = 662\n",
      "Metric AUC is not calculated on train by default. To calculate this metric on train, add hints=skip_train~false to metric parameters.\n",
      "179:\tloss: 0.9939011\tbest: 0.9961328 (5)\ttotal: 2h 32m 44s\tremaining: 4h 41m 43s\n"
     ]
    },
    {
     "name": "stderr",
     "output_type": "stream",
     "text": [
      "Default metric period is 5 because AUC is/are not implemented for GPU\n",
      "AUC is not implemented on GPU. Will use CPU for metric computation, this could significantly affect learning time\n"
     ]
    },
    {
     "name": "stdout",
     "output_type": "stream",
     "text": [
      "0:\ttest: 0.7120242\tbest: 0.7120242 (0)\ttotal: 76.9ms\tremaining: 4m 36s\n",
      "100:\ttest: 0.9782242\tbest: 0.9782242 (100)\ttotal: 5.35s\tremaining: 3m 5s\n",
      "200:\ttest: 0.9883147\tbest: 0.9883147 (200)\ttotal: 11.1s\tremaining: 3m 8s\n",
      "300:\ttest: 0.9914722\tbest: 0.9914745 (299)\ttotal: 16.8s\tremaining: 3m 4s\n",
      "400:\ttest: 0.9929901\tbest: 0.9930310 (398)\ttotal: 22.8s\tremaining: 3m 1s\n",
      "500:\ttest: 0.9939880\tbest: 0.9939880 (500)\ttotal: 27.6s\tremaining: 2m 51s\n",
      "600:\ttest: 0.9946577\tbest: 0.9946577 (600)\ttotal: 33.5s\tremaining: 2m 47s\n",
      "700:\ttest: 0.9952023\tbest: 0.9952287 (699)\ttotal: 39s\tremaining: 2m 41s\n",
      "800:\ttest: 0.9955965\tbest: 0.9956643 (796)\ttotal: 44.2s\tremaining: 2m 34s\n",
      "bestTest = 0.9956643369\n",
      "bestIteration = 796\n",
      "Metric AUC is not calculated on train by default. To calculate this metric on train, add hints=skip_train~false to metric parameters.\n",
      "180:\tloss: 0.9956643\tbest: 0.9961328 (5)\ttotal: 2h 33m 30s\tremaining: 4h 40m 43s\n"
     ]
    },
    {
     "name": "stderr",
     "output_type": "stream",
     "text": [
      "Default metric period is 5 because AUC is/are not implemented for GPU\n",
      "AUC is not implemented on GPU. Will use CPU for metric computation, this could significantly affect learning time\n"
     ]
    },
    {
     "name": "stdout",
     "output_type": "stream",
     "text": [
      "0:\ttest: 0.7114845\tbest: 0.7114845 (0)\ttotal: 40.3ms\tremaining: 2m 25s\n",
      "100:\ttest: 0.9769029\tbest: 0.9769029 (100)\ttotal: 6.08s\tremaining: 3m 30s\n",
      "200:\ttest: 0.9881810\tbest: 0.9881810 (200)\ttotal: 11.7s\tremaining: 3m 18s\n",
      "300:\ttest: 0.9914246\tbest: 0.9914246 (300)\ttotal: 17s\tremaining: 3m 6s\n",
      "400:\ttest: 0.9930717\tbest: 0.9930717 (400)\ttotal: 22.8s\tremaining: 3m 1s\n",
      "500:\ttest: 0.9938364\tbest: 0.9938640 (499)\ttotal: 28.9s\tremaining: 2m 58s\n",
      "600:\ttest: 0.9944535\tbest: 0.9944952 (596)\ttotal: 33.9s\tremaining: 2m 48s\n",
      "700:\ttest: 0.9950069\tbest: 0.9950306 (698)\ttotal: 39.9s\tremaining: 2m 44s\n",
      "800:\ttest: 0.9953081\tbest: 0.9953485 (794)\ttotal: 45.1s\tremaining: 2m 37s\n",
      "900:\ttest: 0.9956012\tbest: 0.9956012 (900)\ttotal: 51.2s\tremaining: 2m 33s\n",
      "bestTest = 0.9957604796\n",
      "bestIteration = 958\n",
      "Metric AUC is not calculated on train by default. To calculate this metric on train, add hints=skip_train~false to metric parameters.\n",
      "181:\tloss: 0.9957605\tbest: 0.9961328 (5)\ttotal: 2h 34m 26s\tremaining: 4h 40m 1s\n"
     ]
    },
    {
     "name": "stderr",
     "output_type": "stream",
     "text": [
      "Default metric period is 5 because AUC is/are not implemented for GPU\n",
      "AUC is not implemented on GPU. Will use CPU for metric computation, this could significantly affect learning time\n"
     ]
    },
    {
     "name": "stdout",
     "output_type": "stream",
     "text": [
      "0:\ttest: 0.7108157\tbest: 0.7108157 (0)\ttotal: 75ms\tremaining: 4m 29s\n",
      "100:\ttest: 0.9747385\tbest: 0.9747385 (100)\ttotal: 4.96s\tremaining: 2m 51s\n",
      "200:\ttest: 0.9865421\tbest: 0.9866292 (199)\ttotal: 11.2s\tremaining: 3m 10s\n",
      "300:\ttest: 0.9903223\tbest: 0.9903305 (299)\ttotal: 16.8s\tremaining: 3m 4s\n",
      "400:\ttest: 0.9922953\tbest: 0.9923057 (399)\ttotal: 22.5s\tremaining: 2m 59s\n",
      "500:\ttest: 0.9935775\tbest: 0.9935839 (496)\ttotal: 27.6s\tremaining: 2m 50s\n",
      "600:\ttest: 0.9942234\tbest: 0.9942415 (596)\ttotal: 33.6s\tremaining: 2m 47s\n",
      "700:\ttest: 0.9946361\tbest: 0.9946379 (699)\ttotal: 38.6s\tremaining: 2m 39s\n",
      "800:\ttest: 0.9951036\tbest: 0.9951432 (791)\ttotal: 44.7s\tremaining: 2m 36s\n",
      "bestTest = 0.9951432044\n",
      "bestIteration = 791\n",
      "Metric AUC is not calculated on train by default. To calculate this metric on train, add hints=skip_train~false to metric parameters.\n",
      "182:\tloss: 0.9951432\tbest: 0.9961328 (5)\ttotal: 2h 35m 11s\tremaining: 4h 39m\n"
     ]
    },
    {
     "name": "stderr",
     "output_type": "stream",
     "text": [
      "Default metric period is 5 because AUC is/are not implemented for GPU\n",
      "AUC is not implemented on GPU. Will use CPU for metric computation, this could significantly affect learning time\n"
     ]
    },
    {
     "name": "stdout",
     "output_type": "stream",
     "text": [
      "0:\ttest: 0.7106613\tbest: 0.7106613 (0)\ttotal: 42.1ms\tremaining: 2m 31s\n",
      "100:\ttest: 0.9741949\tbest: 0.9742338 (99)\ttotal: 5.68s\tremaining: 3m 16s\n",
      "200:\ttest: 0.9857482\tbest: 0.9857482 (200)\ttotal: 11.9s\tremaining: 3m 20s\n",
      "300:\ttest: 0.9894820\tbest: 0.9895136 (297)\ttotal: 17.5s\tremaining: 3m 11s\n",
      "400:\ttest: 0.9914067\tbest: 0.9914067 (400)\ttotal: 22.6s\tremaining: 3m\n",
      "500:\ttest: 0.9926834\tbest: 0.9926834 (500)\ttotal: 28.4s\tremaining: 2m 55s\n",
      "600:\ttest: 0.9936768\tbest: 0.9936797 (595)\ttotal: 34.1s\tremaining: 2m 50s\n",
      "bestTest = 0.9939011274\n",
      "bestIteration = 662\n",
      "Metric AUC is not calculated on train by default. To calculate this metric on train, add hints=skip_train~false to metric parameters.\n",
      "183:\tloss: 0.9939011\tbest: 0.9961328 (5)\ttotal: 2h 35m 50s\tremaining: 4h 37m 48s\n"
     ]
    },
    {
     "name": "stderr",
     "output_type": "stream",
     "text": [
      "Default metric period is 5 because AUC is/are not implemented for GPU\n",
      "AUC is not implemented on GPU. Will use CPU for metric computation, this could significantly affect learning time\n"
     ]
    },
    {
     "name": "stdout",
     "output_type": "stream",
     "text": [
      "0:\ttest: 0.7120242\tbest: 0.7120242 (0)\ttotal: 42.1ms\tremaining: 2m 39s\n",
      "100:\ttest: 0.9782242\tbest: 0.9782242 (100)\ttotal: 5.78s\tremaining: 3m 31s\n",
      "200:\ttest: 0.9883147\tbest: 0.9883147 (200)\ttotal: 11.5s\tremaining: 3m 25s\n",
      "300:\ttest: 0.9914722\tbest: 0.9914745 (299)\ttotal: 17.1s\tremaining: 3m 19s\n",
      "400:\ttest: 0.9929901\tbest: 0.9930310 (398)\ttotal: 22.6s\tremaining: 3m 11s\n",
      "500:\ttest: 0.9939880\tbest: 0.9939880 (500)\ttotal: 28.4s\tremaining: 3m 7s\n",
      "600:\ttest: 0.9946577\tbest: 0.9946577 (600)\ttotal: 34s\tremaining: 3m\n",
      "700:\ttest: 0.9952023\tbest: 0.9952287 (699)\ttotal: 38.9s\tremaining: 2m 52s\n",
      "800:\ttest: 0.9955965\tbest: 0.9956643 (796)\ttotal: 44.5s\tremaining: 2m 46s\n",
      "bestTest = 0.9956643369\n",
      "bestIteration = 796\n",
      "Metric AUC is not calculated on train by default. To calculate this metric on train, add hints=skip_train~false to metric parameters.\n",
      "184:\tloss: 0.9956643\tbest: 0.9961328 (5)\ttotal: 2h 36m 36s\tremaining: 4h 36m 48s\n"
     ]
    },
    {
     "name": "stderr",
     "output_type": "stream",
     "text": [
      "Default metric period is 5 because AUC is/are not implemented for GPU\n",
      "AUC is not implemented on GPU. Will use CPU for metric computation, this could significantly affect learning time\n"
     ]
    },
    {
     "name": "stdout",
     "output_type": "stream",
     "text": [
      "0:\ttest: 0.7114845\tbest: 0.7114845 (0)\ttotal: 169ms\tremaining: 10m 42s\n",
      "100:\ttest: 0.9769029\tbest: 0.9769029 (100)\ttotal: 5.85s\tremaining: 3m 34s\n",
      "200:\ttest: 0.9881810\tbest: 0.9881810 (200)\ttotal: 11.7s\tremaining: 3m 29s\n",
      "300:\ttest: 0.9914246\tbest: 0.9914246 (300)\ttotal: 17.6s\tremaining: 3m 24s\n",
      "400:\ttest: 0.9930717\tbest: 0.9930717 (400)\ttotal: 22.7s\tremaining: 3m 12s\n",
      "500:\ttest: 0.9938364\tbest: 0.9938640 (499)\ttotal: 28.3s\tremaining: 3m 6s\n",
      "600:\ttest: 0.9944535\tbest: 0.9944952 (596)\ttotal: 33.3s\tremaining: 2m 57s\n",
      "700:\ttest: 0.9950069\tbest: 0.9950306 (698)\ttotal: 39.2s\tremaining: 2m 53s\n",
      "800:\ttest: 0.9953081\tbest: 0.9953485 (794)\ttotal: 44.5s\tremaining: 2m 46s\n",
      "900:\ttest: 0.9956012\tbest: 0.9956012 (900)\ttotal: 49.8s\tremaining: 2m 40s\n",
      "bestTest = 0.9957604796\n",
      "bestIteration = 958\n",
      "Metric AUC is not calculated on train by default. To calculate this metric on train, add hints=skip_train~false to metric parameters.\n",
      "185:\tloss: 0.9957605\tbest: 0.9961328 (5)\ttotal: 2h 37m 31s\tremaining: 4h 36m 4s\n"
     ]
    },
    {
     "name": "stderr",
     "output_type": "stream",
     "text": [
      "Default metric period is 5 because AUC is/are not implemented for GPU\n",
      "AUC is not implemented on GPU. Will use CPU for metric computation, this could significantly affect learning time\n"
     ]
    },
    {
     "name": "stdout",
     "output_type": "stream",
     "text": [
      "0:\ttest: 0.7108157\tbest: 0.7108157 (0)\ttotal: 40.4ms\tremaining: 2m 33s\n",
      "100:\ttest: 0.9747385\tbest: 0.9747385 (100)\ttotal: 5.99s\tremaining: 3m 39s\n",
      "200:\ttest: 0.9865421\tbest: 0.9866292 (199)\ttotal: 11.4s\tremaining: 3m 24s\n",
      "300:\ttest: 0.9903223\tbest: 0.9903305 (299)\ttotal: 17.1s\tremaining: 3m 18s\n",
      "400:\ttest: 0.9922953\tbest: 0.9923057 (399)\ttotal: 22.3s\tremaining: 3m 8s\n",
      "500:\ttest: 0.9935775\tbest: 0.9935839 (496)\ttotal: 28.3s\tremaining: 3m 6s\n",
      "600:\ttest: 0.9942234\tbest: 0.9942415 (596)\ttotal: 33.6s\tremaining: 2m 58s\n",
      "700:\ttest: 0.9946361\tbest: 0.9946379 (699)\ttotal: 39.4s\tremaining: 2m 54s\n",
      "800:\ttest: 0.9951036\tbest: 0.9951432 (791)\ttotal: 45.2s\tremaining: 2m 49s\n",
      "bestTest = 0.9951432044\n",
      "bestIteration = 791\n",
      "Metric AUC is not calculated on train by default. To calculate this metric on train, add hints=skip_train~false to metric parameters.\n",
      "186:\tloss: 0.9951432\tbest: 0.9961328 (5)\ttotal: 2h 38m 17s\tremaining: 4h 35m 5s\n"
     ]
    },
    {
     "name": "stderr",
     "output_type": "stream",
     "text": [
      "Default metric period is 5 because AUC is/are not implemented for GPU\n",
      "AUC is not implemented on GPU. Will use CPU for metric computation, this could significantly affect learning time\n"
     ]
    },
    {
     "name": "stdout",
     "output_type": "stream",
     "text": [
      "0:\ttest: 0.7106613\tbest: 0.7106613 (0)\ttotal: 39.3ms\tremaining: 2m 29s\n",
      "100:\ttest: 0.9741949\tbest: 0.9742338 (99)\ttotal: 6.09s\tremaining: 3m 43s\n",
      "200:\ttest: 0.9857482\tbest: 0.9857482 (200)\ttotal: 11.4s\tremaining: 3m 23s\n",
      "300:\ttest: 0.9894820\tbest: 0.9895136 (297)\ttotal: 17.6s\tremaining: 3m 24s\n",
      "400:\ttest: 0.9914067\tbest: 0.9914067 (400)\ttotal: 22.5s\tremaining: 3m 10s\n",
      "500:\ttest: 0.9926834\tbest: 0.9926834 (500)\ttotal: 28.5s\tremaining: 3m 7s\n",
      "600:\ttest: 0.9936768\tbest: 0.9936797 (595)\ttotal: 33.8s\tremaining: 2m 59s\n",
      "bestTest = 0.9939011274\n",
      "bestIteration = 662\n",
      "Metric AUC is not calculated on train by default. To calculate this metric on train, add hints=skip_train~false to metric parameters.\n",
      "187:\tloss: 0.9939011\tbest: 0.9961328 (5)\ttotal: 2h 38m 56s\tremaining: 4h 33m 54s\n"
     ]
    },
    {
     "name": "stderr",
     "output_type": "stream",
     "text": [
      "Default metric period is 5 because AUC is/are not implemented for GPU\n",
      "AUC is not implemented on GPU. Will use CPU for metric computation, this could significantly affect learning time\n"
     ]
    },
    {
     "name": "stdout",
     "output_type": "stream",
     "text": [
      "0:\ttest: 0.7120242\tbest: 0.7120242 (0)\ttotal: 39.1ms\tremaining: 2m 36s\n",
      "100:\ttest: 0.9782242\tbest: 0.9782242 (100)\ttotal: 5.84s\tremaining: 3m 45s\n",
      "200:\ttest: 0.9883147\tbest: 0.9883147 (200)\ttotal: 11.3s\tremaining: 3m 33s\n",
      "300:\ttest: 0.9914722\tbest: 0.9914745 (299)\ttotal: 17.1s\tremaining: 3m 29s\n",
      "400:\ttest: 0.9929901\tbest: 0.9930310 (398)\ttotal: 22.5s\tremaining: 3m 21s\n",
      "500:\ttest: 0.9939880\tbest: 0.9939880 (500)\ttotal: 28.1s\tremaining: 3m 16s\n",
      "600:\ttest: 0.9946577\tbest: 0.9946577 (600)\ttotal: 33.3s\tremaining: 3m 8s\n",
      "700:\ttest: 0.9952023\tbest: 0.9952287 (699)\ttotal: 38.5s\tremaining: 3m 1s\n",
      "800:\ttest: 0.9955965\tbest: 0.9956643 (796)\ttotal: 44.2s\tremaining: 2m 56s\n",
      "bestTest = 0.9956643369\n",
      "bestIteration = 796\n",
      "Metric AUC is not calculated on train by default. To calculate this metric on train, add hints=skip_train~false to metric parameters.\n",
      "188:\tloss: 0.9956643\tbest: 0.9961328 (5)\ttotal: 2h 39m 41s\tremaining: 4h 32m 54s\n"
     ]
    },
    {
     "name": "stderr",
     "output_type": "stream",
     "text": [
      "Default metric period is 5 because AUC is/are not implemented for GPU\n",
      "AUC is not implemented on GPU. Will use CPU for metric computation, this could significantly affect learning time\n"
     ]
    },
    {
     "name": "stdout",
     "output_type": "stream",
     "text": [
      "0:\ttest: 0.7114845\tbest: 0.7114845 (0)\ttotal: 49.3ms\tremaining: 3m 17s\n",
      "100:\ttest: 0.9769029\tbest: 0.9769029 (100)\ttotal: 6.05s\tremaining: 3m 53s\n",
      "200:\ttest: 0.9881810\tbest: 0.9881810 (200)\ttotal: 11.8s\tremaining: 3m 42s\n",
      "300:\ttest: 0.9914246\tbest: 0.9914246 (300)\ttotal: 17.1s\tremaining: 3m 30s\n",
      "400:\ttest: 0.9930717\tbest: 0.9930717 (400)\ttotal: 23.2s\tremaining: 3m 28s\n",
      "500:\ttest: 0.9938364\tbest: 0.9938640 (499)\ttotal: 28.2s\tremaining: 3m 17s\n",
      "600:\ttest: 0.9944535\tbest: 0.9944952 (596)\ttotal: 34.4s\tremaining: 3m 14s\n",
      "700:\ttest: 0.9950069\tbest: 0.9950306 (698)\ttotal: 39.3s\tremaining: 3m 4s\n",
      "800:\ttest: 0.9953081\tbest: 0.9953485 (794)\ttotal: 45s\tremaining: 2m 59s\n",
      "900:\ttest: 0.9956012\tbest: 0.9956012 (900)\ttotal: 50.8s\tremaining: 2m 54s\n",
      "bestTest = 0.9957604796\n",
      "bestIteration = 958\n",
      "Metric AUC is not calculated on train by default. To calculate this metric on train, add hints=skip_train~false to metric parameters.\n",
      "189:\tloss: 0.9957605\tbest: 0.9961328 (5)\ttotal: 2h 40m 36s\tremaining: 4h 32m 11s\n"
     ]
    },
    {
     "name": "stderr",
     "output_type": "stream",
     "text": [
      "Default metric period is 5 because AUC is/are not implemented for GPU\n",
      "AUC is not implemented on GPU. Will use CPU for metric computation, this could significantly affect learning time\n"
     ]
    },
    {
     "name": "stdout",
     "output_type": "stream",
     "text": [
      "0:\ttest: 0.7108157\tbest: 0.7108157 (0)\ttotal: 39.1ms\tremaining: 2m 36s\n",
      "100:\ttest: 0.9747385\tbest: 0.9747385 (100)\ttotal: 5.97s\tremaining: 3m 50s\n",
      "200:\ttest: 0.9865421\tbest: 0.9866292 (199)\ttotal: 11.2s\tremaining: 3m 31s\n",
      "300:\ttest: 0.9903223\tbest: 0.9903305 (299)\ttotal: 17.4s\tremaining: 3m 33s\n",
      "400:\ttest: 0.9922953\tbest: 0.9923057 (399)\ttotal: 22.7s\tremaining: 3m 23s\n",
      "500:\ttest: 0.9935775\tbest: 0.9935839 (496)\ttotal: 28.6s\tremaining: 3m 19s\n",
      "600:\ttest: 0.9942234\tbest: 0.9942415 (596)\ttotal: 33.6s\tremaining: 3m 10s\n",
      "700:\ttest: 0.9946361\tbest: 0.9946379 (699)\ttotal: 39.9s\tremaining: 3m 7s\n",
      "800:\ttest: 0.9951036\tbest: 0.9951432 (791)\ttotal: 44.8s\tremaining: 2m 59s\n",
      "bestTest = 0.9951432044\n",
      "bestIteration = 791\n",
      "Metric AUC is not calculated on train by default. To calculate this metric on train, add hints=skip_train~false to metric parameters.\n",
      "190:\tloss: 0.9951432\tbest: 0.9961328 (5)\ttotal: 2h 41m 22s\tremaining: 4h 31m 13s\n"
     ]
    },
    {
     "name": "stderr",
     "output_type": "stream",
     "text": [
      "Default metric period is 5 because AUC is/are not implemented for GPU\n",
      "AUC is not implemented on GPU. Will use CPU for metric computation, this could significantly affect learning time\n"
     ]
    },
    {
     "name": "stdout",
     "output_type": "stream",
     "text": [
      "0:\ttest: 0.7106613\tbest: 0.7106613 (0)\ttotal: 80.2ms\tremaining: 5m 20s\n",
      "100:\ttest: 0.9741949\tbest: 0.9742338 (99)\ttotal: 5.78s\tremaining: 3m 43s\n",
      "200:\ttest: 0.9857482\tbest: 0.9857482 (200)\ttotal: 11.6s\tremaining: 3m 39s\n",
      "300:\ttest: 0.9894820\tbest: 0.9895136 (297)\ttotal: 17s\tremaining: 3m 28s\n",
      "400:\ttest: 0.9914067\tbest: 0.9914067 (400)\ttotal: 22.6s\tremaining: 3m 22s\n",
      "500:\ttest: 0.9926834\tbest: 0.9926834 (500)\ttotal: 28.1s\tremaining: 3m 16s\n",
      "600:\ttest: 0.9936768\tbest: 0.9936797 (595)\ttotal: 33.7s\tremaining: 3m 10s\n",
      "bestTest = 0.9939011274\n",
      "bestIteration = 662\n",
      "Metric AUC is not calculated on train by default. To calculate this metric on train, add hints=skip_train~false to metric parameters.\n",
      "191:\tloss: 0.9939011\tbest: 0.9961328 (5)\ttotal: 2h 42m 1s\tremaining: 4h 30m 2s\n"
     ]
    },
    {
     "name": "stderr",
     "output_type": "stream",
     "text": [
      "Default metric period is 5 because AUC is/are not implemented for GPU\n",
      "AUC is not implemented on GPU. Will use CPU for metric computation, this could significantly affect learning time\n"
     ]
    },
    {
     "name": "stdout",
     "output_type": "stream",
     "text": [
      "0:\ttest: 0.7723739\tbest: 0.7723739 (0)\ttotal: 68.1ms\tremaining: 1m 8s\n",
      "100:\ttest: 0.9810169\tbest: 0.9810301 (99)\ttotal: 11s\tremaining: 1m 37s\n",
      "200:\ttest: 0.9905402\tbest: 0.9905402 (200)\ttotal: 21.6s\tremaining: 1m 25s\n",
      "300:\ttest: 0.9927340\tbest: 0.9927644 (296)\ttotal: 32.3s\tremaining: 1m 14s\n",
      "400:\ttest: 0.9939239\tbest: 0.9939754 (399)\ttotal: 43.1s\tremaining: 1m 4s\n",
      "500:\ttest: 0.9949929\tbest: 0.9950068 (496)\ttotal: 52.7s\tremaining: 52.5s\n",
      "600:\ttest: 0.9953692\tbest: 0.9953716 (595)\ttotal: 1m 2s\tremaining: 41.7s\n",
      "700:\ttest: 0.9958277\tbest: 0.9958277 (700)\ttotal: 1m 13s\tremaining: 31.3s\n",
      "bestTest = 0.9958989551\n",
      "bestIteration = 714\n",
      "Metric AUC is not calculated on train by default. To calculate this metric on train, add hints=skip_train~false to metric parameters.\n",
      "192:\tloss: 0.9958990\tbest: 0.9961328 (5)\ttotal: 2h 43m 18s\tremaining: 4h 29m 55s\n"
     ]
    },
    {
     "name": "stderr",
     "output_type": "stream",
     "text": [
      "Default metric period is 5 because AUC is/are not implemented for GPU\n",
      "AUC is not implemented on GPU. Will use CPU for metric computation, this could significantly affect learning time\n"
     ]
    },
    {
     "name": "stdout",
     "output_type": "stream",
     "text": [
      "0:\ttest: 0.7717710\tbest: 0.7717710 (0)\ttotal: 68.8ms\tremaining: 1m 8s\n",
      "100:\ttest: 0.9790640\tbest: 0.9794127 (99)\ttotal: 11.1s\tremaining: 1m 38s\n",
      "200:\ttest: 0.9893993\tbest: 0.9894553 (199)\ttotal: 22s\tremaining: 1m 27s\n",
      "300:\ttest: 0.9923708\tbest: 0.9923747 (293)\ttotal: 33s\tremaining: 1m 16s\n",
      "400:\ttest: 0.9938737\tbest: 0.9939183 (396)\ttotal: 43.4s\tremaining: 1m 4s\n",
      "500:\ttest: 0.9947408\tbest: 0.9947461 (489)\ttotal: 53s\tremaining: 52.7s\n",
      "bestTest = 0.99502733\n",
      "bestIteration = 542\n",
      "Metric AUC is not calculated on train by default. To calculate this metric on train, add hints=skip_train~false to metric parameters.\n",
      "193:\tloss: 0.9950273\tbest: 0.9961328 (5)\ttotal: 2h 44m 18s\tremaining: 4h 29m 19s\n"
     ]
    },
    {
     "name": "stderr",
     "output_type": "stream",
     "text": [
      "Default metric period is 5 because AUC is/are not implemented for GPU\n",
      "AUC is not implemented on GPU. Will use CPU for metric computation, this could significantly affect learning time\n"
     ]
    },
    {
     "name": "stdout",
     "output_type": "stream",
     "text": [
      "0:\ttest: 0.7721672\tbest: 0.7721672 (0)\ttotal: 438ms\tremaining: 7m 17s\n",
      "100:\ttest: 0.9802737\tbest: 0.9803514 (99)\ttotal: 11.1s\tremaining: 1m 38s\n",
      "200:\ttest: 0.9893444\tbest: 0.9895067 (199)\ttotal: 22.2s\tremaining: 1m 28s\n",
      "300:\ttest: 0.9919497\tbest: 0.9919497 (300)\ttotal: 33.4s\tremaining: 1m 17s\n",
      "400:\ttest: 0.9935587\tbest: 0.9935877 (398)\ttotal: 44.1s\tremaining: 1m 5s\n",
      "500:\ttest: 0.9943178\tbest: 0.9943178 (500)\ttotal: 54.8s\tremaining: 54.5s\n",
      "600:\ttest: 0.9947735\tbest: 0.9948311 (597)\ttotal: 1m 4s\tremaining: 43.1s\n",
      "700:\ttest: 0.9951923\tbest: 0.9951923 (700)\ttotal: 1m 15s\tremaining: 32s\n",
      "800:\ttest: 0.9956692\tbest: 0.9956780 (793)\ttotal: 1m 25s\tremaining: 21.1s\n",
      "900:\ttest: 0.9959713\tbest: 0.9959984 (892)\ttotal: 1m 35s\tremaining: 10.5s\n",
      "999:\ttest: 0.9961759\tbest: 0.9962052 (997)\ttotal: 1m 45s\tremaining: 0us\n",
      "bestTest = 0.9962052488\n",
      "bestIteration = 997\n",
      "Metric AUC is not calculated on train by default. To calculate this metric on train, add hints=skip_train~false to metric parameters.\n",
      "194:\tloss: 0.9962052\tbest: 0.9962052 (194)\ttotal: 2h 46m 3s\tremaining: 4h 29m 57s\n"
     ]
    },
    {
     "name": "stderr",
     "output_type": "stream",
     "text": [
      "Default metric period is 5 because AUC is/are not implemented for GPU\n",
      "AUC is not implemented on GPU. Will use CPU for metric computation, this could significantly affect learning time\n"
     ]
    },
    {
     "name": "stdout",
     "output_type": "stream",
     "text": [
      "0:\ttest: 0.7712753\tbest: 0.7712753 (0)\ttotal: 63.8ms\tremaining: 1m 3s\n",
      "100:\ttest: 0.9782074\tbest: 0.9782687 (99)\ttotal: 10.9s\tremaining: 1m 37s\n",
      "200:\ttest: 0.9890797\tbest: 0.9890797 (200)\ttotal: 22.2s\tremaining: 1m 28s\n",
      "300:\ttest: 0.9910334\tbest: 0.9910629 (295)\ttotal: 32.3s\tremaining: 1m 15s\n",
      "400:\ttest: 0.9928238\tbest: 0.9928246 (398)\ttotal: 43.6s\tremaining: 1m 5s\n",
      "500:\ttest: 0.9937720\tbest: 0.9938113 (492)\ttotal: 54.4s\tremaining: 54.1s\n",
      "600:\ttest: 0.9945047\tbest: 0.9945245 (598)\ttotal: 1m 4s\tremaining: 43s\n",
      "bestTest = 0.9947176389\n",
      "bestIteration = 620\n",
      "Metric AUC is not calculated on train by default. To calculate this metric on train, add hints=skip_train~false to metric parameters.\n",
      "195:\tloss: 0.9947176\tbest: 0.9962052 (194)\ttotal: 2h 47m 13s\tremaining: 4h 29m 36s\n"
     ]
    },
    {
     "name": "stderr",
     "output_type": "stream",
     "text": [
      "Default metric period is 5 because AUC is/are not implemented for GPU\n",
      "AUC is not implemented on GPU. Will use CPU for metric computation, this could significantly affect learning time\n"
     ]
    },
    {
     "name": "stdout",
     "output_type": "stream",
     "text": [
      "0:\ttest: 0.7723739\tbest: 0.7723739 (0)\ttotal: 69.6ms\tremaining: 1m 23s\n",
      "100:\ttest: 0.9810169\tbest: 0.9810301 (99)\ttotal: 10.6s\tremaining: 1m 55s\n",
      "200:\ttest: 0.9905402\tbest: 0.9905402 (200)\ttotal: 21.3s\tremaining: 1m 45s\n",
      "300:\ttest: 0.9927340\tbest: 0.9927644 (296)\ttotal: 32.5s\tremaining: 1m 37s\n",
      "400:\ttest: 0.9939239\tbest: 0.9939754 (399)\ttotal: 43s\tremaining: 1m 25s\n",
      "500:\ttest: 0.9949929\tbest: 0.9950068 (496)\ttotal: 53.3s\tremaining: 1m 14s\n",
      "600:\ttest: 0.9953692\tbest: 0.9953716 (595)\ttotal: 1m 3s\tremaining: 1m 3s\n",
      "700:\ttest: 0.9958277\tbest: 0.9958277 (700)\ttotal: 1m 13s\tremaining: 52.1s\n",
      "bestTest = 0.9958989551\n",
      "bestIteration = 714\n",
      "Metric AUC is not calculated on train by default. To calculate this metric on train, add hints=skip_train~false to metric parameters.\n",
      "196:\tloss: 0.9958990\tbest: 0.9962052 (194)\ttotal: 2h 48m 30s\tremaining: 4h 29m 26s\n"
     ]
    },
    {
     "name": "stderr",
     "output_type": "stream",
     "text": [
      "Default metric period is 5 because AUC is/are not implemented for GPU\n",
      "AUC is not implemented on GPU. Will use CPU for metric computation, this could significantly affect learning time\n"
     ]
    },
    {
     "name": "stdout",
     "output_type": "stream",
     "text": [
      "0:\ttest: 0.7717710\tbest: 0.7717710 (0)\ttotal: 112ms\tremaining: 2m 14s\n",
      "100:\ttest: 0.9790640\tbest: 0.9794127 (99)\ttotal: 11.1s\tremaining: 2m\n",
      "200:\ttest: 0.9893993\tbest: 0.9894553 (199)\ttotal: 22.5s\tremaining: 1m 51s\n",
      "300:\ttest: 0.9923708\tbest: 0.9923747 (293)\ttotal: 33.4s\tremaining: 1m 39s\n",
      "400:\ttest: 0.9938737\tbest: 0.9939183 (396)\ttotal: 44s\tremaining: 1m 27s\n",
      "500:\ttest: 0.9947408\tbest: 0.9947461 (489)\ttotal: 54.4s\tremaining: 1m 15s\n",
      "bestTest = 0.99502733\n",
      "bestIteration = 542\n",
      "Metric AUC is not calculated on train by default. To calculate this metric on train, add hints=skip_train~false to metric parameters.\n",
      "197:\tloss: 0.9950273\tbest: 0.9962052 (194)\ttotal: 2h 49m 32s\tremaining: 4h 28m 51s\n"
     ]
    },
    {
     "name": "stderr",
     "output_type": "stream",
     "text": [
      "Default metric period is 5 because AUC is/are not implemented for GPU\n",
      "AUC is not implemented on GPU. Will use CPU for metric computation, this could significantly affect learning time\n"
     ]
    },
    {
     "name": "stdout",
     "output_type": "stream",
     "text": [
      "0:\ttest: 0.7721672\tbest: 0.7721672 (0)\ttotal: 116ms\tremaining: 2m 19s\n",
      "100:\ttest: 0.9802737\tbest: 0.9803514 (99)\ttotal: 11.1s\tremaining: 2m\n",
      "200:\ttest: 0.9893444\tbest: 0.9895067 (199)\ttotal: 22.1s\tremaining: 1m 49s\n",
      "300:\ttest: 0.9919497\tbest: 0.9919497 (300)\ttotal: 33.5s\tremaining: 1m 39s\n",
      "400:\ttest: 0.9935587\tbest: 0.9935877 (398)\ttotal: 43.8s\tremaining: 1m 27s\n",
      "500:\ttest: 0.9943178\tbest: 0.9943178 (500)\ttotal: 54.7s\tremaining: 1m 16s\n",
      "600:\ttest: 0.9947735\tbest: 0.9948311 (597)\ttotal: 1m 4s\tremaining: 1m 4s\n",
      "700:\ttest: 0.9951923\tbest: 0.9951923 (700)\ttotal: 1m 14s\tremaining: 53.1s\n",
      "800:\ttest: 0.9956692\tbest: 0.9956780 (793)\ttotal: 1m 23s\tremaining: 41.8s\n",
      "900:\ttest: 0.9959713\tbest: 0.9959984 (892)\ttotal: 1m 33s\tremaining: 30.9s\n",
      "1000:\ttest: 0.9961759\tbest: 0.9962052 (997)\ttotal: 1m 42s\tremaining: 20.5s\n",
      "bestTest = 0.9962772785\n",
      "bestIteration = 1019\n",
      "Metric AUC is not calculated on train by default. To calculate this metric on train, add hints=skip_train~false to metric parameters.\n",
      "198:\tloss: 0.9962773\tbest: 0.9962773 (198)\ttotal: 2h 51m 19s\tremaining: 4h 29m 28s\n"
     ]
    },
    {
     "name": "stderr",
     "output_type": "stream",
     "text": [
      "Default metric period is 5 because AUC is/are not implemented for GPU\n",
      "AUC is not implemented on GPU. Will use CPU for metric computation, this could significantly affect learning time\n"
     ]
    },
    {
     "name": "stdout",
     "output_type": "stream",
     "text": [
      "0:\ttest: 0.7712753\tbest: 0.7712753 (0)\ttotal: 71ms\tremaining: 1m 25s\n",
      "100:\ttest: 0.9782074\tbest: 0.9782687 (99)\ttotal: 11.2s\tremaining: 2m 1s\n",
      "200:\ttest: 0.9890797\tbest: 0.9890797 (200)\ttotal: 22.3s\tremaining: 1m 50s\n",
      "300:\ttest: 0.9910334\tbest: 0.9910629 (295)\ttotal: 33.5s\tremaining: 1m 39s\n",
      "400:\ttest: 0.9928238\tbest: 0.9928246 (398)\ttotal: 44.3s\tremaining: 1m 28s\n",
      "500:\ttest: 0.9937720\tbest: 0.9938113 (492)\ttotal: 54.3s\tremaining: 1m 15s\n",
      "600:\ttest: 0.9945047\tbest: 0.9945245 (598)\ttotal: 1m 4s\tremaining: 1m 4s\n",
      "bestTest = 0.9947176389\n",
      "bestIteration = 620\n",
      "Metric AUC is not calculated on train by default. To calculate this metric on train, add hints=skip_train~false to metric parameters.\n",
      "199:\tloss: 0.9947176\tbest: 0.9962773 (198)\ttotal: 2h 52m 28s\tremaining: 4h 29m 3s\n"
     ]
    },
    {
     "name": "stderr",
     "output_type": "stream",
     "text": [
      "Default metric period is 5 because AUC is/are not implemented for GPU\n",
      "AUC is not implemented on GPU. Will use CPU for metric computation, this could significantly affect learning time\n"
     ]
    },
    {
     "name": "stdout",
     "output_type": "stream",
     "text": [
      "0:\ttest: 0.7723739\tbest: 0.7723739 (0)\ttotal: 325ms\tremaining: 7m 34s\n",
      "100:\ttest: 0.9810169\tbest: 0.9810301 (99)\ttotal: 11.4s\tremaining: 2m 26s\n",
      "200:\ttest: 0.9905402\tbest: 0.9905402 (200)\ttotal: 21.4s\tremaining: 2m 7s\n",
      "300:\ttest: 0.9927340\tbest: 0.9927644 (296)\ttotal: 32.4s\tremaining: 1m 58s\n",
      "400:\ttest: 0.9939239\tbest: 0.9939754 (399)\ttotal: 43s\tremaining: 1m 47s\n",
      "500:\ttest: 0.9949929\tbest: 0.9950068 (496)\ttotal: 53.1s\tremaining: 1m 35s\n",
      "600:\ttest: 0.9953692\tbest: 0.9953716 (595)\ttotal: 1m 3s\tremaining: 1m 24s\n",
      "700:\ttest: 0.9958277\tbest: 0.9958277 (700)\ttotal: 1m 12s\tremaining: 1m 12s\n",
      "bestTest = 0.9958989551\n",
      "bestIteration = 714\n",
      "Metric AUC is not calculated on train by default. To calculate this metric on train, add hints=skip_train~false to metric parameters.\n",
      "200:\tloss: 0.9958990\tbest: 0.9962773 (198)\ttotal: 2h 53m 45s\tremaining: 4h 28m 51s\n"
     ]
    },
    {
     "name": "stderr",
     "output_type": "stream",
     "text": [
      "Default metric period is 5 because AUC is/are not implemented for GPU\n",
      "AUC is not implemented on GPU. Will use CPU for metric computation, this could significantly affect learning time\n"
     ]
    },
    {
     "name": "stdout",
     "output_type": "stream",
     "text": [
      "0:\ttest: 0.7717710\tbest: 0.7717710 (0)\ttotal: 70.8ms\tremaining: 1m 39s\n",
      "100:\ttest: 0.9790640\tbest: 0.9794127 (99)\ttotal: 11.7s\tremaining: 2m 29s\n",
      "200:\ttest: 0.9893993\tbest: 0.9894553 (199)\ttotal: 22.7s\tremaining: 2m 15s\n",
      "300:\ttest: 0.9923708\tbest: 0.9923747 (293)\ttotal: 33.8s\tremaining: 2m 3s\n",
      "400:\ttest: 0.9938737\tbest: 0.9939183 (396)\ttotal: 44.6s\tremaining: 1m 51s\n",
      "500:\ttest: 0.9947408\tbest: 0.9947461 (489)\ttotal: 54.6s\tremaining: 1m 37s\n",
      "bestTest = 0.99502733\n",
      "bestIteration = 542\n",
      "Metric AUC is not calculated on train by default. To calculate this metric on train, add hints=skip_train~false to metric parameters.\n",
      "201:\tloss: 0.9950273\tbest: 0.9962773 (198)\ttotal: 2h 54m 47s\tremaining: 4h 28m 14s\n"
     ]
    },
    {
     "name": "stderr",
     "output_type": "stream",
     "text": [
      "Default metric period is 5 because AUC is/are not implemented for GPU\n",
      "AUC is not implemented on GPU. Will use CPU for metric computation, this could significantly affect learning time\n"
     ]
    },
    {
     "name": "stdout",
     "output_type": "stream",
     "text": [
      "0:\ttest: 0.7721672\tbest: 0.7721672 (0)\ttotal: 74.9ms\tremaining: 1m 44s\n",
      "100:\ttest: 0.9802737\tbest: 0.9803514 (99)\ttotal: 11.3s\tremaining: 2m 24s\n",
      "200:\ttest: 0.9893444\tbest: 0.9895067 (199)\ttotal: 22.4s\tremaining: 2m 13s\n",
      "300:\ttest: 0.9919497\tbest: 0.9919497 (300)\ttotal: 33.4s\tremaining: 2m 1s\n",
      "400:\ttest: 0.9935587\tbest: 0.9935877 (398)\ttotal: 43.9s\tremaining: 1m 49s\n",
      "500:\ttest: 0.9943178\tbest: 0.9943178 (500)\ttotal: 54.7s\tremaining: 1m 38s\n",
      "600:\ttest: 0.9947735\tbest: 0.9948311 (597)\ttotal: 1m 5s\tremaining: 1m 26s\n",
      "700:\ttest: 0.9951923\tbest: 0.9951923 (700)\ttotal: 1m 14s\tremaining: 1m 14s\n",
      "800:\ttest: 0.9956692\tbest: 0.9956780 (793)\ttotal: 1m 24s\tremaining: 1m 3s\n",
      "900:\ttest: 0.9959713\tbest: 0.9959984 (892)\ttotal: 1m 34s\tremaining: 52.3s\n",
      "1000:\ttest: 0.9961759\tbest: 0.9962052 (997)\ttotal: 1m 45s\tremaining: 41.9s\n",
      "bestTest = 0.9962772785\n",
      "bestIteration = 1019\n",
      "Metric AUC is not calculated on train by default. To calculate this metric on train, add hints=skip_train~false to metric parameters.\n",
      "202:\tloss: 0.9962773\tbest: 0.9962773 (198)\ttotal: 2h 56m 37s\tremaining: 4h 28m 50s\n"
     ]
    },
    {
     "name": "stderr",
     "output_type": "stream",
     "text": [
      "Default metric period is 5 because AUC is/are not implemented for GPU\n",
      "AUC is not implemented on GPU. Will use CPU for metric computation, this could significantly affect learning time\n"
     ]
    },
    {
     "name": "stdout",
     "output_type": "stream",
     "text": [
      "0:\ttest: 0.7712753\tbest: 0.7712753 (0)\ttotal: 150ms\tremaining: 3m 30s\n",
      "100:\ttest: 0.9782074\tbest: 0.9782687 (99)\ttotal: 11.3s\tremaining: 2m 25s\n",
      "200:\ttest: 0.9890797\tbest: 0.9890797 (200)\ttotal: 22s\tremaining: 2m 11s\n",
      "300:\ttest: 0.9910334\tbest: 0.9910629 (295)\ttotal: 33.3s\tremaining: 2m 1s\n",
      "400:\ttest: 0.9928238\tbest: 0.9928246 (398)\ttotal: 44.2s\tremaining: 1m 50s\n",
      "500:\ttest: 0.9937720\tbest: 0.9938113 (492)\ttotal: 54.5s\tremaining: 1m 37s\n",
      "600:\ttest: 0.9945047\tbest: 0.9945245 (598)\ttotal: 1m 4s\tremaining: 1m 25s\n",
      "bestTest = 0.9947176389\n",
      "bestIteration = 620\n",
      "Metric AUC is not calculated on train by default. To calculate this metric on train, add hints=skip_train~false to metric parameters.\n",
      "203:\tloss: 0.9947176\tbest: 0.9962773 (198)\ttotal: 2h 57m 46s\tremaining: 4h 28m 24s\n"
     ]
    },
    {
     "name": "stderr",
     "output_type": "stream",
     "text": [
      "Default metric period is 5 because AUC is/are not implemented for GPU\n",
      "AUC is not implemented on GPU. Will use CPU for metric computation, this could significantly affect learning time\n"
     ]
    },
    {
     "name": "stdout",
     "output_type": "stream",
     "text": [
      "0:\ttest: 0.7723739\tbest: 0.7723739 (0)\ttotal: 68.8ms\tremaining: 1m 49s\n",
      "100:\ttest: 0.9810169\tbest: 0.9810301 (99)\ttotal: 10.8s\tremaining: 2m 40s\n",
      "200:\ttest: 0.9905402\tbest: 0.9905402 (200)\ttotal: 22.2s\tremaining: 2m 34s\n",
      "300:\ttest: 0.9927340\tbest: 0.9927644 (296)\ttotal: 33.3s\tremaining: 2m 23s\n",
      "400:\ttest: 0.9939239\tbest: 0.9939754 (399)\ttotal: 44.1s\tremaining: 2m 11s\n",
      "500:\ttest: 0.9949929\tbest: 0.9950068 (496)\ttotal: 54s\tremaining: 1m 58s\n",
      "600:\ttest: 0.9953692\tbest: 0.9953716 (595)\ttotal: 1m 4s\tremaining: 1m 46s\n",
      "700:\ttest: 0.9958277\tbest: 0.9958277 (700)\ttotal: 1m 14s\tremaining: 1m 35s\n",
      "bestTest = 0.9958989551\n",
      "bestIteration = 714\n",
      "Metric AUC is not calculated on train by default. To calculate this metric on train, add hints=skip_train~false to metric parameters.\n",
      "204:\tloss: 0.9958990\tbest: 0.9962773 (198)\ttotal: 2h 59m 4s\tremaining: 4h 28m 10s\n"
     ]
    },
    {
     "name": "stderr",
     "output_type": "stream",
     "text": [
      "Default metric period is 5 because AUC is/are not implemented for GPU\n",
      "AUC is not implemented on GPU. Will use CPU for metric computation, this could significantly affect learning time\n"
     ]
    },
    {
     "name": "stdout",
     "output_type": "stream",
     "text": [
      "0:\ttest: 0.7717710\tbest: 0.7717710 (0)\ttotal: 71.5ms\tremaining: 1m 54s\n",
      "100:\ttest: 0.9790640\tbest: 0.9794127 (99)\ttotal: 10.9s\tremaining: 2m 42s\n",
      "200:\ttest: 0.9893993\tbest: 0.9894553 (199)\ttotal: 21.9s\tremaining: 2m 32s\n",
      "300:\ttest: 0.9923708\tbest: 0.9923747 (293)\ttotal: 33.4s\tremaining: 2m 23s\n",
      "400:\ttest: 0.9938737\tbest: 0.9939183 (396)\ttotal: 43.7s\tremaining: 2m 10s\n",
      "500:\ttest: 0.9947408\tbest: 0.9947461 (489)\ttotal: 54.4s\tremaining: 1m 59s\n",
      "bestTest = 0.99502733\n",
      "bestIteration = 542\n",
      "Metric AUC is not calculated on train by default. To calculate this metric on train, add hints=skip_train~false to metric parameters.\n",
      "205:\tloss: 0.9950273\tbest: 0.9962773 (198)\ttotal: 3h 5s\tremaining: 4h 27m 31s\n"
     ]
    },
    {
     "name": "stderr",
     "output_type": "stream",
     "text": [
      "Default metric period is 5 because AUC is/are not implemented for GPU\n",
      "AUC is not implemented on GPU. Will use CPU for metric computation, this could significantly affect learning time\n"
     ]
    },
    {
     "name": "stdout",
     "output_type": "stream",
     "text": [
      "0:\ttest: 0.7721672\tbest: 0.7721672 (0)\ttotal: 222ms\tremaining: 5m 54s\n",
      "100:\ttest: 0.9802737\tbest: 0.9803514 (99)\ttotal: 11.3s\tremaining: 2m 48s\n",
      "200:\ttest: 0.9893444\tbest: 0.9895067 (199)\ttotal: 22.4s\tremaining: 2m 35s\n",
      "300:\ttest: 0.9919497\tbest: 0.9919497 (300)\ttotal: 33.5s\tremaining: 2m 24s\n",
      "400:\ttest: 0.9935587\tbest: 0.9935877 (398)\ttotal: 45.1s\tremaining: 2m 14s\n",
      "500:\ttest: 0.9943178\tbest: 0.9943178 (500)\ttotal: 55.9s\tremaining: 2m 2s\n",
      "600:\ttest: 0.9947735\tbest: 0.9948311 (597)\ttotal: 1m 5s\tremaining: 1m 48s\n",
      "700:\ttest: 0.9951923\tbest: 0.9951923 (700)\ttotal: 1m 15s\tremaining: 1m 36s\n",
      "800:\ttest: 0.9956692\tbest: 0.9956780 (793)\ttotal: 1m 25s\tremaining: 1m 25s\n",
      "900:\ttest: 0.9959713\tbest: 0.9959984 (892)\ttotal: 1m 35s\tremaining: 1m 14s\n",
      "1000:\ttest: 0.9961759\tbest: 0.9962052 (997)\ttotal: 1m 45s\tremaining: 1m 2s\n",
      "bestTest = 0.9962772785\n",
      "bestIteration = 1019\n",
      "Metric AUC is not calculated on train by default. To calculate this metric on train, add hints=skip_train~false to metric parameters.\n",
      "206:\tloss: 0.9962773\tbest: 0.9962773 (198)\ttotal: 3h 1m 55s\tremaining: 4h 28m 2s\n"
     ]
    },
    {
     "name": "stderr",
     "output_type": "stream",
     "text": [
      "Default metric period is 5 because AUC is/are not implemented for GPU\n",
      "AUC is not implemented on GPU. Will use CPU for metric computation, this could significantly affect learning time\n"
     ]
    },
    {
     "name": "stdout",
     "output_type": "stream",
     "text": [
      "0:\ttest: 0.7712753\tbest: 0.7712753 (0)\ttotal: 444ms\tremaining: 11m 50s\n",
      "100:\ttest: 0.9782074\tbest: 0.9782687 (99)\ttotal: 12.1s\tremaining: 2m 59s\n",
      "200:\ttest: 0.9890797\tbest: 0.9890797 (200)\ttotal: 22.9s\tremaining: 2m 39s\n",
      "300:\ttest: 0.9910334\tbest: 0.9910629 (295)\ttotal: 34.2s\tremaining: 2m 27s\n",
      "400:\ttest: 0.9928238\tbest: 0.9928246 (398)\ttotal: 45.3s\tremaining: 2m 15s\n",
      "500:\ttest: 0.9937720\tbest: 0.9938113 (492)\ttotal: 55.8s\tremaining: 2m 2s\n",
      "600:\ttest: 0.9945047\tbest: 0.9945245 (598)\ttotal: 1m 6s\tremaining: 1m 50s\n",
      "bestTest = 0.9947176389\n",
      "bestIteration = 620\n",
      "Metric AUC is not calculated on train by default. To calculate this metric on train, add hints=skip_train~false to metric parameters.\n",
      "207:\tloss: 0.9947176\tbest: 0.9962773 (198)\ttotal: 3h 3m 6s\tremaining: 4h 27m 37s\n"
     ]
    },
    {
     "name": "stderr",
     "output_type": "stream",
     "text": [
      "Default metric period is 5 because AUC is/are not implemented for GPU\n",
      "AUC is not implemented on GPU. Will use CPU for metric computation, this could significantly affect learning time\n"
     ]
    },
    {
     "name": "stdout",
     "output_type": "stream",
     "text": [
      "0:\ttest: 0.7723739\tbest: 0.7723739 (0)\ttotal: 116ms\tremaining: 3m 28s\n",
      "100:\ttest: 0.9810169\tbest: 0.9810301 (99)\ttotal: 11.6s\tremaining: 3m 14s\n",
      "200:\ttest: 0.9905402\tbest: 0.9905402 (200)\ttotal: 21.8s\tremaining: 2m 53s\n",
      "300:\ttest: 0.9927340\tbest: 0.9927644 (296)\ttotal: 33.4s\tremaining: 2m 46s\n",
      "400:\ttest: 0.9939239\tbest: 0.9939754 (399)\ttotal: 43.9s\tremaining: 2m 33s\n",
      "500:\ttest: 0.9949929\tbest: 0.9950068 (496)\ttotal: 53.8s\tremaining: 2m 19s\n",
      "600:\ttest: 0.9953692\tbest: 0.9953716 (595)\ttotal: 1m 4s\tremaining: 2m 9s\n",
      "700:\ttest: 0.9958277\tbest: 0.9958277 (700)\ttotal: 1m 15s\tremaining: 1m 57s\n",
      "bestTest = 0.9958989551\n",
      "bestIteration = 714\n",
      "Metric AUC is not calculated on train by default. To calculate this metric on train, add hints=skip_train~false to metric parameters.\n",
      "208:\tloss: 0.9958990\tbest: 0.9962773 (198)\ttotal: 3h 4m 25s\tremaining: 4h 27m 22s\n"
     ]
    },
    {
     "name": "stderr",
     "output_type": "stream",
     "text": [
      "Default metric period is 5 because AUC is/are not implemented for GPU\n",
      "AUC is not implemented on GPU. Will use CPU for metric computation, this could significantly affect learning time\n"
     ]
    },
    {
     "name": "stdout",
     "output_type": "stream",
     "text": [
      "0:\ttest: 0.7717710\tbest: 0.7717710 (0)\ttotal: 80.8ms\tremaining: 2m 25s\n",
      "100:\ttest: 0.9790640\tbest: 0.9794127 (99)\ttotal: 11.4s\tremaining: 3m 11s\n",
      "200:\ttest: 0.9893993\tbest: 0.9894553 (199)\ttotal: 22.3s\tremaining: 2m 57s\n",
      "300:\ttest: 0.9923708\tbest: 0.9923747 (293)\ttotal: 32.9s\tremaining: 2m 43s\n",
      "400:\ttest: 0.9938737\tbest: 0.9939183 (396)\ttotal: 43.5s\tremaining: 2m 31s\n",
      "500:\ttest: 0.9947408\tbest: 0.9947461 (489)\ttotal: 54.3s\tremaining: 2m 20s\n",
      "bestTest = 0.99502733\n",
      "bestIteration = 542\n",
      "Metric AUC is not calculated on train by default. To calculate this metric on train, add hints=skip_train~false to metric parameters.\n",
      "209:\tloss: 0.9950273\tbest: 0.9962773 (198)\ttotal: 3h 5m 26s\tremaining: 4h 26m 40s\n"
     ]
    },
    {
     "name": "stderr",
     "output_type": "stream",
     "text": [
      "Default metric period is 5 because AUC is/are not implemented for GPU\n",
      "AUC is not implemented on GPU. Will use CPU for metric computation, this could significantly affect learning time\n"
     ]
    },
    {
     "name": "stdout",
     "output_type": "stream",
     "text": [
      "0:\ttest: 0.7721672\tbest: 0.7721672 (0)\ttotal: 290ms\tremaining: 8m 41s\n",
      "100:\ttest: 0.9802737\tbest: 0.9803514 (99)\ttotal: 11.4s\tremaining: 3m 12s\n",
      "200:\ttest: 0.9893444\tbest: 0.9895067 (199)\ttotal: 23.2s\tremaining: 3m 4s\n",
      "300:\ttest: 0.9919497\tbest: 0.9919497 (300)\ttotal: 33.7s\tremaining: 2m 47s\n",
      "400:\ttest: 0.9935587\tbest: 0.9935877 (398)\ttotal: 44.5s\tremaining: 2m 35s\n",
      "500:\ttest: 0.9943178\tbest: 0.9943178 (500)\ttotal: 54.9s\tremaining: 2m 22s\n",
      "600:\ttest: 0.9947735\tbest: 0.9948311 (597)\ttotal: 1m 5s\tremaining: 2m 10s\n",
      "700:\ttest: 0.9951923\tbest: 0.9951923 (700)\ttotal: 1m 16s\tremaining: 1m 59s\n",
      "800:\ttest: 0.9956692\tbest: 0.9956780 (793)\ttotal: 1m 25s\tremaining: 1m 47s\n",
      "900:\ttest: 0.9959713\tbest: 0.9959984 (892)\ttotal: 1m 36s\tremaining: 1m 35s\n",
      "1000:\ttest: 0.9961759\tbest: 0.9962052 (997)\ttotal: 1m 45s\tremaining: 1m 24s\n",
      "bestTest = 0.9962772785\n",
      "bestIteration = 1019\n",
      "Metric AUC is not calculated on train by default. To calculate this metric on train, add hints=skip_train~false to metric parameters.\n",
      "210:\tloss: 0.9962773\tbest: 0.9962773 (198)\ttotal: 3h 7m 17s\tremaining: 4h 27m 10s\n"
     ]
    },
    {
     "name": "stderr",
     "output_type": "stream",
     "text": [
      "Default metric period is 5 because AUC is/are not implemented for GPU\n",
      "AUC is not implemented on GPU. Will use CPU for metric computation, this could significantly affect learning time\n"
     ]
    },
    {
     "name": "stdout",
     "output_type": "stream",
     "text": [
      "0:\ttest: 0.7712753\tbest: 0.7712753 (0)\ttotal: 104ms\tremaining: 3m 6s\n",
      "100:\ttest: 0.9782074\tbest: 0.9782687 (99)\ttotal: 11s\tremaining: 3m 4s\n",
      "200:\ttest: 0.9890797\tbest: 0.9890797 (200)\ttotal: 22.5s\tremaining: 2m 59s\n",
      "300:\ttest: 0.9910334\tbest: 0.9910629 (295)\ttotal: 33.3s\tremaining: 2m 45s\n",
      "400:\ttest: 0.9928238\tbest: 0.9928246 (398)\ttotal: 44.2s\tremaining: 2m 34s\n",
      "500:\ttest: 0.9937720\tbest: 0.9938113 (492)\ttotal: 55.3s\tremaining: 2m 23s\n",
      "600:\ttest: 0.9945047\tbest: 0.9945245 (598)\ttotal: 1m 5s\tremaining: 2m 10s\n",
      "bestTest = 0.9947176389\n",
      "bestIteration = 620\n",
      "Metric AUC is not calculated on train by default. To calculate this metric on train, add hints=skip_train~false to metric parameters.\n",
      "211:\tloss: 0.9947176\tbest: 0.9962773 (198)\ttotal: 3h 8m 27s\tremaining: 4h 26m 41s\n"
     ]
    },
    {
     "name": "stderr",
     "output_type": "stream",
     "text": [
      "Default metric period is 5 because AUC is/are not implemented for GPU\n",
      "AUC is not implemented on GPU. Will use CPU for metric computation, this could significantly affect learning time\n"
     ]
    },
    {
     "name": "stdout",
     "output_type": "stream",
     "text": [
      "0:\ttest: 0.7723739\tbest: 0.7723739 (0)\ttotal: 68ms\tremaining: 2m 15s\n",
      "100:\ttest: 0.9810169\tbest: 0.9810301 (99)\ttotal: 11.1s\tremaining: 3m 28s\n",
      "200:\ttest: 0.9905402\tbest: 0.9905402 (200)\ttotal: 22.3s\tremaining: 3m 19s\n",
      "300:\ttest: 0.9927340\tbest: 0.9927644 (296)\ttotal: 33.5s\tremaining: 3m 8s\n",
      "400:\ttest: 0.9939239\tbest: 0.9939754 (399)\ttotal: 44.5s\tremaining: 2m 57s\n",
      "500:\ttest: 0.9949929\tbest: 0.9950068 (496)\ttotal: 55s\tremaining: 2m 44s\n",
      "600:\ttest: 0.9953692\tbest: 0.9953716 (595)\ttotal: 1m 5s\tremaining: 2m 31s\n",
      "700:\ttest: 0.9958277\tbest: 0.9958277 (700)\ttotal: 1m 15s\tremaining: 2m 20s\n",
      "bestTest = 0.9958989551\n",
      "bestIteration = 714\n",
      "Metric AUC is not calculated on train by default. To calculate this metric on train, add hints=skip_train~false to metric parameters.\n",
      "212:\tloss: 0.9958990\tbest: 0.9962773 (198)\ttotal: 3h 9m 47s\tremaining: 4h 26m 24s\n"
     ]
    },
    {
     "name": "stderr",
     "output_type": "stream",
     "text": [
      "Default metric period is 5 because AUC is/are not implemented for GPU\n",
      "AUC is not implemented on GPU. Will use CPU for metric computation, this could significantly affect learning time\n"
     ]
    },
    {
     "name": "stdout",
     "output_type": "stream",
     "text": [
      "0:\ttest: 0.7717710\tbest: 0.7717710 (0)\ttotal: 147ms\tremaining: 4m 54s\n",
      "100:\ttest: 0.9790640\tbest: 0.9794127 (99)\ttotal: 10.4s\tremaining: 3m 16s\n",
      "200:\ttest: 0.9893993\tbest: 0.9894553 (199)\ttotal: 21.8s\tremaining: 3m 14s\n",
      "300:\ttest: 0.9923708\tbest: 0.9923747 (293)\ttotal: 33.1s\tremaining: 3m 7s\n",
      "400:\ttest: 0.9938737\tbest: 0.9939183 (396)\ttotal: 44.3s\tremaining: 2m 56s\n",
      "500:\ttest: 0.9947408\tbest: 0.9947461 (489)\ttotal: 54.6s\tremaining: 2m 43s\n",
      "bestTest = 0.99502733\n",
      "bestIteration = 542\n",
      "Metric AUC is not calculated on train by default. To calculate this metric on train, add hints=skip_train~false to metric parameters.\n",
      "213:\tloss: 0.9950273\tbest: 0.9962773 (198)\ttotal: 3h 10m 48s\tremaining: 4h 25m 42s\n"
     ]
    },
    {
     "name": "stderr",
     "output_type": "stream",
     "text": [
      "Default metric period is 5 because AUC is/are not implemented for GPU\n",
      "AUC is not implemented on GPU. Will use CPU for metric computation, this could significantly affect learning time\n"
     ]
    },
    {
     "name": "stdout",
     "output_type": "stream",
     "text": [
      "0:\ttest: 0.7721672\tbest: 0.7721672 (0)\ttotal: 68.8ms\tremaining: 2m 17s\n",
      "100:\ttest: 0.9802737\tbest: 0.9803514 (99)\ttotal: 10.7s\tremaining: 3m 20s\n",
      "200:\ttest: 0.9893444\tbest: 0.9895067 (199)\ttotal: 23.2s\tremaining: 3m 27s\n",
      "300:\ttest: 0.9919497\tbest: 0.9919497 (300)\ttotal: 34.5s\tremaining: 3m 15s\n",
      "400:\ttest: 0.9935587\tbest: 0.9935877 (398)\ttotal: 45.1s\tremaining: 2m 59s\n",
      "500:\ttest: 0.9943178\tbest: 0.9943178 (500)\ttotal: 55.9s\tremaining: 2m 47s\n",
      "600:\ttest: 0.9947735\tbest: 0.9948311 (597)\ttotal: 1m 7s\tremaining: 2m 37s\n",
      "700:\ttest: 0.9951923\tbest: 0.9951923 (700)\ttotal: 1m 17s\tremaining: 2m 23s\n",
      "800:\ttest: 0.9956692\tbest: 0.9956780 (793)\ttotal: 1m 27s\tremaining: 2m 10s\n",
      "900:\ttest: 0.9959713\tbest: 0.9959984 (892)\ttotal: 1m 37s\tremaining: 1m 58s\n",
      "1000:\ttest: 0.9961759\tbest: 0.9962052 (997)\ttotal: 1m 47s\tremaining: 1m 46s\n",
      "bestTest = 0.9962772785\n",
      "bestIteration = 1019\n",
      "Metric AUC is not calculated on train by default. To calculate this metric on train, add hints=skip_train~false to metric parameters.\n",
      "214:\tloss: 0.9962773\tbest: 0.9962773 (198)\ttotal: 3h 12m 40s\tremaining: 4h 26m 10s\n"
     ]
    },
    {
     "name": "stderr",
     "output_type": "stream",
     "text": [
      "Default metric period is 5 because AUC is/are not implemented for GPU\n",
      "AUC is not implemented on GPU. Will use CPU for metric computation, this could significantly affect learning time\n"
     ]
    },
    {
     "name": "stdout",
     "output_type": "stream",
     "text": [
      "0:\ttest: 0.7712753\tbest: 0.7712753 (0)\ttotal: 137ms\tremaining: 4m 33s\n",
      "100:\ttest: 0.9782074\tbest: 0.9782687 (99)\ttotal: 10.8s\tremaining: 3m 22s\n",
      "200:\ttest: 0.9890797\tbest: 0.9890797 (200)\ttotal: 22.2s\tremaining: 3m 18s\n",
      "300:\ttest: 0.9910334\tbest: 0.9910629 (295)\ttotal: 33.1s\tremaining: 3m 6s\n",
      "400:\ttest: 0.9928238\tbest: 0.9928246 (398)\ttotal: 43.9s\tremaining: 2m 55s\n",
      "500:\ttest: 0.9937720\tbest: 0.9938113 (492)\ttotal: 54.1s\tremaining: 2m 42s\n",
      "600:\ttest: 0.9945047\tbest: 0.9945245 (598)\ttotal: 1m 5s\tremaining: 2m 31s\n",
      "bestTest = 0.9947176389\n",
      "bestIteration = 620\n",
      "Metric AUC is not calculated on train by default. To calculate this metric on train, add hints=skip_train~false to metric parameters.\n",
      "215:\tloss: 0.9947176\tbest: 0.9962773 (198)\ttotal: 3h 13m 51s\tremaining: 4h 25m 38s\n"
     ]
    },
    {
     "name": "stderr",
     "output_type": "stream",
     "text": [
      "Default metric period is 5 because AUC is/are not implemented for GPU\n",
      "AUC is not implemented on GPU. Will use CPU for metric computation, this could significantly affect learning time\n"
     ]
    },
    {
     "name": "stdout",
     "output_type": "stream",
     "text": [
      "0:\ttest: 0.7723739\tbest: 0.7723739 (0)\ttotal: 133ms\tremaining: 4m 52s\n",
      "100:\ttest: 0.9810169\tbest: 0.9810301 (99)\ttotal: 10.8s\tremaining: 3m 44s\n",
      "200:\ttest: 0.9905402\tbest: 0.9905402 (200)\ttotal: 21.9s\tremaining: 3m 38s\n",
      "300:\ttest: 0.9927340\tbest: 0.9927644 (296)\ttotal: 32.6s\tremaining: 3m 25s\n",
      "400:\ttest: 0.9939239\tbest: 0.9939754 (399)\ttotal: 43.8s\tremaining: 3m 16s\n",
      "500:\ttest: 0.9949929\tbest: 0.9950068 (496)\ttotal: 54.1s\tremaining: 3m 3s\n",
      "600:\ttest: 0.9953692\tbest: 0.9953716 (595)\ttotal: 1m 4s\tremaining: 2m 50s\n",
      "700:\ttest: 0.9958277\tbest: 0.9958277 (700)\ttotal: 1m 13s\tremaining: 2m 38s\n",
      "bestTest = 0.9958989551\n",
      "bestIteration = 714\n",
      "Metric AUC is not calculated on train by default. To calculate this metric on train, add hints=skip_train~false to metric parameters.\n",
      "216:\tloss: 0.9958990\tbest: 0.9962773 (198)\ttotal: 3h 15m 9s\tremaining: 4h 25m 18s\n"
     ]
    },
    {
     "name": "stderr",
     "output_type": "stream",
     "text": [
      "Default metric period is 5 because AUC is/are not implemented for GPU\n",
      "AUC is not implemented on GPU. Will use CPU for metric computation, this could significantly affect learning time\n"
     ]
    },
    {
     "name": "stdout",
     "output_type": "stream",
     "text": [
      "0:\ttest: 0.7717710\tbest: 0.7717710 (0)\ttotal: 62.3ms\tremaining: 2m 17s\n",
      "100:\ttest: 0.9790640\tbest: 0.9794127 (99)\ttotal: 11.3s\tremaining: 3m 53s\n",
      "200:\ttest: 0.9893993\tbest: 0.9894553 (199)\ttotal: 22.4s\tremaining: 3m 42s\n",
      "300:\ttest: 0.9923708\tbest: 0.9923747 (293)\ttotal: 33.8s\tremaining: 3m 33s\n",
      "400:\ttest: 0.9938737\tbest: 0.9939183 (396)\ttotal: 44.4s\tremaining: 3m 19s\n",
      "500:\ttest: 0.9947408\tbest: 0.9947461 (489)\ttotal: 54.6s\tremaining: 3m 5s\n",
      "bestTest = 0.99502733\n",
      "bestIteration = 542\n",
      "Metric AUC is not calculated on train by default. To calculate this metric on train, add hints=skip_train~false to metric parameters.\n",
      "217:\tloss: 0.9950273\tbest: 0.9962773 (198)\ttotal: 3h 16m 11s\tremaining: 4h 24m 34s\n"
     ]
    },
    {
     "name": "stderr",
     "output_type": "stream",
     "text": [
      "Default metric period is 5 because AUC is/are not implemented for GPU\n",
      "AUC is not implemented on GPU. Will use CPU for metric computation, this could significantly affect learning time\n"
     ]
    },
    {
     "name": "stdout",
     "output_type": "stream",
     "text": [
      "0:\ttest: 0.7721672\tbest: 0.7721672 (0)\ttotal: 71.2ms\tremaining: 2m 36s\n",
      "100:\ttest: 0.9802737\tbest: 0.9803514 (99)\ttotal: 11.4s\tremaining: 3m 56s\n",
      "200:\ttest: 0.9893444\tbest: 0.9895067 (199)\ttotal: 22.2s\tremaining: 3m 40s\n",
      "300:\ttest: 0.9919497\tbest: 0.9919497 (300)\ttotal: 33.5s\tremaining: 3m 31s\n",
      "400:\ttest: 0.9935587\tbest: 0.9935877 (398)\ttotal: 44.2s\tremaining: 3m 18s\n",
      "500:\ttest: 0.9943178\tbest: 0.9943178 (500)\ttotal: 54.1s\tremaining: 3m 3s\n",
      "600:\ttest: 0.9947735\tbest: 0.9948311 (597)\ttotal: 1m 4s\tremaining: 2m 50s\n",
      "700:\ttest: 0.9951923\tbest: 0.9951923 (700)\ttotal: 1m 14s\tremaining: 2m 38s\n",
      "800:\ttest: 0.9956692\tbest: 0.9956780 (793)\ttotal: 1m 23s\tremaining: 2m 26s\n",
      "900:\ttest: 0.9959713\tbest: 0.9959984 (892)\ttotal: 1m 33s\tremaining: 2m 14s\n",
      "1000:\ttest: 0.9961759\tbest: 0.9962052 (997)\ttotal: 1m 43s\tremaining: 2m 3s\n",
      "bestTest = 0.9962772785\n",
      "bestIteration = 1019\n",
      "Metric AUC is not calculated on train by default. To calculate this metric on train, add hints=skip_train~false to metric parameters.\n",
      "218:\tloss: 0.9962773\tbest: 0.9962773 (198)\ttotal: 3h 17m 59s\tremaining: 4h 24m 52s\n"
     ]
    },
    {
     "name": "stderr",
     "output_type": "stream",
     "text": [
      "Default metric period is 5 because AUC is/are not implemented for GPU\n",
      "AUC is not implemented on GPU. Will use CPU for metric computation, this could significantly affect learning time\n"
     ]
    },
    {
     "name": "stdout",
     "output_type": "stream",
     "text": [
      "0:\ttest: 0.7712753\tbest: 0.7712753 (0)\ttotal: 70.6ms\tremaining: 2m 35s\n",
      "100:\ttest: 0.9782074\tbest: 0.9782687 (99)\ttotal: 11.4s\tremaining: 3m 57s\n",
      "200:\ttest: 0.9890797\tbest: 0.9890797 (200)\ttotal: 22s\tremaining: 3m 38s\n",
      "300:\ttest: 0.9910334\tbest: 0.9910629 (295)\ttotal: 33.1s\tremaining: 3m 28s\n",
      "400:\ttest: 0.9928238\tbest: 0.9928246 (398)\ttotal: 43.9s\tremaining: 3m 17s\n",
      "500:\ttest: 0.9937720\tbest: 0.9938113 (492)\ttotal: 54.3s\tremaining: 3m 4s\n",
      "600:\ttest: 0.9945047\tbest: 0.9945245 (598)\ttotal: 1m 4s\tremaining: 2m 52s\n",
      "bestTest = 0.9947176389\n",
      "bestIteration = 620\n",
      "Metric AUC is not calculated on train by default. To calculate this metric on train, add hints=skip_train~false to metric parameters.\n",
      "219:\tloss: 0.9947176\tbest: 0.9962773 (198)\ttotal: 3h 19m 8s\tremaining: 4h 24m 19s\n"
     ]
    },
    {
     "name": "stderr",
     "output_type": "stream",
     "text": [
      "Default metric period is 5 because AUC is/are not implemented for GPU\n",
      "AUC is not implemented on GPU. Will use CPU for metric computation, this could significantly affect learning time\n"
     ]
    },
    {
     "name": "stdout",
     "output_type": "stream",
     "text": [
      "0:\ttest: 0.7723739\tbest: 0.7723739 (0)\ttotal: 134ms\tremaining: 5m 20s\n",
      "100:\ttest: 0.9810169\tbest: 0.9810301 (99)\ttotal: 10.7s\tremaining: 4m 4s\n",
      "200:\ttest: 0.9905402\tbest: 0.9905402 (200)\ttotal: 21.8s\tremaining: 3m 58s\n",
      "300:\ttest: 0.9927340\tbest: 0.9927644 (296)\ttotal: 32.2s\tremaining: 3m 44s\n",
      "400:\ttest: 0.9939239\tbest: 0.9939754 (399)\ttotal: 42.7s\tremaining: 3m 32s\n",
      "500:\ttest: 0.9949929\tbest: 0.9950068 (496)\ttotal: 53.2s\tremaining: 3m 21s\n",
      "600:\ttest: 0.9953692\tbest: 0.9953716 (595)\ttotal: 1m 3s\tremaining: 3m 8s\n",
      "700:\ttest: 0.9958277\tbest: 0.9958277 (700)\ttotal: 1m 12s\tremaining: 2m 55s\n",
      "bestTest = 0.9958989551\n",
      "bestIteration = 714\n",
      "Metric AUC is not calculated on train by default. To calculate this metric on train, add hints=skip_train~false to metric parameters.\n",
      "220:\tloss: 0.9958990\tbest: 0.9962773 (198)\ttotal: 3h 20m 25s\tremaining: 4h 23m 54s\n"
     ]
    },
    {
     "name": "stderr",
     "output_type": "stream",
     "text": [
      "Default metric period is 5 because AUC is/are not implemented for GPU\n",
      "AUC is not implemented on GPU. Will use CPU for metric computation, this could significantly affect learning time\n"
     ]
    },
    {
     "name": "stdout",
     "output_type": "stream",
     "text": [
      "0:\ttest: 0.7717710\tbest: 0.7717710 (0)\ttotal: 70ms\tremaining: 2m 48s\n",
      "100:\ttest: 0.9790640\tbest: 0.9794127 (99)\ttotal: 11.2s\tremaining: 4m 15s\n",
      "200:\ttest: 0.9893993\tbest: 0.9894553 (199)\ttotal: 22.3s\tremaining: 4m 4s\n",
      "300:\ttest: 0.9923708\tbest: 0.9923747 (293)\ttotal: 33.1s\tremaining: 3m 51s\n",
      "400:\ttest: 0.9938737\tbest: 0.9939183 (396)\ttotal: 43.1s\tremaining: 3m 34s\n",
      "500:\ttest: 0.9947408\tbest: 0.9947461 (489)\ttotal: 53.7s\tremaining: 3m 23s\n",
      "bestTest = 0.99502733\n",
      "bestIteration = 542\n",
      "Metric AUC is not calculated on train by default. To calculate this metric on train, add hints=skip_train~false to metric parameters.\n",
      "221:\tloss: 0.9950273\tbest: 0.9962773 (198)\ttotal: 3h 21m 25s\tremaining: 4h 23m 7s\n"
     ]
    },
    {
     "name": "stderr",
     "output_type": "stream",
     "text": [
      "Default metric period is 5 because AUC is/are not implemented for GPU\n",
      "AUC is not implemented on GPU. Will use CPU for metric computation, this could significantly affect learning time\n"
     ]
    },
    {
     "name": "stdout",
     "output_type": "stream",
     "text": [
      "0:\ttest: 0.7721672\tbest: 0.7721672 (0)\ttotal: 66.6ms\tremaining: 2m 39s\n",
      "100:\ttest: 0.9802737\tbest: 0.9803514 (99)\ttotal: 10.9s\tremaining: 4m 8s\n",
      "200:\ttest: 0.9893444\tbest: 0.9895067 (199)\ttotal: 21.9s\tremaining: 3m 59s\n",
      "300:\ttest: 0.9919497\tbest: 0.9919497 (300)\ttotal: 33.1s\tremaining: 3m 50s\n",
      "400:\ttest: 0.9935587\tbest: 0.9935877 (398)\ttotal: 43.6s\tremaining: 3m 37s\n",
      "500:\ttest: 0.9943178\tbest: 0.9943178 (500)\ttotal: 54.2s\tremaining: 3m 25s\n",
      "600:\ttest: 0.9947735\tbest: 0.9948311 (597)\ttotal: 1m 4s\tremaining: 3m 13s\n",
      "700:\ttest: 0.9951923\tbest: 0.9951923 (700)\ttotal: 1m 14s\tremaining: 3m 1s\n",
      "800:\ttest: 0.9956692\tbest: 0.9956780 (793)\ttotal: 1m 24s\tremaining: 2m 48s\n",
      "900:\ttest: 0.9959713\tbest: 0.9959984 (892)\ttotal: 1m 34s\tremaining: 2m 36s\n",
      "1000:\ttest: 0.9961759\tbest: 0.9962052 (997)\ttotal: 1m 43s\tremaining: 2m 25s\n",
      "bestTest = 0.9962772785\n",
      "bestIteration = 1019\n",
      "Metric AUC is not calculated on train by default. To calculate this metric on train, add hints=skip_train~false to metric parameters.\n",
      "222:\tloss: 0.9962773\tbest: 0.9962773 (198)\ttotal: 3h 23m 14s\tremaining: 4h 23m 23s\n"
     ]
    },
    {
     "name": "stderr",
     "output_type": "stream",
     "text": [
      "Default metric period is 5 because AUC is/are not implemented for GPU\n",
      "AUC is not implemented on GPU. Will use CPU for metric computation, this could significantly affect learning time\n"
     ]
    },
    {
     "name": "stdout",
     "output_type": "stream",
     "text": [
      "0:\ttest: 0.7712753\tbest: 0.7712753 (0)\ttotal: 70.8ms\tremaining: 2m 49s\n",
      "100:\ttest: 0.9782074\tbest: 0.9782687 (99)\ttotal: 11.7s\tremaining: 4m 25s\n",
      "200:\ttest: 0.9890797\tbest: 0.9890797 (200)\ttotal: 22.2s\tremaining: 4m 3s\n",
      "300:\ttest: 0.9910334\tbest: 0.9910629 (295)\ttotal: 33.3s\tremaining: 3m 52s\n",
      "400:\ttest: 0.9928238\tbest: 0.9928246 (398)\ttotal: 44.1s\tremaining: 3m 39s\n",
      "500:\ttest: 0.9937720\tbest: 0.9938113 (492)\ttotal: 55.1s\tremaining: 3m 28s\n",
      "600:\ttest: 0.9945047\tbest: 0.9945245 (598)\ttotal: 1m 5s\tremaining: 3m 16s\n",
      "bestTest = 0.9947176389\n",
      "bestIteration = 620\n",
      "Metric AUC is not calculated on train by default. To calculate this metric on train, add hints=skip_train~false to metric parameters.\n",
      "223:\tloss: 0.9947176\tbest: 0.9962773 (198)\ttotal: 3h 24m 24s\tremaining: 4h 22m 48s\n"
     ]
    },
    {
     "name": "stderr",
     "output_type": "stream",
     "text": [
      "Default metric period is 5 because AUC is/are not implemented for GPU\n",
      "AUC is not implemented on GPU. Will use CPU for metric computation, this could significantly affect learning time\n"
     ]
    },
    {
     "name": "stdout",
     "output_type": "stream",
     "text": [
      "0:\ttest: 0.7723739\tbest: 0.7723739 (0)\ttotal: 138ms\tremaining: 5m 57s\n",
      "100:\ttest: 0.9810169\tbest: 0.9810301 (99)\ttotal: 11.2s\tremaining: 4m 36s\n",
      "200:\ttest: 0.9905402\tbest: 0.9905402 (200)\ttotal: 22.1s\tremaining: 4m 23s\n",
      "300:\ttest: 0.9927340\tbest: 0.9927644 (296)\ttotal: 32.7s\tremaining: 4m 9s\n",
      "400:\ttest: 0.9939239\tbest: 0.9939754 (399)\ttotal: 43.8s\tremaining: 4m\n",
      "500:\ttest: 0.9949929\tbest: 0.9950068 (496)\ttotal: 53.8s\tremaining: 3m 45s\n",
      "600:\ttest: 0.9953692\tbest: 0.9953716 (595)\ttotal: 1m 4s\tremaining: 3m 33s\n",
      "700:\ttest: 0.9958277\tbest: 0.9958277 (700)\ttotal: 1m 14s\tremaining: 3m 20s\n",
      "bestTest = 0.9958989551\n",
      "bestIteration = 714\n",
      "Metric AUC is not calculated on train by default. To calculate this metric on train, add hints=skip_train~false to metric parameters.\n",
      "224:\tloss: 0.9958990\tbest: 0.9962773 (198)\ttotal: 3h 25m 42s\tremaining: 4h 22m 23s\n"
     ]
    },
    {
     "name": "stderr",
     "output_type": "stream",
     "text": [
      "Default metric period is 5 because AUC is/are not implemented for GPU\n",
      "AUC is not implemented on GPU. Will use CPU for metric computation, this could significantly affect learning time\n"
     ]
    },
    {
     "name": "stdout",
     "output_type": "stream",
     "text": [
      "0:\ttest: 0.7717710\tbest: 0.7717710 (0)\ttotal: 67.3ms\tremaining: 2m 54s\n",
      "100:\ttest: 0.9790640\tbest: 0.9794127 (99)\ttotal: 11.2s\tremaining: 4m 37s\n",
      "200:\ttest: 0.9893993\tbest: 0.9894553 (199)\ttotal: 21.9s\tremaining: 4m 21s\n",
      "300:\ttest: 0.9923708\tbest: 0.9923747 (293)\ttotal: 32.6s\tremaining: 4m 9s\n",
      "400:\ttest: 0.9938737\tbest: 0.9939183 (396)\ttotal: 43.5s\tremaining: 3m 58s\n",
      "500:\ttest: 0.9947408\tbest: 0.9947461 (489)\ttotal: 53.7s\tremaining: 3m 44s\n",
      "bestTest = 0.99502733\n",
      "bestIteration = 542\n",
      "Metric AUC is not calculated on train by default. To calculate this metric on train, add hints=skip_train~false to metric parameters.\n",
      "225:\tloss: 0.9950273\tbest: 0.9962773 (198)\ttotal: 3h 26m 42s\tremaining: 4h 21m 35s\n"
     ]
    },
    {
     "name": "stderr",
     "output_type": "stream",
     "text": [
      "Default metric period is 5 because AUC is/are not implemented for GPU\n",
      "AUC is not implemented on GPU. Will use CPU for metric computation, this could significantly affect learning time\n"
     ]
    },
    {
     "name": "stdout",
     "output_type": "stream",
     "text": [
      "0:\ttest: 0.7721672\tbest: 0.7721672 (0)\ttotal: 70.8ms\tremaining: 3m 4s\n",
      "100:\ttest: 0.9802737\tbest: 0.9803514 (99)\ttotal: 10.6s\tremaining: 4m 23s\n",
      "200:\ttest: 0.9893444\tbest: 0.9895067 (199)\ttotal: 21.6s\tremaining: 4m 17s\n",
      "300:\ttest: 0.9919497\tbest: 0.9919497 (300)\ttotal: 32.5s\tremaining: 4m 8s\n",
      "400:\ttest: 0.9935587\tbest: 0.9935877 (398)\ttotal: 43.7s\tremaining: 3m 59s\n",
      "500:\ttest: 0.9943178\tbest: 0.9943178 (500)\ttotal: 54s\tremaining: 3m 46s\n",
      "600:\ttest: 0.9947735\tbest: 0.9948311 (597)\ttotal: 1m 4s\tremaining: 3m 33s\n",
      "700:\ttest: 0.9951923\tbest: 0.9951923 (700)\ttotal: 1m 14s\tremaining: 3m 22s\n",
      "800:\ttest: 0.9956692\tbest: 0.9956780 (793)\ttotal: 1m 24s\tremaining: 3m 9s\n",
      "900:\ttest: 0.9959713\tbest: 0.9959984 (892)\ttotal: 1m 34s\tremaining: 2m 57s\n",
      "1000:\ttest: 0.9961759\tbest: 0.9962052 (997)\ttotal: 1m 44s\tremaining: 2m 46s\n",
      "bestTest = 0.9962772785\n",
      "bestIteration = 1019\n",
      "Metric AUC is not calculated on train by default. To calculate this metric on train, add hints=skip_train~false to metric parameters.\n",
      "226:\tloss: 0.9962773\tbest: 0.9962773 (198)\ttotal: 3h 28m 31s\tremaining: 4h 21m 48s\n"
     ]
    },
    {
     "name": "stderr",
     "output_type": "stream",
     "text": [
      "Default metric period is 5 because AUC is/are not implemented for GPU\n",
      "AUC is not implemented on GPU. Will use CPU for metric computation, this could significantly affect learning time\n"
     ]
    },
    {
     "name": "stdout",
     "output_type": "stream",
     "text": [
      "0:\ttest: 0.7712753\tbest: 0.7712753 (0)\ttotal: 138ms\tremaining: 5m 57s\n",
      "100:\ttest: 0.9782074\tbest: 0.9782687 (99)\ttotal: 10.8s\tremaining: 4m 27s\n",
      "200:\ttest: 0.9890797\tbest: 0.9890797 (200)\ttotal: 21.5s\tremaining: 4m 17s\n",
      "300:\ttest: 0.9910334\tbest: 0.9910629 (295)\ttotal: 32.6s\tremaining: 4m 8s\n",
      "400:\ttest: 0.9928238\tbest: 0.9928246 (398)\ttotal: 42.8s\tremaining: 3m 54s\n",
      "500:\ttest: 0.9937720\tbest: 0.9938113 (492)\ttotal: 53.6s\tremaining: 3m 44s\n",
      "600:\ttest: 0.9945047\tbest: 0.9945245 (598)\ttotal: 1m 4s\tremaining: 3m 33s\n",
      "bestTest = 0.9947176389\n",
      "bestIteration = 620\n",
      "Metric AUC is not calculated on train by default. To calculate this metric on train, add hints=skip_train~false to metric parameters.\n",
      "227:\tloss: 0.9947176\tbest: 0.9962773 (198)\ttotal: 3h 29m 40s\tremaining: 4h 21m 10s\n"
     ]
    },
    {
     "name": "stderr",
     "output_type": "stream",
     "text": [
      "Default metric period is 5 because AUC is/are not implemented for GPU\n",
      "AUC is not implemented on GPU. Will use CPU for metric computation, this could significantly affect learning time\n"
     ]
    },
    {
     "name": "stdout",
     "output_type": "stream",
     "text": [
      "0:\ttest: 0.7723739\tbest: 0.7723739 (0)\ttotal: 71ms\tremaining: 3m 18s\n",
      "100:\ttest: 0.9810169\tbest: 0.9810301 (99)\ttotal: 11.1s\tremaining: 4m 55s\n",
      "200:\ttest: 0.9905402\tbest: 0.9905402 (200)\ttotal: 21.8s\tremaining: 4m 42s\n",
      "300:\ttest: 0.9927340\tbest: 0.9927644 (296)\ttotal: 32.5s\tremaining: 4m 29s\n",
      "400:\ttest: 0.9939239\tbest: 0.9939754 (399)\ttotal: 42.3s\tremaining: 4m 13s\n",
      "500:\ttest: 0.9949929\tbest: 0.9950068 (496)\ttotal: 52.9s\tremaining: 4m 2s\n",
      "600:\ttest: 0.9953692\tbest: 0.9953716 (595)\ttotal: 1m 2s\tremaining: 3m 48s\n",
      "700:\ttest: 0.9958277\tbest: 0.9958277 (700)\ttotal: 1m 12s\tremaining: 3m 37s\n",
      "bestTest = 0.9958989551\n",
      "bestIteration = 714\n",
      "Metric AUC is not calculated on train by default. To calculate this metric on train, add hints=skip_train~false to metric parameters.\n",
      "228:\tloss: 0.9958990\tbest: 0.9962773 (198)\ttotal: 3h 30m 56s\tremaining: 4h 20m 40s\n"
     ]
    },
    {
     "name": "stderr",
     "output_type": "stream",
     "text": [
      "Default metric period is 5 because AUC is/are not implemented for GPU\n",
      "AUC is not implemented on GPU. Will use CPU for metric computation, this could significantly affect learning time\n"
     ]
    },
    {
     "name": "stdout",
     "output_type": "stream",
     "text": [
      "0:\ttest: 0.7717710\tbest: 0.7717710 (0)\ttotal: 73.3ms\tremaining: 3m 25s\n",
      "100:\ttest: 0.9790640\tbest: 0.9794127 (99)\ttotal: 11.1s\tremaining: 4m 57s\n",
      "200:\ttest: 0.9893993\tbest: 0.9894553 (199)\ttotal: 22.1s\tremaining: 4m 45s\n",
      "300:\ttest: 0.9923708\tbest: 0.9923747 (293)\ttotal: 33.6s\tremaining: 4m 38s\n",
      "400:\ttest: 0.9938737\tbest: 0.9939183 (396)\ttotal: 43.5s\tremaining: 4m 20s\n",
      "500:\ttest: 0.9947408\tbest: 0.9947461 (489)\ttotal: 53.8s\tremaining: 4m 6s\n",
      "bestTest = 0.99502733\n",
      "bestIteration = 542\n",
      "Metric AUC is not calculated on train by default. To calculate this metric on train, add hints=skip_train~false to metric parameters.\n",
      "229:\tloss: 0.9950273\tbest: 0.9962773 (198)\ttotal: 3h 31m 57s\tremaining: 4h 19m 52s\n"
     ]
    },
    {
     "name": "stderr",
     "output_type": "stream",
     "text": [
      "Default metric period is 5 because AUC is/are not implemented for GPU\n",
      "AUC is not implemented on GPU. Will use CPU for metric computation, this could significantly affect learning time\n"
     ]
    },
    {
     "name": "stdout",
     "output_type": "stream",
     "text": [
      "0:\ttest: 0.7721672\tbest: 0.7721672 (0)\ttotal: 73.4ms\tremaining: 3m 25s\n",
      "100:\ttest: 0.9802737\tbest: 0.9803514 (99)\ttotal: 10.9s\tremaining: 4m 51s\n",
      "200:\ttest: 0.9893444\tbest: 0.9895067 (199)\ttotal: 22.7s\tremaining: 4m 53s\n",
      "300:\ttest: 0.9919497\tbest: 0.9919497 (300)\ttotal: 33.2s\tremaining: 4m 35s\n",
      "400:\ttest: 0.9935587\tbest: 0.9935877 (398)\ttotal: 43.9s\tremaining: 4m 22s\n",
      "500:\ttest: 0.9943178\tbest: 0.9943178 (500)\ttotal: 53.7s\tremaining: 4m 6s\n",
      "600:\ttest: 0.9947735\tbest: 0.9948311 (597)\ttotal: 1m 3s\tremaining: 3m 53s\n",
      "700:\ttest: 0.9951923\tbest: 0.9951923 (700)\ttotal: 1m 13s\tremaining: 3m 39s\n",
      "800:\ttest: 0.9956692\tbest: 0.9956780 (793)\ttotal: 1m 23s\tremaining: 3m 28s\n",
      "900:\ttest: 0.9959713\tbest: 0.9959984 (892)\ttotal: 1m 32s\tremaining: 3m 15s\n",
      "1000:\ttest: 0.9961759\tbest: 0.9962052 (997)\ttotal: 1m 42s\tremaining: 3m 3s\n",
      "bestTest = 0.9962772785\n",
      "bestIteration = 1019\n",
      "Metric AUC is not calculated on train by default. To calculate this metric on train, add hints=skip_train~false to metric parameters.\n",
      "230:\tloss: 0.9962773\tbest: 0.9962773 (198)\ttotal: 3h 33m 44s\tremaining: 4h 20m\n"
     ]
    },
    {
     "name": "stderr",
     "output_type": "stream",
     "text": [
      "Default metric period is 5 because AUC is/are not implemented for GPU\n",
      "AUC is not implemented on GPU. Will use CPU for metric computation, this could significantly affect learning time\n"
     ]
    },
    {
     "name": "stdout",
     "output_type": "stream",
     "text": [
      "0:\ttest: 0.7712753\tbest: 0.7712753 (0)\ttotal: 144ms\tremaining: 6m 43s\n",
      "100:\ttest: 0.9782074\tbest: 0.9782687 (99)\ttotal: 11.4s\tremaining: 5m 5s\n",
      "200:\ttest: 0.9890797\tbest: 0.9890797 (200)\ttotal: 22s\tremaining: 4m 44s\n",
      "300:\ttest: 0.9910334\tbest: 0.9910629 (295)\ttotal: 32.8s\tremaining: 4m 32s\n",
      "400:\ttest: 0.9928238\tbest: 0.9928246 (398)\ttotal: 43.1s\tremaining: 4m 17s\n",
      "500:\ttest: 0.9937720\tbest: 0.9938113 (492)\ttotal: 54.3s\tremaining: 4m 9s\n",
      "600:\ttest: 0.9945047\tbest: 0.9945245 (598)\ttotal: 1m 4s\tremaining: 3m 54s\n",
      "bestTest = 0.9947176389\n",
      "bestIteration = 620\n",
      "Metric AUC is not calculated on train by default. To calculate this metric on train, add hints=skip_train~false to metric parameters.\n",
      "231:\tloss: 0.9947176\tbest: 0.9962773 (198)\ttotal: 3h 34m 53s\tremaining: 4h 19m 20s\n"
     ]
    },
    {
     "name": "stderr",
     "output_type": "stream",
     "text": [
      "Default metric period is 5 because AUC is/are not implemented for GPU\n",
      "AUC is not implemented on GPU. Will use CPU for metric computation, this could significantly affect learning time\n"
     ]
    },
    {
     "name": "stdout",
     "output_type": "stream",
     "text": [
      "0:\ttest: 0.7723739\tbest: 0.7723739 (0)\ttotal: 162ms\tremaining: 8m 5s\n",
      "100:\ttest: 0.9810169\tbest: 0.9810301 (99)\ttotal: 10.8s\tremaining: 5m 9s\n",
      "200:\ttest: 0.9905402\tbest: 0.9905402 (200)\ttotal: 21.5s\tremaining: 4m 59s\n",
      "300:\ttest: 0.9927340\tbest: 0.9927644 (296)\ttotal: 32.1s\tremaining: 4m 47s\n",
      "400:\ttest: 0.9939239\tbest: 0.9939754 (399)\ttotal: 42.1s\tremaining: 4m 32s\n",
      "500:\ttest: 0.9949929\tbest: 0.9950068 (496)\ttotal: 52.2s\tremaining: 4m 20s\n",
      "600:\ttest: 0.9953692\tbest: 0.9953716 (595)\ttotal: 1m 3s\tremaining: 4m 11s\n",
      "700:\ttest: 0.9958277\tbest: 0.9958277 (700)\ttotal: 1m 13s\tremaining: 4m 1s\n",
      "bestTest = 0.9958989551\n",
      "bestIteration = 714\n",
      "Metric AUC is not calculated on train by default. To calculate this metric on train, add hints=skip_train~false to metric parameters.\n",
      "232:\tloss: 0.9958990\tbest: 0.9962773 (198)\ttotal: 3h 36m 10s\tremaining: 4h 18m 51s\n"
     ]
    },
    {
     "name": "stderr",
     "output_type": "stream",
     "text": [
      "Default metric period is 5 because AUC is/are not implemented for GPU\n",
      "AUC is not implemented on GPU. Will use CPU for metric computation, this could significantly affect learning time\n"
     ]
    },
    {
     "name": "stdout",
     "output_type": "stream",
     "text": [
      "0:\ttest: 0.7717710\tbest: 0.7717710 (0)\ttotal: 146ms\tremaining: 7m 17s\n",
      "100:\ttest: 0.9790640\tbest: 0.9794127 (99)\ttotal: 11s\tremaining: 5m 15s\n",
      "200:\ttest: 0.9893993\tbest: 0.9894553 (199)\ttotal: 22.1s\tremaining: 5m 7s\n",
      "300:\ttest: 0.9923708\tbest: 0.9923747 (293)\ttotal: 32.4s\tremaining: 4m 50s\n",
      "400:\ttest: 0.9938737\tbest: 0.9939183 (396)\ttotal: 42.9s\tremaining: 4m 37s\n",
      "500:\ttest: 0.9947408\tbest: 0.9947461 (489)\ttotal: 53.6s\tremaining: 4m 27s\n",
      "bestTest = 0.99502733\n",
      "bestIteration = 542\n",
      "Metric AUC is not calculated on train by default. To calculate this metric on train, add hints=skip_train~false to metric parameters.\n",
      "233:\tloss: 0.9950273\tbest: 0.9962773 (198)\ttotal: 3h 37m 11s\tremaining: 4h 18m 1s\n"
     ]
    },
    {
     "name": "stderr",
     "output_type": "stream",
     "text": [
      "Default metric period is 5 because AUC is/are not implemented for GPU\n",
      "AUC is not implemented on GPU. Will use CPU for metric computation, this could significantly affect learning time\n"
     ]
    },
    {
     "name": "stdout",
     "output_type": "stream",
     "text": [
      "0:\ttest: 0.7721672\tbest: 0.7721672 (0)\ttotal: 68.3ms\tremaining: 3m 24s\n",
      "100:\ttest: 0.9802737\tbest: 0.9803514 (99)\ttotal: 11s\tremaining: 5m 15s\n",
      "200:\ttest: 0.9893444\tbest: 0.9895067 (199)\ttotal: 21.2s\tremaining: 4m 55s\n",
      "300:\ttest: 0.9919497\tbest: 0.9919497 (300)\ttotal: 32s\tremaining: 4m 46s\n",
      "400:\ttest: 0.9935587\tbest: 0.9935877 (398)\ttotal: 42.8s\tremaining: 4m 37s\n",
      "500:\ttest: 0.9943178\tbest: 0.9943178 (500)\ttotal: 52.7s\tremaining: 4m 22s\n",
      "600:\ttest: 0.9947735\tbest: 0.9948311 (597)\ttotal: 1m 2s\tremaining: 4m 10s\n",
      "700:\ttest: 0.9951923\tbest: 0.9951923 (700)\ttotal: 1m 13s\tremaining: 3m 59s\n",
      "800:\ttest: 0.9956692\tbest: 0.9956780 (793)\ttotal: 1m 22s\tremaining: 3m 47s\n",
      "900:\ttest: 0.9959713\tbest: 0.9959984 (892)\ttotal: 1m 32s\tremaining: 3m 34s\n"
     ]
    }
   ],
   "source": [
    "from catboost import CatBoostClassifier\n",
    "\n",
    "cbc = CatBoostClassifier(task_type='GPU', eval_metric='AUC',\n",
    "                         early_stopping_rounds=25, verbose=100)\n",
    "\n",
    "parameters = {\n",
    "                 #'learning_rate' : [i / 100 for i in range(10, 24)],\n",
    "                  'depth': [3, 4],\n",
    "                  'l2_leaf_reg': [7, 9, 11, 13],\n",
    "                  'border_count' : [i for i in range(192, 256, 16)], \n",
    "                  'iterations' : [i for i in range(1000, 4001, 200)], \n",
    "                 }\n",
    "\n",
    "grid_cbc = cbc.grid_search(parameters, X_tr, y_tr, plot=True)\n",
    "#grid_cbc.fit(X_tr, y_tr)\n"
   ]
  },
  {
   "cell_type": "markdown",
   "metadata": {
    "pycharm": {
     "name": "#%%\n"
    }
   },
   "source": [
    "'learning_rate' : 0.17, 0.18, 0.19, 0.2, 0.21, 0.22, 0.23,\n",
    "                  'depth': i for i in range(3, 6)\n",
    "                  \n",
    "### Local maximum at (3 -> 0.23) approximatly 0.81\n",
    "\n"
   ]
  },
  {
   "cell_type": "code",
   "execution_count": null,
   "metadata": {},
   "outputs": [],
   "source": [
    "pred_grid = cbc.predict(X_val)\n",
    "accuracy_score(y_val, pred_lr)"
   ]
  },
  {
   "cell_type": "code",
   "execution_count": 34,
   "metadata": {
    "pycharm": {
     "name": "#%%\n"
    }
   },
   "outputs": [
    {
     "name": "stdout",
     "output_type": "stream",
     "text": [
      "Learning rate set to 0.062488\n",
      "0:\tlearn: 2.8522895\ttest: 2.8621174\tbest: 2.8621174 (0)\ttotal: 96.3ms\tremaining: 6m 25s\n",
      "100:\tlearn: 0.7314467\ttest: 1.2560695\tbest: 1.2560695 (100)\ttotal: 10.9s\tremaining: 6m 59s\n",
      "200:\tlearn: 0.3598774\ttest: 0.9243514\tbest: 0.9243514 (200)\ttotal: 24.6s\tremaining: 7m 45s\n",
      "300:\tlearn: 0.2272806\ttest: 0.7836206\tbest: 0.7836206 (300)\ttotal: 39.4s\tremaining: 8m 4s\n",
      "400:\tlearn: 0.1589764\ttest: 0.6966047\tbest: 0.6966047 (400)\ttotal: 54.4s\tremaining: 8m 8s\n",
      "500:\tlearn: 0.1174757\ttest: 0.6395330\tbest: 0.6395330 (500)\ttotal: 1m 9s\tremaining: 8m 6s\n",
      "600:\tlearn: 0.0908779\ttest: 0.5964190\tbest: 0.5964190 (600)\ttotal: 1m 25s\tremaining: 8m 4s\n",
      "700:\tlearn: 0.0724496\ttest: 0.5654754\tbest: 0.5654754 (700)\ttotal: 1m 42s\tremaining: 8m 3s\n",
      "800:\tlearn: 0.0597792\ttest: 0.5408519\tbest: 0.5408519 (800)\ttotal: 1m 59s\tremaining: 7m 56s\n",
      "900:\tlearn: 0.0500168\ttest: 0.5215315\tbest: 0.5215315 (900)\ttotal: 2m 17s\tremaining: 7m 51s\n",
      "1000:\tlearn: 0.0424525\ttest: 0.5037502\tbest: 0.5037502 (1000)\ttotal: 2m 34s\tremaining: 7m 44s\n",
      "1100:\tlearn: 0.0367436\ttest: 0.4898315\tbest: 0.4898096 (1099)\ttotal: 2m 53s\tremaining: 7m 37s\n",
      "1200:\tlearn: 0.0322066\ttest: 0.4782914\tbest: 0.4782914 (1200)\ttotal: 3m 12s\tremaining: 7m 28s\n",
      "1300:\tlearn: 0.0284727\ttest: 0.4682173\tbest: 0.4682173 (1300)\ttotal: 3m 29s\tremaining: 7m 15s\n",
      "1400:\tlearn: 0.0255810\ttest: 0.4602659\tbest: 0.4602659 (1400)\ttotal: 3m 49s\tremaining: 7m 5s\n",
      "1500:\tlearn: 0.0232382\ttest: 0.4526787\tbest: 0.4526541 (1499)\ttotal: 4m 9s\tremaining: 6m 54s\n",
      "1600:\tlearn: 0.0211502\ttest: 0.4461664\tbest: 0.4461664 (1600)\ttotal: 4m 28s\tremaining: 6m 42s\n",
      "1700:\tlearn: 0.0193752\ttest: 0.4406939\tbest: 0.4406939 (1700)\ttotal: 4m 48s\tremaining: 6m 29s\n",
      "1800:\tlearn: 0.0178489\ttest: 0.4345437\tbest: 0.4345341 (1799)\ttotal: 5m 7s\tremaining: 6m 15s\n",
      "1900:\tlearn: 0.0164899\ttest: 0.4295419\tbest: 0.4295419 (1900)\ttotal: 5m 27s\tremaining: 6m 1s\n",
      "2000:\tlearn: 0.0153542\ttest: 0.4254385\tbest: 0.4254385 (2000)\ttotal: 5m 46s\tremaining: 5m 46s\n",
      "2100:\tlearn: 0.0143247\ttest: 0.4219191\tbest: 0.4219137 (2099)\ttotal: 6m 6s\tremaining: 5m 31s\n",
      "2200:\tlearn: 0.0134354\ttest: 0.4185380\tbest: 0.4185380 (2200)\ttotal: 6m 27s\tremaining: 5m 16s\n",
      "2300:\tlearn: 0.0126338\ttest: 0.4157286\tbest: 0.4157286 (2300)\ttotal: 6m 46s\tremaining: 5m\n",
      "2400:\tlearn: 0.0119196\ttest: 0.4121823\tbest: 0.4121823 (2400)\ttotal: 7m 6s\tremaining: 4m 44s\n",
      "2500:\tlearn: 0.0112734\ttest: 0.4098354\tbest: 0.4098354 (2500)\ttotal: 7m 26s\tremaining: 4m 27s\n",
      "2600:\tlearn: 0.0106984\ttest: 0.4070714\tbest: 0.4070714 (2600)\ttotal: 7m 46s\tremaining: 4m 10s\n",
      "2700:\tlearn: 0.0101816\ttest: 0.4055008\tbest: 0.4054841 (2698)\ttotal: 8m 6s\tremaining: 3m 54s\n",
      "2800:\tlearn: 0.0096839\ttest: 0.4032240\tbest: 0.4032171 (2799)\ttotal: 8m 27s\tremaining: 3m 37s\n",
      "2900:\tlearn: 0.0092522\ttest: 0.4010928\tbest: 0.4010928 (2900)\ttotal: 8m 46s\tremaining: 3m 19s\n",
      "3000:\tlearn: 0.0088539\ttest: 0.3994092\tbest: 0.3994092 (3000)\ttotal: 9m 6s\tremaining: 3m 1s\n",
      "3100:\tlearn: 0.0084839\ttest: 0.3977173\tbest: 0.3977173 (3100)\ttotal: 9m 26s\tremaining: 2m 44s\n",
      "3200:\tlearn: 0.0081462\ttest: 0.3960960\tbest: 0.3960684 (3199)\ttotal: 9m 46s\tremaining: 2m 26s\n",
      "3300:\tlearn: 0.0078332\ttest: 0.3945796\tbest: 0.3945796 (3300)\ttotal: 10m 7s\tremaining: 2m 8s\n",
      "3400:\tlearn: 0.0075417\ttest: 0.3933678\tbest: 0.3933439 (3394)\ttotal: 10m 28s\tremaining: 1m 50s\n",
      "3500:\tlearn: 0.0072626\ttest: 0.3920166\tbest: 0.3920166 (3500)\ttotal: 10m 49s\tremaining: 1m 32s\n",
      "3600:\tlearn: 0.0070081\ttest: 0.3901742\tbest: 0.3901742 (3600)\ttotal: 11m 9s\tremaining: 1m 14s\n",
      "3700:\tlearn: 0.0067687\ttest: 0.3889453\tbest: 0.3889412 (3699)\ttotal: 11m 29s\tremaining: 55.7s\n",
      "3800:\tlearn: 0.0065509\ttest: 0.3876656\tbest: 0.3876656 (3800)\ttotal: 11m 50s\tremaining: 37.2s\n",
      "3900:\tlearn: 0.0063448\ttest: 0.3867505\tbest: 0.3867505 (3900)\ttotal: 12m 11s\tremaining: 18.6s\n",
      "3999:\tlearn: 0.0061478\ttest: 0.3853920\tbest: 0.3853920 (3999)\ttotal: 12m 31s\tremaining: 0us\n",
      "bestTest = 0.3853920012\n",
      "bestIteration = 3999\n"
     ]
    },
    {
     "data": {
      "text/plain": [
       "0.8996138996138996"
      ]
     },
     "execution_count": 34,
     "metadata": {},
     "output_type": "execute_result"
    }
   ],
   "source": [
    "from sklearn.metrics import accuracy_score\n",
    "from catboost import CatBoostClassifier\n",
    "#2000 iter -> 89%\n",
    "cat = CatBoostClassifier(task_type='GPU',verbose=100, iterations=4000, early_stopping_rounds=30)\n",
    "\n",
    "cat.fit(X_tr, y_tr, eval_set=(X_val, y_val), use_best_model=True)\n",
    "\n",
    "pred_lr = cat.predict(X_val)\n",
    "\n",
    "accuracy_score(y_val, pred_lr)\n"
   ]
  },
  {
   "cell_type": "code",
   "execution_count": 32,
   "metadata": {
    "pycharm": {
     "name": "#%%\n"
    }
   },
   "outputs": [],
   "source": [
    "pred = cat.predict(X_test_flatten)\n",
    "pred_df = pd.DataFrame(list(zip(Names, pred)), columns = ['img', 'label'])\n",
    "\n",
    "pred_df.to_csv(\"cat_submission.csv\", index=False)"
   ]
  },
  {
   "cell_type": "code",
   "execution_count": null,
   "metadata": {
    "pycharm": {
     "name": "#%%\n"
    }
   },
   "outputs": [],
   "source": [
    "grid.best_estimator_.fit(X_train_flatten, y_train_Aug)\n",
    "probas = grid.best_estimator_.predict(X_test_flatten)\n",
    "pred_df = pd.DataFrame(list(zip(Names, probas)), columns = ['img', 'label'])\n",
    "pred_df.head()"
   ]
  },
  {
   "cell_type": "code",
   "execution_count": null,
   "metadata": {
    "pycharm": {
     "name": "#%%\n"
    }
   },
   "outputs": [],
   "source": [
    "bsln = grid.best_estimator_.\n",
    "print(bsln)"
   ]
  },
  {
   "cell_type": "markdown",
   "metadata": {
    "pycharm": {
     "name": "#%% md\n"
    }
   },
   "source": [
    "Посмотрим, с какой вероятностью модель делает предсказания. Как мы видим, довольно большой хвост объектов, где модель не уверена"
   ]
  },
  {
   "cell_type": "code",
   "execution_count": null,
   "metadata": {
    "pycharm": {
     "name": "#%%\n"
    }
   },
   "outputs": [],
   "source": [
    "pred_df['proba'] = max_probas\n",
    "pred_df['proba'].hist()"
   ]
  },
  {
   "cell_type": "markdown",
   "metadata": {
    "pycharm": {
     "name": "#%% md\n"
    }
   },
   "source": [
    "При обработке данных на части фотографий не удалось распознать лица. Чтобы классифицировать такие фото я отдельно сформировала предсказания с помощью аналогичной модели на необрезанных фотографиях. И для тех объектов, где основная модель не очень уверена (опытным путем я определила порог в 0.4), я заменяю предсказания на результаты второй модели.  "
   ]
  },
  {
   "cell_type": "code",
   "execution_count": null,
   "metadata": {
    "pycharm": {
     "name": "#%%\n"
    }
   },
   "outputs": [],
   "source": [
    "pred_no_haar = pd.read_csv('submission_no_haar.csv', header=0)\n",
    "results = pd.concat([pred_df,pred_no_haar], axis = 1)"
   ]
  },
  {
   "cell_type": "code",
   "execution_count": null,
   "metadata": {
    "pycharm": {
     "name": "#%%\n"
    }
   },
   "outputs": [],
   "source": [
    "results['label'] = np.where(results['proba'] < 0.4, \n",
    "                                    results['pred_class_no_haar'], results['pred_class'])\n",
    "pred_df = results.drop(['proba', 'img_name_no_haar', 'pred_class_no_haar'], axis=1)\n",
    "pred_df.to_csv(\"submission_svm_best.csv\", index=False)\n",
    "pred_df.head()"
   ]
  },
  {
   "cell_type": "code",
   "execution_count": null,
   "metadata": {
    "pycharm": {
     "name": "#%%\n"
    }
   },
   "outputs": [],
   "source": [
    "\n",
    "pred_df.to_csv(\"first_submission.csv\", index=False)"
   ]
  },
  {
   "cell_type": "code",
   "execution_count": null,
   "metadata": {
    "colab": {
     "base_uri": "https://localhost:8080/",
     "height": 206
    },
    "executionInfo": {
     "elapsed": 12412,
     "status": "ok",
     "timestamp": 1658237865316,
     "user": {
      "displayName": "Артем Парфенов",
      "userId": "10897937486958484914"
     },
     "user_tz": -180
    },
    "id": "D0pq2-qEB8X0",
    "outputId": "47301151-b28c-4562-ef02-25d727cf9c73",
    "pycharm": {
     "name": "#%%\n"
    }
   },
   "outputs": [
    {
     "data": {
      "text/html": [
       "\n",
       "  <div id=\"df-d0edb651-ff5e-43d5-9265-26046033fca7\">\n",
       "    <div class=\"colab-df-container\">\n",
       "      <div>\n",
       "<style scoped>\n",
       "    .dataframe tbody tr th:only-of-type {\n",
       "        vertical-align: middle;\n",
       "    }\n",
       "\n",
       "    .dataframe tbody tr th {\n",
       "        vertical-align: top;\n",
       "    }\n",
       "\n",
       "    .dataframe thead th {\n",
       "        text-align: right;\n",
       "    }\n",
       "</style>\n",
       "<table border=\"1\" class=\"dataframe\">\n",
       "  <thead>\n",
       "    <tr style=\"text-align: right;\">\n",
       "      <th></th>\n",
       "      <th>img</th>\n",
       "      <th>label</th>\n",
       "    </tr>\n",
       "  </thead>\n",
       "  <tbody>\n",
       "    <tr>\n",
       "      <th>0</th>\n",
       "      <td>img0.jpg</td>\n",
       "      <td>7</td>\n",
       "    </tr>\n",
       "    <tr>\n",
       "      <th>1</th>\n",
       "      <td>img1.jpg</td>\n",
       "      <td>17</td>\n",
       "    </tr>\n",
       "    <tr>\n",
       "      <th>2</th>\n",
       "      <td>img2.jpg</td>\n",
       "      <td>14</td>\n",
       "    </tr>\n",
       "    <tr>\n",
       "      <th>3</th>\n",
       "      <td>img3.jpg</td>\n",
       "      <td>5</td>\n",
       "    </tr>\n",
       "    <tr>\n",
       "      <th>4</th>\n",
       "      <td>img4.jpg</td>\n",
       "      <td>16</td>\n",
       "    </tr>\n",
       "  </tbody>\n",
       "</table>\n",
       "</div>\n",
       "      <button class=\"colab-df-convert\" onclick=\"convertToInteractive('df-d0edb651-ff5e-43d5-9265-26046033fca7')\"\n",
       "              title=\"Convert this dataframe to an interactive table.\"\n",
       "              style=\"display:none;\">\n",
       "        \n",
       "  <svg xmlns=\"http://www.w3.org/2000/svg\" height=\"24px\"viewBox=\"0 0 24 24\"\n",
       "       width=\"24px\">\n",
       "    <path d=\"M0 0h24v24H0V0z\" fill=\"none\"/>\n",
       "    <path d=\"M18.56 5.44l.94 2.06.94-2.06 2.06-.94-2.06-.94-.94-2.06-.94 2.06-2.06.94zm-11 1L8.5 8.5l.94-2.06 2.06-.94-2.06-.94L8.5 2.5l-.94 2.06-2.06.94zm10 10l.94 2.06.94-2.06 2.06-.94-2.06-.94-.94-2.06-.94 2.06-2.06.94z\"/><path d=\"M17.41 7.96l-1.37-1.37c-.4-.4-.92-.59-1.43-.59-.52 0-1.04.2-1.43.59L10.3 9.45l-7.72 7.72c-.78.78-.78 2.05 0 2.83L4 21.41c.39.39.9.59 1.41.59.51 0 1.02-.2 1.41-.59l7.78-7.78 2.81-2.81c.8-.78.8-2.07 0-2.86zM5.41 20L4 18.59l7.72-7.72 1.47 1.35L5.41 20z\"/>\n",
       "  </svg>\n",
       "      </button>\n",
       "      \n",
       "  <style>\n",
       "    .colab-df-container {\n",
       "      display:flex;\n",
       "      flex-wrap:wrap;\n",
       "      gap: 12px;\n",
       "    }\n",
       "\n",
       "    .colab-df-convert {\n",
       "      background-color: #E8F0FE;\n",
       "      border: none;\n",
       "      border-radius: 50%;\n",
       "      cursor: pointer;\n",
       "      display: none;\n",
       "      fill: #1967D2;\n",
       "      height: 32px;\n",
       "      padding: 0 0 0 0;\n",
       "      width: 32px;\n",
       "    }\n",
       "\n",
       "    .colab-df-convert:hover {\n",
       "      background-color: #E2EBFA;\n",
       "      box-shadow: 0px 1px 2px rgba(60, 64, 67, 0.3), 0px 1px 3px 1px rgba(60, 64, 67, 0.15);\n",
       "      fill: #174EA6;\n",
       "    }\n",
       "\n",
       "    [theme=dark] .colab-df-convert {\n",
       "      background-color: #3B4455;\n",
       "      fill: #D2E3FC;\n",
       "    }\n",
       "\n",
       "    [theme=dark] .colab-df-convert:hover {\n",
       "      background-color: #434B5C;\n",
       "      box-shadow: 0px 1px 3px 1px rgba(0, 0, 0, 0.15);\n",
       "      filter: drop-shadow(0px 1px 2px rgba(0, 0, 0, 0.3));\n",
       "      fill: #FFFFFF;\n",
       "    }\n",
       "  </style>\n",
       "\n",
       "      <script>\n",
       "        const buttonEl =\n",
       "          document.querySelector('#df-d0edb651-ff5e-43d5-9265-26046033fca7 button.colab-df-convert');\n",
       "        buttonEl.style.display =\n",
       "          google.colab.kernel.accessAllowed ? 'block' : 'none';\n",
       "\n",
       "        async function convertToInteractive(key) {\n",
       "          const element = document.querySelector('#df-d0edb651-ff5e-43d5-9265-26046033fca7');\n",
       "          const dataTable =\n",
       "            await google.colab.kernel.invokeFunction('convertToInteractive',\n",
       "                                                     [key], {});\n",
       "          if (!dataTable) return;\n",
       "\n",
       "          const docLinkHtml = 'Like what you see? Visit the ' +\n",
       "            '<a target=\"_blank\" href=https://colab.research.google.com/notebooks/data_table.ipynb>data table notebook</a>'\n",
       "            + ' to learn more about interactive tables.';\n",
       "          element.innerHTML = '';\n",
       "          dataTable['output_type'] = 'display_data';\n",
       "          await google.colab.output.renderOutput(dataTable, element);\n",
       "          const docLink = document.createElement('div');\n",
       "          docLink.innerHTML = docLinkHtml;\n",
       "          element.appendChild(docLink);\n",
       "        }\n",
       "      </script>\n",
       "    </div>\n",
       "  </div>\n",
       "  "
      ],
      "text/plain": [
       "        img  label\n",
       "0  img0.jpg      7\n",
       "1  img1.jpg     17\n",
       "2  img2.jpg     14\n",
       "3  img3.jpg      5\n",
       "4  img4.jpg     16"
      ]
     },
     "execution_count": 34,
     "metadata": {},
     "output_type": "execute_result"
    }
   ],
   "source": [
    "grid.best_estimator_.fit(X_train_flatten, y_train_Aug)\n",
    "probas = grid.best_estimator_.predict(X_test_flatten)\n",
    "pred_df = pd.DataFrame(list(zip(Names, probas)), columns = ['img', 'label'])\n",
    "pred_df.head()"
   ]
  },
  {
   "cell_type": "code",
   "execution_count": null,
   "metadata": {
    "colab": {
     "base_uri": "https://localhost:8080/"
    },
    "executionInfo": {
     "elapsed": 249,
     "status": "ok",
     "timestamp": 1658238924239,
     "user": {
      "displayName": "Артем Парфенов",
      "userId": "10897937486958484914"
     },
     "user_tz": -180
    },
    "id": "_j8H_5_AuNNb",
    "outputId": "4e5489a9-a6f0-4bed-a2e2-e2b14bce5f29",
    "pycharm": {
     "name": "#%%\n"
    }
   },
   "outputs": [
    {
     "name": "stdout",
     "output_type": "stream",
     "text": [
      "<function Pipeline.predict at 0x7f73102968c0>\n"
     ]
    }
   ],
   "source": [
    "bsln = grid.best_estimator_.\n",
    "print(bsln)"
   ]
  },
  {
   "cell_type": "markdown",
   "metadata": {
    "id": "yeETcFkeB8X0",
    "pycharm": {
     "name": "#%% md\n"
    }
   },
   "source": [
    "Посмотрим, с какой вероятностью модель делает предсказания. Как мы видим, довольно большой хвост объектов, где модель не уверена"
   ]
  },
  {
   "cell_type": "code",
   "execution_count": null,
   "metadata": {
    "id": "vUEvhXUfB8X1",
    "outputId": "57e1be5e-f575-4be7-9ed7-87d9751a7139",
    "pycharm": {
     "name": "#%%\n"
    }
   },
   "outputs": [
    {
     "data": {
      "text/plain": [
       "<AxesSubplot:>"
      ]
     },
     "execution_count": 18,
     "metadata": {},
     "output_type": "execute_result"
    },
    {
     "data": {
      "image/png": "[encoded data removed]",
      "text/plain": [
       "<Figure size 432x288 with 1 Axes>"
      ]
     },
     "metadata": {},
     "output_type": "display_data"
    }
   ],
   "source": [
    "pred_df['proba'] = max_probas\n",
    "pred_df['proba'].hist()"
   ]
  },
  {
   "cell_type": "markdown",
   "metadata": {
    "id": "6zrNiDcOB8X1",
    "pycharm": {
     "name": "#%% md\n"
    }
   },
   "source": [
    "При обработке данных на части фотографий не удалось распознать лица. Чтобы классифицировать такие фото я отдельно сформировала предсказания с помощью аналогичной модели на необрезанных фотографиях. И для тех объектов, где основная модель не очень уверена (опытным путем я определила порог в 0.4), я заменяю предсказания на результаты второй модели.  "
   ]
  },
  {
   "cell_type": "code",
   "execution_count": null,
   "metadata": {
    "colab": {
     "base_uri": "https://localhost:8080/",
     "height": 341
    },
    "executionInfo": {
     "elapsed": 683,
     "status": "error",
     "timestamp": 1658229614513,
     "user": {
      "displayName": "Артем Парфенов",
      "userId": "10897937486958484914"
     },
     "user_tz": -180
    },
    "id": "SxcZdwwbB8X2",
    "outputId": "9fa0c106-60c6-4bf4-8c24-4f0fe56d80f3",
    "pycharm": {
     "name": "#%%\n"
    }
   },
   "outputs": [
    {
     "ename": "FileNotFoundError",
     "evalue": "ignored",
     "output_type": "error",
     "traceback": [
      "\u001b[0;31m---------------------------------------------------------------------------\u001b[0m",
      "\u001b[0;31mFileNotFoundError\u001b[0m                         Traceback (most recent call last)",
      "\u001b[0;32m<ipython-input-20-1a9ce7dde39a>\u001b[0m in \u001b[0;36m<module>\u001b[0;34m()\u001b[0m\n\u001b[0;32m----> 1\u001b[0;31m \u001b[0mpred_no_haar\u001b[0m \u001b[0;34m=\u001b[0m \u001b[0mpd\u001b[0m\u001b[0;34m.\u001b[0m\u001b[0mread_csv\u001b[0m\u001b[0;34m(\u001b[0m\u001b[0;34m'submission_no_haar.csv'\u001b[0m\u001b[0;34m,\u001b[0m \u001b[0mheader\u001b[0m\u001b[0;34m=\u001b[0m\u001b[0;36m0\u001b[0m\u001b[0;34m)\u001b[0m\u001b[0;34m\u001b[0m\u001b[0;34m\u001b[0m\u001b[0m\n\u001b[0m\u001b[1;32m      2\u001b[0m \u001b[0mresults\u001b[0m \u001b[0;34m=\u001b[0m \u001b[0mpd\u001b[0m\u001b[0;34m.\u001b[0m\u001b[0mconcat\u001b[0m\u001b[0;34m(\u001b[0m\u001b[0;34m[\u001b[0m\u001b[0mpred_df\u001b[0m\u001b[0;34m,\u001b[0m\u001b[0mpred_no_haar\u001b[0m\u001b[0;34m]\u001b[0m\u001b[0;34m,\u001b[0m \u001b[0maxis\u001b[0m \u001b[0;34m=\u001b[0m \u001b[0;36m1\u001b[0m\u001b[0;34m)\u001b[0m\u001b[0;34m\u001b[0m\u001b[0;34m\u001b[0m\u001b[0m\n",
      "\u001b[0;32m/usr/local/lib/python3.7/dist-packages/pandas/util/_decorators.py\u001b[0m in \u001b[0;36mwrapper\u001b[0;34m(*args, **kwargs)\u001b[0m\n\u001b[1;32m    309\u001b[0m                     \u001b[0mstacklevel\u001b[0m\u001b[0;34m=\u001b[0m\u001b[0mstacklevel\u001b[0m\u001b[0;34m,\u001b[0m\u001b[0;34m\u001b[0m\u001b[0;34m\u001b[0m\u001b[0m\n\u001b[1;32m    310\u001b[0m                 )\n\u001b[0;32m--> 311\u001b[0;31m             \u001b[0;32mreturn\u001b[0m \u001b[0mfunc\u001b[0m\u001b[0;34m(\u001b[0m\u001b[0;34m*\u001b[0m\u001b[0margs\u001b[0m\u001b[0;34m,\u001b[0m \u001b[0;34m**\u001b[0m\u001b[0mkwargs\u001b[0m\u001b[0;34m)\u001b[0m\u001b[0;34m\u001b[0m\u001b[0;34m\u001b[0m\u001b[0m\n\u001b[0m\u001b[1;32m    312\u001b[0m \u001b[0;34m\u001b[0m\u001b[0m\n\u001b[1;32m    313\u001b[0m         \u001b[0;32mreturn\u001b[0m \u001b[0mwrapper\u001b[0m\u001b[0;34m\u001b[0m\u001b[0;34m\u001b[0m\u001b[0m\n",
      "\u001b[0;32m/usr/local/lib/python3.7/dist-packages/pandas/io/parsers/readers.py\u001b[0m in \u001b[0;36mread_csv\u001b[0;34m(filepath_or_buffer, sep, delimiter, header, names, index_col, usecols, squeeze, prefix, mangle_dupe_cols, dtype, engine, converters, true_values, false_values, skipinitialspace, skiprows, skipfooter, nrows, na_values, keep_default_na, na_filter, verbose, skip_blank_lines, parse_dates, infer_datetime_format, keep_date_col, date_parser, dayfirst, cache_dates, iterator, chunksize, compression, thousands, decimal, lineterminator, quotechar, quoting, doublequote, escapechar, comment, encoding, encoding_errors, dialect, error_bad_lines, warn_bad_lines, on_bad_lines, delim_whitespace, low_memory, memory_map, float_precision, storage_options)\u001b[0m\n\u001b[1;32m    584\u001b[0m     \u001b[0mkwds\u001b[0m\u001b[0;34m.\u001b[0m\u001b[0mupdate\u001b[0m\u001b[0;34m(\u001b[0m\u001b[0mkwds_defaults\u001b[0m\u001b[0;34m)\u001b[0m\u001b[0;34m\u001b[0m\u001b[0;34m\u001b[0m\u001b[0m\n\u001b[1;32m    585\u001b[0m \u001b[0;34m\u001b[0m\u001b[0m\n\u001b[0;32m--> 586\u001b[0;31m     \u001b[0;32mreturn\u001b[0m \u001b[0m_read\u001b[0m\u001b[0;34m(\u001b[0m\u001b[0mfilepath_or_buffer\u001b[0m\u001b[0;34m,\u001b[0m \u001b[0mkwds\u001b[0m\u001b[0;34m)\u001b[0m\u001b[0;34m\u001b[0m\u001b[0;34m\u001b[0m\u001b[0m\n\u001b[0m\u001b[1;32m    587\u001b[0m \u001b[0;34m\u001b[0m\u001b[0m\n\u001b[1;32m    588\u001b[0m \u001b[0;34m\u001b[0m\u001b[0m\n",
      "\u001b[0;32m/usr/local/lib/python3.7/dist-packages/pandas/io/parsers/readers.py\u001b[0m in \u001b[0;36m_read\u001b[0;34m(filepath_or_buffer, kwds)\u001b[0m\n\u001b[1;32m    480\u001b[0m \u001b[0;34m\u001b[0m\u001b[0m\n\u001b[1;32m    481\u001b[0m     \u001b[0;31m# Create the parser.\u001b[0m\u001b[0;34m\u001b[0m\u001b[0;34m\u001b[0m\u001b[0;34m\u001b[0m\u001b[0m\n\u001b[0;32m--> 482\u001b[0;31m     \u001b[0mparser\u001b[0m \u001b[0;34m=\u001b[0m \u001b[0mTextFileReader\u001b[0m\u001b[0;34m(\u001b[0m\u001b[0mfilepath_or_buffer\u001b[0m\u001b[0;34m,\u001b[0m \u001b[0;34m**\u001b[0m\u001b[0mkwds\u001b[0m\u001b[0;34m)\u001b[0m\u001b[0;34m\u001b[0m\u001b[0;34m\u001b[0m\u001b[0m\n\u001b[0m\u001b[1;32m    483\u001b[0m \u001b[0;34m\u001b[0m\u001b[0m\n\u001b[1;32m    484\u001b[0m     \u001b[0;32mif\u001b[0m \u001b[0mchunksize\u001b[0m \u001b[0;32mor\u001b[0m \u001b[0miterator\u001b[0m\u001b[0;34m:\u001b[0m\u001b[0;34m\u001b[0m\u001b[0;34m\u001b[0m\u001b[0m\n",
      "\u001b[0;32m/usr/local/lib/python3.7/dist-packages/pandas/io/parsers/readers.py\u001b[0m in \u001b[0;36m__init__\u001b[0;34m(self, f, engine, **kwds)\u001b[0m\n\u001b[1;32m    809\u001b[0m             \u001b[0mself\u001b[0m\u001b[0;34m.\u001b[0m\u001b[0moptions\u001b[0m\u001b[0;34m[\u001b[0m\u001b[0;34m\"has_index_names\"\u001b[0m\u001b[0;34m]\u001b[0m \u001b[0;34m=\u001b[0m \u001b[0mkwds\u001b[0m\u001b[0;34m[\u001b[0m\u001b[0;34m\"has_index_names\"\u001b[0m\u001b[0;34m]\u001b[0m\u001b[0;34m\u001b[0m\u001b[0;34m\u001b[0m\u001b[0m\n\u001b[1;32m    810\u001b[0m \u001b[0;34m\u001b[0m\u001b[0m\n\u001b[0;32m--> 811\u001b[0;31m         \u001b[0mself\u001b[0m\u001b[0;34m.\u001b[0m\u001b[0m_engine\u001b[0m \u001b[0;34m=\u001b[0m \u001b[0mself\u001b[0m\u001b[0;34m.\u001b[0m\u001b[0m_make_engine\u001b[0m\u001b[0;34m(\u001b[0m\u001b[0mself\u001b[0m\u001b[0;34m.\u001b[0m\u001b[0mengine\u001b[0m\u001b[0;34m)\u001b[0m\u001b[0;34m\u001b[0m\u001b[0;34m\u001b[0m\u001b[0m\n\u001b[0m\u001b[1;32m    812\u001b[0m \u001b[0;34m\u001b[0m\u001b[0m\n\u001b[1;32m    813\u001b[0m     \u001b[0;32mdef\u001b[0m \u001b[0mclose\u001b[0m\u001b[0;34m(\u001b[0m\u001b[0mself\u001b[0m\u001b[0;34m)\u001b[0m\u001b[0;34m:\u001b[0m\u001b[0;34m\u001b[0m\u001b[0;34m\u001b[0m\u001b[0m\n",
      "\u001b[0;32m/usr/local/lib/python3.7/dist-packages/pandas/io/parsers/readers.py\u001b[0m in \u001b[0;36m_make_engine\u001b[0;34m(self, engine)\u001b[0m\n\u001b[1;32m   1038\u001b[0m             )\n\u001b[1;32m   1039\u001b[0m         \u001b[0;31m# error: Too many arguments for \"ParserBase\"\u001b[0m\u001b[0;34m\u001b[0m\u001b[0;34m\u001b[0m\u001b[0;34m\u001b[0m\u001b[0m\n\u001b[0;32m-> 1040\u001b[0;31m         \u001b[0;32mreturn\u001b[0m \u001b[0mmapping\u001b[0m\u001b[0;34m[\u001b[0m\u001b[0mengine\u001b[0m\u001b[0;34m]\u001b[0m\u001b[0;34m(\u001b[0m\u001b[0mself\u001b[0m\u001b[0;34m.\u001b[0m\u001b[0mf\u001b[0m\u001b[0;34m,\u001b[0m \u001b[0;34m**\u001b[0m\u001b[0mself\u001b[0m\u001b[0;34m.\u001b[0m\u001b[0moptions\u001b[0m\u001b[0;34m)\u001b[0m  \u001b[0;31m# type: ignore[call-arg]\u001b[0m\u001b[0;34m\u001b[0m\u001b[0;34m\u001b[0m\u001b[0m\n\u001b[0m\u001b[1;32m   1041\u001b[0m \u001b[0;34m\u001b[0m\u001b[0m\n\u001b[1;32m   1042\u001b[0m     \u001b[0;32mdef\u001b[0m \u001b[0m_failover_to_python\u001b[0m\u001b[0;34m(\u001b[0m\u001b[0mself\u001b[0m\u001b[0;34m)\u001b[0m\u001b[0;34m:\u001b[0m\u001b[0;34m\u001b[0m\u001b[0;34m\u001b[0m\u001b[0m\n",
      "\u001b[0;32m/usr/local/lib/python3.7/dist-packages/pandas/io/parsers/c_parser_wrapper.py\u001b[0m in \u001b[0;36m__init__\u001b[0;34m(self, src, **kwds)\u001b[0m\n\u001b[1;32m     49\u001b[0m \u001b[0;34m\u001b[0m\u001b[0m\n\u001b[1;32m     50\u001b[0m         \u001b[0;31m# open handles\u001b[0m\u001b[0;34m\u001b[0m\u001b[0;34m\u001b[0m\u001b[0;34m\u001b[0m\u001b[0m\n\u001b[0;32m---> 51\u001b[0;31m         \u001b[0mself\u001b[0m\u001b[0;34m.\u001b[0m\u001b[0m_open_handles\u001b[0m\u001b[0;34m(\u001b[0m\u001b[0msrc\u001b[0m\u001b[0;34m,\u001b[0m \u001b[0mkwds\u001b[0m\u001b[0;34m)\u001b[0m\u001b[0;34m\u001b[0m\u001b[0;34m\u001b[0m\u001b[0m\n\u001b[0m\u001b[1;32m     52\u001b[0m         \u001b[0;32massert\u001b[0m \u001b[0mself\u001b[0m\u001b[0;34m.\u001b[0m\u001b[0mhandles\u001b[0m \u001b[0;32mis\u001b[0m \u001b[0;32mnot\u001b[0m \u001b[0;32mNone\u001b[0m\u001b[0;34m\u001b[0m\u001b[0;34m\u001b[0m\u001b[0m\n\u001b[1;32m     53\u001b[0m \u001b[0;34m\u001b[0m\u001b[0m\n",
      "\u001b[0;32m/usr/local/lib/python3.7/dist-packages/pandas/io/parsers/base_parser.py\u001b[0m in \u001b[0;36m_open_handles\u001b[0;34m(self, src, kwds)\u001b[0m\n\u001b[1;32m    227\u001b[0m             \u001b[0mmemory_map\u001b[0m\u001b[0;34m=\u001b[0m\u001b[0mkwds\u001b[0m\u001b[0;34m.\u001b[0m\u001b[0mget\u001b[0m\u001b[0;34m(\u001b[0m\u001b[0;34m\"memory_map\"\u001b[0m\u001b[0;34m,\u001b[0m \u001b[0;32mFalse\u001b[0m\u001b[0;34m)\u001b[0m\u001b[0;34m,\u001b[0m\u001b[0;34m\u001b[0m\u001b[0;34m\u001b[0m\u001b[0m\n\u001b[1;32m    228\u001b[0m             \u001b[0mstorage_options\u001b[0m\u001b[0;34m=\u001b[0m\u001b[0mkwds\u001b[0m\u001b[0;34m.\u001b[0m\u001b[0mget\u001b[0m\u001b[0;34m(\u001b[0m\u001b[0;34m\"storage_options\"\u001b[0m\u001b[0;34m,\u001b[0m \u001b[0;32mNone\u001b[0m\u001b[0;34m)\u001b[0m\u001b[0;34m,\u001b[0m\u001b[0;34m\u001b[0m\u001b[0;34m\u001b[0m\u001b[0m\n\u001b[0;32m--> 229\u001b[0;31m             \u001b[0merrors\u001b[0m\u001b[0;34m=\u001b[0m\u001b[0mkwds\u001b[0m\u001b[0;34m.\u001b[0m\u001b[0mget\u001b[0m\u001b[0;34m(\u001b[0m\u001b[0;34m\"encoding_errors\"\u001b[0m\u001b[0;34m,\u001b[0m \u001b[0;34m\"strict\"\u001b[0m\u001b[0;34m)\u001b[0m\u001b[0;34m,\u001b[0m\u001b[0;34m\u001b[0m\u001b[0;34m\u001b[0m\u001b[0m\n\u001b[0m\u001b[1;32m    230\u001b[0m         )\n\u001b[1;32m    231\u001b[0m \u001b[0;34m\u001b[0m\u001b[0m\n",
      "\u001b[0;32m/usr/local/lib/python3.7/dist-packages/pandas/io/common.py\u001b[0m in \u001b[0;36mget_handle\u001b[0;34m(path_or_buf, mode, encoding, compression, memory_map, is_text, errors, storage_options)\u001b[0m\n\u001b[1;32m    705\u001b[0m                 \u001b[0mencoding\u001b[0m\u001b[0;34m=\u001b[0m\u001b[0mioargs\u001b[0m\u001b[0;34m.\u001b[0m\u001b[0mencoding\u001b[0m\u001b[0;34m,\u001b[0m\u001b[0;34m\u001b[0m\u001b[0;34m\u001b[0m\u001b[0m\n\u001b[1;32m    706\u001b[0m                 \u001b[0merrors\u001b[0m\u001b[0;34m=\u001b[0m\u001b[0merrors\u001b[0m\u001b[0;34m,\u001b[0m\u001b[0;34m\u001b[0m\u001b[0;34m\u001b[0m\u001b[0m\n\u001b[0;32m--> 707\u001b[0;31m                 \u001b[0mnewline\u001b[0m\u001b[0;34m=\u001b[0m\u001b[0;34m\"\"\u001b[0m\u001b[0;34m,\u001b[0m\u001b[0;34m\u001b[0m\u001b[0;34m\u001b[0m\u001b[0m\n\u001b[0m\u001b[1;32m    708\u001b[0m             )\n\u001b[1;32m    709\u001b[0m         \u001b[0;32melse\u001b[0m\u001b[0;34m:\u001b[0m\u001b[0;34m\u001b[0m\u001b[0;34m\u001b[0m\u001b[0m\n",
      "\u001b[0;31mFileNotFoundError\u001b[0m: [Errno 2] No such file or directory: 'submission_no_haar.csv'"
     ]
    }
   ],
   "source": [
    "pred_no_haar = pd.read_csv('submission_no_haar.csv', header=0)\n",
    "results = pd.concat([pred_df,pred_no_haar], axis = 1)"
   ]
  },
  {
   "cell_type": "code",
   "execution_count": null,
   "metadata": {
    "id": "LSF6c1_fB8X2",
    "outputId": "019a842e-cc17-48c4-9e33-358a9addbd02",
    "pycharm": {
     "name": "#%%\n"
    }
   },
   "outputs": [
    {
     "data": {
      "text/html": [
       "<div>\n",
       "<style scoped>\n",
       "    .dataframe tbody tr th:only-of-type {\n",
       "        vertical-align: middle;\n",
       "    }\n",
       "\n",
       "    .dataframe tbody tr th {\n",
       "        vertical-align: top;\n",
       "    }\n",
       "\n",
       "    .dataframe thead th {\n",
       "        text-align: right;\n",
       "    }\n",
       "</style>\n",
       "<table border=\"1\" class=\"dataframe\">\n",
       "  <thead>\n",
       "    <tr style=\"text-align: right;\">\n",
       "      <th></th>\n",
       "      <th>img_name</th>\n",
       "      <th>pred_class</th>\n",
       "    </tr>\n",
       "  </thead>\n",
       "  <tbody>\n",
       "    <tr>\n",
       "      <th>0</th>\n",
       "      <td>image0.png</td>\n",
       "      <td>7</td>\n",
       "    </tr>\n",
       "    <tr>\n",
       "      <th>1</th>\n",
       "      <td>image1.png</td>\n",
       "      <td>3</td>\n",
       "    </tr>\n",
       "    <tr>\n",
       "      <th>2</th>\n",
       "      <td>image2.png</td>\n",
       "      <td>4</td>\n",
       "    </tr>\n",
       "    <tr>\n",
       "      <th>3</th>\n",
       "      <td>image3.png</td>\n",
       "      <td>5</td>\n",
       "    </tr>\n",
       "    <tr>\n",
       "      <th>4</th>\n",
       "      <td>image4.png</td>\n",
       "      <td>0</td>\n",
       "    </tr>\n",
       "  </tbody>\n",
       "</table>\n",
       "</div>"
      ],
      "text/plain": [
       "     img_name  pred_class\n",
       "0  image0.png           7\n",
       "1  image1.png           3\n",
       "2  image2.png           4\n",
       "3  image3.png           5\n",
       "4  image4.png           0"
      ]
     },
     "execution_count": 20,
     "metadata": {},
     "output_type": "execute_result"
    }
   ],
   "source": [
    "results['label'] = np.where(results['proba'] < 0.4, \n",
    "                                    results['pred_class_no_haar'], results['pred_class'])\n",
    "pred_df = results.drop(['proba', 'img_name_no_haar', 'pred_class_no_haar'], axis=1)\n",
    "pred_df.to_csv(\"submission_svm_best.csv\", index=False)\n",
    "pred_df.head()"
   ]
  },
  {
   "cell_type": "code",
   "execution_count": null,
   "metadata": {
    "id": "ElGsiN8iHQ-1",
    "pycharm": {
     "name": "#%%\n"
    }
   },
   "outputs": [],
   "source": [
    "\n",
    "pred_df.to_csv(\"first_submission.csv\", index=False)"
   ]
  }
 ],
 "metadata": {
  "accelerator": "GPU",
  "colab": {
   "name": "competition_classic_ML track.ipynb",
   "provenance": []
  },
  "gpuClass": "standard",
  "kernelspec": {
   "display_name": "Python 3 (ipykernel)",
   "language": "python",
   "name": "python3"
  },
  "language_info": {
   "codemirror_mode": {
    "name": "ipython",
    "version": 3
   },
   "file_extension": ".py",
   "mimetype": "text/x-python",
   "name": "python",
   "nbconvert_exporter": "python",
   "pygments_lexer": "ipython3",
   "version": "3.9.12"
  },
  "vscode": {
   "interpreter": {
    "hash": "4ddb79095c8b81f9e096a70ddfd126f35fa60c739c920655c40085ee79dd7f67"
   }
  },
  "widgets": {
   "application/vnd.jupyter.widget-state+json": {
    "45b3f19559ef4d6eaedd24be897ed787": {
     "model_module": "catboost-widget",
     "model_module_version": "^1.0.0",
     "model_name": "CatboostWidgetModel",
     "state": {
      "_dom_classes": [],
      "_model_module": "catboost-widget",
      "_model_module_version": "^1.0.0",
      "_model_name": "CatboostWidgetModel",
      "_view_count": null,
      "_view_module": "catboost-widget",
      "_view_module_version": "^1.0.0",
      "_view_name": "CatboostWidgetView",
      "data": {
       "catboost_info": {
        "content": {
         "data": {
          "iterations": [
           {
            "iteration": 0,
            "learn": [
             0.03613725447
            ],
            "parameters": [
             {
              "border_count": 128,
              "depth": 4,
              "l2_leaf_reg": 1,
              "learning_rate": 0.1
             }
            ],
            "passed_time": 46.9075799,
            "remaining_time": 11210.9116,
            "test": [
             0.741983273
            ]
           },
           {
            "iteration": 1,
            "learn": [
             0.01368826069
            ],
            "parameters": [
             {
              "border_count": 128,
              "depth": 4,
              "l2_leaf_reg": 1,
              "learning_rate": 0.2
             }
            ],
            "passed_time": 89.42478874,
            "remaining_time": 10641.54986,
            "test": [
             0.7306128737
            ]
           },
           {
            "iteration": 2,
            "learn": [
             0.008407640184
            ],
            "parameters": [
             {
              "border_count": 128,
              "depth": 4,
              "l2_leaf_reg": 1,
              "learning_rate": 0.3
             }
            ],
            "passed_time": 130.1546941,
            "remaining_time": 10282.22083,
            "test": [
             0.794529961
            ]
           },
           {
            "iteration": 3,
            "learn": [
             0.006271454086
            ],
            "parameters": [
             {
              "border_count": 128,
              "depth": 4,
              "l2_leaf_reg": 1,
              "learning_rate": 0.4
             }
            ],
            "passed_time": 170.9302022,
            "remaining_time": 10084.88193,
            "test": [
             0.8595383816
            ]
           },
           {
            "iteration": 4,
            "learn": [
             0.08995969346
            ],
            "parameters": [
             {
              "border_count": 128,
              "depth": 4,
              "l2_leaf_reg": 3,
              "learning_rate": 0.1
             }
            ],
            "passed_time": 212.537954,
            "remaining_time": 9989.283838,
            "test": [
             0.817063038
            ]
           },
           {
            "iteration": 5,
            "learn": [
             0.03406487703
            ],
            "parameters": [
             {
              "border_count": 128,
              "depth": 4,
              "l2_leaf_reg": 3,
              "learning_rate": 0.2
             }
            ],
            "passed_time": 253.8654464,
            "remaining_time": 9900.752411,
            "test": [
             0.7593635384
            ]
           },
           {
            "iteration": 6,
            "learn": [
             0.02119202915
            ],
            "parameters": [
             {
              "border_count": 128,
              "depth": 4,
              "l2_leaf_reg": 3,
              "learning_rate": 0.3
             }
            ],
            "passed_time": 294.9820854,
            "remaining_time": 9818.689413,
            "test": [
             0.7800862941
            ]
           },
           {
            "iteration": 7,
            "learn": [
             0.0162611962
            ],
            "parameters": [
             {
              "border_count": 128,
              "depth": 4,
              "l2_leaf_reg": 3,
              "learning_rate": 0.4
             }
            ],
            "passed_time": 335.8267243,
            "remaining_time": 9738.975005,
            "test": [
             0.8007352795
            ]
           },
           {
            "iteration": 8,
            "learn": [
             0.1482027928
            ],
            "parameters": [
             {
              "border_count": 128,
              "depth": 4,
              "l2_leaf_reg": 5,
              "learning_rate": 0.1
             }
            ],
            "passed_time": 377.2391812,
            "remaining_time": 9682.472317,
            "test": [
             0.8632292226
            ]
           },
           {
            "iteration": 9,
            "learn": [
             0.05547241833
            ],
            "parameters": [
             {
              "border_count": 128,
              "depth": 4,
              "l2_leaf_reg": 5,
              "learning_rate": 0.2
             }
            ],
            "passed_time": 418.3958415,
            "remaining_time": 9623.104355,
            "test": [
             0.7876327553
            ]
           },
           {
            "iteration": 10,
            "learn": [
             0.03473852485
            ],
            "parameters": [
             {
              "border_count": 128,
              "depth": 4,
              "l2_leaf_reg": 5,
              "learning_rate": 0.3
             }
            ],
            "passed_time": 459.5837186,
            "remaining_time": 9567.697414,
            "test": [
             0.7527880487
            ]
           },
           {
            "iteration": 11,
            "learn": [
             0.02565310972
            ],
            "parameters": [
             {
              "border_count": 128,
              "depth": 4,
              "l2_leaf_reg": 5,
              "learning_rate": 0.4
             }
            ],
            "passed_time": 500.6645764,
            "remaining_time": 9512.626952,
            "test": [
             0.8393775222
            ]
           },
           {
            "iteration": 12,
            "learn": [
             0.2077582452
            ],
            "parameters": [
             {
              "border_count": 128,
              "depth": 4,
              "l2_leaf_reg": 7,
              "learning_rate": 0.1
             }
            ],
            "passed_time": 542.0433613,
            "remaining_time": 9464.911,
            "test": [
             0.9259162107
            ]
           },
           {
            "iteration": 13,
            "learn": [
             0.08149073487
            ],
            "parameters": [
             {
              "border_count": 128,
              "depth": 4,
              "l2_leaf_reg": 7,
              "learning_rate": 0.2
             }
            ],
            "passed_time": 583.3089403,
            "remaining_time": 9416.272893,
            "test": [
             0.8011389968
            ]
           },
           {
            "iteration": 14,
            "learn": [
             0.04943755753
            ],
            "parameters": [
             {
              "border_count": 128,
              "depth": 4,
              "l2_leaf_reg": 7,
              "learning_rate": 0.3
             }
            ],
            "passed_time": 624.3220779,
            "remaining_time": 9364.831169,
            "test": [
             0.764902673
            ]
           },
           {
            "iteration": 15,
            "learn": [
             0.03421725339
            ],
            "parameters": [
             {
              "border_count": 128,
              "depth": 4,
              "l2_leaf_reg": 7,
              "learning_rate": 0.4
             }
            ],
            "passed_time": 666.3098817,
            "remaining_time": 9328.338344,
            "test": [
             0.7854816155
            ]
           },
           {
            "iteration": 16,
            "learn": [
             0.2537769053
            ],
            "parameters": [
             {
              "border_count": 128,
              "depth": 4,
              "l2_leaf_reg": 9,
              "learning_rate": 0.1
             }
            ],
            "passed_time": 707.7396652,
            "remaining_time": 9283.879138,
            "test": [
             0.9343623581
            ]
           },
           {
            "iteration": 17,
            "learn": [
             0.1111146284
            ],
            "parameters": [
             {
              "border_count": 128,
              "depth": 4,
              "l2_leaf_reg": 9,
              "learning_rate": 0.2
             }
            ],
            "passed_time": 748.7004376,
            "remaining_time": 9233.972064,
            "test": [
             0.8226451922
            ]
           },
           {
            "iteration": 18,
            "learn": [
             0.0620392118
            ],
            "parameters": [
             {
              "border_count": 128,
              "depth": 4,
              "l2_leaf_reg": 9,
              "learning_rate": 0.3
             }
            ],
            "passed_time": 796.1758427,
            "remaining_time": 9260.78217,
            "test": [
             0.7993115141
            ]
           },
           {
            "iteration": 19,
            "learn": [
             0.04548872102
            ],
            "parameters": [
             {
              "border_count": 128,
              "depth": 4,
              "l2_leaf_reg": 9,
              "learning_rate": 0.4
             }
            ],
            "passed_time": 838.2670538,
            "remaining_time": 9220.937592,
            "test": [
             0.8027205528
            ]
           },
           {
            "iteration": 20,
            "learn": [
             0.01309438843
            ],
            "parameters": [
             {
              "border_count": 128,
              "depth": 6,
              "l2_leaf_reg": 1,
              "learning_rate": 0.1
             }
            ],
            "passed_time": 969.430822,
            "remaining_time": 10109.77857,
            "test": [
             0.7766097751
            ]
           },
           {
            "iteration": 21,
            "learn": [
             0.006230922624
            ],
            "parameters": [
             {
              "border_count": 128,
              "depth": 6,
              "l2_leaf_reg": 1,
              "learning_rate": 0.2
             }
            ],
            "passed_time": 1096.257951,
            "remaining_time": 10862.9197,
            "test": [
             0.7588648517
            ]
           },
           {
            "iteration": 22,
            "learn": [
             0.00431631081
            ],
            "parameters": [
             {
              "border_count": 128,
              "depth": 6,
              "l2_leaf_reg": 1,
              "learning_rate": 0.3
             }
            ],
            "passed_time": 1224.967189,
            "remaining_time": 11557.29913,
            "test": [
             0.8446442505
            ]
           },
           {
            "iteration": 23,
            "learn": [
             0.003444085689
            ],
            "parameters": [
             {
              "border_count": 128,
              "depth": 6,
              "l2_leaf_reg": 1,
              "learning_rate": 0.4
             }
            ],
            "passed_time": 1349.459843,
            "remaining_time": 12145.13858,
            "test": [
             0.7897755087
            ]
           },
           {
            "iteration": 24,
            "learn": [
             0.03883820844
            ],
            "parameters": [
             {
              "border_count": 128,
              "depth": 6,
              "l2_leaf_reg": 3,
              "learning_rate": 0.1
             }
            ],
            "passed_time": 1479.041094,
            "remaining_time": 12719.75341,
            "test": [
             0.7919846552
            ]
           },
           {
            "iteration": 25,
            "learn": [
             0.0184696251
            ],
            "parameters": [
             {
              "border_count": 128,
              "depth": 6,
              "l2_leaf_reg": 3,
              "learning_rate": 0.2
             }
            ],
            "passed_time": 1605.831992,
            "remaining_time": 13217.23255,
            "test": [
             0.7962427503
            ]
           },
           {
            "iteration": 26,
            "learn": [
             0.0128018894
            ],
            "parameters": [
             {
              "border_count": 128,
              "depth": 6,
              "l2_leaf_reg": 3,
              "learning_rate": 0.3
             }
            ],
            "passed_time": 1730.093845,
            "remaining_time": 13648.51811,
            "test": [
             0.8099832705
            ]
           },
           {
            "iteration": 27,
            "learn": [
             0.01019426118
            ],
            "parameters": [
             {
              "border_count": 128,
              "depth": 6,
              "l2_leaf_reg": 3,
              "learning_rate": 0.4
             }
            ],
            "passed_time": 1853.503897,
            "remaining_time": 14033.67236,
            "test": [
             0.7933654009
            ]
           },
           {
            "iteration": 28,
            "learn": [
             0.06614155037
            ],
            "parameters": [
             {
              "border_count": 128,
              "depth": 6,
              "l2_leaf_reg": 5,
              "learning_rate": 0.1
             }
            ],
            "passed_time": 1981.283038,
            "remaining_time": 14415.5421,
            "test": [
             0.8272372724
            ]
           },
           {
            "iteration": 29,
            "learn": [
             0.02952995081
            ],
            "parameters": [
             {
              "border_count": 128,
              "depth": 6,
              "l2_leaf_reg": 5,
              "learning_rate": 0.2
             }
            ],
            "passed_time": 2108.099521,
            "remaining_time": 14756.69665,
            "test": [
             0.7808754026
            ]
           },
           {
            "iteration": 30,
            "learn": [
             0.02044935208
            ],
            "parameters": [
             {
              "border_count": 128,
              "depth": 6,
              "l2_leaf_reg": 5,
              "learning_rate": 0.3
             }
            ],
            "passed_time": 2232.884828,
            "remaining_time": 15053.96545,
            "test": [
             0.777998752
            ]
           },
           {
            "iteration": 31,
            "learn": [
             0.01610156607
            ],
            "parameters": [
             {
              "border_count": 128,
              "depth": 6,
              "l2_leaf_reg": 5,
              "learning_rate": 0.4
             }
            ],
            "passed_time": 2356.772852,
            "remaining_time": 15319.02354,
            "test": [
             0.8391896799
            ]
           },
           {
            "iteration": 32,
            "learn": [
             0.1018015252
            ],
            "parameters": [
             {
              "border_count": 128,
              "depth": 6,
              "l2_leaf_reg": 7,
              "learning_rate": 0.1
             }
            ],
            "passed_time": 2484.989298,
            "remaining_time": 15587.66014,
            "test": [
             0.8749816739
            ]
           },
           {
            "iteration": 33,
            "learn": [
             0.04238582341
            ],
            "parameters": [
             {
              "border_count": 128,
              "depth": 6,
              "l2_leaf_reg": 7,
              "learning_rate": 0.2
             }
            ],
            "passed_time": 2611.684983,
            "remaining_time": 15823.73843,
            "test": [
             0.8102597147
            ]
           },
           {
            "iteration": 34,
            "learn": [
             0.027987172
            ],
            "parameters": [
             {
              "border_count": 128,
              "depth": 6,
              "l2_leaf_reg": 7,
              "learning_rate": 0.3
             }
            ],
            "passed_time": 2737.084993,
            "remaining_time": 16031.49781,
            "test": [
             0.7939314903
            ]
           },
           {
            "iteration": 35,
            "learn": [
             0.02134455626
            ],
            "parameters": [
             {
              "border_count": 128,
              "depth": 6,
              "l2_leaf_reg": 7,
              "learning_rate": 0.4
             }
            ],
            "passed_time": 2861.628785,
            "remaining_time": 16215.89645,
            "test": [
             0.7617821147
            ]
           },
           {
            "iteration": 36,
            "learn": [
             0.1378806256
            ],
            "parameters": [
             {
              "border_count": 128,
              "depth": 6,
              "l2_leaf_reg": 9,
              "learning_rate": 0.1
             }
            ],
            "passed_time": 2989.000105,
            "remaining_time": 16399.10868,
            "test": [
             0.9047252082
            ]
           },
           {
            "iteration": 37,
            "learn": [
             0.05652511918
            ],
            "parameters": [
             {
              "border_count": 128,
              "depth": 6,
              "l2_leaf_reg": 9,
              "learning_rate": 0.2
             }
            ],
            "passed_time": 3115.940543,
            "remaining_time": 16563.68394,
            "test": [
             0.8271322857
            ]
           },
           {
            "iteration": 38,
            "learn": [
             0.03614608492
            ],
            "parameters": [
             {
              "border_count": 128,
              "depth": 6,
              "l2_leaf_reg": 9,
              "learning_rate": 0.3
             }
            ],
            "passed_time": 3241.918762,
            "remaining_time": 16708.35054,
            "test": [
             0.8231146038
            ]
           }
          ],
          "meta": {
           "iteration_count": 240,
           "launch_mode": "Train",
           "learn_metrics": [
            {
             "best_value": "Min",
             "name": "MultiClass"
            }
           ],
           "learn_sets": [
            "learn"
           ],
           "name": "experiment",
           "parameters": "parameters",
           "test_metrics": [
            {
             "best_value": "Min",
             "name": "MultiClass"
            }
           ],
           "test_sets": [
            "test"
           ]
          }
         },
         "passed_iterations": 38,
         "total_iterations": 240
        },
        "name": "catboost_info",
        "path": "catboost_info"
       }
      },
      "layout": "IPY_MODEL_59578a8112244bdc9f26d1855b8e2414"
     }
    }
   }
  }
 },
 "nbformat": 4,
 "nbformat_minor": 1
}
